{
 "cells": [
  {
   "cell_type": "code",
   "execution_count": null,
   "id": "37cfa544",
   "metadata": {},
   "outputs": [],
   "source": [
    "#!/usr/bin/env python\n",
    "# -*- coding: utf-8 -*-\n",
    "import numpy as np\n",
    "import pandas as pd\n",
    "import scanpy as sc\n",
    "import anndata\n",
    "import bbknn\n",
    "import os\n",
    "from scipy import sparse\n",
    "import matplotlib.pyplot as plt\n",
    "# from scanpy_base_moudle_update2 import *\n",
    "# import scrublet as scr\n",
    "import datetime\n",
    "import harmonypy as hm\n",
    "\n",
    "sc.settings.verbosity = 3\n",
    "#sc.logging.print_versions()\n",
    "# 设置图片的分辨率以及其他样式\n",
    "sc.settings.set_figure_params(dpi=150, figsize = (4, 3), fontsize=12)\n",
    "\n",
    "import matplotlib.font_manager\n",
    "flist = matplotlib.font_manager.get_fontconfig_fonts()\n",
    "names = [matplotlib.font_manager.FontProperties(fname=fname).get_name() for fname in flist]\n",
    "print(names)\n",
    "\n",
    "params={\n",
    "        #'font.style':'italic',\n",
    "        'font.weight':'normal',    #or 'blod'\n",
    "        }\n",
    "plt.rcParams.update(params)\n",
    "\n",
    "plt.rcParams['font.family']='Arial'"
   ]
  },
  {
   "cell_type": "code",
   "execution_count": null,
   "id": "89832229",
   "metadata": {},
   "outputs": [],
   "source": [
    "adata = sc.read('/home/wangyue/basic-calculation_data/c_Project_outputs/qilu_CRSwNP/EPI.h5ad')\n",
    "adata"
   ]
  },
  {
   "cell_type": "code",
   "execution_count": null,
   "id": "fe2b188e",
   "metadata": {},
   "outputs": [],
   "source": [
    "sc.pl.umap(adata, color=['S100A8','IL1B'], frameon=False)"
   ]
  },
  {
   "cell_type": "code",
   "execution_count": null,
   "id": "89ebd0f7",
   "metadata": {
    "scrolled": false
   },
   "outputs": [],
   "source": [
    "sc.settings.set_figure_params(dpi=600, figsize = (4, 4), fontsize=7)\n",
    "sc.pl.umap(adata, color=['annotation'], add_outline=True, outline_width = (0.2, 0.05), palette=\"tab20\", frameon=False)\n",
    "sc.pl.umap(adata, color=['tissue'], frameon=False, title='')\n",
    "sc.pl.umap(adata, color=['Health'], frameon=False, title='')"
   ]
  },
  {
   "cell_type": "code",
   "execution_count": null,
   "id": "7efe4166",
   "metadata": {},
   "outputs": [],
   "source": [
    "adata"
   ]
  },
  {
   "cell_type": "code",
   "execution_count": null,
   "id": "447960d4",
   "metadata": {},
   "outputs": [],
   "source": [
    "\n",
    "E01_index = adata.obs.loc[adata.obs[\"tissue\"].isin(['inferior turbinate']), :].index\n",
    "\n",
    "E02_index = adata.obs.loc[adata.obs[\"tissue\"].isin(['middle turbinate']), :].index\n",
    "\n",
    "E03_index = adata.obs.loc[adata.obs[\"tissue\"].isin(['polyp']), :].index\n",
    "\n",
    "E04_index = adata.obs.loc[adata.obs[\"Health\"].isin(['healthy control']), :].index"
   ]
  },
  {
   "cell_type": "code",
   "execution_count": null,
   "id": "cb3c1ed7",
   "metadata": {},
   "outputs": [],
   "source": [
    "adata.obs['fig2_barplot'] = 'Rhi-IT'\n",
    "adata.obs.at[E02_index,'fig2_barplot']='Rhi-MT'\n",
    "adata.obs.at[E03_index,'fig2_barplot']='Rhi-NP'\n",
    "adata.obs.at[E04_index,'fig2_barplot']='HC-IT'"
   ]
  },
  {
   "cell_type": "code",
   "execution_count": null,
   "id": "3ccbba5b",
   "metadata": {},
   "outputs": [],
   "source": [
    "sc.settings.set_figure_params(dpi=600, figsize = (4, 4), fontsize=7)\n",
    "sc.pl.umap(adata, color=['fig2_barplot'], frameon=False, title='')"
   ]
  },
  {
   "cell_type": "code",
   "execution_count": null,
   "id": "dc083aed",
   "metadata": {},
   "outputs": [],
   "source": [
    "sc.settings.set_figure_params(dpi=150, figsize = (4, 4), fontsize=7)\n",
    "sc.pl.umap(adata, color=['LYZ','PGC','TFF2','MUC6','MUC5AC','LTF'], frameon=False)"
   ]
  },
  {
   "cell_type": "code",
   "execution_count": null,
   "id": "a3950f70",
   "metadata": {},
   "outputs": [],
   "source": [
    "sc.pl.umap(adata, color=['fig2_barplot'], groups = ['HC-IT','Rhi-IT'], frameon=False, title ='')"
   ]
  },
  {
   "cell_type": "code",
   "execution_count": null,
   "id": "edd5197a",
   "metadata": {},
   "outputs": [],
   "source": [
    "sc.pl.umap(adata, color=['fig2_barplot'], groups = ['Rhi-MT','Rhi-NP'], frameon=False, title ='')"
   ]
  },
  {
   "cell_type": "code",
   "execution_count": null,
   "id": "2a35f98b",
   "metadata": {},
   "outputs": [],
   "source": [
    "adata.uns['annotation_colors']"
   ]
  },
  {
   "cell_type": "code",
   "execution_count": null,
   "id": "38dcccc0",
   "metadata": {},
   "outputs": [],
   "source": [
    "adata.obs['annotation'].cat.categories"
   ]
  },
  {
   "cell_type": "code",
   "execution_count": null,
   "id": "0c46096f",
   "metadata": {},
   "outputs": [],
   "source": [
    "Groups_tab_1 = pd.crosstab(index=adata.obs['fig2_barplot'],  # Make a crosstab\n",
    "                        columns=adata.obs['annotation'], margins=True)               # Name the count column\n",
    "MyTab_1= Groups_tab_1.div(Groups_tab_1[\"All\"], axis=0)\n",
    "MyTab2_1 = MyTab_1.drop(columns=\"All\")\n",
    "MyTab2_1 = MyTab2_1.drop(index=\"All\")\n",
    "\n",
    "MyTab2_1 = MyTab2_1.T\n",
    "order = ['HC-IT','Rhi-IT','Rhi-MT','Rhi-NP']\n",
    "MyTab2_1 = MyTab2_1[order]\n",
    "MyTab2_1 = MyTab2_1.T\n",
    "#categories = IMM_group[::-1]\n",
    "\n",
    "MyTab2_1.columns = pd.CategoricalIndex(MyTab2_1.columns.values)\n",
    "\n",
    "# Sort the columns (axis=1) by the new categorical ordering\n",
    "MyTab2_1 = MyTab2_1.sort_index(axis=1)\n",
    "\n",
    "ax = MyTab2_1.plot.bar(\n",
    "            figsize=(3.7,5),\n",
    "            stacked=True,\n",
    "            edgecolor = '#000000',\n",
    "            linewidth=0.4,\n",
    "            width=0.8, \n",
    "            fontsize=15,\n",
    "            color={\"C01-E01-Basal resting\": \"#1f77b4\",\n",
    "                   'C01-E02-Basal cycling': \"#aec7e8\",\n",
    "                   'C01-E03-Club': \"#ffbb78\", \n",
    "                   'C01-E04-Goblet': \"#98df8a\", \n",
    "                   'C01-E05-SMG': \"#ff9896\",\n",
    "                   'C01-E06-MUC5B+SMG': \"#c5b0d5\",\n",
    "                   'C01-E07-MMP7+SMG': \"#8c564b\",\n",
    "                   'C01-E08-PRB1+SMG': \"#e377c2\",\n",
    "                   'C01-E09-Ionocyte': \"#7f7f7f\",\n",
    "                   'C01-E10-Ciliated': \"#bcbd22\",\n",
    "                   'C01-E11-S100A8+APC': \"#17becf\",\n",
    "                   'C01-E12-KRT14+EMT cell': \"#9edae5\"}\n",
    "             )\n",
    "\n",
    "\n",
    "plt.title(\"\", fontsize=12)\n",
    "plt.ylabel(\"Fraction of cells\", fontsize=15)\n",
    "plt.xlabel(\"\", fontsize=12)\n",
    "plt.ylim=1.0\n",
    "\n",
    "#plt.gca().get_legend().remove() #remove legend\n",
    "# plt.legend(categories, loc='center left', bbox_to_anchor=(1, 0.6), fontsize=12)\n",
    "# plt.savefig('Proportion of clusters accross organs.png')\n",
    "# 去除刻度\n",
    "#plt.xticks([])\n",
    "#plt.yticks([])\n",
    "# ax.tick_params(bottom=False, top=False, left=False, right=False)\n",
    "handles, labels = ax.get_legend_handles_labels()\n",
    "ax.legend(reversed(handles), reversed(labels), loc='center left', bbox_to_anchor=(1, 0.6), fontsize=8)\n",
    "plt.grid(False)\n",
    "\n",
    "ax.spines['top'].set_visible(False)\n",
    "ax.spines['right'].set_visible(False)\n",
    "plt.show()"
   ]
  },
  {
   "cell_type": "code",
   "execution_count": null,
   "id": "a7830bf1",
   "metadata": {},
   "outputs": [],
   "source": [
    "MyTab2_1.T"
   ]
  },
  {
   "cell_type": "code",
   "execution_count": null,
   "id": "d2338e8d",
   "metadata": {},
   "outputs": [],
   "source": [
    "# create a dataset\n",
    "height = [0.003965, 0.037754, 0.001229, 0.019835]\n",
    "bars = (' ', ' ', ' ', ' ')\n",
    "x_pos = np.arange(len(bars))\n",
    "\n",
    "fig, ax = plt.subplots(figsize=(4, 5))\n",
    "# Create bars with different colors\n",
    "plt.bar(x_pos, height, color=['blue', 'orange', 'green', 'red'],edgecolor = '#000000',)\n",
    "\n",
    "# Create names on the x-axis\n",
    "plt.xticks(x_pos, bars, fontsize = 30)\n",
    "plt.yticks([0.0, 0.01, 0.02, 0.03, 0.04 ], fontsize = 20)\n",
    "\n",
    "plt.grid(False)\n",
    "\n",
    "print(ax.axis())\n",
    "#ax.axis([-0.54, 2.5400000000000005, 0.0, 1])\n",
    "\n",
    "ax.spines['top'].set_visible(False)\n",
    "ax.spines['right'].set_visible(False)\n",
    "\n",
    "plt.show()"
   ]
  },
  {
   "cell_type": "code",
   "execution_count": null,
   "id": "7a3d4c96",
   "metadata": {},
   "outputs": [],
   "source": [
    "import cosg as cosg\n",
    "import time\n",
    "sc.settings.set_figure_params(dpi=600, figsize = (4, 3), fontsize=15)\n",
    "sc.pl.rank_genes_groups_dotplot(adata,groupby='annotation',\n",
    "                                cmap='Spectral_r',\n",
    "                                 standard_scale='var',\n",
    "                                       n_genes=3,key='cosg')"
   ]
  },
  {
   "cell_type": "code",
   "execution_count": null,
   "id": "323b47ff",
   "metadata": {},
   "outputs": [],
   "source": [
    "marker_genes_dict = {\n",
    "    'C01-E02-Basal cycling': ['MKI67','TOP2A'], # E1\n",
    "    'C01-E01-Basal resting': ['KRT15','MMP10'], # E2\n",
    "    'C01-E11-S100A8+APC': ['LY6D','IL1RN','S100A8','SPRR1B','LYPD3'], # E3\n",
    "    'C01-E03-Club': ['SERPINB3','GABRP'], # E4\n",
    "    'C01-E12-KRT14+EMT cell': ['MYLK','MEG3'], # E6\n",
    "    'C01-E10-Ciliated': ['RSPH1','SNTN',], # E6\n",
    "    'C01-E06-MUC5B+SMG': ['MUC5B','BPIFB2'], # E9\n",
    "    'C01-E04-Goblet': ['LYPD2','MUC5AC'], # E10\n",
    "    'C01-E07-MMP7+SMG': ['MMP7','RARRES1'], # E13\n",
    "    'C01-E09-Ionocyte': ['ASCL3','CLCNKA'], # E11\n",
    "    'C01-E08-PRB1+SMG': ['PRB1','PRB3'], # E12\n",
    "    'C01-E05-SMG': ['AZGP1','LYZ'], # E12\n",
    "}"
   ]
  },
  {
   "cell_type": "code",
   "execution_count": null,
   "id": "760f971e",
   "metadata": {},
   "outputs": [],
   "source": [
    "from matplotlib import cm, colors\n",
    "import colorcet as cc\n",
    "\n",
    "mymap = colors.LinearSegmentedColormap.from_list('my_colormap', cc.CET_CBL2)\n",
    "mymap"
   ]
  },
  {
   "cell_type": "code",
   "execution_count": null,
   "id": "b4eacc5d",
   "metadata": {},
   "outputs": [],
   "source": [
    "adata.uns['annotation_colors']"
   ]
  },
  {
   "cell_type": "code",
   "execution_count": null,
   "id": "e50f3cce",
   "metadata": {},
   "outputs": [],
   "source": [
    "categeroies_B = adata.obs['annotation'].cat.categories.to_list()\n",
    "adata_list = []\n",
    "\n",
    "for i in categeroies_B:\n",
    "    cat_index = adata.obs.loc[adata.obs[\"annotation\"].isin([i]), :].index\n",
    "    adata_cat = adata[cat_index, :]\n",
    "    adata_cat = sc.pp.subsample(adata_cat, n_obs=100, random_state=1, copy=True)\n",
    "    adata_list.append(adata_cat)\n",
    "    \n",
    "adata_B_conca = adata_list[0].concatenate(adata_list[1:12],\n",
    "                                   join='outer', batch_categories=categeroies_B)\n",
    "adata_B_conca"
   ]
  },
  {
   "cell_type": "code",
   "execution_count": null,
   "id": "2bd49304",
   "metadata": {},
   "outputs": [],
   "source": [
    "adata_B_conca.uns['annotation_colors'] = adata.uns['annotation_colors']"
   ]
  },
  {
   "cell_type": "code",
   "execution_count": null,
   "id": "4fc11771",
   "metadata": {},
   "outputs": [],
   "source": [
    "adata_B_conca"
   ]
  },
  {
   "cell_type": "code",
   "execution_count": null,
   "id": "0c25afa8",
   "metadata": {
    "scrolled": false
   },
   "outputs": [],
   "source": [
    "sc.settings.set_figure_params(dpi=400, fontsize=15)\n",
    "ax = sc.pl.heatmap(adata_B_conca, \n",
    "                   marker_genes_dict, \n",
    "                   groupby='annotation',\n",
    "                   cmap=mymap, \n",
    "                   show_gene_labels=False,\n",
    "                   figsize=(4.5,9),\n",
    "                   dendrogram=True,\n",
    "                   swap_axes=False,\n",
    "                   standard_scale='var'\n",
    "                  ) "
   ]
  },
  {
   "cell_type": "code",
   "execution_count": null,
   "id": "910eeaab",
   "metadata": {},
   "outputs": [],
   "source": [
    "from matplotlib import cm, colors\n",
    "\n",
    "colors2 = mymap(np.linspace(0, 0.96, 128)) # 30%-100%\n",
    "colorsComb = np.vstack([colors2])\n",
    "mymap = colors.LinearSegmentedColormap.from_list('my_colormap', colorsComb)\n",
    "mymap"
   ]
  },
  {
   "cell_type": "code",
   "execution_count": null,
   "id": "a6cc866a",
   "metadata": {},
   "outputs": [],
   "source": [
    "sc.settings.set_figure_params(dpi=400, fontsize=15)\n",
    "ax = sc.pl.heatmap(adata_B_conca, \n",
    "                   marker_genes_dict, \n",
    "                   groupby='annotation',\n",
    "                   cmap=mymap, \n",
    "                   show_gene_labels=False,\n",
    "                   figsize=(4.5,9),\n",
    "                   dendrogram=True,\n",
    "                   swap_axes=False,\n",
    "                   standard_scale='var'\n",
    "                  ) "
   ]
  },
  {
   "cell_type": "code",
   "execution_count": null,
   "id": "a17a439e",
   "metadata": {},
   "outputs": [],
   "source": [
    "adata_B_conca"
   ]
  },
  {
   "cell_type": "code",
   "execution_count": null,
   "id": "7cbc2858",
   "metadata": {},
   "outputs": [],
   "source": [
    "adata.obs['annotation'].cat.categories"
   ]
  },
  {
   "cell_type": "code",
   "execution_count": null,
   "id": "3bd7aabf",
   "metadata": {},
   "outputs": [],
   "source": [
    "adata = sc.read('/mnt/data2/Datasets/Human_non_intestine_datasets/Qilu_Otorhinolaryngology_surgery_data/dataset_output/EPI.h5ad')\n",
    "adata"
   ]
  },
  {
   "cell_type": "code",
   "execution_count": null,
   "id": "21222b82",
   "metadata": {},
   "outputs": [],
   "source": [
    "adata = sc.AnnData(X=adata.raw.X, var=adata.raw.var, obs = adata.obs)"
   ]
  },
  {
   "cell_type": "code",
   "execution_count": null,
   "id": "90a4658f",
   "metadata": {
    "code_folding": []
   },
   "outputs": [],
   "source": [
    "categeroies_B = adata.obs['annotation'].cat.categories.to_list()\n",
    "adata_list = []\n",
    "\n",
    "for i in categeroies_B:\n",
    "    if i == 'C01-E11-S100A8+APC':\n",
    "        cat_index = adata.obs.loc[adata.obs[\"annotation\"].isin([i]), :].index\n",
    "        adata_cat = adata[cat_index, :]\n",
    "        adata_cat = sc.pp.subsample(adata_cat, n_obs=1000, random_state=1, copy=True)\n",
    "        adata_list.append(adata_cat) \n",
    "    else:\n",
    "        cat_index = adata.obs.loc[adata.obs[\"annotation\"].isin([i]), :].index\n",
    "        adata_cat = adata[cat_index, :]\n",
    "        adata_cat = sc.pp.subsample(adata_cat, n_obs=500, random_state=1, copy=True)\n",
    "        adata_list.append(adata_cat)\n",
    "    \n",
    "adata_B_conca = adata_list[0].concatenate(adata_list[1:12],\n",
    "                                   join='outer', batch_categories=categeroies_B)\n",
    "adata_B_conca"
   ]
  },
  {
   "cell_type": "code",
   "execution_count": null,
   "id": "f0991fcb",
   "metadata": {},
   "outputs": [],
   "source": [
    "sc.pp.filter_genes(adata_B_conca, min_cells=10)\n",
    "adata_B_conca"
   ]
  },
  {
   "cell_type": "code",
   "execution_count": null,
   "id": "346f3510",
   "metadata": {},
   "outputs": [],
   "source": [
    "E01_index = adata_B_conca.obs.loc[adata_B_conca.obs[\"annotation\"].isin(['C01-E11-S100A8+APC']), :].index\n",
    "\n",
    "adata_B_conca.obs['DEG'] = 'Other'\n",
    "adata_B_conca.obs.at[E01_index,'DEG']='C01-E11-S100A8+APC'"
   ]
  },
  {
   "cell_type": "code",
   "execution_count": null,
   "id": "b6a67fd9",
   "metadata": {},
   "outputs": [],
   "source": [
    "adata_B_conca"
   ]
  },
  {
   "cell_type": "code",
   "execution_count": null,
   "id": "d673b07a",
   "metadata": {},
   "outputs": [],
   "source": [
    "adata_B_conca.to_df().T"
   ]
  },
  {
   "cell_type": "code",
   "execution_count": null,
   "id": "65073c0f",
   "metadata": {},
   "outputs": [],
   "source": [
    "adata_B_conca.to_df().T.to_csv('/mnt/data2/Datasets/Human_non_intestine_datasets/Qilu_Otorhinolaryngology_surgery_data/dataset_output/csv/LY6D_vs_other_matrix.csv')"
   ]
  },
  {
   "cell_type": "code",
   "execution_count": null,
   "id": "6e9ff3ee",
   "metadata": {},
   "outputs": [],
   "source": [
    "adata_B_conca.obs.loc[:,['DEG']]"
   ]
  },
  {
   "cell_type": "code",
   "execution_count": null,
   "id": "d7b875c2",
   "metadata": {},
   "outputs": [],
   "source": [
    "adata_B_conca.obs.loc[:,['DEG']].to_csv('/mnt/data2/Datasets/Human_non_intestine_datasets/Qilu_Otorhinolaryngology_surgery_data/dataset_output/csv/LY6D_vs_other_meta.csv')"
   ]
  },
  {
   "cell_type": "code",
   "execution_count": null,
   "id": "75f7073a",
   "metadata": {},
   "outputs": [],
   "source": [
    "sc.settings.set_figure_params(dpi=150, figsize = (4, 4), fontsize=12)\n",
    "\n",
    "from matplotlib import cm, colors\n",
    "import colorcet as cc\n",
    "\n",
    "mymap = colors.LinearSegmentedColormap.from_list('my_colormap', cc.CET_L20)\n",
    "\n",
    "colors2 = mymap(np.linspace(0.2, 1, 128)) # 30%-100%\n",
    "colors3 = plt.cm.Greys_r(np.linspace(0.8,0.9,5))\n",
    "colorsComb = np.vstack([colors3, colors2])\n",
    "mymap = colors.LinearSegmentedColormap.from_list('my_colormap', colorsComb)\n",
    "\n",
    "sc.pl.umap(adata, color=['KRT5'], frameon=False, color_map = mymap)"
   ]
  },
  {
   "cell_type": "code",
   "execution_count": null,
   "id": "c7f5819c",
   "metadata": {},
   "outputs": [],
   "source": [
    "sc.settings.set_figure_params(dpi=300, figsize = (4, 4), fontsize=12)\n",
    "\n",
    "from matplotlib import cm, colors\n",
    "import colorcet as cc\n",
    "\n",
    "mymap = colors.LinearSegmentedColormap.from_list('my_colormap', cc.CET_L20)\n",
    "\n",
    "colors2 = mymap(np.linspace(0.2, 1, 128)) # 30%-100%\n",
    "colors3 = plt.cm.Greys_r(np.linspace(0.8,0.9,5))\n",
    "colorsComb = np.vstack([colors3, colors2])\n",
    "mymap = colors.LinearSegmentedColormap.from_list('my_colormap', colorsComb)\n",
    "\n",
    "sc.pl.umap(adata, color=['CXCL1','CXCL2','CXCL3','CXCL5'], frameon=False, color_map = mymap)\n",
    "sc.pl.umap(adata, color=['CXCL6','CXCL8','PPBP','S100P'], frameon=False, color_map = mymap)                         \n",
    "sc.pl.umap(adata, color=['CXCL9','CXCL10','CXCL11','EREG'], frameon=False, color_map = mymap)"
   ]
  },
  {
   "cell_type": "code",
   "execution_count": null,
   "id": "87648c04",
   "metadata": {},
   "outputs": [],
   "source": [
    "sc.pl.umap(adata, color=['LYPD3','IDO1','MUC5AC','S100P'], frameon=False, color_map = mymap)                         \n",
    "sc.pl.umap(adata, color=['TFF2','LYZ','CD24','EREG'], frameon=False, color_map = mymap)\n",
    "sc.pl.umap(adata, color=['SCGB1A1','SCGB3A1','SCGB3A2'], frameon=False, color_map = mymap)"
   ]
  },
  {
   "cell_type": "code",
   "execution_count": null,
   "id": "fcdb7445",
   "metadata": {},
   "outputs": [],
   "source": [
    "pd.DataFrame(adata.uns['cosg']['names'])['C01-E06-MUC5B+SMG'].head(50)"
   ]
  },
  {
   "cell_type": "code",
   "execution_count": null,
   "id": "9e785d06",
   "metadata": {},
   "outputs": [],
   "source": [
    "pd.DataFrame(adata.uns['cosg']['names'])['C01-E11-S100A8+APC'].head(50)"
   ]
  },
  {
   "cell_type": "code",
   "execution_count": null,
   "id": "4692420f",
   "metadata": {},
   "outputs": [],
   "source": [
    "adata.obs['annotation'].cat.categories"
   ]
  },
  {
   "cell_type": "code",
   "execution_count": null,
   "id": "a8be1e8e",
   "metadata": {},
   "outputs": [],
   "source": [
    "tf_GENES = '/mnt/data/project/scenic/auxilliaries/lambert2018_c.txt'\n",
    "amps_pd = pd.read_table(tf_GENES)\n",
    "amps_list = list(amps_pd['Gene_name'])\n",
    "amps_list = [x for x in amps_list if x in adata.raw.var_names]\n",
    "adata_c = sc.AnnData(X=adata.raw.X, var=adata.raw.var, obs = adata.obs)\n",
    "adata_c = adata_c[:,amps_list]\n",
    "\n",
    "## TFs\n",
    "\n",
    "import cosg as cosg\n",
    "import time\n",
    "t0= time.clock()\n",
    "cosg.cosg(adata_c,\n",
    "    key_added='cosg',\n",
    "        mu=1,\n",
    "        n_genes_user=50,\n",
    "               groupby='annotation')\n",
    "runtime_cosg = time.clock() - t0\n",
    "\n",
    "sc.settings.set_figure_params(dpi=200, figsize = (4, 4), fontsize=15)\n",
    "sc.pl.rank_genes_groups_dotplot(adata_c,groupby='annotation',\n",
    "                                cmap='Spectral_r',\n",
    "                                 standard_scale='var',\n",
    "                                       n_genes=3,key='cosg')"
   ]
  },
  {
   "cell_type": "code",
   "execution_count": null,
   "id": "d858fa4f",
   "metadata": {},
   "outputs": [],
   "source": [
    "adata = sc.read('/mnt/data2/Datasets/Human_non_intestine_datasets/Qilu_Otorhinolaryngology_surgery_data/dataset_output/EPI.h5ad')\n",
    "adata"
   ]
  },
  {
   "cell_type": "code",
   "execution_count": null,
   "id": "cd895dea",
   "metadata": {},
   "outputs": [],
   "source": [
    "adata.obs['tissue'].cat.categories"
   ]
  },
  {
   "cell_type": "code",
   "execution_count": null,
   "id": "770511f3",
   "metadata": {},
   "outputs": [],
   "source": [
    "E_index = adata.obs.loc[adata.obs[\"tissue\"].isin(['inferior turbinate']), :].index\n",
    "adata = adata[E_index, :]\n",
    "adata"
   ]
  },
  {
   "cell_type": "code",
   "execution_count": null,
   "id": "46af3ad9",
   "metadata": {},
   "outputs": [],
   "source": [
    "adata.obs['annotation'].cat.categories"
   ]
  },
  {
   "cell_type": "code",
   "execution_count": null,
   "id": "9893bfbc",
   "metadata": {},
   "outputs": [],
   "source": [
    "E_index = adata.obs.loc[adata.obs[\"annotation\"].isin(['C01-E03-Club','C01-E11-S100A8+APC']), :].index\n",
    "adata = adata[E_index, :]\n",
    "adata"
   ]
  },
  {
   "cell_type": "code",
   "execution_count": null,
   "id": "377ddfce",
   "metadata": {},
   "outputs": [],
   "source": [
    "adata = sc.AnnData(X=adata.raw.X, var=adata.raw.var, obs = adata.obs)"
   ]
  },
  {
   "cell_type": "code",
   "execution_count": null,
   "id": "78827876",
   "metadata": {},
   "outputs": [],
   "source": [
    "categeroies_B = adata.obs['Health'].cat.categories.to_list()\n",
    "adata_list = []\n",
    "\n",
    "for i in categeroies_B:\n",
    "    cat_index = adata.obs.loc[adata.obs[\"Health\"].isin([i]), :].index\n",
    "    adata_cat = adata[cat_index, :]\n",
    "    adata_cat = sc.pp.subsample(adata_cat, n_obs=1000, random_state=1, copy=True)\n",
    "    adata_list.append(adata_cat)\n",
    "    \n",
    "adata_B_conca = adata_list[0].concatenate(adata_list[1:2],\n",
    "                                   join='outer', batch_categories=categeroies_B)\n",
    "adata_B_conca"
   ]
  },
  {
   "cell_type": "code",
   "execution_count": null,
   "id": "2f42d2a2",
   "metadata": {},
   "outputs": [],
   "source": [
    "sc.pp.filter_genes(adata_B_conca, min_cells=10)\n",
    "adata_B_conca"
   ]
  },
  {
   "cell_type": "code",
   "execution_count": null,
   "id": "0cf3585f",
   "metadata": {},
   "outputs": [],
   "source": [
    "adata_B_conca.to_df().T.to_csv('/mnt/data2/Datasets/Human_non_intestine_datasets/Qilu_Otorhinolaryngology_surgery_data/dataset_output/csv/Club_CRS_vs_Club_HC.csv')"
   ]
  },
  {
   "cell_type": "code",
   "execution_count": null,
   "id": "e7ed60e7",
   "metadata": {},
   "outputs": [],
   "source": [
    "adata_B_conca.obs.loc[:,['Health']]\n",
    "adata_B_conca.obs.loc[:,['Health']].to_csv('/mnt/data2/Datasets/Human_non_intestine_datasets/Qilu_Otorhinolaryngology_surgery_data/dataset_output/csv/Club_CRS_vs_Club_HC_meta.csv')"
   ]
  },
  {
   "cell_type": "markdown",
   "id": "ccd08cb8",
   "metadata": {},
   "source": [
    "**GSVA**"
   ]
  },
  {
   "cell_type": "code",
   "execution_count": null,
   "id": "f2877832",
   "metadata": {},
   "outputs": [],
   "source": [
    "adata_B_conca"
   ]
  },
  {
   "cell_type": "code",
   "execution_count": null,
   "id": "7b7537ec",
   "metadata": {},
   "outputs": [],
   "source": [
    "fn = '/mnt/data/Project2021/Gut_immune_surveillance/ref_geneset/c2.cp.reactome.v7.2.symbols.gmt'\n",
    "\n",
    "with open(fn) as f:\n",
    "    sets_raw = f.readlines()\n",
    "sets_proc = [x.split('\\n')[0] for x in sets_raw]\n",
    "sets_proc = [x.split('\\t') for x in sets_proc]\n",
    "\n",
    "path_name_list = []\n",
    "gene_ids_list = []\n",
    "\n",
    "for x in sets_proc:\n",
    "    path_name = x[0]\n",
    "    gene_ids=x[2:]\n",
    "    \n",
    "    path_name_list.append(path_name)\n",
    "    gene_ids_list.append(gene_ids)"
   ]
  },
  {
   "cell_type": "code",
   "execution_count": null,
   "id": "d88f1b40",
   "metadata": {},
   "outputs": [],
   "source": [
    "dataframe_GSVA = pd.DataFrame(index=adata_B_conca.obs.index, columns=path_name_list)\n",
    "dataframe_GSVA"
   ]
  },
  {
   "cell_type": "code",
   "execution_count": null,
   "id": "fc1bd055",
   "metadata": {},
   "outputs": [],
   "source": [
    "# 1554 pathway,time cost 856.7754094600677 s\n",
    "import time\n",
    "\n",
    "time_start = time.time()\n",
    "\n",
    "j = 0\n",
    "for i in path_name_list:\n",
    "    score_name = i\n",
    "    genesets = gene_ids_list[j]\n",
    "    print(len(genesets))\n",
    "    genesets = [x for x in genesets if x in adata_B_conca.var_names]\n",
    "    print(len(genesets))\n",
    "    print(j)\n",
    "    j = j+1\n",
    "    \n",
    "    sc.tl.score_genes(adata_B_conca, genesets, \n",
    "                      ctrl_size=len(genesets), \n",
    "                      gene_pool=None, \n",
    "                      n_bins=25, \n",
    "                      score_name=score_name, \n",
    "                      random_state=0, \n",
    "                      copy=False, \n",
    "                      use_raw=None)\n",
    "    dataframe_GSVA[score_name] = adata_B_conca.obs[score_name]\n",
    "\n",
    "time_end = time.time()    #结束计时\n",
    "\n",
    "time_c= time_end - time_start   #运行所花时间\n",
    "print('time cost', time_c, 's')"
   ]
  },
  {
   "cell_type": "code",
   "execution_count": null,
   "id": "65e26c32",
   "metadata": {},
   "outputs": [],
   "source": [
    "dataframe_GSVA"
   ]
  },
  {
   "cell_type": "code",
   "execution_count": null,
   "id": "a25cb518",
   "metadata": {},
   "outputs": [],
   "source": [
    "dataframe_GSVA = dataframe_GSVA.applymap(lambda x: x +1)"
   ]
  },
  {
   "cell_type": "code",
   "execution_count": null,
   "id": "a813f92d",
   "metadata": {},
   "outputs": [],
   "source": [
    "import seaborn as sns\n",
    "sns.kdeplot(dataframe_GSVA['REACTOME_REMOVAL_OF_THE_FLAP_INTERMEDIATE_FROM_THE_C_STRAND'], shade = True)"
   ]
  },
  {
   "cell_type": "code",
   "execution_count": null,
   "id": "1dca4716",
   "metadata": {},
   "outputs": [],
   "source": [
    "index = dataframe_GSVA.index.to_frame(index=True, name='barcodes')\n",
    "columns = dataframe_GSVA.columns.to_frame(index=True, name='pathway')\n",
    "\n",
    "# 将dataframe_GSVA读取为Anndata\n",
    "anndata_GSVA = sc.AnnData(X=dataframe_GSVA.values, var=columns, obs = index)\n",
    "anndata_GSVA"
   ]
  },
  {
   "cell_type": "code",
   "execution_count": null,
   "id": "6c7ca5b9",
   "metadata": {},
   "outputs": [],
   "source": [
    "anndata_GSVA.raw = anndata_GSVA\n",
    "anndata_GSVA.obs['annotation']=adata_B_conca.obs['annotation']\n",
    "anndata_GSVA.obs"
   ]
  },
  {
   "cell_type": "code",
   "execution_count": null,
   "id": "cc1f4b9b",
   "metadata": {},
   "outputs": [],
   "source": [
    "sc.pp.scale(anndata_GSVA, max_value=10)"
   ]
  },
  {
   "cell_type": "code",
   "execution_count": null,
   "id": "ef4aa9f4",
   "metadata": {},
   "outputs": [],
   "source": [
    "# 所有器官，bulk级别\n",
    "def adata_diff(adata_test):\n",
    "    \n",
    "    sc.settings.set_figure_params(dpi=100, figsize = (4, 3), fontsize=6)\n",
    "    sc.tl.rank_genes_groups(adata_test, 'annotation', method='wilcoxon')\n",
    "    #sc.pl.rank_genes_groups(adata_test, n_genes=25, sharey=False)\n",
    "    pd.DataFrame(adata_test.uns['rank_genes_groups']['names']).to_csv('/mnt/data2/Datasets/Human_non_intestine_datasets/Qilu_Otorhinolaryngology_surgery_data/dataset_output/csv/'+ dirfile)\n",
    "\n",
    "    #sc.get.rank_genes_groups_df(adata_test, group=\"1-Duodenum\")\n",
    "    \n",
    "    sc.settings.set_figure_params(dpi=150, figsize = (4, 3), fontsize=6)\n",
    "\n",
    "    sc.pl.rank_genes_groups_heatmap(adata_test, \n",
    "                                    n_genes=20, \n",
    "                                    use_raw=False, \n",
    "                                    swap_axes=True, \n",
    "                                    vmin=-2, \n",
    "                                    vmax=2, \n",
    "                                    cmap='bwr', \n",
    "                                    # layer='scaled', \n",
    "                                    figsize=(10,10),\n",
    "                                    # categories_order = categories_order,\n",
    "                                    show=True,\n",
    "                                    dendrogram=False,\n",
    "                                    show_gene_labels=True,\n",
    "                                    # save = '_hotmap3.png'\n",
    "                                   )\n",
    "    \n",
    "    sc.settings.set_figure_params(dpi=150, figsize = (4, 3), fontsize=20)\n",
    "    mp1 = sc.pl.rank_genes_groups_matrixplot(adata_test, \n",
    "                                       n_genes=6, \n",
    "                                       use_raw=False, \n",
    "                                       dendrogram=False,\n",
    "                                       return_fig=True,\n",
    "                                       vmin=-1.7, \n",
    "                                       vmax=1.7,\n",
    "                                       #categories_order = categories_order,\n",
    "                                       cmap='bwr')\n",
    "    mp1.style(edge_color='white',cmap = 'bwr',edge_lw=1.0).show()\n",
    "    \n",
    "    mp1 = sc.pl.rank_genes_groups_matrixplot(adata_test, \n",
    "                                       n_genes=6, \n",
    "                                       use_raw=False, \n",
    "                                       dendrogram=False,\n",
    "                                       return_fig=True,\n",
    "                                       vmin=-1.7, \n",
    "                                       vmax=1.7,\n",
    "                                       #categories_order = categories_order,\n",
    "                                       cmap='bwr')\n",
    "    mp1.style(edge_color='white',cmap = 'RdYlBu_r',edge_lw=1.0).show()   \n",
    "    \n",
    "    mp1 = sc.pl.rank_genes_groups_matrixplot(adata_test, \n",
    "                                       n_genes=6, \n",
    "                                       use_raw=False, \n",
    "                                       dendrogram=False,\n",
    "                                       return_fig=True,\n",
    "                                       vmin=-1.7, \n",
    "                                       vmax=1.7,\n",
    "                                       #categories_order = categories_order,\n",
    "                                       cmap='bwr')\n",
    "    mp1.style(edge_color='white',cmap = 'bwr',edge_lw=1.0).show()       \n",
    "\n",
    "    \n",
    "    return adata_test"
   ]
  },
  {
   "cell_type": "code",
   "execution_count": null,
   "id": "5de9ad48",
   "metadata": {},
   "outputs": [],
   "source": [
    "adata_test = anndata_GSVA\n",
    "dirfile = 'LY6DClub_rank_gsva_reactome_20211210.csv'\n",
    "adata_diff(adata_test)"
   ]
  },
  {
   "cell_type": "code",
   "execution_count": null,
   "id": "5f93b8f7",
   "metadata": {},
   "outputs": [],
   "source": [
    "adata_test.obs['annotation'].cat.categories"
   ]
  },
  {
   "cell_type": "code",
   "execution_count": null,
   "id": "a28c0869",
   "metadata": {},
   "outputs": [],
   "source": [
    "pd_Proximal_SI = sc.get.rank_genes_groups_df(adata_test, group=\"C01-E11-S100A8+APC\")\n",
    "pd_Proximal_SI"
   ]
  },
  {
   "cell_type": "code",
   "execution_count": null,
   "id": "764c46f3",
   "metadata": {},
   "outputs": [],
   "source": [
    "pd_Proximal_SI.to_csv('/mnt/data2/Datasets/Human_non_intestine_datasets/Qilu_Otorhinolaryngology_surgery_data/dataset_output/csv/LY6D_Club_GSVA.csv')"
   ]
  },
  {
   "cell_type": "code",
   "execution_count": null,
   "id": "d3bb49bd",
   "metadata": {},
   "outputs": [],
   "source": [
    "REACTOME_REGULATION_OF_TLR_BY_ENDOGENOUS_LIGAND\n",
    "REACTOME_NEUTROPHIL_DEGRANULATION\n",
    "REACTOME_ANTIGEN_PROCESSING_CROSS_PRESENTATION\n",
    "REACTOME_INTERLEUKIN_1_SIGNALING\n",
    "REACTOME_FCERI_MEDIATED_NF_KB_ACTIVATION\n",
    "REACTOME_INTERLEUKIN_1_FAMILY_SIGNALING\n",
    "REACTOME_HOMOLOGOUS_DNA_PAIRING_AND_STRAND_EXCHANGE\n",
    "REACTOME_ROLE_OF_PHOSPHOLIPIDS_IN_PHAGOCYTOSIS\n",
    "REACTOME_COLLAGEN_BIOSYNTHESIS_AND_MODIFYING_ENZYMES\n",
    "REACTOME_RESOLUTION_OF_D_LOOP_STRUCTURES\n",
    "REACTOME_COHESIN_LOADING_ONTO_CHROMATIN\n",
    "REACTOME_RESOLUTION_OF_D_LOOP_STRUCTURES_THROUGH_SYNTHESIS_DEPENDENT_STRAND_ANNEALING_SDSA_"
   ]
  },
  {
   "cell_type": "code",
   "execution_count": null,
   "id": "1ba6a05c",
   "metadata": {},
   "outputs": [],
   "source": [
    "# create a dataset\n",
    "height = [40.038708, 39.046436, 35.79242, 34.380756, 33.42309, 32.852737, \n",
    "          23.435366, 25.43655, 25.552229, 25.591013, 25.835993, 28.000149]\n",
    "bars = (' ', ' ', ' ', ' ', ' ', ' ', ' ', ' ', ' ', ' ', ' ', ' ')\n",
    "x_pos = np.arange(len(bars))\n",
    "\n",
    "fig, ax = plt.subplots(figsize=(5, 5))\n",
    "# Create bars with different colors\n",
    "plt.bar(x_pos, height, color=['#fa8484','#fa8484','#fa8484','#fa8484','#fa8484','#fa8484',\n",
    "                              '#75afff','#75afff','#75afff','#75afff','#75afff','#75afff'])\n",
    "\n",
    "# Create names on the x-axis\n",
    "plt.xticks(x_pos, bars, fontsize = 30)\n",
    "plt.yticks([10, 20, 30, 40, 50 ], fontsize = 20)\n",
    "\n",
    "plt.grid(False)\n",
    "\n",
    "print(ax.axis())\n",
    "#ax.axis([-0.54, 2.5400000000000005, 0.0, 1])\n",
    "\n",
    "ax.spines['top'].set_visible(False)\n",
    "ax.spines['right'].set_visible(False)\n",
    "\n",
    "plt.show()"
   ]
  },
  {
   "cell_type": "code",
   "execution_count": null,
   "id": "575e4125",
   "metadata": {
    "scrolled": false
   },
   "outputs": [],
   "source": [
    "sc.settings.set_figure_params(dpi=300, figsize = (4, 4), fontsize=12)\n",
    "\n",
    "from matplotlib import cm, colors\n",
    "import colorcet as cc\n",
    "\n",
    "mymap = colors.LinearSegmentedColormap.from_list('my_colormap', cc.CET_L20)\n",
    "\n",
    "colors2 = mymap(np.linspace(0.2, 1, 128)) # 30%-100%\n",
    "colors3 = plt.cm.Greys_r(np.linspace(0.8,0.9,5))\n",
    "colorsComb = np.vstack([colors3, colors2])\n",
    "mymap = colors.LinearSegmentedColormap.from_list('my_colormap', colorsComb)\n",
    "\n",
    "sc.pl.umap(adata, color=['EREG'], frameon=False, color_map = mymap, size=3)\n",
    "sc.pl.umap(adata, color=['IL1RN'], frameon=False, color_map = mymap, size=3)\n",
    "sc.pl.umap(adata, color=['HLA-DQA2'], frameon=False, color_map = mymap, size=3)"
   ]
  },
  {
   "cell_type": "code",
   "execution_count": null,
   "id": "80466f9c",
   "metadata": {},
   "outputs": [],
   "source": [
    "import os, glob, re, pickle\n",
    "from functools import partial\n",
    "from collections import OrderedDict\n",
    "import operator as op\n",
    "from cytoolz import compose\n",
    "\n",
    "import pandas as pd\n",
    "import seaborn as sns\n",
    "import numpy as np\n",
    "import scanpy as sc\n",
    "import anndata as ad\n",
    "import matplotlib as mpl\n",
    "import matplotlib.pyplot as plt\n",
    "import loompy as lp\n",
    "\n",
    "from pyscenic.export import export2loom, add_scenic_metadata\n",
    "from pyscenic.utils import load_motifs\n",
    "from pyscenic.transform import df2regulons\n",
    "from pyscenic.aucell import aucell\n",
    "from pyscenic.binarization import binarize\n",
    "from pyscenic.rss import regulon_specificity_scores\n",
    "from pyscenic.plotting import plot_binarization, plot_rss\n",
    "\n",
    "from IPython.display import HTML, display\n",
    "\n",
    "import matplotlib.font_manager\n",
    "flist = matplotlib.font_manager.get_fontconfig_fonts()\n",
    "names = [matplotlib.font_manager.FontProperties(fname=fname).get_name() for fname in flist]\n",
    "print(names)\n",
    "\n",
    "params={\n",
    "        #'font.style':'italic',\n",
    "        'font.weight':'normal',    #or 'blod'\n",
    "        }\n",
    "plt.rcParams.update(params)\n",
    "\n",
    "plt.rcParams['font.family']='Arial'"
   ]
  },
  {
   "cell_type": "code",
   "execution_count": null,
   "id": "c762a325",
   "metadata": {},
   "outputs": [],
   "source": [
    "tf_GENES = '/mnt/data/project/scenic/auxilliaries/lambert2018_c.txt'\n",
    "amps_pd = pd.read_table(tf_GENES)\n",
    "amps_list = list(amps_pd['Gene_name'])\n",
    "adata = sc.read('/mnt/data2/Datasets/Human_non_intestine_datasets/Qilu_Otorhinolaryngology_surgery_data/dataset_output/EPI.h5ad')\n",
    "amps_list = [x for x in amps_list if x in adata.raw.var_names]\n",
    "adata_c = sc.AnnData(X=adata.raw.X, var=adata.raw.var, obs = adata.obs)\n",
    "adata_c = adata_c[:,amps_list]\n",
    "adata_c"
   ]
  },
  {
   "cell_type": "code",
   "execution_count": null,
   "id": "dfab1fef",
   "metadata": {},
   "outputs": [],
   "source": [
    "sc.pp.filter_genes(adata_c, min_cells=5)\n",
    "sc.pp.scale(adata_c, max_value=1)\n",
    "auc_mtx = adata_c.to_df()\n",
    "# 需要保证后续加上一个数值后所有的数均大于0\n",
    "np.min(auc_mtx.min().to_list())"
   ]
  },
  {
   "cell_type": "code",
   "execution_count": null,
   "id": "b4d5a394",
   "metadata": {},
   "outputs": [],
   "source": [
    "auc_mtx = auc_mtx.applymap(lambda x: x +2)"
   ]
  },
  {
   "cell_type": "code",
   "execution_count": null,
   "id": "686e3a56",
   "metadata": {},
   "outputs": [],
   "source": [
    "# Calculate RSS\n",
    "rss = regulon_specificity_scores(auc_mtx, adata_c.obs.annotation)\n",
    "rss.head()"
   ]
  },
  {
   "cell_type": "code",
   "execution_count": null,
   "id": "b68a0acb",
   "metadata": {},
   "outputs": [],
   "source": [
    "rss.T.to_csv('/mnt/data2/Datasets/Human_non_intestine_datasets/Qilu_Otorhinolaryngology_surgery_data/dataset_output/SCENIC/rss_epi.csv')"
   ]
  },
  {
   "cell_type": "code",
   "execution_count": null,
   "id": "cbeb171f",
   "metadata": {},
   "outputs": [],
   "source": [
    "sc.settings.set_figure_params(dpi=400)"
   ]
  },
  {
   "cell_type": "code",
   "execution_count": null,
   "id": "50ed8fcc",
   "metadata": {},
   "outputs": [],
   "source": [
    "from adjustText import adjust_text\n",
    "\n",
    "cats = list(rss.index)\n",
    "\n",
    "fig = plt.figure(figsize=(15,14)) # 长/宽\n",
    "for c,num in zip(cats, range(1,len(cats)+1)):\n",
    "    x=rss.T[c]\n",
    "    ax = fig.add_subplot(3,4,num) # 设置3行4列的图\n",
    "    plot_rss(rss, c, top_n=20, max_n=None, ax=ax)\n",
    "    ax.set_ylim( x.min()-(x.max()-x.min())*0.05 , x.max()+(x.max()-x.min())*0.05 )\n",
    "    plt.grid(False)\n",
    "    for t in ax.texts:\n",
    "        t.set_fontsize(12)\n",
    "    ax.tick_params(labelsize=15)\n",
    "    ax.set_ylabel('')\n",
    "    ax.set_xlabel('')\n",
    "    adjust_text(ax.texts, autoalign='xy', ha='right', va='bottom', arrowprops=dict(arrowstyle='-',color='lightgrey'), precision=0.001 )\n",
    " \n",
    "fig.text(0.5, 0.0, 'Regulon', ha='center', va='center', size='x-large')\n",
    "fig.text(0.00, 0.5, 'Regulon specificity score (RSS)', ha='center', va='center', rotation='vertical', size='x-large')\n",
    "plt.tight_layout()\n",
    "plt.rcParams.update({\n",
    "    'figure.autolayout': True,\n",
    "        'figure.titlesize': 'large' ,\n",
    "        'axes.labelsize': 'medium',\n",
    "        'axes.titlesize':'large',\n",
    "        'xtick.labelsize':'medium',\n",
    "        'ytick.labelsize':'medium'\n",
    "        })\n",
    "# plt.savefig(\"PBMC10k_cellType-RSS-top5.pdf\", dpi=600, bbox_inches = \"tight\")\n",
    "\n",
    "plt.show()"
   ]
  },
  {
   "cell_type": "code",
   "execution_count": null,
   "id": "c8655687",
   "metadata": {},
   "outputs": [],
   "source": [
    "from adjustText import adjust_text\n",
    "\n",
    "cats = list(rss.index)\n",
    "\n",
    "fig = plt.figure(figsize=(15,14)) # 长/宽\n",
    "for c,num in zip(cats, range(1,len(cats)+1)):\n",
    "    x=rss.T[c]\n",
    "    ax = fig.add_subplot(3,4,num) # 设置3行4列的图\n",
    "    plot_rss(rss, c, top_n=20, max_n=None, ax=ax)\n",
    "    ax.set_ylim( x.min()-(x.max()-x.min())*0.05 , x.max()+(x.max()-x.min())*0.05 )\n",
    "    plt.grid(False)\n",
    "    for t in ax.texts:\n",
    "        t.set_fontsize(0)\n",
    "    ax.tick_params(labelsize=15)\n",
    "    ax.set_ylabel('')\n",
    "    ax.set_xlabel('')\n",
    "    # adjust_text(ax.texts, autoalign='xy', ha='right', va='bottom', arrowprops=dict(arrowstyle='-',color='lightgrey'), precision=0.001 )\n",
    " \n",
    "fig.text(0.5, 0.0, 'Regulon', ha='center', va='center', size='x-large')\n",
    "fig.text(0.00, 0.5, 'Regulon specificity score (RSS)', ha='center', va='center', rotation='vertical', size='x-large')\n",
    "plt.tight_layout()\n",
    "plt.rcParams.update({\n",
    "    'figure.autolayout': True,\n",
    "        'figure.titlesize': 'large' ,\n",
    "        'axes.labelsize': 'medium',\n",
    "        'axes.titlesize':'large',\n",
    "        'xtick.labelsize':'medium',\n",
    "        'ytick.labelsize':'medium'\n",
    "        })\n",
    "# plt.savefig(\"PBMC10k_cellType-RSS-top5.pdf\", dpi=600, bbox_inches = \"tight\")\n",
    "\n",
    "plt.show()"
   ]
  },
  {
   "cell_type": "code",
   "execution_count": null,
   "id": "597b3118",
   "metadata": {},
   "outputs": [],
   "source": [
    "# Basal resting\n",
    "E01_index = adata_c.obs.loc[adata_c.obs[\"tissue\"].isin(['inferior turbinate']), :].index\n",
    "# Basal cycling\n",
    "E02_index = adata_c.obs.loc[adata_c.obs[\"tissue\"].isin(['middle turbinate']), :].index\n",
    "# Club\n",
    "E03_index = adata_c.obs.loc[adata_c.obs[\"tissue\"].isin(['polyp']), :].index\n",
    "# Health\n",
    "E04_index = adata_c.obs.loc[adata_c.obs[\"Health\"].isin(['healthy control']), :].index\n",
    "\n",
    "adata_c.obs['fig2_barplot'] = 'Rhi-IT'\n",
    "adata_c.obs.at[E02_index,'fig2_barplot']='Rhi-MT'\n",
    "adata_c.obs.at[E03_index,'fig2_barplot']='Rhi-NP'\n",
    "adata_c.obs.at[E04_index,'fig2_barplot']='HC-IT'\n",
    "\n",
    "E_index = adata_c.obs.loc[~adata_c.obs[\"fig2_barplot\"].isin(['HC-IT']), :].index\n",
    "adata_c = adata_c[E_index, :]\n",
    "adata_c"
   ]
  },
  {
   "cell_type": "code",
   "execution_count": null,
   "id": "ee001e2a",
   "metadata": {},
   "outputs": [],
   "source": [
    "phenotype = 'tissue'\n",
    "annotation = 'annotation'\n",
    "\n",
    "ann_list = adata_c.obs[annotation].to_list()\n",
    "phenotype_list = adata_c.obs[phenotype].to_list()\n",
    "Ann=[phenotype_list[i]+ '_' + ann_list[i] for i in range(min(len(phenotype_list),len(ann_list)))]\n",
    "adata_c.obs['Ann_for_tree'] = Ann"
   ]
  },
  {
   "cell_type": "code",
   "execution_count": null,
   "id": "6980ab99",
   "metadata": {},
   "outputs": [],
   "source": [
    "adata_c.obs['Ann_for_tree'] = adata_c.obs['Ann_for_tree'].astype('category')"
   ]
  },
  {
   "cell_type": "code",
   "execution_count": null,
   "id": "a926de38",
   "metadata": {},
   "outputs": [],
   "source": [
    "sc.pp.scale(adata_c, zero_center=False)\n",
    "sc.tl.pca(adata_c, svd_solver='arpack')\n",
    "sc.tl.dendrogram(adata_c, 'Ann_for_tree')"
   ]
  },
  {
   "cell_type": "code",
   "execution_count": null,
   "id": "2e62cd48",
   "metadata": {},
   "outputs": [],
   "source": [
    "sc.settings.set_figure_params(dpi=600, fontsize=3.5,figsize=(5, 2.5))\n",
    "sc.pl.dendrogram(adata_c, 'Ann_for_tree',save='True')"
   ]
  },
  {
   "cell_type": "code",
   "execution_count": null,
   "id": "7b897ce3",
   "metadata": {},
   "outputs": [],
   "source": [
    "sc.settings.set_figure_params(dpi=600, fontsize=3.5,figsize=(5, 2.5))\n",
    "sc.pl.dendrogram(adata_c, 'Ann_for_tree',save='True')"
   ]
  },
  {
   "cell_type": "code",
   "execution_count": null,
   "id": "03cf91ee",
   "metadata": {},
   "outputs": [],
   "source": [
    "aucell_adata = adata_c"
   ]
  },
  {
   "cell_type": "code",
   "execution_count": null,
   "id": "89878f7d",
   "metadata": {},
   "outputs": [],
   "source": [
    "z_var = aucell_adata.uns['dendrogram_Ann_for_tree']['linkage']\n",
    "categories = aucell_adata.obs['Ann_for_tree'].cat.categories\n",
    "\n",
    "import scipy\n",
    "T = scipy.cluster.hierarchy.to_tree(z_var , rd=False )\n",
    "\n",
    "# Create dictionary for labeling nodes by their IDs\n",
    "labels=list(categories)\n",
    "id2name = dict(enumerate(labels))"
   ]
  },
  {
   "cell_type": "code",
   "execution_count": null,
   "id": "83d69cb3",
   "metadata": {},
   "outputs": [],
   "source": [
    "# Load required modules\n",
    "import pandas as pd \n",
    "import scipy.spatial\n",
    "import scipy.cluster\n",
    "import numpy as np\n",
    "import json\n",
    "import matplotlib.pyplot as plt\n",
    "from functools import reduce\n",
    "\n",
    "# Create a nested dictionary from the ClusterNode's returned by SciPy\n",
    "def add_node(node, parent ):\n",
    "    # First create the new node and append it to its parent's children\n",
    "    newNode = dict( node_id=node.id, children=[] )\n",
    "    parent[\"children\"].append( newNode )\n",
    "\n",
    "    # Recursively add the current node's children\n",
    "    if node.left: add_node( node.left, newNode )\n",
    "    if node.right: add_node( node.right, newNode )\n",
    "\n",
    "# Initialize nested dictionary for d3, then recursively iterate through tree\n",
    "d3Dendro = dict(children=[], name=\"Root1\")\n",
    "add_node( T, d3Dendro )\n",
    "\n",
    "\n",
    "# Label each node with the names of each leaf in its subtree\n",
    "def label_tree( n ):\n",
    "    # If the node is a leaf, then we have its name\n",
    "    if len(n[\"children\"]) == 0:\n",
    "        leafNames = [ id2name[n[\"node_id\"]] ]\n",
    "    \n",
    "    # If not, flatten all the leaves in the node's subtree\n",
    "    else:\n",
    "        leafNames = reduce(lambda ls, c: ls + label_tree(c), n[\"children\"], [])\n",
    "\n",
    "    # Delete the node id since we don't need it anymore and\n",
    "    # it makes for cleaner JSON\n",
    "    del n[\"node_id\"]\n",
    "\n",
    "    # Labeling convention: \"&\"-separated leaf names\n",
    "    n[\"name\"] = name = \"&\".join(sorted(map(str, leafNames)))\n",
    "    \n",
    "    return leafNames\n",
    "\n",
    "label_tree( d3Dendro[\"children\"][0] )"
   ]
  },
  {
   "cell_type": "code",
   "execution_count": null,
   "id": "c2ea1f08",
   "metadata": {},
   "outputs": [],
   "source": [
    "tree=[]  # tree用于循环差异基因(转录因子)分析\n",
    "def preorder(root):\n",
    "    if not root.is_leaf():\n",
    "        str1=\",\".join([list(categories)[i] for i in root.left.pre_order()])\n",
    "        str2=\",\".join([list(categories)[i] for i in root.right.pre_order()])\n",
    "        tree.append([str1,str2])\n",
    "    if root.get_left() is not None:\n",
    "        preorder(root.get_left())\n",
    "    if root.get_right() is not None:\n",
    "        preorder(root.get_right())\n",
    "preorder(T)\n",
    "print(tree)"
   ]
  },
  {
   "cell_type": "code",
   "execution_count": null,
   "id": "3a1de95c",
   "metadata": {},
   "outputs": [],
   "source": [
    "group_0_name_list = []\n",
    "group_1_name_list = []\n",
    "rank_reg_group0_list = []\n",
    "rank_reg_group1_list = []\n",
    "\n",
    "for i in tree:\n",
    "    group0 = i[0].split(',')\n",
    "    group_0_name_list.append(group0)\n",
    "    \n",
    "    group1 = i[1].split(',')\n",
    "    group_1_name_list.append(group1)\n",
    "    \n",
    "    # group = group0 + group1\n",
    "    \n",
    "    group0_index = aucell_adata.obs.loc[aucell_adata.obs[\"Ann_for_tree\"].isin(group0), :].index\n",
    "    group1_index = aucell_adata.obs.loc[aucell_adata.obs[\"Ann_for_tree\"].isin(group1), :].index\n",
    "    \n",
    "    # 建立新的dataframe列['group_DEG']，并将group0的index对应的列的值修改为group0\n",
    "    aucell_adata.obs['group_DEG'] = aucell_adata.obs['Ann_for_tree']\n",
    "    # 解决categories报错的问题，将原本不存在的类别添加，并删除不再使用的类别\n",
    "    new_categories = ['group0']\n",
    "    aucell_adata.obs['group_DEG'].cat.add_categories(new_categories, inplace = True)\n",
    "    aucell_adata.obs.loc[group0_index,'group_DEG']='group0'\n",
    "    aucell_adata.obs['group_DEG'].cat.remove_unused_categories(inplace = True)\n",
    "    \n",
    "    # 在dataframe列['group_DEG']修改了group0的基础上，将group1的index对应的列的值修改为group1\n",
    "    new_categories = ['group1']\n",
    "    aucell_adata.obs['group_DEG'].cat.add_categories(new_categories, inplace = True)\n",
    "    aucell_adata.obs.loc[group1_index,'group_DEG']='group1'\n",
    "    aucell_adata.obs['group_DEG'].cat.remove_unused_categories(inplace = True)\n",
    "\n",
    "    sc.tl.rank_genes_groups(aucell_adata, \n",
    "                        'group_DEG', \n",
    "                        method='wilcoxon',\n",
    "                        groups=['group0'],\n",
    "                        reference='group1')\n",
    "    result_DEG = sc.get.rank_genes_groups_df(aucell_adata, \n",
    "                                             group=\"group0\")\n",
    "    \n",
    "    rank_reg_top10_group0 = list(result_DEG['names'])[0:10]\n",
    "    rank_reg_group0_list.append(rank_reg_top10_group0)\n",
    "    \n",
    "    rank_reg_top10_group1 = list(result_DEG['names'])[-10:][::-1] # group1的top10为最后10个reg的倒序.\n",
    "    rank_reg_group1_list.append(rank_reg_top10_group1)\n",
    "    \n",
    "result_reg = pd.DataFrame()\n",
    "result_reg['group_0_name_list'] = group_0_name_list\n",
    "result_reg['group_1_name_list'] = group_1_name_list\n",
    "result_reg['rank_reg_top10_group0'] = rank_reg_group0_list\n",
    "result_reg['rank_reg_top10_group1'] = rank_reg_group1_list\n",
    "result_reg"
   ]
  },
  {
   "cell_type": "code",
   "execution_count": null,
   "id": "4ae7b605",
   "metadata": {},
   "outputs": [],
   "source": [
    "result_reg.to_csv('/mnt/data2/Datasets/Human_non_intestine_datasets/Qilu_Otorhinolaryngology_surgery_data/dataset_output/csv/epi_DET.csv')"
   ]
  },
  {
   "cell_type": "markdown",
   "id": "fb3489d8",
   "metadata": {},
   "source": [
    "**CellRank**"
   ]
  },
  {
   "cell_type": "code",
   "execution_count": null,
   "id": "7ca9b3d8",
   "metadata": {},
   "outputs": [],
   "source": [
    "#!/usr/bin/env python\n",
    "# -*- coding: utf-8 -*-\n",
    "import numpy as np\n",
    "import pandas as pd\n",
    "import scanpy as sc\n",
    "import anndata\n",
    "import bbknn\n",
    "import os\n",
    "from scipy import sparse\n",
    "import matplotlib.pyplot as plt\n",
    "# from scanpy_base_moudle_update2 import *\n",
    "# import scrublet as scr\n",
    "import datetime\n",
    "import harmonypy as hm\n",
    "\n",
    "sc.settings.verbosity = 3\n",
    "#sc.logging.print_versions()\n",
    "# 设置图片的分辨率以及其他样式\n",
    "sc.settings.set_figure_params(dpi=150, figsize = (4, 3), fontsize=12)\n",
    "\n",
    "import matplotlib.font_manager\n",
    "flist = matplotlib.font_manager.get_fontconfig_fonts()\n",
    "names = [matplotlib.font_manager.FontProperties(fname=fname).get_name() for fname in flist]\n",
    "print(names)\n",
    "\n",
    "params={\n",
    "        #'font.style':'italic',\n",
    "        'font.weight':'normal',    #or 'blod'\n",
    "        }\n",
    "plt.rcParams.update(params)\n",
    "\n",
    "plt.rcParams['font.family']='Arial'"
   ]
  },
  {
   "cell_type": "code",
   "execution_count": null,
   "id": "89e30019",
   "metadata": {},
   "outputs": [],
   "source": [
    "adata = sc.read('/mnt/data2/Datasets/Human_non_intestine_datasets/Qilu_Otorhinolaryngology_surgery_data/dataset_output/EPI.h5ad')\n",
    "adata"
   ]
  },
  {
   "cell_type": "code",
   "execution_count": null,
   "id": "16b6a6d8",
   "metadata": {},
   "outputs": [],
   "source": [
    "adata.obs[\"annotation\"].cat.categories"
   ]
  },
  {
   "cell_type": "code",
   "execution_count": null,
   "id": "4a79f373",
   "metadata": {},
   "outputs": [],
   "source": [
    "E_index = adata.obs.loc[adata.obs[\"annotation\"].isin(['C01-E01-Basal resting', 'C01-E02-Basal cycling', 'C01-E03-Club',\n",
    "                                                     'C01-E04-Goblet','C01-E11-S100A8+APC']), :].index\n",
    "adata = adata[E_index, :]\n",
    "adata"
   ]
  },
  {
   "cell_type": "code",
   "execution_count": null,
   "id": "805bf74d",
   "metadata": {},
   "outputs": [],
   "source": [
    "# Basal resting\n",
    "E01_index = adata.obs.loc[adata.obs[\"tissue\"].isin(['inferior turbinate']), :].index\n",
    "# Basal cycling\n",
    "E02_index = adata.obs.loc[adata.obs[\"tissue\"].isin(['middle turbinate']), :].index\n",
    "# Club\n",
    "E03_index = adata.obs.loc[adata.obs[\"tissue\"].isin(['polyp']), :].index\n",
    "# Health\n",
    "E04_index = adata.obs.loc[adata.obs[\"Health\"].isin(['healthy control']), :].index\n",
    "\n",
    "adata.obs['fig2_barplot'] = 'Rhi-IT'\n",
    "adata.obs.at[E02_index,'fig2_barplot']='Rhi-MT'\n",
    "adata.obs.at[E03_index,'fig2_barplot']='Rhi-NP'\n",
    "adata.obs.at[E04_index,'fig2_barplot']='HC-IT'"
   ]
  },
  {
   "cell_type": "code",
   "execution_count": null,
   "id": "55c47f0e",
   "metadata": {},
   "outputs": [],
   "source": [
    "## 注意，diifmap这步会修改Neighbors\n",
    "adata_diff = adata\n",
    "\n",
    "sc.tl.diffmap(adata_diff)\n",
    "\n",
    "sc.pp.neighbors(adata_diff, n_neighbors=20, use_rep='X_diffmap')\n",
    "sc.tl.draw_graph(adata_diff)\n",
    "\n",
    "sc.settings.set_figure_params(dpi=150, figsize = (4, 3), fontsize=6)\n",
    "sc.pl.draw_graph(adata_diff, color='annotation', legend_loc='on data', frameon=False)\n",
    "sc.pl.draw_graph(adata_diff, color='annotation', frameon=False)\n",
    "sc.pl.draw_graph(adata_diff, color='fig2_barplot', frameon=False)\n",
    "#sc.pl.draw_graph(adata_concat, color='batch', frameon=False)"
   ]
  },
  {
   "cell_type": "code",
   "execution_count": null,
   "id": "c5c8c03f",
   "metadata": {},
   "outputs": [],
   "source": [
    "adata_diff.write('/mnt/data2/Datasets/Human_non_intestine_datasets/Qilu_Otorhinolaryngology_surgery_data/dataset_output/Nasal_epithelium_FA2.h5ad')"
   ]
  },
  {
   "cell_type": "code",
   "execution_count": null,
   "id": "25fd019b",
   "metadata": {},
   "outputs": [],
   "source": [
    "adata_paga = adata_diff"
   ]
  },
  {
   "cell_type": "code",
   "execution_count": null,
   "id": "b9d3bb5a",
   "metadata": {},
   "outputs": [],
   "source": [
    "# 基于PAGA的轨迹推断\n",
    "sc.tl.paga(adata_paga, groups='annotation')\n",
    "sc.pl.paga(adata_paga, color=['annotation'], frameon=False)\n",
    "\n",
    "sc.tl.draw_graph(adata_paga, init_pos='paga')\n",
    "sc.pl.draw_graph(adata_paga, color=['annotation'], legend_loc='on data', frameon=False)\n",
    "\n",
    "sc.settings.set_figure_params(dpi=150, figsize = (7, 7), fontsize=6)\n",
    "sc.pl.paga_compare(\n",
    "    adata_paga, threshold=0.1, title='', right_margin=0.5, size=10, edge_width_scale=0.5,\n",
    "    legend_fontsize=12, fontsize=6, frameon=False, edges=True, save=False)\n",
    "\n",
    "sc.settings.set_figure_params(dpi=150, figsize = (4, 4), fontsize=6)\n",
    "sc.pl.draw_graph(adata_paga, color='annotation',frameon=False)"
   ]
  },
  {
   "cell_type": "code",
   "execution_count": null,
   "id": "1fbd94da",
   "metadata": {},
   "outputs": [],
   "source": [
    "adata_paga.write('/mnt/data2/Datasets/Human_non_intestine_datasets/Qilu_Otorhinolaryngology_surgery_data/dataset_output/Nasal_epithelium_PAGA.h5ad')"
   ]
  },
  {
   "cell_type": "code",
   "execution_count": null,
   "id": "2ab8bbbf",
   "metadata": {},
   "outputs": [],
   "source": [
    "sc.settings.set_figure_params(dpi=300, figsize = (4, 4), fontsize=6)\n",
    "sc.pl.paga(adata, color=['annotation'], frameon=False, fontsize=0, edge_width_scale = 0.5)"
   ]
  },
  {
   "cell_type": "code",
   "execution_count": null,
   "id": "d2c6c21c",
   "metadata": {},
   "outputs": [],
   "source": [
    "# 导入包及Figure和font设置\n",
    "import scvelo as scv\n",
    "import scanpy as sc\n",
    "import cellrank as cr\n",
    "import numpy as np\n",
    "\n",
    "scv.settings.verbosity = 3\n",
    "scv.settings.set_figure_params(\"scvelo\")\n",
    "cr.settings.verbosity = 2\n",
    "\n",
    "import warnings\n",
    "\n",
    "warnings.simplefilter(\"ignore\", category=UserWarning)\n",
    "warnings.simplefilter(\"ignore\", category=FutureWarning)\n",
    "warnings.simplefilter(\"ignore\", category=DeprecationWarning)\n",
    "\n",
    "import matplotlib.pyplot as plt\n",
    "import matplotlib.font_manager\n",
    "flist = matplotlib.font_manager.get_fontconfig_fonts()\n",
    "names = [matplotlib.font_manager.FontProperties(fname=fname).get_name() for fname in flist]\n",
    "print(names)\n",
    "\n",
    "params={\n",
    "        #'font.style':'italic',\n",
    "        'font.weight':'normal',    #or 'blod'\n",
    "        }\n",
    "plt.rcParams.update(params)\n",
    "\n",
    "plt.rcParams['font.family']='Arial'"
   ]
  },
  {
   "cell_type": "code",
   "execution_count": null,
   "id": "e7076d57",
   "metadata": {},
   "outputs": [],
   "source": [
    "adata = sc.read('/mnt/data2/Datasets/Human_non_intestine_datasets/Qilu_Otorhinolaryngology_surgery_data/dataset_output/Nasal_epithelium_PAGA.h5ad')\n",
    "adata"
   ]
  },
  {
   "cell_type": "code",
   "execution_count": null,
   "id": "d0b15fcb",
   "metadata": {},
   "outputs": [],
   "source": [
    "adata = sc.AnnData(X=adata.raw.X, \n",
    "                   var=adata.raw.var, \n",
    "                   obs = adata.obs, \n",
    "                   uns=adata.uns,\n",
    "                   obsm=adata.obsm)\n",
    "\n",
    "adata"
   ]
  },
  {
   "cell_type": "code",
   "execution_count": null,
   "id": "fbcf1a26",
   "metadata": {},
   "outputs": [],
   "source": [
    "ax = scv.pl.scatter(adata, basis=\"draw_graph_fa\", c=\"annotation\", legend_loc=\"right\",save=False)"
   ]
  },
  {
   "cell_type": "code",
   "execution_count": null,
   "id": "5f03c234",
   "metadata": {},
   "outputs": [],
   "source": [
    "sc.pp.filter_genes(adata, min_cells=10)\n",
    "sc.pp.highly_variable_genes(adata)\n",
    "print(f\"This detected {np.sum(adata.var['highly_variable'])} highly variable genes. \")\n",
    "\n",
    "adata.layers[\"spliced\"] = adata.X\n",
    "adata.layers[\"unspliced\"] = adata.X\n",
    "\n",
    "# 这步会在HVG基础上，计算PCA，Neighbors，并添加layers[\"Ms\"]、layers[\"Mu\"]\n",
    "scv.pp.moments(adata, n_pcs=30, n_neighbors=30)\n",
    "adata"
   ]
  },
  {
   "cell_type": "markdown",
   "id": "8896d56a",
   "metadata": {},
   "source": [
    "**Initialize the CytoTRACE kernel**"
   ]
  },
  {
   "cell_type": "code",
   "execution_count": null,
   "id": "7972baf4",
   "metadata": {},
   "outputs": [],
   "source": [
    "from cellrank.tl.kernels import CytoTRACEKernel\n",
    "\n",
    "ctk = CytoTRACEKernel(adata)"
   ]
  },
  {
   "cell_type": "code",
   "execution_count": null,
   "id": "28f85d9a",
   "metadata": {},
   "outputs": [],
   "source": [
    "scv.pl.scatter(\n",
    "    adata,\n",
    "    c=[\"ct_pseudotime\", \"annotation\"],\n",
    "    basis=\"draw_graph_fa\",\n",
    "    legend_loc=\"right\",\n",
    "    color_map=\"gnuplot2\",\n",
    ")"
   ]
  },
  {
   "cell_type": "code",
   "execution_count": null,
   "id": "f51f797f",
   "metadata": {},
   "outputs": [],
   "source": [
    "sc.pl.violin(adata, keys=[\"ct_pseudotime\"], groupby=\"annotation\", rotation=90)"
   ]
  },
  {
   "cell_type": "markdown",
   "id": "dbc8ea58",
   "metadata": {},
   "source": [
    "**Compute & visualize a transition matrix**"
   ]
  },
  {
   "cell_type": "code",
   "execution_count": null,
   "id": "346b9593",
   "metadata": {},
   "outputs": [],
   "source": [
    "# compute the transition matrix\n",
    "ctk.compute_transition_matrix(threshold_scheme=\"soft\", nu=0.5)"
   ]
  },
  {
   "cell_type": "code",
   "execution_count": null,
   "id": "b4005c31",
   "metadata": {},
   "outputs": [],
   "source": [
    "# ctk的方向添加至force_directed布局可视化中\n",
    "ctk.compute_projection(basis=\"draw_graph_fa\")"
   ]
  },
  {
   "cell_type": "code",
   "execution_count": null,
   "id": "ca4fd981",
   "metadata": {},
   "outputs": [],
   "source": [
    "# 可视化\n",
    "scv.pl.velocity_embedding_stream(\n",
    "    adata, color=\"annotation\", vkey=\"T_fwd\", basis=\"draw_graph_fa\", legend_loc=\"right\",\n",
    "    density=2, size=30,figsize=(10,10),linewidth=3,arrow_size=1.5,outline_width=None,\n",
    ")"
   ]
  },
  {
   "cell_type": "markdown",
   "id": "e154e595",
   "metadata": {},
   "source": [
    "**Compute macrostates 计算宏状态**"
   ]
  },
  {
   "cell_type": "code",
   "execution_count": null,
   "id": "78d5bdd5",
   "metadata": {},
   "outputs": [],
   "source": [
    "from cellrank.tl.estimators import GPCCA\n",
    "\n",
    "g_fwd = GPCCA(ctk)\n",
    "print(g_fwd)"
   ]
  },
  {
   "cell_type": "code",
   "execution_count": null,
   "id": "ae458631",
   "metadata": {},
   "outputs": [],
   "source": [
    "g_fwd.compute_schur(n_components=20)\n",
    "g_fwd.plot_spectrum(real_only=True)"
   ]
  },
  {
   "cell_type": "code",
   "execution_count": null,
   "id": "81de4579",
   "metadata": {},
   "outputs": [],
   "source": [
    "g_fwd.compute_macrostates(n_states=3, cluster_key=\"annotation\")\n",
    "\n",
    "g_fwd.plot_macrostates(\n",
    "    discrete=True, legend_loc=\"right\", size=100, basis=\"draw_graph_fa\"\n",
    ")"
   ]
  },
  {
   "cell_type": "code",
   "execution_count": null,
   "id": "68cef6f3",
   "metadata": {},
   "outputs": [],
   "source": [
    "g_fwd.plot_coarse_T()"
   ]
  },
  {
   "cell_type": "code",
   "execution_count": null,
   "id": "d6f965ce",
   "metadata": {},
   "outputs": [],
   "source": [
    "g_fwd.compute_macrostates(n_states=3, cluster_key=\"annotation\")\n",
    "g_fwd.set_terminal_states_from_macrostates(names=[\"C01-E11-S100A8+APC\",\n",
    "                                                  \"C01-E01-Basal resting\",\n",
    "                                                  \"C01-E04-Goblet\"])"
   ]
  },
  {
   "cell_type": "markdown",
   "id": "3b2b7fd6",
   "metadata": {},
   "source": [
    "**Compute fate probabilities 计算命运概率**"
   ]
  },
  {
   "cell_type": "code",
   "execution_count": null,
   "id": "971e0210",
   "metadata": {},
   "outputs": [],
   "source": [
    "g_fwd.compute_absorption_probabilities()\n",
    "g_fwd.plot_absorption_probabilities(same_plot=False, size=50, basis=\"draw_graph_fa\")"
   ]
  },
  {
   "cell_type": "markdown",
   "id": "2951dcbc",
   "metadata": {},
   "source": [
    "**Compute lineage drivers**"
   ]
  },
  {
   "cell_type": "code",
   "execution_count": null,
   "id": "00c21c4b",
   "metadata": {},
   "outputs": [],
   "source": [
    "drivers = g_fwd.compute_lineage_drivers(return_drivers=True)\n",
    "drivers"
   ]
  },
  {
   "cell_type": "code",
   "execution_count": null,
   "id": "b8bcab81",
   "metadata": {},
   "outputs": [],
   "source": [
    "drivers.sort_values(by = 'C01-E11-S100A8+APC_corr', ascending=False)"
   ]
  },
  {
   "cell_type": "code",
   "execution_count": null,
   "id": "8eb42826",
   "metadata": {},
   "outputs": [],
   "source": [
    "g_fwd.plot_lineage_drivers(\"C01-E11-S100A8+APC\", n_genes=8, basis=\"draw_graph_fa\")"
   ]
  },
  {
   "cell_type": "markdown",
   "id": "c0b2d5ec",
   "metadata": {},
   "source": [
    "**Gene expression trends**"
   ]
  },
  {
   "cell_type": "code",
   "execution_count": null,
   "id": "45d1931b",
   "metadata": {},
   "outputs": [],
   "source": [
    "np.min(list(adata.obs[\"ct_pseudotime\"]))"
   ]
  },
  {
   "cell_type": "code",
   "execution_count": null,
   "id": "8bbd6579",
   "metadata": {},
   "outputs": [],
   "source": [
    "np.where(adata.obs[\"ct_pseudotime\"] == 0)[0][0]"
   ]
  },
  {
   "cell_type": "code",
   "execution_count": null,
   "id": "2d5da10b",
   "metadata": {},
   "outputs": [],
   "source": [
    "# compue DPT, starting from CellRank defined root cell\n",
    "root_idx = np.where(adata.obs[\"ct_pseudotime\"] == 0)[0][0]\n",
    "adata.uns[\"iroot\"] = root_idx\n",
    "\n",
    "scv.pl.scatter(\n",
    "    adata,\n",
    "    color=[\"annotation\", root_idx, \"ct_pseudotime\"],\n",
    "    fontsize=16,\n",
    "    cmap=\"viridis\",\n",
    "    perc=[2, 98],\n",
    "    colorbar=True,\n",
    "    rescale_color=[0, 1],\n",
    "    title=[\"annotation\", \"root cell\", \"ct_pseudotime\"],\n",
    ")"
   ]
  },
  {
   "cell_type": "code",
   "execution_count": null,
   "id": "745201f5",
   "metadata": {},
   "outputs": [],
   "source": [
    "model = cr.ul.models.GAM(adata)"
   ]
  },
  {
   "cell_type": "code",
   "execution_count": null,
   "id": "d43e67e2",
   "metadata": {
    "scrolled": false
   },
   "outputs": [],
   "source": [
    "cr.pl.gene_trends(\n",
    "    adata,\n",
    "    model=model,\n",
    "    data_key=\"X\",\n",
    "    genes=[\"EREG\", \"S100A8\", \"S100A9\",'S100A10','IL1RN','HLA-DQA2','PITX1','MBD2','HMGA1','STAT1','OVOL1','IRF6','ZNF750','KLF4'],\n",
    "    ncols=1,\n",
    "    time_key=\"ct_pseudotime\",\n",
    "    same_plot=True,\n",
    "    hide_cells=True,\n",
    "    figsize=(10, 70),\n",
    "    n_test_points=200\n",
    ")"
   ]
  },
  {
   "cell_type": "code",
   "execution_count": null,
   "id": "d34e8675",
   "metadata": {
    "scrolled": false
   },
   "outputs": [],
   "source": [
    "cr.pl.heatmap(\n",
    "    adata,\n",
    "    model,\n",
    "    genes=adata.varm['terminal_lineage_drivers'][\"C01-E11-S100A8+APC_corr\"].sort_values(ascending=False).index[:100],\n",
    "    show_absorption_probabilities=False,\n",
    "    lineages=\"C01-E11-S100A8+APC\",\n",
    "    backend=\"loky\",\n",
    "    time_key = \"ct_pseudotime\",\n",
    "    figsize = (4, 6),\n",
    "    save = 'heatmap.pdf'\n",
    ")"
   ]
  },
  {
   "cell_type": "code",
   "execution_count": null,
   "id": "2d079e7f",
   "metadata": {},
   "outputs": [],
   "source": [
    "cr.pl.heatmap(\n",
    "    adata,\n",
    "    model,\n",
    "    genes=adata.varm['terminal_lineage_drivers'][\"C01-E11-S100A8+APC_corr\"].sort_values(ascending=False).index[:100],\n",
    "    show_absorption_probabilities=True,\n",
    "    lineages=\"C01-E11-S100A8+APC\",\n",
    "    backend=\"loky\",\n",
    "    time_key = \"ct_pseudotime\",\n",
    ")"
   ]
  }
 ],
 "metadata": {
  "kernelspec": {
   "display_name": "Python [conda env:scanpy37]",
   "language": "python",
   "name": "conda-env-scanpy37-py"
  },
  "language_info": {
   "codemirror_mode": {
    "name": "ipython",
    "version": 3
   },
   "file_extension": ".py",
   "mimetype": "text/x-python",
   "name": "python",
   "nbconvert_exporter": "python",
   "pygments_lexer": "ipython3",
   "version": "3.7.12"
  },
  "toc": {
   "base_numbering": 1,
   "nav_menu": {},
   "number_sections": true,
   "sideBar": true,
   "skip_h1_title": false,
   "title_cell": "Table of Contents",
   "title_sidebar": "Contents",
   "toc_cell": false,
   "toc_position": {
    "height": "calc(100% - 180px)",
    "left": "10px",
    "top": "150px",
    "width": "165px"
   },
   "toc_section_display": true,
   "toc_window_display": false
  }
 },
 "nbformat": 4,
 "nbformat_minor": 5
}
