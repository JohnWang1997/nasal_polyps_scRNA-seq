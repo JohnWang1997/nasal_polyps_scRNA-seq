{
 "cells": [
  {
   "cell_type": "code",
   "execution_count": null,
   "id": "d5bdbedf",
   "metadata": {},
   "outputs": [],
   "source": [
    "#!/usr/bin/env python\n",
    "# -*- coding: utf-8 -*-\n",
    "import numpy as np\n",
    "import pandas as pd\n",
    "import scanpy as sc\n",
    "import anndata\n",
    "import bbknn\n",
    "import os\n",
    "from scipy import sparse\n",
    "import matplotlib.pyplot as plt\n",
    "# from scanpy_base_moudle_update2 import *\n",
    "# import scrublet as scr\n",
    "import datetime\n",
    "import harmonypy as hm\n",
    "\n",
    "sc.settings.verbosity = 3\n",
    "#sc.logging.print_versions()\n",
    "# 设置图片的分辨率以及其他样式\n",
    "sc.settings.set_figure_params(dpi=150, figsize = (4, 3), fontsize=12)\n",
    "\n",
    "import matplotlib.font_manager\n",
    "flist = matplotlib.font_manager.get_fontconfig_fonts()\n",
    "names = [matplotlib.font_manager.FontProperties(fname=fname).get_name() for fname in flist]\n",
    "print(names)\n",
    "\n",
    "params={\n",
    "        #'font.style':'italic',\n",
    "        'font.weight':'normal',    #or 'blod'\n",
    "        }\n",
    "plt.rcParams.update(params)\n",
    "\n",
    "plt.rcParams['font.family']='Arial'"
   ]
  },
  {
   "cell_type": "markdown",
   "id": "8c8f682c",
   "metadata": {},
   "source": [
    "# CellTypist"
   ]
  },
  {
   "cell_type": "code",
   "execution_count": null,
   "id": "22c8b0e9",
   "metadata": {},
   "outputs": [],
   "source": [
    "adata = sc.read('/mnt/data2/Datasets/Human_non_intestine_datasets/Qilu_Otorhinolaryngology_surgery_data/dataset_output/IMM.h5ad')\n",
    "adata = sc.AnnData(X=adata.raw.X, var=adata.raw.var, obs = adata.obs)\n",
    "adata"
   ]
  },
  {
   "cell_type": "code",
   "execution_count": null,
   "id": "7f76b61f",
   "metadata": {},
   "outputs": [],
   "source": [
    "import celltypist\n",
    "from celltypist import models\n",
    "\n",
    "models.models_path"
   ]
  },
  {
   "cell_type": "code",
   "execution_count": null,
   "id": "108f70ea",
   "metadata": {},
   "outputs": [],
   "source": [
    "model = models.Model.load(model = 'Immune_All_Low.pkl')\n",
    "#The model summary information.\n",
    "model"
   ]
  },
  {
   "cell_type": "code",
   "execution_count": null,
   "id": "ffd4de71",
   "metadata": {},
   "outputs": [],
   "source": [
    "#Examine cell types contained in the model.\n",
    "model.cell_types"
   ]
  },
  {
   "cell_type": "code",
   "execution_count": null,
   "id": "943560f2",
   "metadata": {},
   "outputs": [],
   "source": [
    "predictions = celltypist.annotate(adata, model = 'Immune_All_Low.pkl', majority_voting = True, mode = 'best match')"
   ]
  },
  {
   "cell_type": "code",
   "execution_count": null,
   "id": "935513a7",
   "metadata": {},
   "outputs": [],
   "source": [
    "adata = predictions.to_adata()\n",
    "adata"
   ]
  },
  {
   "cell_type": "code",
   "execution_count": null,
   "id": "541c6029",
   "metadata": {},
   "outputs": [],
   "source": [
    "adata_imm = sc.read('/mnt/data2/Datasets/Human_non_intestine_datasets/Qilu_Otorhinolaryngology_surgery_data/dataset_output/IMM.h5ad')\n",
    "adata_imm.obs['annotation'] = adata.obs['majority_voting']"
   ]
  },
  {
   "cell_type": "code",
   "execution_count": null,
   "id": "ea107907",
   "metadata": {},
   "outputs": [],
   "source": [
    "adata_imm.write('/mnt/data2/Datasets/Human_non_intestine_datasets/Qilu_Otorhinolaryngology_surgery_data/dataset_output/IMM.h5ad')"
   ]
  },
  {
   "cell_type": "markdown",
   "id": "754710aa",
   "metadata": {},
   "source": [
    "# Visualization"
   ]
  },
  {
   "cell_type": "code",
   "execution_count": null,
   "id": "969165a3",
   "metadata": {},
   "outputs": [],
   "source": [
    "adata = sc.read('/mnt/data2/Datasets/Human_non_intestine_datasets/Qilu_Otorhinolaryngology_surgery_data/dataset_output/IMM.h5ad')\n",
    "adata"
   ]
  },
  {
   "cell_type": "code",
   "execution_count": null,
   "id": "f188f800",
   "metadata": {},
   "outputs": [],
   "source": [
    "def progress_pca_bbknn_umap_tsne(adata, n_pcs=20, batch_key='batch_name'):\n",
    "    ## 主成分分析降维\n",
    "    #sc.tl.pca(adata, svd_solver='arpack')\n",
    "    # 在PCA坐标中绘制散点图\n",
    "    #sc.pl.pca(adata)\n",
    "    # 可视化每个PC对数据总方差的贡献, 这为我们提供了有关为计算单元的邻域关系应考虑的PC数量的信息sc.tl.tsne()\n",
    "    #sc.pl.pca_variance_ratio(adata, log=True)\n",
    "\n",
    "    # 使用bbknn算法处理批次效应(代替了neighbors)\n",
    "    # bbknn要求数据已经过标准化和主成分分析\n",
    "\n",
    "    # adata.obs['bbknn_batch'] = [str(i)+'-'+str(j) for i,j in zip(adata.obs['dataset'], adata.obs['batch_name'])]\n",
    "    sc.external.pp.bbknn(adata, batch_key=batch_key, n_pcs=n_pcs, neighbors_within_batch=3)\n",
    "    \n",
    "    # 计算UMAP\n",
    "    sc.tl.umap(adata)\n",
    "    # sc.tl.tsne(adata, n_jobs=6)\n",
    "\n",
    "    return adata\n",
    "\n",
    "adata = progress_pca_bbknn_umap_tsne(adata)"
   ]
  },
  {
   "cell_type": "code",
   "execution_count": null,
   "id": "4c4595c8",
   "metadata": {},
   "outputs": [],
   "source": [
    "print(adata.obs['tissue'].cat.categories)\n",
    "\n",
    "old_colors = np.array(adata.uns['tissue_colors'])\n",
    "new_colors = old_colors\n",
    "\n",
    "# inferior turbinate\n",
    "new_colors[[0]] = '#ff0000'\n",
    "# middle turbinate\n",
    "new_colors[[1]] = '#0077b2'\n",
    "# polyp\n",
    "new_colors[[2]] = '#60b55c'\n",
    "\n",
    "adata.uns['tissue_colors'] = new_colors\n",
    "\n",
    "sc.settings.set_figure_params(dpi=400, figsize = (4, 4), fontsize=7)\n",
    "sc.pl.umap(adata, color=['tissue'], frameon=False, title='')"
   ]
  },
  {
   "cell_type": "code",
   "execution_count": null,
   "id": "f400b6b3",
   "metadata": {},
   "outputs": [],
   "source": [
    "sc.pl.umap(adata, color=['majority_voting'], add_outline=True, outline_width = (0.2, 0.05), palette=\"tab20\", frameon=False, title='')\n",
    "\n",
    "sc.pl.umap(adata, color=['annotation'], add_outline=True, outline_width = (0.2, 0.05), palette=\"tab20\", frameon=False, title='')"
   ]
  },
  {
   "cell_type": "code",
   "execution_count": null,
   "id": "f7b2c76c",
   "metadata": {},
   "outputs": [],
   "source": [
    "import cosg as cosg\n",
    "import time\n",
    "t0= time.clock()\n",
    "cosg.cosg(adata,\n",
    "    key_added='cosg',\n",
    "        mu=1,\n",
    "        n_genes_user=50,\n",
    "               groupby='annotation')\n",
    "runtime_cosg = time.clock() - t0\n",
    "\n",
    "sc.settings.set_figure_params(dpi=200, figsize = (4, 4), fontsize=20)\n",
    "sc.pl.rank_genes_groups_dotplot(adata,groupby='annotation',\n",
    "                                cmap='Spectral_r',\n",
    "                                 standard_scale='var',\n",
    "                                       n_genes=4,key='cosg')"
   ]
  },
  {
   "cell_type": "code",
   "execution_count": null,
   "id": "bbc78dd8",
   "metadata": {},
   "outputs": [],
   "source": [
    "sc.pl.umap(adata, color=['EPCAM','KRT8'], add_outline=True, outline_width = (0.2, 0.05), palette=\"tab20\", frameon=False)"
   ]
  },
  {
   "cell_type": "markdown",
   "id": "851790ec",
   "metadata": {},
   "source": [
    "# Fine_tune"
   ]
  },
  {
   "cell_type": "markdown",
   "id": "75cf6703",
   "metadata": {},
   "source": [
    "删除双胞"
   ]
  },
  {
   "cell_type": "code",
   "execution_count": null,
   "id": "af156aea",
   "metadata": {},
   "outputs": [],
   "source": [
    "adata = sc.read('/mnt/data2/Datasets/Human_non_intestine_datasets/Qilu_Otorhinolaryngology_surgery_data/dataset_output/IMM.h5ad')\n",
    "adata"
   ]
  },
  {
   "cell_type": "code",
   "execution_count": null,
   "id": "3c704f98",
   "metadata": {},
   "outputs": [],
   "source": [
    "singlet_index = adata.obs.loc[~adata.obs[\"annotation\"].isin(['Endothelial cells','Epithelial cells','Fibroblasts']), :].index\n",
    "singlet_index"
   ]
  },
  {
   "cell_type": "code",
   "execution_count": null,
   "id": "8acdb2c3",
   "metadata": {},
   "outputs": [],
   "source": [
    "adata = adata[singlet_index, :]\n",
    "adata"
   ]
  },
  {
   "cell_type": "code",
   "execution_count": null,
   "id": "95c361cd",
   "metadata": {},
   "outputs": [],
   "source": [
    "adata.write('/mnt/data2/Datasets/Human_non_intestine_datasets/Qilu_Otorhinolaryngology_surgery_data/dataset_output/IMM.h5ad')"
   ]
  },
  {
   "cell_type": "markdown",
   "id": "7edcd9d9",
   "metadata": {},
   "source": [
    "## T/ILCs"
   ]
  },
  {
   "cell_type": "code",
   "execution_count": null,
   "id": "00e45b3a",
   "metadata": {},
   "outputs": [],
   "source": [
    "adata = sc.read('/mnt/data2/Datasets/Human_non_intestine_datasets/Qilu_Otorhinolaryngology_surgery_data/dataset_output/IMM.h5ad')\n",
    "adata"
   ]
  },
  {
   "cell_type": "code",
   "execution_count": null,
   "id": "1f8ce5d7",
   "metadata": {},
   "outputs": [],
   "source": [
    "adata.obs['annotation'].cat.categories"
   ]
  },
  {
   "cell_type": "code",
   "execution_count": null,
   "id": "4666cc81",
   "metadata": {},
   "outputs": [],
   "source": [
    "T_index = adata.obs.loc[adata.obs[\"annotation\"].isin(['CD16+ NK cells', 'CD16- NK cells','ILC3',\n",
    "                                                      'Regulatory T cells','Tcm/Naive helper T cells','Tem/Effector helper T cells',\n",
    "                                                      'Tem/Temra cytotoxic T cells','Tem/Trm cytotoxic T cells','Trm cytotoxic T cells',\n",
    "                                                      'Type 1 helper T cells','Type 17 helper T cells']), :].index\n",
    "T_index"
   ]
  },
  {
   "cell_type": "code",
   "execution_count": null,
   "id": "a682f5d9",
   "metadata": {},
   "outputs": [],
   "source": [
    "adata = adata[T_index, :]\n",
    "adata"
   ]
  },
  {
   "cell_type": "code",
   "execution_count": null,
   "id": "d8659006",
   "metadata": {},
   "outputs": [],
   "source": [
    "def progress_pca_harmony_umap(adata):\n",
    "    \n",
    "    # sc.tl.pca(adata, svd_solver='arpack')\n",
    "\n",
    "    # Harmony处理批次效应\n",
    "    harmony_out = hm.run_harmony(adata.obsm['X_pca'], adata.obs, vars_use = ['batch_name'],max_iter_harmony=20)\n",
    "    adata.obsm['X_pca_harmony'] = harmony_out.Z_corr.T\n",
    "    sc.pp.neighbors(adata, n_neighbors=10, use_rep='X_pca_harmony', n_pcs=20)\n",
    "    \n",
    "    # 计算UMAP\n",
    "    sc.tl.umap(adata)\n",
    "    # sc.tl.tsne(adata, n_jobs=6)\n",
    "\n",
    "    return adata\n",
    "\n",
    "adata = progress_pca_harmony_umap(adata)"
   ]
  },
  {
   "cell_type": "code",
   "execution_count": null,
   "id": "2e9f004c",
   "metadata": {},
   "outputs": [],
   "source": [
    "def add_leiden(adata):\n",
    "\n",
    "    #print(\"Performing clustering with a resolution of 0.5\")\n",
    "    #sc.tl.leiden(adata, resolution=0.5)\n",
    "    #adata.obs['leiden-all-0.5'] = adata.obs['leiden']\n",
    "\n",
    "    #print(\"Performing clustering with a resolution of 1\")\n",
    "    #sc.tl.leiden(adata, resolution=1)\n",
    "    #adata.obs['leiden-all-1'] = adata.obs['leiden']\n",
    "    \n",
    "    print(\"Performing clustering with a resolution of 2\")\n",
    "    sc.tl.leiden(adata, resolution=2)\n",
    "    adata.obs['leiden-all-2'] = adata.obs['leiden']\n",
    "\n",
    "    return adata\n",
    "\n",
    "adata = add_leiden(adata)"
   ]
  },
  {
   "cell_type": "code",
   "execution_count": null,
   "id": "87cb3de8",
   "metadata": {
    "scrolled": false
   },
   "outputs": [],
   "source": [
    "sc.settings.set_figure_params(dpi=400, figsize = (4, 4), fontsize=7)\n",
    "sc.pl.umap(adata, color=['tissue'], frameon=False, title='')\n",
    "sc.pl.umap(adata, color=['majority_voting'], add_outline=True, outline_width = (0.2, 0.05), palette=\"tab20\", frameon=False, legend_loc='on data')\n",
    "sc.pl.umap(adata, color=['annotation'], add_outline=True, outline_width = (0.2, 0.05), palette=\"tab20\", frameon=False, legend_loc='on data')\n",
    "sc.pl.umap(adata, color=['leiden-all-2'], add_outline=True, outline_width = (0.2, 0.05), palette=\"tab20\", frameon=False, legend_loc='on data')"
   ]
  },
  {
   "cell_type": "code",
   "execution_count": null,
   "id": "7f7ad2a6",
   "metadata": {},
   "outputs": [],
   "source": [
    "# get the Singles\n",
    "Single_index = adata.obs.loc[~adata.obs[\"leiden-all-2\"].isin(['23','24','27']), :].index\n",
    "\n",
    "adata = adata[Single_index, :]\n",
    "adata"
   ]
  },
  {
   "cell_type": "code",
   "execution_count": null,
   "id": "998067a5",
   "metadata": {},
   "outputs": [],
   "source": [
    "import cosg as cosg\n",
    "import time\n",
    "t0= time.clock()\n",
    "cosg.cosg(adata,\n",
    "    key_added='cosg',\n",
    "        mu=1,\n",
    "        n_genes_user=50,\n",
    "               groupby='leiden-all-2')\n",
    "runtime_cosg = time.clock() - t0\n",
    "\n",
    "sc.settings.set_figure_params(dpi=200, figsize = (4, 4), fontsize=20)\n",
    "sc.pl.rank_genes_groups_dotplot(adata,groupby='leiden-all-2',\n",
    "                                cmap='Spectral_r',\n",
    "                                 standard_scale='var',\n",
    "                                       n_genes=4,key='cosg')"
   ]
  },
  {
   "cell_type": "code",
   "execution_count": null,
   "id": "6a8a1dc2",
   "metadata": {
    "scrolled": false
   },
   "outputs": [],
   "source": [
    "sc.settings.set_figure_params(dpi=400, figsize = (4, 4), fontsize=7)\n",
    "sc.pl.umap(adata, color=['tissue'], frameon=False, title='')\n",
    "sc.pl.umap(adata, color=['majority_voting'], add_outline=True, outline_width = (0.2, 0.05), palette=\"tab20\", frameon=False, legend_loc='on data')\n",
    "sc.pl.umap(adata, color=['annotation'], add_outline=True, outline_width = (0.2, 0.05), palette=\"tab20\", frameon=False, legend_loc='on data')\n",
    "sc.pl.umap(adata, color=['leiden-all-2'], add_outline=True, outline_width = (0.2, 0.05), palette=\"tab20\", frameon=False, legend_loc='on data')"
   ]
  },
  {
   "cell_type": "code",
   "execution_count": null,
   "id": "3929327d",
   "metadata": {},
   "outputs": [],
   "source": [
    "import cosg as cosg\n",
    "import time\n",
    "t0= time.clock()\n",
    "cosg.cosg(adata,\n",
    "    key_added='cosg',\n",
    "        mu=1,\n",
    "        n_genes_user=50,\n",
    "               groupby='annotation')\n",
    "runtime_cosg = time.clock() - t0\n",
    "\n",
    "sc.settings.set_figure_params(dpi=200, figsize = (4, 4), fontsize=20)\n",
    "sc.pl.rank_genes_groups_dotplot(adata,groupby='annotation',\n",
    "                                cmap='Spectral_r',\n",
    "                                 standard_scale='var',\n",
    "                                       n_genes=4,key='cosg')"
   ]
  },
  {
   "cell_type": "code",
   "execution_count": null,
   "id": "92167f79",
   "metadata": {},
   "outputs": [],
   "source": [
    "sc.tl.dendrogram(adata, groupby='leiden-all-2')"
   ]
  },
  {
   "cell_type": "code",
   "execution_count": null,
   "id": "7a359fc7",
   "metadata": {},
   "outputs": [],
   "source": [
    "marker_genes_dict = {'Pan-marker': ['PTPRC','CD3D','CD3E'],\n",
    "    'CD4/CD8': ['CD4','CD8A','CD8B'],\n",
    "    'non_alpha_beta T': ['TYROBP','FCER1G','TRDC'],\n",
    "    'NK and ILC1': ['GNLY','GZMA','GZMB','GZMK','IFNG','PRF1','NKG7','EOMES','CCL3','CCL4','CCL5','XCL1','XCL1'],\n",
    "    'ILC2 and 3': ['AREG','DLL1','IL2RA','KIT','IL7R','IL22','IL23R','CCR6','LTB','LST1','IL4I1','CCL20'],\n",
    "    'gamma_delta T': ['GFI1','MYBL1','TRDC','CCL5','ITGA1','TRAC','ENTPD1','ABI3','CD247','CD7','CDH17'],                     \n",
    "    'Naive/Tcm': ['TCF7','LEF1','RBAK','CCR7','KLF2','SELL','NOSIP','CD27'], \n",
    "    'CD4+Treg': ['FOXP3','BATF','TIGIT','CTLA4','TNFRSF4','TNFRSF18','ICA1'],\n",
    "    'CD4+Type 1 cytokines Trm': ['IFNG','IL2','TNF','CXCR3','CCR9','CCL5'],\n",
    "    'CD4+Type 3 cytokines Trm': ['IL17A','IL17F','IL22','CCR6','DPP4','IL23R','CCL20'], \n",
    "    'CD8+Cytotoxic Trm': ['IL7R','KLRB1','S100A4','MGAT4A','FKBP11','CD9','SPINK2'],\n",
    "    'CD8+CTL Tem': ['GZMK','GZMB','GZMH','KLRG1','NKG7','CD44','CCL3','CCL4','CCL5','CST7'],\n",
    "    'CD8+IEL': ['KLRD1','CD7','CCL5','HOPX','ENTPD1','KLRC1','KLRC2','KLRC3','NR4A1','NR4A2','NR4A3'],\n",
    "}\n",
    "sc.settings.set_figure_params(dpi=150, figsize = (4, 3), fontsize=18)\n",
    "mp = sc.pl.dotplot(adata, \n",
    "              marker_genes_dict, \n",
    "              'leiden-all-2', \n",
    "              dendrogram=True, \n",
    "              #figsize=(3, 4),\n",
    "              use_raw=True,\n",
    "              cmap = 'Reds',\n",
    "              var_group_rotation=45,\n",
    "              #swap_axes=True,\n",
    "              standard_scale='var',\n",
    "              colorbar_title=None,\n",
    "              return_fig=True\n",
    "              # , save='_' + sample_name + '_fig11.png'\n",
    "             ) \n",
    "mp.style(grid=True,cmap = 'Reds').show() # RdYlBu_r"
   ]
  },
  {
   "cell_type": "code",
   "execution_count": null,
   "id": "72ab6dde",
   "metadata": {},
   "outputs": [],
   "source": [
    "sc.settings.set_figure_params(dpi=150, figsize = (4, 3), fontsize=15)\n",
    "\n",
    "# Cycling/ Naive T / Tcm\n",
    "sc.pl.umap(adata, color=['MKI67','CCR7','SELL','LEF1'], frameon=False)\n",
    "\n",
    "# 根据CD3D的表达区分T与non_T细胞\n",
    "sc.pl.umap(adata, color=['CD3D','CD4','CD8A','CD8B'], frameon=False)\n",
    "# 区分ILC1和gammadelta T细胞，ILC1表达这4个标志物，但不表达CD3D；gammadelta T表达这些标志物同时表达CD3D\n",
    "sc.pl.umap(adata, color=['KLRB1','TYROBP','FCER1G','TRDC'], frameon=False)\n",
    "\n",
    "# NK\n",
    "sc.pl.umap(adata, color=['GNLY','GZMA','GZMB','GZMK'], frameon=False)\n",
    "sc.pl.umap(adata, color=['IFNG','PRF1','NKG7'], frameon=False)"
   ]
  },
  {
   "cell_type": "code",
   "execution_count": null,
   "id": "e3486332",
   "metadata": {
    "scrolled": false
   },
   "outputs": [],
   "source": [
    "# ILC3 转录因子\n",
    "sc.pl.umap(adata, color=['LST1','IL4I1','DLL1'], frameon=False)\n",
    "sc.pl.umap(adata, color=['GFI1','IKZF2','ARNTL','TCF7'], frameon=False)\n",
    "\n",
    "# ILC1\n",
    "sc.pl.umap(adata, color=['CCL3','CCL4','CCL5'], frameon=False)\n",
    "sc.pl.umap(adata, color=['XCL1','XCL2'], frameon=False)\n",
    "# NK-ILC1\n",
    "sc.pl.umap(adata, color=['EOMES','GATA3','TBX21'], frameon=False)\n",
    "sc.pl.umap(adata, color=['TOX','FCGR3A'], frameon=False)\n",
    "\n",
    "# ILC2\n",
    "sc.pl.umap(adata, color=['AREG','IL2RA','KIT','IL7R'], frameon=False)\n",
    "sc.pl.umap(adata, color=['GATA3','ID2','RORA','IL13'], frameon=False)\n",
    "# ILC3\n",
    "sc.pl.umap(adata, color=['IL22','IL23R','IL7R'], frameon=False)\n",
    "sc.pl.umap(adata, color=['AHR','ID2','RORC'], frameon=False)"
   ]
  },
  {
   "cell_type": "code",
   "execution_count": null,
   "id": "9d332e8c",
   "metadata": {},
   "outputs": [],
   "source": [
    "sc.settings.set_figure_params(dpi=150, figsize = (4, 3), fontsize=15)\n",
    "# CD4+Treg\n",
    "sc.pl.umap(adata, color=['FOXP3','BATF','TIGIT','CTLA4','TNFRSF4','TNFRSF18','ICA1'], frameon=False)\n",
    "# CD4+Tfh\n",
    "sc.pl.umap(adata, color=['PDCD1','CXCR3','CXCR5','ICOS','BATF','BCL6','IL21'], frameon=False)"
   ]
  },
  {
   "cell_type": "code",
   "execution_count": null,
   "id": "db970a20",
   "metadata": {},
   "outputs": [],
   "source": [
    "sc.pl.umap(adata, color=['CD3D','CXCL8','CXCR3','IFNG'], frameon=False)"
   ]
  },
  {
   "cell_type": "markdown",
   "id": "aad49291",
   "metadata": {},
   "source": [
    "### ILCs, gammadelta T, Th2"
   ]
  },
  {
   "cell_type": "code",
   "execution_count": null,
   "id": "e60030c2",
   "metadata": {},
   "outputs": [],
   "source": [
    "Single_index = adata.obs.loc[adata.obs[\"leiden-all-2\"].isin(['15','5','12','19']), :].index\n",
    "\n",
    "adata_c = adata[Single_index, :]\n",
    "adata_c"
   ]
  },
  {
   "cell_type": "code",
   "execution_count": null,
   "id": "70cf44e9",
   "metadata": {},
   "outputs": [],
   "source": [
    "    print(\"Performing clustering with a resolution of 2\")\n",
    "    sc.tl.leiden(adata_c, resolution=2)\n",
    "    adata_c.obs['leiden-all-2'] = adata_c.obs['leiden']"
   ]
  },
  {
   "cell_type": "code",
   "execution_count": null,
   "id": "2d892806",
   "metadata": {
    "scrolled": false
   },
   "outputs": [],
   "source": [
    "sc.settings.set_figure_params(dpi=400, figsize = (4, 4), fontsize=7)\n",
    "\n",
    "sc.pl.umap(adata_c, color=['majority_voting'], add_outline=True, outline_width = (0.2, 0.05), palette=\"tab20\", frameon=False, legend_loc='on data')\n",
    "sc.pl.umap(adata_c, color=['annotation'], add_outline=True, outline_width = (0.2, 0.05), palette=\"tab20\", frameon=False, legend_loc='on data')\n",
    "sc.pl.umap(adata_c, color=['leiden-all-2'], add_outline=True, outline_width = (0.2, 0.05), palette=\"tab20\", frameon=False, legend_loc='on data')"
   ]
  },
  {
   "cell_type": "code",
   "execution_count": null,
   "id": "e74429ac",
   "metadata": {},
   "outputs": [],
   "source": [
    "# CD8+ GNLY+ T cells\n",
    "T01_index = adata_c.obs.loc[adata_c.obs[\"leiden-all-2\"].isin(['1']), :].index\n",
    "# NK cells\n",
    "T02_index = adata_c.obs.loc[adata_c.obs[\"leiden-all-2\"].isin(['0','22','4','7']), :].index\n",
    "# ILC1\n",
    "# T03_index = adata_c.obs.loc[adata_c.obs[\"leiden-all-2\"].isin([]), :].index\n",
    "# ILC2\n",
    "T04_index = adata_c.obs.loc[adata_c.obs[\"leiden-all-2\"].isin(['17','19']), :].index\n",
    "# ILC3\n",
    "T05_index = adata_c.obs.loc[adata_c.obs[\"leiden-all-2\"].isin(['14','11']), :].index\n",
    "# CD4+Th2\n",
    "T06_index = adata_c.obs.loc[adata_c.obs[\"leiden-all-2\"].isin(['9']), :].index"
   ]
  },
  {
   "cell_type": "code",
   "execution_count": null,
   "id": "37a58525",
   "metadata": {},
   "outputs": [],
   "source": [
    "# Cycling T\n",
    "T07_index = adata.obs.loc[adata.obs[\"leiden-all-2\"].isin(['25']), :].index"
   ]
  },
  {
   "cell_type": "code",
   "execution_count": null,
   "id": "537803c4",
   "metadata": {},
   "outputs": [],
   "source": [
    "adata_c.obs['annotation'] = 'ILC1'\n",
    "adata_c.obs.at[T01_index,'annotation']='CD8+ GNLY+ T cells'\n",
    "adata_c.obs.at[T02_index,'annotation']='NK cells'\n",
    "#adata_c.obs.at[T03_index,'annotation']='ILC1'\n",
    "adata_c.obs.at[T04_index,'annotation']='ILC2'\n",
    "adata_c.obs.at[T05_index,'annotation']='ILC3'\n",
    "adata_c.obs.at[T06_index,'annotation']='CD4+Th2'"
   ]
  },
  {
   "cell_type": "code",
   "execution_count": null,
   "id": "d020eb5c",
   "metadata": {},
   "outputs": [],
   "source": [
    "T03_index = adata_c.obs.loc[adata_c.obs[\"annotation\"].isin(['ILC1']), :].index"
   ]
  },
  {
   "cell_type": "code",
   "execution_count": null,
   "id": "19dede54",
   "metadata": {},
   "outputs": [],
   "source": [
    "sc.pl.umap(adata_c, color=['annotation'], add_outline=True, outline_width = (0.2, 0.05), palette=\"tab20\", frameon=False)"
   ]
  },
  {
   "cell_type": "code",
   "execution_count": null,
   "id": "fd034059",
   "metadata": {},
   "outputs": [],
   "source": [
    "adata.obs['ann'] = adata.obs['majority_voting'].to_list()"
   ]
  },
  {
   "cell_type": "code",
   "execution_count": null,
   "id": "c14c7469",
   "metadata": {},
   "outputs": [],
   "source": [
    "adata.obs.at[T01_index,'ann']='CD8+ GNLY+ T cells'\n",
    "adata.obs.at[T02_index,'ann']='NK cells'\n",
    "adata.obs.at[T03_index,'ann']='ILC1'\n",
    "adata.obs.at[T04_index,'ann']='ILC2'\n",
    "adata.obs.at[T05_index,'ann']='ILC3'\n",
    "adata.obs.at[T06_index,'ann']='CD4+Th2'\n",
    "adata.obs.at[T07_index,'ann']='Cycling T'"
   ]
  },
  {
   "cell_type": "code",
   "execution_count": null,
   "id": "a78ec48e",
   "metadata": {},
   "outputs": [],
   "source": [
    "sc.pl.umap(adata, color=['ann'], add_outline=True, outline_width = (0.2, 0.05), palette=\"tab20\", frameon=False)"
   ]
  },
  {
   "cell_type": "code",
   "execution_count": null,
   "id": "04e9ad34",
   "metadata": {
    "scrolled": false
   },
   "outputs": [],
   "source": [
    "# 根据CD3D的表达区分T与non_T细胞\n",
    "sc.pl.umap(adata_c, color=['CD3D','CD4','CD8A','CD8B'], frameon=False)\n",
    "# 区分ILC1和gammadelta T细胞，ILC1表达这4个标志物，但不表达CD3D；gammadelta T表达这些标志物同时表达CD3D\n",
    "sc.pl.umap(adata_c, color=['KLRB1','TYROBP','FCER1G','TRDC'], frameon=False)\n",
    "\n",
    "# NK\n",
    "sc.pl.umap(adata_c, color=['GNLY','GZMA','GZMB','GZMK'], frameon=False)\n",
    "sc.pl.umap(adata_c, color=['IFNG','PRF1','NKG7','EOMES'], frameon=False)\n",
    "\n",
    "# ILC1\n",
    "sc.pl.umap(adata_c, color=['CCL3','CCL4','CCL5'], frameon=False)\n",
    "sc.pl.umap(adata_c, color=['XCL1','XCL2'], frameon=False)\n",
    "# NK-ILC1\n",
    "sc.pl.umap(adata_c, color=['EOMES','GATA3','TBX21'], frameon=False)\n",
    "sc.pl.umap(adata_c, color=['TOX','FCGR3A'], frameon=False)\n",
    "\n",
    "# ILC2\n",
    "sc.pl.umap(adata_c, color=['AREG','IL2RA','KIT','IL7R'], frameon=False)\n",
    "sc.pl.umap(adata_c, color=['GATA3','ID2','RORA','IL13'], frameon=False)\n",
    "# ILC3\n",
    "sc.pl.umap(adata_c, color=['IL22','IL23R','IL7R','LST1'], frameon=False)\n",
    "sc.pl.umap(adata_c, color=['AHR','ID2','RORC','IL4I1','DLL1'], frameon=False)"
   ]
  },
  {
   "cell_type": "markdown",
   "id": "99a57c07",
   "metadata": {},
   "source": [
    "### CD4+"
   ]
  },
  {
   "cell_type": "code",
   "execution_count": null,
   "id": "66754cfd",
   "metadata": {},
   "outputs": [],
   "source": [
    "sc.pl.umap(adata, color=['ann'], add_outline=True, outline_width = (0.2, 0.05), palette=\"tab20\", frameon=False)"
   ]
  },
  {
   "cell_type": "code",
   "execution_count": null,
   "id": "54f50ef8",
   "metadata": {},
   "outputs": [],
   "source": [
    "sc.settings.set_figure_params(dpi=400, figsize = (4, 4), fontsize=7)\n",
    "sc.pl.umap(adata, color=['leiden-all-2'], add_outline=True, outline_width = (0.2, 0.05), palette=\"tab20\", frameon=False, legend_loc='on data')"
   ]
  },
  {
   "cell_type": "code",
   "execution_count": null,
   "id": "804a05f6",
   "metadata": {},
   "outputs": [],
   "source": [
    "Single_index = adata.obs.loc[adata.obs[\"leiden-all-2\"].isin(['2','4','6','7','26']), :].index\n",
    "\n",
    "adata_c = adata[Single_index, :]\n",
    "adata_c"
   ]
  },
  {
   "cell_type": "code",
   "execution_count": null,
   "id": "0ba43053",
   "metadata": {},
   "outputs": [],
   "source": [
    "    print(\"Performing clustering with a resolution of 1\")\n",
    "    sc.tl.leiden(adata_c, resolution=1)\n",
    "    adata_c.obs['leiden-all-1'] = adata_c.obs['leiden']"
   ]
  },
  {
   "cell_type": "code",
   "execution_count": null,
   "id": "54ed38c6",
   "metadata": {
    "scrolled": false
   },
   "outputs": [],
   "source": [
    "sc.settings.set_figure_params(dpi=400, figsize = (4, 4), fontsize=7)\n",
    "\n",
    "sc.pl.umap(adata_c, color=['majority_voting'], add_outline=True, outline_width = (0.2, 0.05), palette=\"tab20\", frameon=False, legend_loc='on data')\n",
    "sc.pl.umap(adata_c, color=['annotation'], add_outline=True, outline_width = (0.2, 0.05), palette=\"tab20\", frameon=False, legend_loc='on data')\n",
    "sc.pl.umap(adata_c, color=['leiden-all-1'], add_outline=True, outline_width = (0.2, 0.05), palette=\"tab20\", frameon=False, legend_loc='on data')"
   ]
  },
  {
   "cell_type": "code",
   "execution_count": null,
   "id": "8964f3fa",
   "metadata": {},
   "outputs": [],
   "source": [
    "sc.tl.dendrogram(adata_c, groupby='leiden-all-1')"
   ]
  },
  {
   "cell_type": "code",
   "execution_count": null,
   "id": "f0645ac6",
   "metadata": {},
   "outputs": [],
   "source": [
    "marker_genes_dict = {'Pan-marker': ['PTPRC','CD3D','CD3E'],\n",
    "    'CD4/CD8': ['CD4','CD8A','CD8B'],                   \n",
    "    'Naive/Tcm': ['TCF7','LEF1','RBAK','CCR7','KLF2','SELL','NOSIP','CD27'], \n",
    "    'CD4+Treg': ['FOXP3','BATF','TIGIT','CTLA4','TNFRSF4','TNFRSF18','ICA1'],\n",
    "    'CD4+Type 1 cytokines Trm': ['IFNG','IL2','TNF','CXCR3','CCR9','CCL5'],\n",
    "    'CD4+Type 3 cytokines Trm': ['IL17A','IL17F','IL22','CCR6','DPP4','IL23R','CCL20'], \n",
    "    'CD8+Cytotoxic Trm': ['IL7R','KLRB1','S100A4','MGAT4A','FKBP11','CD9','SPINK2'],\n",
    "    'CD8+CTL Tem': ['GZMK','GZMB','GZMH','KLRG1','NKG7','CD44','CCL3','CCL4','CCL5','CST7'],\n",
    "    'CD8+IEL': ['KLRD1','CD7','CCL5','HOPX','ENTPD1','KLRC1','KLRC2','KLRC3','NR4A1','NR4A2','NR4A3'],\n",
    "}\n",
    "sc.settings.set_figure_params(dpi=150, figsize = (4, 3), fontsize=18)\n",
    "mp = sc.pl.dotplot(adata_c, \n",
    "              marker_genes_dict, \n",
    "              'leiden-all-1', \n",
    "              dendrogram=True, \n",
    "              #figsize=(3, 4),\n",
    "              use_raw=True,\n",
    "              cmap = 'Reds',\n",
    "              var_group_rotation=45,\n",
    "              #swap_axes=True,\n",
    "              standard_scale='var',\n",
    "              colorbar_title=None,\n",
    "              return_fig=True\n",
    "              # , save='_' + sample_name + '_fig11.png'\n",
    "             ) \n",
    "mp.style(grid=True,cmap = 'Reds').show() # RdYlBu_r"
   ]
  },
  {
   "cell_type": "code",
   "execution_count": null,
   "id": "6e0d15b2",
   "metadata": {},
   "outputs": [],
   "source": [
    "# CD4+ Naive T\n",
    "T08_index = adata_c.obs.loc[adata_c.obs[\"leiden-all-1\"].isin(['1','10']), :].index\n",
    "# CD4+ Treg\n",
    "T09_index = adata_c.obs.loc[adata_c.obs[\"leiden-all-1\"].isin(['2']), :].index\n",
    "# CD4+ Trm\n",
    "T10_index = adata_c.obs.loc[adata_c.obs[\"leiden-all-1\"].isin(['0','3','4','5','6','7','9','11']), :].index\n",
    "# CD4+ Th17\n",
    "T11_index = adata_c.obs.loc[adata_c.obs[\"leiden-all-1\"].isin(['8']), :].index"
   ]
  },
  {
   "cell_type": "code",
   "execution_count": null,
   "id": "100c8500",
   "metadata": {},
   "outputs": [],
   "source": [
    "adata_c.obs['annotation'] = 'CD4+ Naive T'\n",
    "adata_c.obs.at[T09_index,'annotation']='CD4+ Treg'\n",
    "adata_c.obs.at[T10_index,'annotation']='CD4+ Trm'\n",
    "adata_c.obs.at[T11_index,'annotation']='CD4+ Th17'"
   ]
  },
  {
   "cell_type": "code",
   "execution_count": null,
   "id": "993f0ef0",
   "metadata": {},
   "outputs": [],
   "source": [
    "sc.pl.umap(adata_c, color=['annotation'], add_outline=True, outline_width = (0.2, 0.05), palette=\"tab20\", frameon=False)"
   ]
  },
  {
   "cell_type": "code",
   "execution_count": null,
   "id": "aa0e1847",
   "metadata": {},
   "outputs": [],
   "source": [
    "adata.obs['ann'] = adata.obs['majority_voting'].to_list()\n",
    "\n",
    "adata.obs.at[T01_index,'ann']='CD8+ GNLY+ T cells'\n",
    "adata.obs.at[T02_index,'ann']='NK cells'\n",
    "adata.obs.at[T03_index,'ann']='ILC1'\n",
    "adata.obs.at[T04_index,'ann']='ILC2'\n",
    "adata.obs.at[T05_index,'ann']='ILC3'\n",
    "adata.obs.at[T06_index,'ann']='CD4+Th2'\n",
    "adata.obs.at[T07_index,'ann']='Cycling T'\n",
    "adata.obs.at[T08_index,'ann']='CD4+ Naive T'\n",
    "adata.obs.at[T09_index,'ann']='CD4+ Treg'\n",
    "adata.obs.at[T10_index,'ann']='CD4+ Trm'\n",
    "adata.obs.at[T11_index,'ann']='CD4+ Th17'"
   ]
  },
  {
   "cell_type": "code",
   "execution_count": null,
   "id": "5f5b91fe",
   "metadata": {},
   "outputs": [],
   "source": [
    "sc.settings.set_figure_params(dpi=400, figsize = (4, 4), fontsize=7)\n",
    "sc.pl.umap(adata, color=['ann'], add_outline=True, outline_width = (0.2, 0.05), palette=\"tab20\", frameon=False)"
   ]
  },
  {
   "cell_type": "code",
   "execution_count": null,
   "id": "17fb7dc9",
   "metadata": {},
   "outputs": [],
   "source": [
    "sc.pl.umap(adata, color=['CD3D','CD4','CD8A','CD8B'], frameon=False)\n",
    "sc.pl.umap(adata, color=['pct_counts_mt','pct_counts_rp'], frameon=False)"
   ]
  },
  {
   "cell_type": "code",
   "execution_count": null,
   "id": "6567af0b",
   "metadata": {},
   "outputs": [],
   "source": [
    "sc.pl.umap(adata, color=['leiden-all-2'], add_outline=True, outline_width = (0.2, 0.05), palette=\"tab20\", frameon=False, legend_loc='on data')"
   ]
  },
  {
   "cell_type": "code",
   "execution_count": null,
   "id": "2f58c2c6",
   "metadata": {},
   "outputs": [],
   "source": [
    "adata"
   ]
  },
  {
   "cell_type": "code",
   "execution_count": null,
   "id": "97184f93",
   "metadata": {},
   "outputs": [],
   "source": [
    "# 删除线粒体基因表达过高的群\n",
    "Single_index = adata.obs.loc[~adata.obs[\"leiden-all-2\"].isin(['18']), :].index\n",
    "\n",
    "adata = adata[Single_index, :]\n",
    "adata"
   ]
  },
  {
   "cell_type": "code",
   "execution_count": null,
   "id": "8d1d9bea",
   "metadata": {},
   "outputs": [],
   "source": [
    "adata.obs['ann'] = 'C02-T10-CD8+ T cells'\n",
    "\n",
    "adata.obs.at[T01_index,'ann']='C02-T11-CD8+ GNLY+ T cells'\n",
    "adata.obs.at[T02_index,'ann']='C02-T01-NK cells'\n",
    "adata.obs.at[T03_index,'ann']='C02-T02-ILC1'\n",
    "adata.obs.at[T04_index,'ann']='C02-T03-ILC2'\n",
    "adata.obs.at[T05_index,'ann']='C02-T04-ILC3'\n",
    "adata.obs.at[T06_index,'ann']='C02-T07-CD4+Th2'\n",
    "adata.obs.at[T07_index,'ann']='C02-T12-Cycling T'\n",
    "adata.obs.at[T08_index,'ann']='C02-T05-CD4+ Naive T'\n",
    "adata.obs.at[T09_index,'ann']='C02-T06-CD4+ Treg'\n",
    "adata.obs.at[T10_index,'ann']='C02-T09-CD4+ Trm'\n",
    "adata.obs.at[T11_index,'ann']='C02-T08-CD4+ Th17'"
   ]
  },
  {
   "cell_type": "code",
   "execution_count": null,
   "id": "ffaab581",
   "metadata": {},
   "outputs": [],
   "source": [
    "adata.obs['annotation'] = adata.obs['ann']"
   ]
  },
  {
   "cell_type": "code",
   "execution_count": null,
   "id": "440ae518",
   "metadata": {},
   "outputs": [],
   "source": [
    "sc.pl.umap(adata, color=['annotation'], add_outline=True, outline_width = (0.2, 0.05), palette=\"tab20\", frameon=False, legend_loc='on data')"
   ]
  },
  {
   "cell_type": "code",
   "execution_count": null,
   "id": "f36aa042",
   "metadata": {},
   "outputs": [],
   "source": [
    "adata.write('/mnt/data2/Datasets/Human_non_intestine_datasets/Qilu_Otorhinolaryngology_surgery_data/dataset_output/T_annotation.h5ad')"
   ]
  },
  {
   "cell_type": "markdown",
   "id": "b9883750",
   "metadata": {},
   "source": [
    "## B cell"
   ]
  },
  {
   "cell_type": "code",
   "execution_count": null,
   "id": "fcfce806",
   "metadata": {},
   "outputs": [],
   "source": [
    "adata = sc.read('/mnt/data2/Datasets/Human_non_intestine_datasets/Qilu_Otorhinolaryngology_surgery_data/dataset_output/IMM.h5ad')\n",
    "adata"
   ]
  },
  {
   "cell_type": "code",
   "execution_count": null,
   "id": "5cc5775a",
   "metadata": {},
   "outputs": [],
   "source": [
    "adata.obs['annotation'].cat.categories"
   ]
  },
  {
   "cell_type": "code",
   "execution_count": null,
   "id": "7dbf2a99",
   "metadata": {},
   "outputs": [],
   "source": [
    "B_index = adata.obs.loc[adata.obs[\"annotation\"].isin(['Memory B cells','Naive B cells','Plasma cells']), :].index\n",
    "B_index"
   ]
  },
  {
   "cell_type": "code",
   "execution_count": null,
   "id": "a198bec5",
   "metadata": {},
   "outputs": [],
   "source": [
    "adata = adata[B_index, :]\n",
    "adata"
   ]
  },
  {
   "cell_type": "code",
   "execution_count": null,
   "id": "18800edb",
   "metadata": {},
   "outputs": [],
   "source": [
    "def progress_pca_harmony_umap(adata):\n",
    "    \n",
    "    # sc.tl.pca(adata, svd_solver='arpack')\n",
    "\n",
    "    # Harmony处理批次效应\n",
    "    harmony_out = hm.run_harmony(adata.obsm['X_pca'], adata.obs, vars_use = ['batch_name'],max_iter_harmony=20)\n",
    "    adata.obsm['X_pca_harmony'] = harmony_out.Z_corr.T\n",
    "    sc.pp.neighbors(adata, n_neighbors=10, use_rep='X_pca_harmony', n_pcs=20)\n",
    "    \n",
    "    # 计算UMAP\n",
    "    sc.tl.umap(adata)\n",
    "    # sc.tl.tsne(adata, n_jobs=6)\n",
    "\n",
    "    return adata\n",
    "\n",
    "adata = progress_pca_harmony_umap(adata)"
   ]
  },
  {
   "cell_type": "code",
   "execution_count": null,
   "id": "782b91d0",
   "metadata": {},
   "outputs": [],
   "source": [
    "def add_leiden(adata):\n",
    "\n",
    "    #print(\"Performing clustering with a resolution of 0.5\")\n",
    "    #sc.tl.leiden(adata, resolution=0.5)\n",
    "    #adata.obs['leiden-all-0.5'] = adata.obs['leiden']\n",
    "\n",
    "    #print(\"Performing clustering with a resolution of 1\")\n",
    "    #sc.tl.leiden(adata, resolution=1)\n",
    "    #adata.obs['leiden-all-1'] = adata.obs['leiden']\n",
    "    \n",
    "    print(\"Performing clustering with a resolution of 2\")\n",
    "    sc.tl.leiden(adata, resolution=1)\n",
    "    adata.obs['leiden-all-1'] = adata.obs['leiden']\n",
    "\n",
    "    return adata\n",
    "\n",
    "adata = add_leiden(adata)"
   ]
  },
  {
   "cell_type": "code",
   "execution_count": null,
   "id": "d94f6ab2",
   "metadata": {
    "scrolled": false
   },
   "outputs": [],
   "source": [
    "sc.settings.set_figure_params(dpi=400, figsize = (4, 4), fontsize=7)\n",
    "sc.pl.umap(adata, color=['tissue'], frameon=False, title='')\n",
    "sc.pl.umap(adata, color=['majority_voting'], add_outline=True, outline_width = (0.2, 0.05), palette=\"tab20\", frameon=False, legend_loc='on data')\n",
    "sc.pl.umap(adata, color=['annotation'], add_outline=True, outline_width = (0.2, 0.05), palette=\"tab20\", frameon=False, legend_loc='on data')\n",
    "sc.pl.umap(adata, color=['leiden-all-1'], add_outline=True, outline_width = (0.2, 0.05), palette=\"tab20\", frameon=False, legend_loc='on data')"
   ]
  },
  {
   "cell_type": "code",
   "execution_count": null,
   "id": "bdebd730",
   "metadata": {},
   "outputs": [],
   "source": [
    "sc.pl.umap(adata, color=['pct_counts_mt','pct_counts_rp'], frameon=False)"
   ]
  },
  {
   "cell_type": "code",
   "execution_count": null,
   "id": "6c0b8f9e",
   "metadata": {},
   "outputs": [],
   "source": [
    "import cosg as cosg\n",
    "import time\n",
    "t0= time.clock()\n",
    "cosg.cosg(adata,\n",
    "    key_added='cosg',\n",
    "        mu=1,\n",
    "        n_genes_user=50,\n",
    "               groupby='annotation')\n",
    "runtime_cosg = time.clock() - t0\n",
    "\n",
    "sc.settings.set_figure_params(dpi=200, figsize = (4, 4), fontsize=20)\n",
    "sc.pl.rank_genes_groups_dotplot(adata,groupby='annotation',\n",
    "                                cmap='Spectral_r',\n",
    "                                 standard_scale='var',\n",
    "                                       n_genes=8,key='cosg')"
   ]
  },
  {
   "cell_type": "code",
   "execution_count": null,
   "id": "f6c34300",
   "metadata": {},
   "outputs": [],
   "source": [
    "import cosg as cosg\n",
    "import time\n",
    "t0= time.clock()\n",
    "cosg.cosg(adata,\n",
    "    key_added='cosg',\n",
    "        mu=1,\n",
    "        n_genes_user=50,\n",
    "               groupby='leiden-all-1')\n",
    "runtime_cosg = time.clock() - t0\n",
    "\n",
    "sc.settings.set_figure_params(dpi=200, figsize = (4, 4), fontsize=20)\n",
    "sc.pl.rank_genes_groups_dotplot(adata,groupby='leiden-all-1',\n",
    "                                cmap='Spectral_r',\n",
    "                                 standard_scale='var',\n",
    "                                       n_genes=4,key='cosg')"
   ]
  },
  {
   "cell_type": "code",
   "execution_count": null,
   "id": "0cb7d95a",
   "metadata": {},
   "outputs": [],
   "source": [
    "B01_index = adata.obs.loc[adata.obs[\"leiden-all-1\"].isin(['12']), :].index\n",
    "\n",
    "adata.obs['ann'] = adata.obs['annotation'].to_list()\n",
    "\n",
    "adata.obs.at[B01_index,'ann']='Cycling B cells'"
   ]
  },
  {
   "cell_type": "code",
   "execution_count": null,
   "id": "ef19ffdb",
   "metadata": {},
   "outputs": [],
   "source": [
    "sc.settings.set_figure_params(dpi=400, figsize = (4, 4), fontsize=7)\n",
    "sc.pl.umap(adata, color=['ann'], add_outline=True, outline_width = (0.2, 0.05), palette=\"tab20\", frameon=False, legend_loc='on data')"
   ]
  },
  {
   "cell_type": "code",
   "execution_count": null,
   "id": "144c8d87",
   "metadata": {},
   "outputs": [],
   "source": [
    "# Cycling B\n",
    "B01_index = adata.obs.loc[adata.obs[\"ann\"].isin(['Cycling B cells']), :].index\n",
    "# Naive B cells\n",
    "B02_index = adata.obs.loc[adata.obs[\"ann\"].isin(['Naive B cells']), :].index\n",
    "# Memory B cells\n",
    "B03_index = adata.obs.loc[adata.obs[\"ann\"].isin(['Memory B cells']), :].index\n",
    "# Plasma cells\n",
    "B04_index = adata.obs.loc[adata.obs[\"ann\"].isin(['Plasma cells']), :].index"
   ]
  },
  {
   "cell_type": "code",
   "execution_count": null,
   "id": "9355e6c7",
   "metadata": {},
   "outputs": [],
   "source": [
    "adata.obs['ann'] = 'C03-B01-Naive B cells'\n",
    "\n",
    "adata.obs.at[B03_index,'ann']='C03-B02-Memory B cells'\n",
    "adata.obs.at[B01_index,'ann']='C03-B03-Cycling B'\n",
    "adata.obs.at[B04_index,'ann']='C03-B04-Plasma cells'"
   ]
  },
  {
   "cell_type": "code",
   "execution_count": null,
   "id": "6913ceda",
   "metadata": {},
   "outputs": [],
   "source": [
    "adata.obs['annotation'] = adata.obs['ann']\n",
    "\n",
    "sc.settings.set_figure_params(dpi=400, figsize = (4, 4), fontsize=7)\n",
    "sc.pl.umap(adata, color=['annotation'], add_outline=True, outline_width = (0.2, 0.05), palette=\"tab20\", frameon=False, legend_loc='on data')"
   ]
  },
  {
   "cell_type": "code",
   "execution_count": null,
   "id": "db2534f0",
   "metadata": {},
   "outputs": [],
   "source": [
    "adata.write('/mnt/data2/Datasets/Human_non_intestine_datasets/Qilu_Otorhinolaryngology_surgery_data/dataset_output/B_annotation.h5ad')"
   ]
  },
  {
   "cell_type": "code",
   "execution_count": null,
   "id": "37e3b0be",
   "metadata": {},
   "outputs": [],
   "source": [
    "adata = sc.read('/mnt/data2/Datasets/Human_non_intestine_datasets/Qilu_Otorhinolaryngology_surgery_data/dataset_output/B_annotation.h5ad')\n",
    "adata"
   ]
  },
  {
   "cell_type": "code",
   "execution_count": null,
   "id": "86c49a0b",
   "metadata": {},
   "outputs": [],
   "source": [
    "sc.pl.umap(adata, color=['IGHA1','IGHG1','IGHGP','IGHD'], frameon=False)"
   ]
  },
  {
   "cell_type": "code",
   "execution_count": null,
   "id": "a35ab599",
   "metadata": {},
   "outputs": [],
   "source": [
    "sc.pl.umap(adata, color=['leiden-all-1'], add_outline=True, outline_width = (0.2, 0.05), palette=\"tab20\", frameon=False, legend_loc='on data')\n",
    "sc.pl.umap(adata, color=['annotation'], add_outline=True, outline_width = (0.2, 0.05), palette=\"tab20\", frameon=False, legend_loc='on data')"
   ]
  },
  {
   "cell_type": "code",
   "execution_count": null,
   "id": "08479912",
   "metadata": {},
   "outputs": [],
   "source": [
    "# Cycling B\n",
    "B01_index = adata.obs.loc[adata.obs[\"ann\"].isin(['C03-B03-Cycling B']), :].index\n",
    "# Naive B cells\n",
    "B02_index = adata.obs.loc[adata.obs[\"ann\"].isin(['C03-B01-Naive B cells']), :].index\n",
    "# Memory B cells\n",
    "B03_index = adata.obs.loc[adata.obs[\"ann\"].isin(['C03-B02-Memory B cells']), :].index\n",
    "# IgA Plasma cells\n",
    "B04_index = adata.obs.loc[adata.obs[\"ann\"].isin(['C03-B04-Plasma cells']), :].index\n",
    "# IgG Plasma\n",
    "B05_index = adata.obs.loc[adata.obs[\"leiden-all-1\"].isin(['10','5','7']), :].index"
   ]
  },
  {
   "cell_type": "code",
   "execution_count": null,
   "id": "65ca2469",
   "metadata": {},
   "outputs": [],
   "source": [
    "adata.obs['ann'] = 'C03-B01-Naive B cells'\n",
    "\n",
    "adata.obs.at[B03_index,'ann']='C03-B02-Memory B cells'\n",
    "adata.obs.at[B01_index,'ann']='C03-B03-Cycling B'\n",
    "adata.obs.at[B04_index,'ann']='C03-B04-IgA Plasma cells'\n",
    "adata.obs.at[B05_index,'ann']='C03-B05-IgG Plasma cells'"
   ]
  },
  {
   "cell_type": "code",
   "execution_count": null,
   "id": "ec65148e",
   "metadata": {},
   "outputs": [],
   "source": [
    "adata.obs['annotation'] = adata.obs['ann']\n",
    "\n",
    "sc.settings.set_figure_params(dpi=400, figsize = (4, 4), fontsize=7)\n",
    "sc.pl.umap(adata, color=['annotation'], add_outline=True, outline_width = (0.2, 0.05), palette=\"tab20\", frameon=False, legend_loc='on data')"
   ]
  },
  {
   "cell_type": "code",
   "execution_count": null,
   "id": "a8414fcf",
   "metadata": {},
   "outputs": [],
   "source": [
    "adata.write('/mnt/data2/Datasets/Human_non_intestine_datasets/Qilu_Otorhinolaryngology_surgery_data/dataset_output/B_annotation.h5ad')"
   ]
  },
  {
   "cell_type": "markdown",
   "id": "31d6ed9b",
   "metadata": {},
   "source": [
    "## Myeloid"
   ]
  },
  {
   "cell_type": "code",
   "execution_count": null,
   "id": "2441c6cb",
   "metadata": {},
   "outputs": [],
   "source": [
    "adata = sc.read('/mnt/data2/Datasets/Human_non_intestine_datasets/Qilu_Otorhinolaryngology_surgery_data/dataset_output/IMM.h5ad')\n",
    "adata"
   ]
  },
  {
   "cell_type": "code",
   "execution_count": null,
   "id": "8e1b3f64",
   "metadata": {},
   "outputs": [],
   "source": [
    "adata.obs['annotation'].cat.categories"
   ]
  },
  {
   "cell_type": "code",
   "execution_count": null,
   "id": "9b9547d3",
   "metadata": {},
   "outputs": [],
   "source": [
    "M_index = adata.obs.loc[adata.obs[\"annotation\"].isin(['Alveolar macrophages','Classical monocytes','DC1','DC2',\n",
    "                                                      'Erythrophagocytic macrophages','Intermediate macrophages','Intestinal macrophages','Macrophages',\n",
    "                                                      'Migratory DCs','pDC']), :].index\n",
    "M_index"
   ]
  },
  {
   "cell_type": "code",
   "execution_count": null,
   "id": "0f24b0a0",
   "metadata": {},
   "outputs": [],
   "source": [
    "adata = adata[M_index, :]\n",
    "adata"
   ]
  },
  {
   "cell_type": "code",
   "execution_count": null,
   "id": "1dd39c3b",
   "metadata": {},
   "outputs": [],
   "source": [
    "def progress_pca_harmony_umap(adata):\n",
    "    \n",
    "    # sc.tl.pca(adata, svd_solver='arpack')\n",
    "\n",
    "    # Harmony处理批次效应\n",
    "    harmony_out = hm.run_harmony(adata.obsm['X_pca'], adata.obs, vars_use = ['batch_name'],max_iter_harmony=20)\n",
    "    adata.obsm['X_pca_harmony'] = harmony_out.Z_corr.T\n",
    "    sc.pp.neighbors(adata, n_neighbors=10, use_rep='X_pca_harmony', n_pcs=20)\n",
    "    \n",
    "    # 计算UMAP\n",
    "    sc.tl.umap(adata)\n",
    "    # sc.tl.tsne(adata, n_jobs=6)\n",
    "\n",
    "    return adata\n",
    "\n",
    "adata = progress_pca_harmony_umap(adata)"
   ]
  },
  {
   "cell_type": "code",
   "execution_count": null,
   "id": "415563e8",
   "metadata": {},
   "outputs": [],
   "source": [
    "def add_leiden(adata):\n",
    "\n",
    "    #print(\"Performing clustering with a resolution of 0.5\")\n",
    "    #sc.tl.leiden(adata, resolution=0.5)\n",
    "    #adata.obs['leiden-all-0.5'] = adata.obs['leiden']\n",
    "\n",
    "    #print(\"Performing clustering with a resolution of 1\")\n",
    "    #sc.tl.leiden(adata, resolution=1)\n",
    "    #adata.obs['leiden-all-1'] = adata.obs['leiden']\n",
    "    \n",
    "    print(\"Performing clustering with a resolution of 2\")\n",
    "    sc.tl.leiden(adata, resolution=1)\n",
    "    adata.obs['leiden-all-1'] = adata.obs['leiden']\n",
    "\n",
    "    return adata\n",
    "\n",
    "adata = add_leiden(adata)"
   ]
  },
  {
   "cell_type": "code",
   "execution_count": null,
   "id": "6e59377d",
   "metadata": {
    "scrolled": false
   },
   "outputs": [],
   "source": [
    "sc.settings.set_figure_params(dpi=400, figsize = (4, 4), fontsize=7)\n",
    "sc.pl.umap(adata, color=['tissue'], frameon=False, title='')\n",
    "sc.pl.umap(adata, color=['majority_voting'], add_outline=True, outline_width = (0.2, 0.05), palette=\"tab20\", frameon=False, legend_loc='on data')\n",
    "sc.pl.umap(adata, color=['annotation'], add_outline=True, outline_width = (0.2, 0.05), palette=\"tab20\", frameon=False, legend_loc='on data')\n",
    "sc.pl.umap(adata, color=['leiden-all-1'], add_outline=True, outline_width = (0.2, 0.05), palette=\"tab20\", frameon=False, legend_loc='on data')"
   ]
  },
  {
   "cell_type": "code",
   "execution_count": null,
   "id": "f57b559d",
   "metadata": {},
   "outputs": [],
   "source": [
    "import cosg as cosg\n",
    "import time\n",
    "t0= time.clock()\n",
    "cosg.cosg(adata,\n",
    "    key_added='cosg',\n",
    "        mu=1,\n",
    "        n_genes_user=50,\n",
    "               groupby='annotation')\n",
    "runtime_cosg = time.clock() - t0\n",
    "\n",
    "sc.settings.set_figure_params(dpi=200, figsize = (4, 4), fontsize=20)\n",
    "sc.pl.rank_genes_groups_dotplot(adata,groupby='annotation',\n",
    "                                cmap='Spectral_r',\n",
    "                                 standard_scale='var',\n",
    "                                       n_genes=8,key='cosg')"
   ]
  },
  {
   "cell_type": "code",
   "execution_count": null,
   "id": "5dc55146",
   "metadata": {},
   "outputs": [],
   "source": [
    "# Macrophages\n",
    "M01_index = adata.obs.loc[adata.obs[\"annotation\"].isin(['Macrophages']), :].index\n",
    "# CCL18+ Macrophages\n",
    "M02_index = adata.obs.loc[adata.obs[\"annotation\"].isin(['Erythrophagocytic macrophages']), :].index\n",
    "# CCL13+ Macrophages\n",
    "M03_index = adata.obs.loc[adata.obs[\"annotation\"].isin(['Intestinal macrophages']), :].index\n",
    "# CXCL8+ Macrophages\n",
    "M04_index = adata.obs.loc[adata.obs[\"annotation\"].isin(['Alveolar macrophages','Intermediate macrophages']), :].index\n",
    "\n",
    "# Monocytes\n",
    "M05_index = adata.obs.loc[adata.obs[\"annotation\"].isin(['Classical monocytes']), :].index\n",
    "# DC1\n",
    "M06_index = adata.obs.loc[adata.obs[\"annotation\"].isin(['DC1']), :].index\n",
    "# DC2\n",
    "M07_index = adata.obs.loc[adata.obs[\"annotation\"].isin(['DC2']), :].index\n",
    "# Migratory DCs\n",
    "M08_index = adata.obs.loc[adata.obs[\"annotation\"].isin(['Migratory DCs']), :].index\n",
    "# pDC\n",
    "M09_index = adata.obs.loc[adata.obs[\"annotation\"].isin(['pDC']), :].index"
   ]
  },
  {
   "cell_type": "code",
   "execution_count": null,
   "id": "2c02be24",
   "metadata": {},
   "outputs": [],
   "source": [
    "adata.obs['ann'] = 'C04-M01-Macrophages'\n",
    "\n",
    "adata.obs.at[M02_index,'ann']='C04-M02-CCL18+ Macrophages'\n",
    "adata.obs.at[M03_index,'ann']='C04-M03-CCL13+ Macrophages'\n",
    "adata.obs.at[M04_index,'ann']='C04-M04-CXCL8+ Macrophages'\n",
    "\n",
    "adata.obs.at[M05_index,'ann']='C04-M05-Monocytes'\n",
    "adata.obs.at[M06_index,'ann']='C04-M06-DC1'\n",
    "adata.obs.at[M07_index,'ann']='C04-M07-DC2'\n",
    "\n",
    "adata.obs.at[M08_index,'ann']='C04-M08-Migratory DCs'\n",
    "adata.obs.at[M09_index,'ann']='C04-M09-pDC'"
   ]
  },
  {
   "cell_type": "code",
   "execution_count": null,
   "id": "9483d679",
   "metadata": {},
   "outputs": [],
   "source": [
    "adata.obs['annotation'] = adata.obs['ann']\n",
    "\n",
    "sc.settings.set_figure_params(dpi=400, figsize = (4, 4), fontsize=7)\n",
    "sc.pl.umap(adata, color=['annotation'], add_outline=True, outline_width = (0.2, 0.05), palette=\"tab20\", frameon=False, legend_loc='on data')"
   ]
  },
  {
   "cell_type": "code",
   "execution_count": null,
   "id": "d332245d",
   "metadata": {},
   "outputs": [],
   "source": [
    "adata.write('/mnt/data2/Datasets/Human_non_intestine_datasets/Qilu_Otorhinolaryngology_surgery_data/dataset_output/M_annotation.h5ad')"
   ]
  },
  {
   "cell_type": "markdown",
   "id": "625644fa",
   "metadata": {},
   "source": [
    "## Mast"
   ]
  },
  {
   "cell_type": "code",
   "execution_count": null,
   "id": "88a20857",
   "metadata": {},
   "outputs": [],
   "source": [
    "adata = sc.read('/mnt/data2/Datasets/Human_non_intestine_datasets/Qilu_Otorhinolaryngology_surgery_data/dataset_output/IMM.h5ad')\n",
    "adata"
   ]
  },
  {
   "cell_type": "code",
   "execution_count": null,
   "id": "8719a84c",
   "metadata": {},
   "outputs": [],
   "source": [
    "adata.obs['annotation'].cat.categories"
   ]
  },
  {
   "cell_type": "code",
   "execution_count": null,
   "id": "b415d9b4",
   "metadata": {},
   "outputs": [],
   "source": [
    "Ma_index = adata.obs.loc[adata.obs[\"annotation\"].isin(['Mast cells']), :].index\n",
    "Ma_index"
   ]
  },
  {
   "cell_type": "code",
   "execution_count": null,
   "id": "bf84eb70",
   "metadata": {},
   "outputs": [],
   "source": [
    "adata = adata[Ma_index, :]\n",
    "adata"
   ]
  },
  {
   "cell_type": "code",
   "execution_count": null,
   "id": "8e6c3ee6",
   "metadata": {},
   "outputs": [],
   "source": [
    "def progress_pca_harmony_umap(adata):\n",
    "    \n",
    "    # sc.tl.pca(adata, svd_solver='arpack')\n",
    "\n",
    "    # Harmony处理批次效应\n",
    "    harmony_out = hm.run_harmony(adata.obsm['X_pca'], adata.obs, vars_use = ['batch_name'],max_iter_harmony=20)\n",
    "    adata.obsm['X_pca_harmony'] = harmony_out.Z_corr.T\n",
    "    sc.pp.neighbors(adata, n_neighbors=10, use_rep='X_pca_harmony', n_pcs=20)\n",
    "    \n",
    "    # 计算UMAP\n",
    "    sc.tl.umap(adata)\n",
    "    # sc.tl.tsne(adata, n_jobs=6)\n",
    "\n",
    "    return adata\n",
    "\n",
    "adata = progress_pca_harmony_umap(adata)"
   ]
  },
  {
   "cell_type": "code",
   "execution_count": null,
   "id": "5f16d743",
   "metadata": {},
   "outputs": [],
   "source": [
    "def add_leiden(adata):\n",
    "\n",
    "    print(\"Performing clustering with a resolution of 0.5\")\n",
    "    sc.tl.leiden(adata, resolution=0.5)\n",
    "    adata.obs['leiden-all-0.5'] = adata.obs['leiden']\n",
    "    \n",
    "    print(\"Performing clustering with a resolution of 1\")\n",
    "    sc.tl.leiden(adata, resolution=1)\n",
    "    adata.obs['leiden-all-1'] = adata.obs['leiden']\n",
    "\n",
    "    return adata\n",
    "\n",
    "adata = add_leiden(adata)"
   ]
  },
  {
   "cell_type": "code",
   "execution_count": null,
   "id": "b9403305",
   "metadata": {
    "scrolled": false
   },
   "outputs": [],
   "source": [
    "sc.settings.set_figure_params(dpi=400, figsize = (4, 4), fontsize=7)\n",
    "sc.pl.umap(adata, color=['tissue'], frameon=False, title='')\n",
    "sc.pl.umap(adata, color=['majority_voting'], add_outline=True, outline_width = (0.2, 0.05), palette=\"tab20\", frameon=False, legend_loc='on data')\n",
    "sc.pl.umap(adata, color=['annotation'], add_outline=True, outline_width = (0.2, 0.05), palette=\"tab20\", frameon=False, legend_loc='on data')\n",
    "sc.pl.umap(adata, color=['leiden-all-0.5'], add_outline=True, outline_width = (0.2, 0.05), palette=\"tab20\", frameon=False, legend_loc='on data')"
   ]
  },
  {
   "cell_type": "code",
   "execution_count": null,
   "id": "b8c8e3c5",
   "metadata": {},
   "outputs": [],
   "source": [
    "import cosg as cosg\n",
    "import time\n",
    "t0= time.clock()\n",
    "cosg.cosg(adata,\n",
    "    key_added='cosg',\n",
    "        mu=1,\n",
    "        n_genes_user=50,\n",
    "               groupby='leiden-all-0.5')\n",
    "runtime_cosg = time.clock() - t0\n",
    "\n",
    "sc.settings.set_figure_params(dpi=200, figsize = (4, 4), fontsize=20)\n",
    "sc.pl.rank_genes_groups_dotplot(adata,groupby='leiden-all-0.5',\n",
    "                                cmap='Spectral_r',\n",
    "                                 standard_scale='var',\n",
    "                                       n_genes=8,key='cosg')"
   ]
  },
  {
   "cell_type": "code",
   "execution_count": null,
   "id": "d4610933",
   "metadata": {},
   "outputs": [],
   "source": [
    "# get the Singles\n",
    "Single_index = adata.obs.loc[adata.obs[\"leiden-all-0.5\"].isin(['0','1','2','3','4','7']), :].index\n",
    "\n",
    "adata = adata[Single_index, :]\n",
    "adata"
   ]
  },
  {
   "cell_type": "code",
   "execution_count": null,
   "id": "321de621",
   "metadata": {},
   "outputs": [],
   "source": [
    "sc.pl.umap(adata, color=['GPR42','FFAR3','IL5','IL13'], frameon=False)"
   ]
  },
  {
   "cell_type": "code",
   "execution_count": null,
   "id": "fc71f7d4",
   "metadata": {},
   "outputs": [],
   "source": [
    "adata.obs['annotation'] = 'C05-Mast cell'"
   ]
  },
  {
   "cell_type": "code",
   "execution_count": null,
   "id": "858925f9",
   "metadata": {},
   "outputs": [],
   "source": [
    "adata.write('/mnt/data2/Datasets/Human_non_intestine_datasets/Qilu_Otorhinolaryngology_surgery_data/dataset_output/Mast_annotation.h5ad')"
   ]
  },
  {
   "cell_type": "markdown",
   "id": "18ba0926",
   "metadata": {},
   "source": [
    "# Merge"
   ]
  },
  {
   "cell_type": "code",
   "execution_count": null,
   "id": "abe642be",
   "metadata": {},
   "outputs": [],
   "source": [
    "adata_T = sc.read('/mnt/data2/Datasets/Human_non_intestine_datasets/Qilu_Otorhinolaryngology_surgery_data/dataset_output/T_annotation.h5ad')\n",
    "adata_B = sc.read('/mnt/data2/Datasets/Human_non_intestine_datasets/Qilu_Otorhinolaryngology_surgery_data/dataset_output/B_annotation.h5ad')\n",
    "adata_M = sc.read('/mnt/data2/Datasets/Human_non_intestine_datasets/Qilu_Otorhinolaryngology_surgery_data/dataset_output/M_annotation.h5ad')\n",
    "adata_Mast = sc.read('/mnt/data2/Datasets/Human_non_intestine_datasets/Qilu_Otorhinolaryngology_surgery_data/dataset_output/Mast_annotation.h5ad')"
   ]
  },
  {
   "cell_type": "code",
   "execution_count": null,
   "id": "475f6092",
   "metadata": {},
   "outputs": [],
   "source": [
    "adata = sc.read('/mnt/data2/Datasets/Human_non_intestine_datasets/Qilu_Otorhinolaryngology_surgery_data/dataset_output/IMM.h5ad')\n",
    "adata"
   ]
  },
  {
   "cell_type": "code",
   "execution_count": null,
   "id": "12c9efe8",
   "metadata": {},
   "outputs": [],
   "source": [
    "T01_index = adata_T.obs.loc[adata_T.obs[\"annotation\"].isin(['C02-T11-CD8+ GNLY+ T cells']), :].index\n",
    "T02_index = adata_T.obs.loc[adata_T.obs[\"annotation\"].isin(['C02-T01-NK cells']), :].index\n",
    "T03_index = adata_T.obs.loc[adata_T.obs[\"annotation\"].isin(['C02-T02-ILC1']), :].index\n",
    "T04_index = adata_T.obs.loc[adata_T.obs[\"annotation\"].isin(['C02-T03-ILC2']), :].index\n",
    "T05_index = adata_T.obs.loc[adata_T.obs[\"annotation\"].isin(['C02-T04-ILC3']), :].index\n",
    "T06_index = adata_T.obs.loc[adata_T.obs[\"annotation\"].isin(['C02-T07-CD4+Th2']), :].index\n",
    "T07_index = adata_T.obs.loc[adata_T.obs[\"annotation\"].isin(['C02-T12-Cycling T']), :].index\n",
    "T08_index = adata_T.obs.loc[adata_T.obs[\"annotation\"].isin(['C02-T05-CD4+ Naive T']), :].index\n",
    "T09_index = adata_T.obs.loc[adata_T.obs[\"annotation\"].isin(['C02-T06-CD4+ Treg']), :].index\n",
    "T10_index = adata_T.obs.loc[adata_T.obs[\"annotation\"].isin(['C02-T09-CD4+ Trm']), :].index\n",
    "T11_index = adata_T.obs.loc[adata_T.obs[\"annotation\"].isin(['C02-T08-CD4+ Th17']), :].index\n",
    "T12_index = adata_T.obs.loc[adata_T.obs[\"annotation\"].isin(['C02-T10-CD8+ T cells']), :].index"
   ]
  },
  {
   "cell_type": "code",
   "execution_count": null,
   "id": "81dd1e5a",
   "metadata": {},
   "outputs": [],
   "source": [
    "B01_index = adata_B.obs.loc[adata_B.obs[\"annotation\"].isin(['C03-B01-Naive B cells']), :].index\n",
    "B02_index = adata_B.obs.loc[adata_B.obs[\"annotation\"].isin(['C03-B02-Memory B cells']), :].index\n",
    "B03_index = adata_B.obs.loc[adata_B.obs[\"annotation\"].isin(['C03-B03-Cycling B']), :].index\n",
    "B04_index = adata_B.obs.loc[adata_B.obs[\"annotation\"].isin(['C03-B04-Plasma cells']), :].index"
   ]
  },
  {
   "cell_type": "code",
   "execution_count": null,
   "id": "fb53436c",
   "metadata": {},
   "outputs": [],
   "source": [
    "M01_index = adata_M.obs.loc[adata_M.obs[\"annotation\"].isin(['C04-M01-Macrophages']), :].index\n",
    "M02_index = adata_M.obs.loc[adata_M.obs[\"annotation\"].isin(['C04-M02-CCL18+ Macrophages']), :].index\n",
    "M03_index = adata_M.obs.loc[adata_M.obs[\"annotation\"].isin(['C04-M03-CCL13+ Macrophages']), :].index\n",
    "M04_index = adata_M.obs.loc[adata_M.obs[\"annotation\"].isin(['C04-M04-CXCL8+ Macrophages']), :].index\n",
    "M05_index = adata_M.obs.loc[adata_M.obs[\"annotation\"].isin(['C04-M05-Monocytes']), :].index\n",
    "M06_index = adata_M.obs.loc[adata_M.obs[\"annotation\"].isin(['C04-M06-DC1']), :].index\n",
    "M07_index = adata_M.obs.loc[adata_M.obs[\"annotation\"].isin(['C04-M07-DC2']), :].index\n",
    "M08_index = adata_M.obs.loc[adata_M.obs[\"annotation\"].isin(['C04-M08-Migratory DCs']), :].index\n",
    "M09_index = adata_M.obs.loc[adata_M.obs[\"annotation\"].isin(['C04-M09-pDC']), :].index"
   ]
  },
  {
   "cell_type": "code",
   "execution_count": null,
   "id": "28d9a2c2",
   "metadata": {},
   "outputs": [],
   "source": [
    "MA_index = adata_Mast.obs.loc[adata_Mast.obs[\"annotation\"].isin(['C05-Mast cell']), :].index"
   ]
  },
  {
   "cell_type": "code",
   "execution_count": null,
   "id": "d71f6a97",
   "metadata": {},
   "outputs": [],
   "source": [
    "adata.obs['ann'] = 'Undefined'\n",
    "\n",
    "adata.obs.at[T01_index,'ann']='C02-T11-CD8+ GNLY+ T cells'\n",
    "adata.obs.at[T02_index,'ann']='C02-T01-NK cells'\n",
    "adata.obs.at[T03_index,'ann']='C02-T02-ILC1'\n",
    "adata.obs.at[T04_index,'ann']='C02-T03-ILC2'\n",
    "adata.obs.at[T05_index,'ann']='C02-T04-ILC3'\n",
    "adata.obs.at[T06_index,'ann']='C02-T07-CD4+Th2'\n",
    "adata.obs.at[T07_index,'ann']='C02-T12-Cycling T'\n",
    "adata.obs.at[T08_index,'ann']='C02-T05-CD4+ Naive T'\n",
    "adata.obs.at[T09_index,'ann']='C02-T06-CD4+ Treg'\n",
    "adata.obs.at[T10_index,'ann']='C02-T09-CD4+ Trm'\n",
    "adata.obs.at[T11_index,'ann']='C02-T08-CD4+ Th17'\n",
    "adata.obs.at[T12_index,'ann']='C02-T10-CD8+ T cells'\n",
    "\n",
    "adata.obs.at[B01_index,'ann']='C03-B01-Naive B cells'\n",
    "adata.obs.at[B02_index,'ann']='C03-B02-Memory B cells'\n",
    "adata.obs.at[B03_index,'ann']='C03-B03-Cycling B'\n",
    "adata.obs.at[B04_index,'ann']='C03-B04-Plasma cells'\n",
    "\n",
    "adata.obs.at[M01_index,'ann']='C04-M01-Macrophages'\n",
    "adata.obs.at[M02_index,'ann']='C04-M02-CCL18+ Macrophages'\n",
    "adata.obs.at[M03_index,'ann']='C04-M03-CCL13+ Macrophages'\n",
    "adata.obs.at[M04_index,'ann']='C04-M04-CXCL8+ Macrophages'\n",
    "adata.obs.at[M05_index,'ann']='C04-M05-Monocytes'\n",
    "adata.obs.at[M06_index,'ann']='C04-M06-DC1'\n",
    "adata.obs.at[M07_index,'ann']='C04-M07-DC2'\n",
    "adata.obs.at[M08_index,'ann']='C04-M08-Migratory DCs'\n",
    "adata.obs.at[M09_index,'ann']='C04-M09-pDC'\n",
    "\n",
    "adata.obs.at[MA_index,'ann']='C05-Mast cell'"
   ]
  },
  {
   "cell_type": "code",
   "execution_count": null,
   "id": "542d565b",
   "metadata": {
    "scrolled": false
   },
   "outputs": [],
   "source": [
    "sc.settings.set_figure_params(dpi=400, figsize = (4, 4), fontsize=7)\n",
    "sc.pl.umap(adata, color=['tissue'], frameon=False, title='')\n",
    "sc.pl.umap(adata, color=['ann'], add_outline=True, outline_width = (0.2, 0.05), palette=\"tab20\", frameon=False, title='')\n",
    "sc.pl.umap(adata, color=['annotation'], add_outline=True, outline_width = (0.2, 0.05), palette=\"tab20\", frameon=False, title='')"
   ]
  },
  {
   "cell_type": "code",
   "execution_count": null,
   "id": "2155314f",
   "metadata": {},
   "outputs": [],
   "source": [
    "adata.obs['annotation'] =  adata.obs['ann']"
   ]
  },
  {
   "cell_type": "code",
   "execution_count": null,
   "id": "1c002351",
   "metadata": {},
   "outputs": [],
   "source": [
    "adata"
   ]
  },
  {
   "cell_type": "code",
   "execution_count": null,
   "id": "18382b41",
   "metadata": {},
   "outputs": [],
   "source": [
    "# get the Singles\n",
    "Single_index = adata.obs.loc[~adata.obs[\"annotation\"].isin(['Undefined']), :].index\n",
    "adata = adata[Single_index, :]\n",
    "adata"
   ]
  },
  {
   "cell_type": "code",
   "execution_count": null,
   "id": "86f21b9a",
   "metadata": {},
   "outputs": [],
   "source": [
    "def progress_pca_bbknn_umap_tsne(adata, n_pcs=20, batch_key='batch_name'):\n",
    "    ## 主成分分析降维\n",
    "    #sc.tl.pca(adata, svd_solver='arpack')\n",
    "    # 在PCA坐标中绘制散点图\n",
    "    #sc.pl.pca(adata)\n",
    "    # 可视化每个PC对数据总方差的贡献, 这为我们提供了有关为计算单元的邻域关系应考虑的PC数量的信息sc.tl.tsne()\n",
    "    #sc.pl.pca_variance_ratio(adata, log=True)\n",
    "\n",
    "    # 使用bbknn算法处理批次效应(代替了neighbors)\n",
    "    # bbknn要求数据已经过标准化和主成分分析\n",
    "\n",
    "    # adata.obs['bbknn_batch'] = [str(i)+'-'+str(j) for i,j in zip(adata.obs['dataset'], adata.obs['batch_name'])]\n",
    "    sc.external.pp.bbknn(adata, batch_key=batch_key, n_pcs=n_pcs, neighbors_within_batch=3)\n",
    "    \n",
    "    # 计算UMAP\n",
    "    sc.tl.umap(adata)\n",
    "    # sc.tl.tsne(adata, n_jobs=6)\n",
    "\n",
    "    return adata\n",
    "\n",
    "adata = progress_pca_bbknn_umap_tsne(adata)"
   ]
  },
  {
   "cell_type": "code",
   "execution_count": null,
   "id": "63744aa5",
   "metadata": {},
   "outputs": [],
   "source": [
    "print(adata.obs['tissue'].cat.categories)\n",
    "\n",
    "old_colors = np.array(adata.uns['tissue_colors'])\n",
    "new_colors = old_colors\n",
    "\n",
    "# inferior turbinate\n",
    "new_colors[[0]] = '#ff0000'\n",
    "# middle turbinate\n",
    "new_colors[[1]] = '#0077b2'\n",
    "# polyp\n",
    "new_colors[[2]] = '#60b55c'\n",
    "\n",
    "adata.uns['tissue_colors'] = new_colors\n",
    "\n",
    "sc.settings.set_figure_params(dpi=400, figsize = (4, 4), fontsize=7)\n",
    "sc.pl.umap(adata, color=['tissue'], frameon=False, title='')\n",
    "sc.pl.umap(adata, color=['annotation'], add_outline=True, outline_width = (0.2, 0.05), palette=\"tab20\", frameon=False, title='')"
   ]
  },
  {
   "cell_type": "code",
   "execution_count": null,
   "id": "192831b2",
   "metadata": {},
   "outputs": [],
   "source": [
    "adata = sc.read('/mnt/data2/Datasets/Human_non_intestine_datasets/Qilu_Otorhinolaryngology_surgery_data/dataset_output/IMM.h5ad')\n",
    "\n",
    "adata.obs['annotation'] = adata.obs['annotation'].astype('string')\n",
    "adata.obs.at[B04_index,'annotation']='C03-B04-IgA Plasma cells'\n",
    "adata.obs.at[B05_index,'annotation']='C03-B05-IgG Plasma cells'"
   ]
  },
  {
   "cell_type": "code",
   "execution_count": null,
   "id": "436193a9",
   "metadata": {},
   "outputs": [],
   "source": [
    "sc.pl.umap(adata, color=['annotation'], add_outline=True, outline_width = (0.2, 0.05), palette=\"tab20\", frameon=False, title='')\n",
    "sc.settings.set_figure_params(dpi=400, figsize = (4, 4), fontsize=4)\n",
    "sc.pl.umap(adata, color=['annotation'], add_outline=True, outline_width = (0.2, 0.05), palette=\"tab20\", frameon=False, legend_loc='on data')"
   ]
  },
  {
   "cell_type": "code",
   "execution_count": null,
   "id": "8164d3c7",
   "metadata": {},
   "outputs": [],
   "source": [
    "sc.tl.dendrogram(adata, groupby='annotation')"
   ]
  },
  {
   "cell_type": "code",
   "execution_count": null,
   "id": "9dad090a",
   "metadata": {},
   "outputs": [],
   "source": [
    "import cosg as cosg\n",
    "import time\n",
    "t0= time.clock()\n",
    "cosg.cosg(adata,\n",
    "    key_added='cosg',\n",
    "        mu=1,\n",
    "        n_genes_user=50,\n",
    "               groupby='annotation')\n",
    "runtime_cosg = time.clock() - t0\n",
    "\n",
    "sc.settings.set_figure_params(dpi=200, figsize = (4, 4), fontsize=20)\n",
    "sc.pl.rank_genes_groups_dotplot(adata,groupby='annotation',\n",
    "                                cmap='Spectral_r',\n",
    "                                 standard_scale='var',\n",
    "                                       n_genes=2,key='cosg')"
   ]
  },
  {
   "cell_type": "markdown",
   "id": "73f6074b",
   "metadata": {},
   "source": [
    "**All**"
   ]
  },
  {
   "cell_type": "code",
   "execution_count": null,
   "id": "0dcb690e",
   "metadata": {},
   "outputs": [],
   "source": [
    "Groups_tab_1 = pd.crosstab(index=adata.obs['tissue'],  # Make a crosstab\n",
    "                        columns=adata.obs['annotation'], margins=True)               # Name the count column\n",
    "MyTab_1= Groups_tab_1.div(Groups_tab_1[\"All\"], axis=0)\n",
    "MyTab2_1 = MyTab_1.drop(columns=\"All\")\n",
    "MyTab2_1 = MyTab2_1.drop(index=\"All\")\n",
    "MyTab2_1.T"
   ]
  },
  {
   "cell_type": "code",
   "execution_count": null,
   "id": "5fa51ece",
   "metadata": {},
   "outputs": [],
   "source": [
    "MyTab2_1 = MyTab2_1.T\n",
    "order = ['inferior turbinate', 'middle turbinate', 'polyp']\n",
    "MyTab2_1 = MyTab2_1[order]\n",
    "MyTab2_1 = MyTab2_1.T\n",
    "#categories = IMM_group[::-1]\n",
    "\n",
    "MyTab2_1.columns = pd.CategoricalIndex(MyTab2_1.columns.values)\n",
    "\n",
    "# Sort the columns (axis=1) by the new categorical ordering\n",
    "MyTab2_1 = MyTab2_1.sort_index(axis=1)\n",
    "\n",
    "ax = MyTab2_1.plot.bar(\n",
    "            figsize=(3.7,5),\n",
    "            stacked=True,\n",
    "            edgecolor = '#000000',\n",
    "            linewidth=0.4,\n",
    "            width=0.8, \n",
    "            fontsize=10,\n",
    "            # color={\"1-Duodenum\": \"#393b79\",\"2-Jejunum\": \"#8ca252\",\"3-Ileum\": \"#e7ba52\", \"4-Colon\": \"#e7969c\", \"5-Rectum\": \"#de9ed6\"}\n",
    "             )\n",
    "\n",
    "\n",
    "plt.title(\"\", fontsize=12)\n",
    "plt.ylabel(\"Fraction of cells\", fontsize=12)\n",
    "plt.xlabel(\"\", fontsize=12)\n",
    "plt.ylim=1.0\n",
    "\n",
    "#plt.gca().get_legend().remove() #remove legend\n",
    "# plt.legend(categories, loc='center left', bbox_to_anchor=(1, 0.6), fontsize=12)\n",
    "# plt.savefig('Proportion of clusters accross organs.png')\n",
    "# 去除刻度\n",
    "#plt.xticks([])\n",
    "#plt.yticks([])\n",
    "# ax.tick_params(bottom=False, top=False, left=False, right=False)\n",
    "handles, labels = ax.get_legend_handles_labels()\n",
    "ax.legend(reversed(handles), reversed(labels), loc='center left', bbox_to_anchor=(1, 0.6), fontsize=8)\n",
    "plt.grid(False)\n",
    "\n",
    "plt.show()"
   ]
  },
  {
   "cell_type": "markdown",
   "id": "d9c91996",
   "metadata": {},
   "source": [
    "**T/ILCs**"
   ]
  },
  {
   "cell_type": "code",
   "execution_count": null,
   "id": "65bd7986",
   "metadata": {},
   "outputs": [],
   "source": [
    "Groups_tab_1 = pd.crosstab(index=adata_T.obs['tissue'],  # Make a crosstab\n",
    "                        columns=adata_T.obs['annotation'], margins=True)               # Name the count column\n",
    "MyTab_1= Groups_tab_1.div(Groups_tab_1[\"All\"], axis=0)\n",
    "MyTab2_1 = MyTab_1.drop(columns=\"All\")\n",
    "MyTab2_1 = MyTab2_1.drop(index=\"All\")\n",
    "MyTab2_1 = MyTab2_1.T\n",
    "\n",
    "order = ['inferior turbinate', 'middle turbinate', 'polyp']\n",
    "MyTab2_1 = MyTab2_1[order]\n",
    "MyTab2_1 = MyTab2_1.T\n",
    "#categories = IMM_group[::-1]\n",
    "\n",
    "MyTab2_1.columns = pd.CategoricalIndex(MyTab2_1.columns.values)\n",
    "\n",
    "# Sort the columns (axis=1) by the new categorical ordering\n",
    "MyTab2_1 = MyTab2_1.sort_index(axis=1)\n",
    "\n",
    "ax = MyTab2_1.plot.bar(\n",
    "            figsize=(3.7,5),\n",
    "            stacked=True,\n",
    "            edgecolor = '#000000',\n",
    "            linewidth=0.4,\n",
    "            width=0.8, \n",
    "            fontsize=10,\n",
    "            # color={\"1-Duodenum\": \"#393b79\",\"2-Jejunum\": \"#8ca252\",\"3-Ileum\": \"#e7ba52\", \"4-Colon\": \"#e7969c\", \"5-Rectum\": \"#de9ed6\"}\n",
    "             )\n",
    "\n",
    "\n",
    "plt.title(\"\", fontsize=12)\n",
    "plt.ylabel(\"Fraction of cells\", fontsize=12)\n",
    "plt.xlabel(\"\", fontsize=12)\n",
    "plt.ylim=1.0\n",
    "\n",
    "#plt.gca().get_legend().remove() #remove legend\n",
    "# plt.legend(categories, loc='center left', bbox_to_anchor=(1, 0.6), fontsize=12)\n",
    "# plt.savefig('Proportion of clusters accross organs.png')\n",
    "# 去除刻度\n",
    "#plt.xticks([])\n",
    "#plt.yticks([])\n",
    "# ax.tick_params(bottom=False, top=False, left=False, right=False)\n",
    "handles, labels = ax.get_legend_handles_labels()\n",
    "ax.legend(reversed(handles), reversed(labels), loc='center left', bbox_to_anchor=(1, 0.6), fontsize=8)\n",
    "plt.grid(False)\n",
    "\n",
    "plt.show()"
   ]
  },
  {
   "cell_type": "markdown",
   "id": "80784bd4",
   "metadata": {},
   "source": [
    "**B**"
   ]
  },
  {
   "cell_type": "code",
   "execution_count": null,
   "id": "c7630548",
   "metadata": {},
   "outputs": [],
   "source": [
    "Groups_tab_1 = pd.crosstab(index=adata_B.obs['tissue'],  # Make a crosstab\n",
    "                        columns=adata_B.obs['annotation'], margins=True)               # Name the count column\n",
    "MyTab_1= Groups_tab_1.div(Groups_tab_1[\"All\"], axis=0)\n",
    "MyTab2_1 = MyTab_1.drop(columns=\"All\")\n",
    "MyTab2_1 = MyTab2_1.drop(index=\"All\")\n",
    "MyTab2_1 = MyTab2_1.T\n",
    "\n",
    "order = ['inferior turbinate', 'middle turbinate', 'polyp']\n",
    "MyTab2_1 = MyTab2_1[order]\n",
    "MyTab2_1 = MyTab2_1.T\n",
    "#categories = IMM_group[::-1]\n",
    "\n",
    "MyTab2_1.columns = pd.CategoricalIndex(MyTab2_1.columns.values)\n",
    "\n",
    "# Sort the columns (axis=1) by the new categorical ordering\n",
    "MyTab2_1 = MyTab2_1.sort_index(axis=1)\n",
    "\n",
    "ax = MyTab2_1.plot.bar(\n",
    "            figsize=(3.7,5),\n",
    "            stacked=True,\n",
    "            edgecolor = '#000000',\n",
    "            linewidth=0.4,\n",
    "            width=0.8, \n",
    "            fontsize=10,\n",
    "            # color={\"1-Duodenum\": \"#393b79\",\"2-Jejunum\": \"#8ca252\",\"3-Ileum\": \"#e7ba52\", \"4-Colon\": \"#e7969c\", \"5-Rectum\": \"#de9ed6\"}\n",
    "             )\n",
    "\n",
    "\n",
    "plt.title(\"\", fontsize=12)\n",
    "plt.ylabel(\"Fraction of cells\", fontsize=12)\n",
    "plt.xlabel(\"\", fontsize=12)\n",
    "plt.ylim=1.0\n",
    "\n",
    "#plt.gca().get_legend().remove() #remove legend\n",
    "# plt.legend(categories, loc='center left', bbox_to_anchor=(1, 0.6), fontsize=12)\n",
    "# plt.savefig('Proportion of clusters accross organs.png')\n",
    "# 去除刻度\n",
    "#plt.xticks([])\n",
    "#plt.yticks([])\n",
    "# ax.tick_params(bottom=False, top=False, left=False, right=False)\n",
    "handles, labels = ax.get_legend_handles_labels()\n",
    "ax.legend(reversed(handles), reversed(labels), loc='center left', bbox_to_anchor=(1, 0.6), fontsize=8)\n",
    "plt.grid(False)\n",
    "\n",
    "plt.show()"
   ]
  },
  {
   "cell_type": "markdown",
   "id": "03268d96",
   "metadata": {},
   "source": [
    "**Myeloid**"
   ]
  },
  {
   "cell_type": "code",
   "execution_count": null,
   "id": "cd3b03d0",
   "metadata": {},
   "outputs": [],
   "source": [
    "Groups_tab_1 = pd.crosstab(index=adata_M.obs['tissue'],  # Make a crosstab\n",
    "                        columns=adata_M.obs['annotation'], margins=True)               # Name the count column\n",
    "MyTab_1= Groups_tab_1.div(Groups_tab_1[\"All\"], axis=0)\n",
    "MyTab2_1 = MyTab_1.drop(columns=\"All\")\n",
    "MyTab2_1 = MyTab2_1.drop(index=\"All\")\n",
    "MyTab2_1 = MyTab2_1.T\n",
    "\n",
    "order = ['inferior turbinate', 'middle turbinate', 'polyp']\n",
    "MyTab2_1 = MyTab2_1[order]\n",
    "MyTab2_1 = MyTab2_1.T\n",
    "#categories = IMM_group[::-1]\n",
    "\n",
    "MyTab2_1.columns = pd.CategoricalIndex(MyTab2_1.columns.values)\n",
    "\n",
    "# Sort the columns (axis=1) by the new categorical ordering\n",
    "MyTab2_1 = MyTab2_1.sort_index(axis=1)\n",
    "\n",
    "ax = MyTab2_1.plot.bar(\n",
    "            figsize=(3.7,5),\n",
    "            stacked=True,\n",
    "            edgecolor = '#000000',\n",
    "            linewidth=0.4,\n",
    "            width=0.8, \n",
    "            fontsize=10,\n",
    "            # color={\"1-Duodenum\": \"#393b79\",\"2-Jejunum\": \"#8ca252\",\"3-Ileum\": \"#e7ba52\", \"4-Colon\": \"#e7969c\", \"5-Rectum\": \"#de9ed6\"}\n",
    "             )\n",
    "\n",
    "\n",
    "plt.title(\"\", fontsize=12)\n",
    "plt.ylabel(\"Fraction of cells\", fontsize=12)\n",
    "plt.xlabel(\"\", fontsize=12)\n",
    "plt.ylim=1.0\n",
    "\n",
    "#plt.gca().get_legend().remove() #remove legend\n",
    "# plt.legend(categories, loc='center left', bbox_to_anchor=(1, 0.6), fontsize=12)\n",
    "# plt.savefig('Proportion of clusters accross organs.png')\n",
    "# 去除刻度\n",
    "#plt.xticks([])\n",
    "#plt.yticks([])\n",
    "# ax.tick_params(bottom=False, top=False, left=False, right=False)\n",
    "handles, labels = ax.get_legend_handles_labels()\n",
    "ax.legend(reversed(handles), reversed(labels), loc='center left', bbox_to_anchor=(1, 0.6), fontsize=8)\n",
    "plt.grid(False)\n",
    "\n",
    "plt.show()"
   ]
  },
  {
   "cell_type": "markdown",
   "id": "08da3d95",
   "metadata": {},
   "source": [
    "## Write"
   ]
  },
  {
   "cell_type": "code",
   "execution_count": null,
   "id": "f628e841",
   "metadata": {},
   "outputs": [],
   "source": [
    "adata.write('/mnt/data2/Datasets/Human_non_intestine_datasets/Qilu_Otorhinolaryngology_surgery_data/dataset_output/IMM.h5ad')"
   ]
  },
  {
   "cell_type": "markdown",
   "id": "9d9c0037",
   "metadata": {},
   "source": [
    "# 配受体"
   ]
  },
  {
   "cell_type": "code",
   "execution_count": null,
   "id": "064cf2cf",
   "metadata": {},
   "outputs": [],
   "source": [
    "adata = sc.read('/mnt/data2/Datasets/Human_non_intestine_datasets/Qilu_Otorhinolaryngology_surgery_data/dataset_output/IMM.h5ad')\n",
    "adata"
   ]
  },
  {
   "cell_type": "markdown",
   "id": "b328aa75",
   "metadata": {},
   "source": [
    "## 趋化因子"
   ]
  },
  {
   "cell_type": "code",
   "execution_count": null,
   "id": "0df26900",
   "metadata": {},
   "outputs": [],
   "source": [
    "# 趋化因子受体 42\n",
    "\n",
    "R_CC = 'CCR1,CCR2,CCR3,CCR4,CCR5,CCR6,CCR7,CCR8,CCR9,CCR10'.split(',')\n",
    "R_CXC = 'CXCR1,CXCR2,CXCR3,CXCR4,CXCR5,CXCR6'.split(',')\n",
    "R_C = ['XCR1']\n",
    "R_CX3C = ['CX3CR1']\n",
    "R_Atypical = 'ACKR1,ACKR2,ACKR3,ACKR4,CCRL2'.split(',')\n",
    "R_other = 'C5AR1,CMKLR1,FPR1,LRP6,GPR35,HRH4,DPP4,IDE,SLC7A1,CNR2,GPRC5D,VSIR,GPR101,FFAR2,GPR42,PGRMC2,GPR75,FCGR2A,KIR2DL3'.split(',')\n",
    "\n",
    "R_Chemotaxis = R_CC+R_CXC+R_C+R_CX3C+R_Atypical+R_other\n",
    "R_Chemotaxis = [x for x in R_Chemotaxis if x in adata.raw.var_names]"
   ]
  },
  {
   "cell_type": "code",
   "execution_count": null,
   "id": "e0e27232",
   "metadata": {},
   "outputs": [],
   "source": [
    "# 趋化因子配体 54--45\n",
    "\n",
    "L_CXC = 'CXCL1,CXCL2,CXCL3,CXCL4,CXCL5,CXCL6,CXCL7,CXCL8,CXCL9,CXCL10,CXCL11,CXCL12,CXCL13,CXCL14,CXCL15,CXCL16,CXCL17'.split(',')\n",
    "L_C = 'XCL1,XCL2'.split(',')\n",
    "L_CC = 'CCL1,CCL2,CCL3,CCL4,CCL5,CCL6,CCL7,CCL8,CCL9,CCL10,CCL11,CCL12,CCL13,CCL14,CCL15,CCL16,CCL17,CCL18,CCL19,CCL20,CCL21,CCL22,CCL23,CCL24,CCL25,CCL26,CCL27,CCL28,'.split(',')\n",
    "L_CX3C = ['CX3CL1']\n",
    "L_other = 'C5,CKLF,CCL3L3,PF4,SPP1'.split(',')\n",
    "\n",
    "L_Chemotaxis = L_CXC+L_C+L_CC+L_CX3C+L_other\n",
    "L_Chemotaxis = [x for x in L_Chemotaxis if x in adata.raw.var_names]"
   ]
  },
  {
   "cell_type": "code",
   "execution_count": null,
   "id": "eefd37c9",
   "metadata": {
    "scrolled": false
   },
   "outputs": [],
   "source": [
    "# 趋化因子受体\n",
    "mp = sc.pl.dotplot(adata, \n",
    "              R_Chemotaxis, \n",
    "              'annotation', \n",
    "              dendrogram=False, \n",
    "              #figsize=(8,10),\n",
    "              use_raw=True,\n",
    "              cmap = 'RdYlBu_r',\n",
    "              var_group_rotation=45,\n",
    "              swap_axes=True,\n",
    "              standard_scale='var',\n",
    "              colorbar_title='Scaled expression in var',\n",
    "              return_fig=True\n",
    "              # , save='_' + sample_name + '_fig11.png'\n",
    "             ) \n",
    "mp.add_totals().style(grid=True).show()\n",
    "\n",
    "# 趋化因子配体\n",
    "mp = sc.pl.dotplot(adata, \n",
    "              L_Chemotaxis, \n",
    "              'annotation', \n",
    "              dendrogram=False, \n",
    "              #figsize=(8,10),\n",
    "              use_raw=True,\n",
    "              cmap = 'RdYlBu_r',\n",
    "              var_group_rotation=45,\n",
    "              swap_axes=True,\n",
    "              standard_scale='var',\n",
    "              colorbar_title='Scaled expression in var',\n",
    "              return_fig=True\n",
    "              # , save='_' + sample_name + '_fig11.png'\n",
    "             ) \n",
    "mp.add_totals().style(grid=True).show()"
   ]
  },
  {
   "cell_type": "markdown",
   "id": "a8ff6b6d",
   "metadata": {},
   "source": [
    "## 细胞因子"
   ]
  },
  {
   "cell_type": "code",
   "execution_count": null,
   "id": "48b88989",
   "metadata": {},
   "outputs": [],
   "source": [
    "# 细胞因子配体\n",
    "IL_L = 'IL1A,IL1B,IL2,IL4,IL5,IL6,IL7,IL10,IL11,IL13,IL15,IL16,IL17A,IL17C,IL17F,IL18,IL19,IL20,IL21,IL22,IL23A,IL24,IL26,IL32,IL33,IL34,IL37'.split(',')\n",
    "IFN_L = 'IFNE,IFNG,IFNL1'.split(',')\n",
    "TNF_L = 'EGF,NRG1,AREG,BTC,CNTF,COPA,EPGN,GRN,HBEGF,MIF,TGFA,TGFB1,EREG'.split(',')\n",
    "CSF_L = 'DLL1,DLL3,DLL4,JAG1,JAG2,SCGB3A1,TNF,IL24,WNT4'.split(',')\n",
    "\n",
    "cytokines_L = IL_L+IFN_L+TNF_L+CSF_L\n",
    "cytokines_L = [x for x in cytokines_L if x in adata.raw.var_names]"
   ]
  },
  {
   "cell_type": "code",
   "execution_count": null,
   "id": "87fbcff1",
   "metadata": {},
   "outputs": [],
   "source": [
    "# 细胞因子配体\n",
    "mp = sc.pl.dotplot(adata, \n",
    "              cytokines_L, \n",
    "              'annotation', \n",
    "              dendrogram=False, \n",
    "              #figsize=(8,10),\n",
    "              use_raw=True,\n",
    "              cmap = 'RdYlBu_r',\n",
    "              var_group_rotation=45,\n",
    "              swap_axes=True,\n",
    "              standard_scale='var',\n",
    "              colorbar_title='Scaled expression in var',\n",
    "              return_fig=True\n",
    "              # , save='_' + sample_name + '_fig11.png'\n",
    "             ) \n",
    "mp.add_totals().style(grid=True).show()"
   ]
  },
  {
   "cell_type": "markdown",
   "id": "f5c1f1a7",
   "metadata": {},
   "source": [
    "## 生长因子"
   ]
  },
  {
   "cell_type": "code",
   "execution_count": null,
   "id": "e5ab0a78",
   "metadata": {},
   "outputs": [],
   "source": [
    "# 生长因子受体\n",
    "WNT_R = 'FZD1,FZD2,FZD3,FZD4,FZD5,FZD6,FZD7,FZD8,FZD9,FZD10,CD36,ROR1,ROR2,RYK,LRP1,SMO,ANTXR1,EPHA7,PTPRK,LDLR,KLRG2,NOTCH1'.split(',')\n",
    "BMP_R = 'BMPR1A,BMPR1B,BMR1A,BMR1B,BMPR2,ACR2A,AVR2B,ACVR1,SMO,PTPRK,SLAMF1,PLAUR'.split(',')\n",
    "EGF_R = 'EGFR,NRG1'.split(',')\n",
    "NOTCH_R = 'NOTCH1,NOTCH2,NOTCH3,NOTCH4'.split(',')\n",
    "\n",
    "GROW_R = WNT_R+BMP_R+EGF_R+NOTCH_R\n",
    "GROW_R = [x for x in GROW_R if x in adata.raw.var_names]"
   ]
  },
  {
   "cell_type": "code",
   "execution_count": null,
   "id": "6bdf3df1",
   "metadata": {},
   "outputs": [],
   "source": [
    "# 生长因子配体\n",
    "WNT_L = 'WNT1,WNT2,WNT2B,WNT3,WNT3A,WNT4,WNT5A,WNT5B,WNT7A,WNT7B,WNT11'.split(',')\n",
    "BMP_L = 'BMP2,BMP3,BMP4,BMP5,BMP6,BMP7,BMP8A,BMP8B'.split(',')\n",
    "EGF_L = 'EGF,NRG1,AREG,BTC,CNTF,COPA,EPGN,GRN,HBEGF,MIF,TGFA,TGFB1,EREG'.split(',')\n",
    "NOTCH_L = 'DLL1,DLL3,DLL4,JAG1,JAG2,SCGB3A1,TNF,IL24,WNT4'.split(',')\n",
    "\n",
    "GROW_L = WNT_L+BMP_L+EGF_L+NOTCH_L\n",
    "GROW_L = [x for x in GROW_L if x in adata.raw.var_names]"
   ]
  },
  {
   "cell_type": "markdown",
   "id": "db3d1a05",
   "metadata": {},
   "source": [
    "# Others"
   ]
  },
  {
   "cell_type": "code",
   "execution_count": null,
   "id": "86a0e45c",
   "metadata": {},
   "outputs": [],
   "source": [
    "sc.pl.umap(adata, color=['annotation'], add_outline=True, outline_width = (0.2, 0.05), palette=\"tab20\", frameon=False, title='')\n",
    "sc.settings.set_figure_params(dpi=400, figsize = (4, 4), fontsize=4)\n",
    "sc.pl.umap(adata, color=['annotation'], add_outline=True, outline_width = (0.2, 0.05), palette=\"tab20\", frameon=False, legend_loc='on data')"
   ]
  },
  {
   "cell_type": "code",
   "execution_count": null,
   "id": "04c51838",
   "metadata": {},
   "outputs": [],
   "source": [
    "sc.settings.set_figure_params(dpi=300, figsize = (4, 4), fontsize=12)\n",
    "\n",
    "from matplotlib import cm, colors\n",
    "import colorcet as cc\n",
    "\n",
    "mymap = colors.LinearSegmentedColormap.from_list('my_colormap', cc.CET_L20)\n",
    "\n",
    "colors2 = mymap(np.linspace(0.2, 1, 128)) # 30%-100%\n",
    "colors3 = plt.cm.Greys_r(np.linspace(0.8,0.9,5))\n",
    "colorsComb = np.vstack([colors3, colors2])\n",
    "mymap = colors.LinearSegmentedColormap.from_list('my_colormap', colorsComb)\n",
    "\n",
    "sc.pl.umap(adata, color=['ALOX5','ALOX5AP'], frameon=False, color_map = mymap)"
   ]
  },
  {
   "cell_type": "code",
   "execution_count": null,
   "id": "04f6812e",
   "metadata": {},
   "outputs": [],
   "source": [
    "sc.settings.set_figure_params(dpi=150, figsize = (4, 4), fontsize=12)\n",
    "\n",
    "from matplotlib import cm, colors\n",
    "import colorcet as cc\n",
    "\n",
    "mymap = colors.LinearSegmentedColormap.from_list('my_colormap', cc.CET_L20)\n",
    "\n",
    "colors2 = mymap(np.linspace(0.2, 1, 128)) # 30%-100%\n",
    "colors3 = plt.cm.Greys_r(np.linspace(0.8,0.9,5))\n",
    "colorsComb = np.vstack([colors3, colors2])\n",
    "mymap = colors.LinearSegmentedColormap.from_list('my_colormap', colorsComb)\n",
    "\n",
    "sc.pl.umap(adata, color=['FFAR2','CLC','CEBPE','ALOX5'], frameon=False, color_map = mymap)\n",
    "sc.pl.umap(adata, color=['IL1B','HCAR2','HCAR3','FCGR3B'], frameon=False, color_map = mymap)\n",
    "sc.pl.umap(adata, color=['CXCR1','CXCR2','CXCR3','CCR1'], frameon=False, color_map = mymap)"
   ]
  },
  {
   "cell_type": "code",
   "execution_count": null,
   "id": "27bcfd4c",
   "metadata": {},
   "outputs": [],
   "source": [
    "sc.settings.set_figure_params(dpi=150, figsize = (4, 4), fontsize=12)\n",
    "sc.pl.dotplot(adata, ['CXCR1','CXCR2','CCR1','CCR3'], groupby='annotation',standard_scale='var')"
   ]
  },
  {
   "cell_type": "code",
   "execution_count": null,
   "id": "163a502e",
   "metadata": {
    "scrolled": false
   },
   "outputs": [],
   "source": [
    "sc.settings.set_figure_params(dpi=150, figsize = (4, 4), fontsize=12)\n",
    "sc.pl.dotplot(adata, ['FFAR2','ALOX15','ALOX5AP','ALOX5','LTA4H','LTC4S','LTB4R','LTB4R2','CYSLTR1','CYSLTR2'], groupby='annotation',standard_scale='var')"
   ]
  },
  {
   "cell_type": "code",
   "execution_count": null,
   "id": "be03969c",
   "metadata": {},
   "outputs": [],
   "source": [
    "adata = sc.read('/mnt/data2/Datasets/Human_non_intestine_datasets/Qilu_Otorhinolaryngology_surgery_data/dataset_output/IMM.h5ad')\n",
    "adata"
   ]
  },
  {
   "cell_type": "code",
   "execution_count": null,
   "id": "3b30b078",
   "metadata": {},
   "outputs": [],
   "source": [
    "sc.settings.set_figure_params(dpi=300, figsize = (4, 4), fontsize=12)\n",
    "\n",
    "from matplotlib import cm, colors\n",
    "import colorcet as cc\n",
    "\n",
    "mymap = colors.LinearSegmentedColormap.from_list('my_colormap', cc.CET_L20)\n",
    "\n",
    "colors2 = mymap(np.linspace(0.2, 1, 128)) # 30%-100%\n",
    "colors3 = plt.cm.Greys_r(np.linspace(0.8,0.9,5))\n",
    "colorsComb = np.vstack([colors3, colors2])\n",
    "mymap = colors.LinearSegmentedColormap.from_list('my_colormap', colorsComb)\n",
    "\n",
    "sc.pl.umap(adata, color=['OXTR','OXT','AVP'], frameon=False, color_map = mymap)"
   ]
  }
 ],
 "metadata": {
  "kernelspec": {
   "display_name": "Python [conda env:singlecell]",
   "language": "python",
   "name": "conda-env-singlecell-py"
  },
  "language_info": {
   "codemirror_mode": {
    "name": "ipython",
    "version": 3
   },
   "file_extension": ".py",
   "mimetype": "text/x-python",
   "name": "python",
   "nbconvert_exporter": "python",
   "pygments_lexer": "ipython3",
   "version": "3.11.4"
  },
  "toc": {
   "base_numbering": 1,
   "nav_menu": {},
   "number_sections": true,
   "sideBar": true,
   "skip_h1_title": false,
   "title_cell": "Table of Contents",
   "title_sidebar": "Contents",
   "toc_cell": false,
   "toc_position": {
    "height": "calc(100% - 180px)",
    "left": "10px",
    "top": "150px",
    "width": "165px"
   },
   "toc_section_display": true,
   "toc_window_display": true
  }
 },
 "nbformat": 4,
 "nbformat_minor": 5
}
