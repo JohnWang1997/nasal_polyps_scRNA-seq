{
 "cells": [
  {
   "cell_type": "code",
   "execution_count": null,
   "id": "d09732e1",
   "metadata": {
    "scrolled": true
   },
   "outputs": [],
   "source": [
    "#!/usr/bin/env python\n",
    "# -*- coding: utf-8 -*-\n",
    "import numpy as np\n",
    "import pandas as pd\n",
    "import scanpy as sc\n",
    "import anndata\n",
    "import bbknn\n",
    "import os\n",
    "from scipy import sparse\n",
    "import matplotlib.pyplot as plt\n",
    "# from scanpy_base_moudle_update2 import *\n",
    "# import scrublet as scr\n",
    "import datetime\n",
    "import harmonypy as hm\n",
    "\n",
    "sc.settings.verbosity = 3\n",
    "#sc.logging.print_versions()\n",
    "# 设置图片的分辨率以及其他样式\n",
    "sc.settings.set_figure_params(dpi=150, figsize = (4, 3), fontsize=12)\n",
    "\n",
    "import matplotlib.font_manager\n",
    "flist = matplotlib.font_manager.get_fontconfig_fonts()\n",
    "names = [matplotlib.font_manager.FontProperties(fname=fname).get_name() for fname in flist]\n",
    "print(names)\n",
    "\n",
    "params={\n",
    "        #'font.style':'italic',\n",
    "        'font.weight':'normal',    #or 'blod'\n",
    "        }\n",
    "plt.rcParams.update(params)\n",
    "\n",
    "plt.rcParams['font.family']='Arial'"
   ]
  },
  {
   "cell_type": "markdown",
   "id": "dc8ed827",
   "metadata": {},
   "source": [
    "# Fig1A"
   ]
  },
  {
   "cell_type": "code",
   "execution_count": null,
   "id": "f7620748",
   "metadata": {},
   "outputs": [],
   "source": [
    "def change_obs_index_v2(x):\n",
    "    \"\"\"\n",
    "    该函数用于修正concatenate样本或数据集后变更的barcodes名。\n",
    "    \"\"\"  \n",
    "    x = x[:-2]\n",
    "    return x"
   ]
  },
  {
   "cell_type": "code",
   "execution_count": null,
   "id": "9b53c6ed",
   "metadata": {},
   "outputs": [],
   "source": [
    "adata_epi = sc.read('/mnt/data2/Datasets/Human_non_intestine_datasets/Qilu_Otorhinolaryngology_surgery_data/dataset_output/EPI.h5ad')\n",
    "adata_epi = sc.AnnData(X=adata_epi.raw.X, var=adata_epi.raw.var, obs = adata_epi.obs)\n",
    "\n",
    "adata_imm = sc.read('/mnt/data2/Datasets/Human_non_intestine_datasets/Qilu_Otorhinolaryngology_surgery_data/dataset_output/IMM.h5ad')\n",
    "adata_imm = sc.AnnData(X=adata_imm.raw.X, var=adata_imm.raw.var, obs = adata_imm.obs)\n",
    "\n",
    "adata_str = sc.read('/mnt/data2/Datasets/Human_non_intestine_datasets/Qilu_Otorhinolaryngology_surgery_data/dataset_output/Stromal.h5ad')\n",
    "adata_str = sc.AnnData(X=adata_str.raw.X, var=adata_str.raw.var, obs = adata_str.obs)"
   ]
  },
  {
   "cell_type": "code",
   "execution_count": null,
   "id": "6fa49be9",
   "metadata": {},
   "outputs": [],
   "source": [
    "adata = adata_epi.concatenate([adata_imm,adata_str], batch_categories=['1','2','3'], join=\"outer\")\n",
    "adata.var = adata.var[[]]\n",
    "adata"
   ]
  },
  {
   "cell_type": "code",
   "execution_count": null,
   "id": "5940cda6",
   "metadata": {},
   "outputs": [],
   "source": [
    "adata.obs.rename(index=change_obs_index_v2,inplace=True)\n",
    "adata.obs"
   ]
  },
  {
   "cell_type": "code",
   "execution_count": null,
   "id": "771babee",
   "metadata": {},
   "outputs": [],
   "source": [
    "drop_list = ['mean_epi_score', 'mean_T_ILCs_score', 'mean_B_score', 'mean_MNPs_score', 'mean_Mast_score', 'mean_Stromal_score', 'bbknn_batch', 'Compartments', 'leiden', 'leiden-all-0.5', 'leiden-all-1', 'ann', 'count_CD45', 'count_CD3D', 'count_CD3E', 'count_CD79A', 'count_CD79B', 'count_EPCAM', 'leiden-all-1.5']\n",
    "adata.obs = adata.obs.drop(drop_list, axis=1)\n",
    "adata"
   ]
  },
  {
   "cell_type": "code",
   "execution_count": null,
   "id": "9b2ee340",
   "metadata": {},
   "outputs": [],
   "source": [
    "adata.obs['annotation'] = adata.obs['annotation'].astype('category')\n",
    "adata.obs['annotation'].cat.categories"
   ]
  },
  {
   "cell_type": "code",
   "execution_count": null,
   "id": "bced8a98",
   "metadata": {},
   "outputs": [],
   "source": [
    "for i in list(adata.obs['annotation'].cat.categories):\n",
    "    \n",
    "    single_index = adata.obs.loc[adata.obs['annotation'].isin([i]), :].index\n",
    "    \n",
    "    if i.split('-')[0] == 'C01':\n",
    "        adata.obs.at[single_index,'Compartment']='Epithelium'\n",
    "    elif i.split('-')[0] == 'C02':\n",
    "        adata.obs.at[single_index,'Compartment']='T/ILCs'\n",
    "    elif i.split('-')[0] == 'C03':\n",
    "        adata.obs.at[single_index,'Compartment']='B cells'\n",
    "    elif i.split('-')[0] == 'C04':\n",
    "        adata.obs.at[single_index,'Compartment']='MNPs'\n",
    "    elif i.split('-')[0] == 'C05':\n",
    "        adata.obs.at[single_index,'Compartment']='Mast cells'\n",
    "    elif i.split('-')[0] == 'C06':\n",
    "        adata.obs.at[single_index,'Compartment']='Stromal cells'"
   ]
  },
  {
   "cell_type": "code",
   "execution_count": null,
   "id": "68e0ff9a",
   "metadata": {},
   "outputs": [],
   "source": [
    "def hvg_regress_scale(adata):\n",
    "    # 注意，HVG要求输入的矩阵必须是对数化处理的\n",
    "    sc.pp.highly_variable_genes(adata, min_mean=0.0125, max_mean=3, min_disp=0.5)\n",
    "    adata = adata[:, adata.var.highly_variable]\n",
    "    print(adata)\n",
    "    \n",
    "    # sc.pp.regress_out(adata, ['S_score', 'G2M_score'])\n",
    "    \n",
    "    sc.pp.scale(adata, zero_center=False)\n",
    "\n",
    "    return adata\n",
    "\n",
    "def progress_pca_bbknn_umap_tsne(adata, n_pcs=20, batch_key='bbknn_batch'):\n",
    "    ## 主成分分析降维\n",
    "    sc.tl.pca(adata, svd_solver='arpack')\n",
    "    # 在PCA坐标中绘制散点图\n",
    "    sc.pl.pca(adata)\n",
    "    # 可视化每个PC对数据总方差的贡献, 这为我们提供了有关为计算单元的邻域关系应考虑的PC数量的信息sc.tl.tsne()\n",
    "    sc.pl.pca_variance_ratio(adata, log=True)\n",
    "\n",
    "    # 使用bbknn算法处理批次效应(代替了neighbors)\n",
    "    # bbknn要求数据已经过标准化和主成分分析\n",
    "    adata.obs['bbknn_batch'] = [str(i)+'-'+str(j) for i,j in zip(adata.obs['dataset'], adata.obs['batch_name'])]\n",
    "    sc.external.pp.bbknn(adata, batch_key=batch_key, n_pcs=n_pcs)\n",
    "    \n",
    "    # 计算UMAP\n",
    "    sc.tl.umap(adata)\n",
    "    # sc.tl.tsne(adata, n_jobs=6)\n",
    "\n",
    "    return adata"
   ]
  },
  {
   "cell_type": "code",
   "execution_count": null,
   "id": "128a1ae7",
   "metadata": {},
   "outputs": [],
   "source": [
    "adata.raw = adata\n",
    "\n",
    "adata = hvg_regress_scale(adata)\n",
    "adata = progress_pca_bbknn_umap_tsne(adata)"
   ]
  },
  {
   "cell_type": "code",
   "execution_count": null,
   "id": "c07d36b3",
   "metadata": {},
   "outputs": [],
   "source": [
    "sc.settings.set_figure_params(dpi=300, figsize = (4, 4), fontsize=7)\n",
    "sc.pl.umap(adata, color=['Compartment'], add_outline=True, palette=\"tab20_r\", frameon=False)"
   ]
  },
  {
   "cell_type": "code",
   "execution_count": null,
   "id": "9461fe02",
   "metadata": {},
   "outputs": [],
   "source": [
    "sc.settings.set_figure_params(dpi=300, figsize = (4, 4), fontsize=7)\n",
    "sc.pl.umap(adata, color=['annotation'], add_outline=True, palette=\"tab20_r\", frameon=False)"
   ]
  },
  {
   "cell_type": "code",
   "execution_count": null,
   "id": "e29af37e",
   "metadata": {
    "scrolled": false
   },
   "outputs": [],
   "source": [
    "sc.pl.umap(adata, color=['tissue'], add_outline=True, palette=\"tab20_r\", frameon=False)"
   ]
  },
  {
   "cell_type": "code",
   "execution_count": null,
   "id": "085176ac",
   "metadata": {},
   "outputs": [],
   "source": [
    "# 修改B细胞的注释，将Plasma改为IgA和IgG Plasma\n",
    "adata = sc.read('/mnt/data2/Datasets/Human_non_intestine_datasets/Qilu_Otorhinolaryngology_surgery_data/dataset_output/Fig1_All_219716.h5ad')\n",
    "adata"
   ]
  },
  {
   "cell_type": "code",
   "execution_count": null,
   "id": "06918ce3",
   "metadata": {},
   "outputs": [],
   "source": [
    "adata_B = sc.read('/mnt/data2/Datasets/Human_non_intestine_datasets/Qilu_Otorhinolaryngology_surgery_data/dataset_output/B_annotation.h5ad')\n",
    "adata_B"
   ]
  },
  {
   "cell_type": "code",
   "execution_count": null,
   "id": "46e0828e",
   "metadata": {},
   "outputs": [],
   "source": [
    "# IgA Plasma cells\n",
    "B04_index = adata_B.obs.loc[adata_B.obs[\"annotation\"].isin(['C03-B04-IgA Plasma cells']), :].index\n",
    "# IgG Plasma\n",
    "B05_index = adata_B.obs.loc[adata_B.obs[\"annotation\"].isin(['C03-B05-IgG Plasma cells']), :].index"
   ]
  },
  {
   "cell_type": "code",
   "execution_count": null,
   "id": "60ef8224",
   "metadata": {},
   "outputs": [],
   "source": [
    "adata.obs['annotation'] = adata.obs['annotation'].astype('string')\n",
    "\n",
    "adata.obs.at[B04_index,'annotation']='C03-B04-IgA Plasma cells'\n",
    "adata.obs.at[B05_index,'annotation']='C03-B05-IgG Plasma cells'"
   ]
  },
  {
   "cell_type": "code",
   "execution_count": null,
   "id": "544b1c43",
   "metadata": {},
   "outputs": [],
   "source": [
    "sc.settings.set_figure_params(dpi=300, figsize = (4, 4), fontsize=7)\n",
    "sc.pl.umap(adata, color=['annotation'], add_outline=True, palette=\"tab20_r\", frameon=False)"
   ]
  },
  {
   "cell_type": "code",
   "execution_count": null,
   "id": "836ecdf6",
   "metadata": {},
   "outputs": [],
   "source": [
    "sc.settings.set_figure_params(dpi=300, figsize = (4, 4), fontsize=7)\n",
    "sc.pl.umap(adata, color=['annotation'], add_outline=True, palette=\"tab20_r\", frameon=False)"
   ]
  },
  {
   "cell_type": "code",
   "execution_count": null,
   "id": "016a9a43",
   "metadata": {},
   "outputs": [],
   "source": [
    "adata.write('/mnt/data2/Datasets/Human_non_intestine_datasets/Qilu_Otorhinolaryngology_surgery_data/dataset_output/Fig1_All_219716.h5ad')"
   ]
  },
  {
   "cell_type": "code",
   "execution_count": null,
   "id": "6c94a4f8",
   "metadata": {},
   "outputs": [],
   "source": [
    "adata = sc.read('/mnt/data2/Datasets/Human_non_intestine_datasets/Qilu_Otorhinolaryngology_surgery_data/dataset_output/Fig1_All_219716.h5ad')\n",
    "adata"
   ]
  },
  {
   "cell_type": "code",
   "execution_count": null,
   "id": "3b13807c",
   "metadata": {},
   "outputs": [],
   "source": [
    "Groups_tab_1 = pd.crosstab(index=adata.obs['Compartment'],  # Make a crosstab\n",
    "                columns=adata.obs['Health'], margins=True)  # Name the count column\n",
    "Groups_tab_1"
   ]
  },
  {
   "cell_type": "code",
   "execution_count": null,
   "id": "e17ed50c",
   "metadata": {},
   "outputs": [],
   "source": [
    "Groups_tab_1 = pd.crosstab(index=adata.obs['Compartment'],  # Make a crosstab\n",
    "                columns=adata.obs['tissue'], margins=True)  # Name the count column\n",
    "Groups_tab_1"
   ]
  },
  {
   "cell_type": "code",
   "execution_count": null,
   "id": "acf4dff9",
   "metadata": {},
   "outputs": [],
   "source": [
    "#              inferior(HC) inferior(CR) middle(CR) polyp(CR)\n",
    "# Epithelium:   9584           22435       14646    30149\n",
    "# T/ILCs:       1784           9107        15502    20269\n",
    "# B cells:      80            2092       847      9172\n",
    "# MNPs:         88           1218       613      4608\n",
    "# Mast cells:   11           510       307      3316\n",
    "# Stromal cells:3902        17551     28408    23517"
   ]
  },
  {
   "cell_type": "code",
   "execution_count": null,
   "id": "2e2c536a",
   "metadata": {},
   "outputs": [],
   "source": [
    "## Postnatal and Mouse\n",
    "plot_df_2 = pd.DataFrame(data=[\n",
    "                   [ 9584, 22435, 14646, 30149],\n",
    "                   [ 1784, 9107, 15502, 20269],\n",
    "                   [ 80, 2092, 847, 9172],\n",
    "                   [ 88, 1218, 613, 4608],\n",
    "                   [ 11, 510, 307, 3316],\n",
    "                   [ 3902, 17551, 28408, 23517],\n",
    "                   ],\n",
    "     \n",
    "             columns = ['inferior(HC)','inferior(CR)','middle(CR)','polyp(CR)'],\n",
    "                          \n",
    "             index = ['Epithelium','T/ILCs','B cells','MNPs','Mast cells','Stromal cells']\n",
    "                        )"
   ]
  },
  {
   "cell_type": "code",
   "execution_count": null,
   "id": "755e8cd3",
   "metadata": {},
   "outputs": [],
   "source": [
    "from matplotlib import cm, colors\n",
    "\n",
    "colors2 = plt.cm.viridis(np.linspace(0, 1, 128))\n",
    "colors3 = plt.cm.BuGn(np.linspace(0,0,1))\n",
    "colorsComb = np.vstack([colors3, colors2])\n",
    "mymap = colors.LinearSegmentedColormap.from_list('my_colormap', colorsComb)\n",
    "\n",
    "# Figure test1\n",
    "import seaborn as sns\n",
    "\n",
    "sns.set(style=\"ticks\", font='Arial', font_scale=1.5)\n",
    "ax = sns.heatmap(plot_df_2, linewidths=2.0, cmap=mymap) #gist_yarg  BuGn\n",
    "ax.figure.set_size_inches(5,5)\n",
    "\n",
    "plt.show()"
   ]
  },
  {
   "cell_type": "code",
   "execution_count": null,
   "id": "0d760789",
   "metadata": {},
   "outputs": [],
   "source": [
    "sc.settings.set_figure_params(dpi=300, figsize = (4, 4), fontsize=7)\n",
    "sc.pl.umap(adata, color=['Compartment'], add_outline=True, frameon=False)"
   ]
  },
  {
   "cell_type": "code",
   "execution_count": null,
   "id": "0b1658d7",
   "metadata": {},
   "outputs": [],
   "source": [
    "sc.settings.set_figure_params(dpi=300, figsize = (4, 4), fontsize=12)\n",
    "\n",
    "from matplotlib import cm, colors\n",
    "import colorcet as cc\n",
    "\n",
    "mymap = colors.LinearSegmentedColormap.from_list('my_colormap', cc.CET_L20)\n",
    "\n",
    "colors2 = mymap(np.linspace(0.2, 1, 128)) # 30%-100%\n",
    "colors3 = plt.cm.Greys_r(np.linspace(0.8,0.9,5))\n",
    "colorsComb = np.vstack([colors3, colors2])\n",
    "mymap = colors.LinearSegmentedColormap.from_list('my_colormap', colorsComb)\n",
    "\n",
    "sc.pl.umap(adata, color=['OXT','AVP','OXTR','HLA-DQA2'], frameon=False, color_map = mymap)\n",
    "sc.pl.umap(adata, color=['HLA-DQA1','DEFB1','CXCL9','CXCL10'], frameon=False, color_map = mymap)\n",
    "sc.pl.umap(adata, color=['CXCL11','EREG','DUOX2','LYPD3'], frameon=False, color_map = mymap)"
   ]
  },
  {
   "cell_type": "code",
   "execution_count": null,
   "id": "23c41fd2",
   "metadata": {},
   "outputs": [],
   "source": [
    "print(adata.obs['Compartment'].cat.categories)"
   ]
  },
  {
   "cell_type": "code",
   "execution_count": null,
   "id": "e10b9fbb",
   "metadata": {},
   "outputs": [],
   "source": [
    "old_colors = np.array(adata.uns['Compartment_colors'])\n",
    "\n",
    "new_colors = old_colors\n",
    "# B cells\n",
    "new_colors[[0]] = '#2276b2'\n",
    "# Epithelium\n",
    "new_colors[[1]] = '#f2a51f'\n",
    "# MNPs/DCs\n",
    "new_colors[[2]] = '#cc2028'\n",
    "# Mast cells\n",
    "new_colors[[3]] = '#d67ab0'\n",
    "# Stromal cells\n",
    "new_colors[[4]] = '#89562b'\n",
    "# T/ILCs\n",
    "new_colors[[5]] = '#427637'\n",
    "\n",
    "adata.uns['Compartment_colors'] = new_colors"
   ]
  },
  {
   "cell_type": "code",
   "execution_count": null,
   "id": "6a281cca",
   "metadata": {},
   "outputs": [],
   "source": [
    "sc.settings.set_figure_params(dpi=600, figsize = (4, 4), fontsize=7)\n",
    "sc.pl.umap(adata, color=['Compartment'], add_outline=True, frameon=False)"
   ]
  },
  {
   "cell_type": "code",
   "execution_count": null,
   "id": "a0c2ffcc",
   "metadata": {},
   "outputs": [],
   "source": [
    "print(adata.obs['tissue'].cat.categories)\n",
    "\n",
    "old_colors = np.array(adata.uns['tissue_colors'])\n",
    "new_colors = old_colors\n",
    "\n",
    "# inferior turbinate\n",
    "new_colors[[0]] = '#ff0000'\n",
    "# middle turbinate\n",
    "new_colors[[1]] = '#0077b2'\n",
    "# polyp\n",
    "new_colors[[2]] = '#60b55c'\n",
    "\n",
    "adata.uns['tissue_colors'] = new_colors\n",
    "\n",
    "sc.settings.set_figure_params(dpi=400, figsize = (4, 4), fontsize=7)\n",
    "sc.pl.umap(adata, color=['tissue'], frameon=False, title='')"
   ]
  },
  {
   "cell_type": "code",
   "execution_count": null,
   "id": "b9d912fd",
   "metadata": {},
   "outputs": [],
   "source": [
    "sc.pl.umap(adata, color=['tissue'], groups = ['polyp'], frameon=False, title ='')"
   ]
  },
  {
   "cell_type": "code",
   "execution_count": null,
   "id": "3329fc4e",
   "metadata": {},
   "outputs": [],
   "source": [
    "sc.pl.umap(adata, color=['Disease_state'], frameon=False, title='')"
   ]
  },
  {
   "cell_type": "code",
   "execution_count": null,
   "id": "00112862",
   "metadata": {},
   "outputs": [],
   "source": [
    "sc.pl.umap(adata, color=['Health'], frameon=False, title='')"
   ]
  },
  {
   "cell_type": "code",
   "execution_count": null,
   "id": "edaf9750",
   "metadata": {},
   "outputs": [],
   "source": [
    "adata.uns['Health_colors']"
   ]
  },
  {
   "cell_type": "code",
   "execution_count": null,
   "id": "3b936547",
   "metadata": {},
   "outputs": [],
   "source": [
    "print(adata.obs['tissue'].cat.categories)\n",
    "\n",
    "old_colors = np.array(adata.uns['Health_colors'])\n",
    "new_colors = old_colors\n",
    "\n",
    "# HC\n",
    "new_colors[[0]] = '#1f77b4'\n",
    "# \n",
    "new_colors[[1]] = '#60b55c'\n",
    "\n",
    "adata.uns['Health_colors'] = new_colors\n",
    "\n",
    "sc.settings.set_figure_params(dpi=400, figsize = (4, 4), fontsize=7)\n",
    "sc.pl.umap(adata, color=['Health'], frameon=False, title='')"
   ]
  },
  {
   "cell_type": "code",
   "execution_count": null,
   "id": "d94cd5fa",
   "metadata": {},
   "outputs": [],
   "source": [
    "sc.pl.umap(adata, color=['Health'], groups = ['healthy control'], frameon=False, title ='')"
   ]
  },
  {
   "cell_type": "markdown",
   "id": "04bc968f",
   "metadata": {},
   "source": [
    "# Fig1B"
   ]
  },
  {
   "cell_type": "code",
   "execution_count": null,
   "id": "2a846768",
   "metadata": {},
   "outputs": [],
   "source": [
    "adata = sc.read('/home/wangyue/basic-calculation_data/c_Project_outputs/qilu_CRSwNP/Fig1_All_219716.h5ad')"
   ]
  },
  {
   "cell_type": "code",
   "execution_count": null,
   "id": "cefb1d17",
   "metadata": {},
   "outputs": [],
   "source": [
    "adata"
   ]
  },
  {
   "cell_type": "raw",
   "id": "a338e5e2",
   "metadata": {},
   "source": [
    "新鉴定的细胞类型：\n",
    "（1）上皮：\n",
    "    1) PRB1+SMG, MMP7+SMG, MUC5B+SMG, \n",
    "    2) S100A8+APC cell, \n",
    "    3) KRT14+EMT cell\n",
    "（2）成纤维：PIEZO2+, OXTR+"
   ]
  },
  {
   "cell_type": "code",
   "execution_count": null,
   "id": "26a1bb8b",
   "metadata": {},
   "outputs": [],
   "source": [
    "adata.obs['annotation'].cat.categories"
   ]
  },
  {
   "cell_type": "code",
   "execution_count": null,
   "id": "23662900",
   "metadata": {},
   "outputs": [],
   "source": [
    "# 从所有细胞中，提取SMG, basal cell, KRT14+EMT cell, Fibroblast.\n",
    "\n",
    "E_index = adata.obs.loc[adata.obs[\"annotation\"].isin(['C01-E03-Club','C01-E11-LY6D+Club cell',\n",
    "                                                      'C01-E05-Glandular cell', 'C01-E06-MUC5B+GC','C01-E07-MMP7+GC', 'C01-E08-PRB1+GC',\n",
    "                                                      'C06-S06-Fibroblast','C06-S10-PIEZO2+fibroblast','C06-S11-OXTR+fibroblast','C06-S12-Activated fibroblast']), :].index\n",
    "F = adata[E_index, :]\n",
    "F"
   ]
  },
  {
   "cell_type": "code",
   "execution_count": null,
   "id": "7aebe7b3",
   "metadata": {},
   "outputs": [],
   "source": [
    "import cosg as cosg\n",
    "import time\n",
    "t0= time.clock()\n",
    "cosg.cosg(F,\n",
    "    key_added='cosg',\n",
    "        mu=1,\n",
    "        n_genes_user=50,\n",
    "               groupby='annotation')\n",
    "runtime_cosg = time.clock() - t0\n",
    "\n",
    "sc.settings.set_figure_params(dpi=200, figsize = (4, 4), fontsize=20)\n",
    "sc.pl.rank_genes_groups_dotplot(F,groupby='annotation',\n",
    "                                cmap='Spectral_r',\n",
    "                                 standard_scale='var',\n",
    "                                       n_genes=4,key='cosg')"
   ]
  },
  {
   "cell_type": "code",
   "execution_count": null,
   "id": "20c32c03",
   "metadata": {},
   "outputs": [],
   "source": [
    "import cosg as cosg\n",
    "\n",
    "cosg.cosg(F,\n",
    "    key_added='cosg',\n",
    "        mu=1,\n",
    "        n_genes_user=50,\n",
    "               groupby='annotation')"
   ]
  },
  {
   "cell_type": "code",
   "execution_count": null,
   "id": "728e9f06",
   "metadata": {},
   "outputs": [],
   "source": [
    "sc.settings.set_figure_params(dpi=200, figsize = (4, 4), fontsize=20)\n",
    "df_tmp=pd.DataFrame(F.uns['cosg']['names'][:4,]).T\n",
    "df_tmp.reindex(F.obs['annotation'].cat.categories)\n",
    "marker_genes_list=np.ravel(df_tmp.reindex(F.obs['annotation'].cat.categories))\n",
    "sc.pl.dotplot(F, marker_genes_list,\n",
    "             groupby='annotation',              \n",
    "             dendrogram=False,\n",
    "             standard_scale='var',\n",
    "             cmap='Spectral_r')"
   ]
  },
  {
   "cell_type": "code",
   "execution_count": null,
   "id": "5afbd355",
   "metadata": {},
   "outputs": [],
   "source": [
    "categories_order = ['C01-E01-Basal resting','C01-E11-S100A8+APC','C01-E12-KRT14+EMT cell','C01-E05-SMG','C01-E06-MUC5B+SMG','C01-E07-MMP7+SMG', 'C01-E08-PRB1+SMG','C06-S06-Fibroblast','C06-S10-PIEZO2+fibroblast','C06-S11-OXTR+fibroblast']"
   ]
  },
  {
   "cell_type": "code",
   "execution_count": null,
   "id": "82b91162",
   "metadata": {},
   "outputs": [],
   "source": [
    "# SMG在NP中上调CCL28，趋化嗜酸性粒细胞（CCR3）和Plasma cell\n",
    "marker_genes_list = ['KRT17','KRT15',\n",
    "                     'LY6D','S100A8','IL1RN','CXCL9','HLA-DQA2','EREG',\n",
    "                     'KRT14','MYLK','MYH11','COL9A3',\n",
    "                     'LYZ','AZGP1',\n",
    "                     'MUC5B','BPIFB2','TFF1',\n",
    "                     'MMP7','LCN2','CCL28',\n",
    "                     'PRB1','PRB2','PRB3',\n",
    "                     'DCN','FBLN1',\n",
    "                     'PIEZO2','TTR','SLC18A2',\n",
    "                     'OXTR','ALOX5AP','COL10A1']"
   ]
  },
  {
   "cell_type": "code",
   "execution_count": null,
   "id": "4603925b",
   "metadata": {},
   "outputs": [],
   "source": [
    "sc.settings.set_figure_params(dpi=300,fontsize=20)\n",
    "mp = sc.pl.dotplot(F, \n",
    "              marker_genes_list, \n",
    "              'annotation', \n",
    "              dendrogram=False, \n",
    "              #figsize=(3, 4),\n",
    "              use_raw=True,\n",
    "              cmap = 'Reds',\n",
    "              var_group_rotation=45,\n",
    "              #swap_axes=True,\n",
    "              categories_order=categories_order,\n",
    "              standard_scale='var',\n",
    "              colorbar_title=None,\n",
    "              return_fig=True\n",
    "              # , save='_' + sample_name + '_fig11.png'\n",
    "             ) \n",
    "mp.style(grid=True,cmap = 'Spectral_r').show() # RdYlBu_r"
   ]
  },
  {
   "cell_type": "code",
   "execution_count": null,
   "id": "cc441f2f",
   "metadata": {},
   "outputs": [],
   "source": [
    "categories_order = ['C01-E03-Club','C01-E11-LY6D+Club cell','C01-E05-Glandular cell', 'C01-E06-MUC5B+GC','C01-E07-MMP7+GC', 'C01-E08-PRB1+GC','C06-S06-Fibroblast','C06-S10-PIEZO2+fibroblast','C06-S11-OXTR+fibroblast','C06-S12-Activated fibroblast']"
   ]
  },
  {
   "cell_type": "code",
   "execution_count": null,
   "id": "930f97c2",
   "metadata": {},
   "outputs": [],
   "source": [
    "# SMG在NP中上调CCL28，趋化嗜酸性粒细胞（CCR3）和Plasma cell\n",
    "marker_genes_list = ['KRT5','SERPINB3',\n",
    "                     'LY6D','S100A8','IL1RN','HLA-DQA2','EREG',\n",
    "                     'LYZ','AZGP1',\n",
    "                     'MUC5B','BPIFB2','TFF1',\n",
    "                     'MMP7','LCN2','CCL28',\n",
    "                     'PRB1','PRB2','PRB3',\n",
    "                     'DCN','FBLN1',\n",
    "                     'PIEZO2','TTR','SLC18A2',\n",
    "                     'OXTR','ALOX5AP','COL10A1',\n",
    "                     'IDO1','MMP3','CXCL10']"
   ]
  },
  {
   "cell_type": "code",
   "execution_count": null,
   "id": "4ca0fedb",
   "metadata": {},
   "outputs": [],
   "source": [
    "import matplotlib.font_manager\n",
    "flist = matplotlib.font_manager.get_fontconfig_fonts()\n",
    "names = [matplotlib.font_manager.FontProperties(fname=fname).get_name() for fname in flist]\n",
    "print(names)\n",
    "\n",
    "params={\n",
    "        'font.style':'italic',\n",
    "        'font.weight':'normal',    #or 'blod'\n",
    "        }\n",
    "plt.rcParams.update(params)\n",
    "\n",
    "plt.rcParams['font.family']='Arial'"
   ]
  },
  {
   "cell_type": "code",
   "execution_count": null,
   "id": "33731be1",
   "metadata": {},
   "outputs": [],
   "source": [
    "sc.settings.set_figure_params(dpi=300,fontsize=20)\n",
    "mp = sc.pl.dotplot(F, \n",
    "              marker_genes_list, \n",
    "              'annotation', \n",
    "              dendrogram=False, \n",
    "              #figsize=(3, 4),\n",
    "              use_raw=True,\n",
    "              cmap = 'Reds',\n",
    "              var_group_rotation=45,\n",
    "              #swap_axes=True,\n",
    "              categories_order=categories_order,\n",
    "              standard_scale='var',\n",
    "              colorbar_title=None,\n",
    "              return_fig=True\n",
    "              # , save='_' + sample_name + '_fig11.png'\n",
    "             ) \n",
    "mp.style(grid=True,cmap = 'Spectral_r').show() # RdYlBu_r"
   ]
  },
  {
   "cell_type": "markdown",
   "id": "b4020916",
   "metadata": {},
   "source": [
    "# Fig1C"
   ]
  },
  {
   "cell_type": "code",
   "execution_count": null,
   "id": "af231765",
   "metadata": {},
   "outputs": [],
   "source": [
    "adata = sc.read('/mnt/data2/Datasets/Human_non_intestine_datasets/Qilu_Otorhinolaryngology_surgery_data/dataset_output/Fig1_All_219716.h5ad')\n",
    "adata"
   ]
  },
  {
   "cell_type": "code",
   "execution_count": null,
   "id": "168f5cc4",
   "metadata": {},
   "outputs": [],
   "source": [
    "# 下鼻甲，比较健康和慢性鼻窦炎\n",
    "E_index = adata.obs.loc[adata.obs[\"tissue\"].isin(['inferior turbinate']), :].index\n",
    "adata_IT = adata[E_index, :]\n",
    "adata_IT"
   ]
  },
  {
   "cell_type": "code",
   "execution_count": null,
   "id": "a02625d6",
   "metadata": {},
   "outputs": [],
   "source": [
    "Compartment_list = []\n",
    "\n",
    "for i in adata_IT.obs['Compartment'].to_list():\n",
    "    \n",
    "    if i == 'Epithelium':\n",
    "        j = '1-Epithelium'\n",
    "    elif i == 'T/ILCs':\n",
    "        j = '2-T/ILCs'\n",
    "    elif i == 'B cells':\n",
    "        j = '3-B cells'\n",
    "    elif i == 'MNPs':\n",
    "        j = '4-MNPs'\n",
    "    elif i == 'Mast cells':\n",
    "        j = '5-Mast cells'\n",
    "    else:\n",
    "        j = '6-Stromal cells'\n",
    "        \n",
    "    Compartment_list.append(j)\n",
    "\n",
    "adata_IT.obs['Compartment_name'] = Compartment_list"
   ]
  },
  {
   "cell_type": "code",
   "execution_count": null,
   "id": "5d8479f7",
   "metadata": {},
   "outputs": [],
   "source": [
    "Groups_tab_1 = pd.crosstab(index=adata_IT.obs['Health'],  # Make a crosstab\n",
    "                        columns=adata_IT.obs['Compartment_name'], margins=True)               # Name the count column\n",
    "MyTab_1= Groups_tab_1.div(Groups_tab_1[\"All\"], axis=0)\n",
    "MyTab2_1 = MyTab_1.drop(columns=\"All\")\n",
    "MyTab2_1 = MyTab2_1.drop(index=\"All\")\n",
    "MyTab2_1.T"
   ]
  },
  {
   "cell_type": "code",
   "execution_count": null,
   "id": "e212d392",
   "metadata": {},
   "outputs": [],
   "source": [
    "old_colors = np.array(adata_IT.uns['Compartment_colors'])\n",
    "\n",
    "new_colors = old_colors\n",
    "# B cells\n",
    "new_colors[[0]] = '#2276b2'\n",
    "# Epithelium\n",
    "new_colors[[1]] = '#f2a51f'\n",
    "# MNPs/DCs\n",
    "new_colors[[2]] = '#cc2028'\n",
    "# Mast cells\n",
    "new_colors[[3]] = '#d67ab0'\n",
    "# Stromal cells\n",
    "new_colors[[4]] = '#89562b'\n",
    "# T/ILCs\n",
    "new_colors[[5]] = '#427637'\n",
    "\n",
    "adata_IT.uns['Compartment_colors'] = new_colors"
   ]
  },
  {
   "cell_type": "code",
   "execution_count": null,
   "id": "61e4d9bf",
   "metadata": {
    "scrolled": false
   },
   "outputs": [],
   "source": [
    "sc.settings.set_figure_params(dpi=400, figsize = (4, 4), fontsize=7)\n",
    "MyTab2_1 = MyTab2_1.T\n",
    "order = ['healthy control', 'polyp']\n",
    "MyTab2_1 = MyTab2_1[order]\n",
    "MyTab2_1 = MyTab2_1.T\n",
    "#categories = IMM_group[::-1]\n",
    "\n",
    "MyTab2_1.columns = pd.CategoricalIndex(MyTab2_1.columns.values)\n",
    "\n",
    "# Sort the columns (axis=1) by the new categorical ordering\n",
    "MyTab2_1 = MyTab2_1.sort_index(axis=1)\n",
    "\n",
    "ax = MyTab2_1.plot.bar(\n",
    "            figsize=(2.6,5),\n",
    "            stacked=True,\n",
    "            edgecolor = '#000000',\n",
    "            linewidth=0.4,\n",
    "            width=0.8, \n",
    "            fontsize=25,\n",
    "            color={\"1-Epithelium\": \"#f2a51f\",\n",
    "                   \"2-T/ILCs\": \"#427637\",\"3-B cells\": \"#2276b2\", \"4-MNPs\": \"#cc2028\", \"5-Mast cells\": \"#d67ab0\",\n",
    "                   \"6-Stromal cells\": \"#89562b\"}\n",
    "             )\n",
    "\n",
    "\n",
    "plt.title(\"\", fontsize=12)\n",
    "plt.ylabel(\"\", fontsize=12)\n",
    "plt.xlabel(\"\", fontsize=12)\n",
    "plt.ylim=1.0\n",
    "\n",
    "#plt.gca().get_legend().remove() #remove legend\n",
    "# plt.legend(categories, loc='center left', bbox_to_anchor=(1, 0.6), fontsize=12)\n",
    "# plt.savefig('Proportion of clusters accross organs.png')\n",
    "# 去除刻度\n",
    "#plt.xticks([])\n",
    "#plt.yticks([])\n",
    "# ax.tick_params(bottom=False, top=False, left=False, right=False)\n",
    "handles, labels = ax.get_legend_handles_labels()\n",
    "ax.legend(reversed(handles), reversed(labels), loc='center left', bbox_to_anchor=(1, 0.6), fontsize=8)\n",
    "plt.grid(False)\n",
    "\n",
    "ax.spines['top'].set_visible(False)\n",
    "ax.spines['right'].set_visible(False)\n",
    "\n",
    "plt.show()"
   ]
  },
  {
   "cell_type": "code",
   "execution_count": null,
   "id": "fcb94476",
   "metadata": {},
   "outputs": [],
   "source": [
    "# 发炎中鼻甲与鼻息肉对比\n",
    "# 下鼻甲，比较健康和慢性鼻窦炎\n",
    "E_index = adata.obs.loc[adata.obs[\"tissue\"].isin(['middle turbinate','polyp']), :].index\n",
    "adata_MT = adata[E_index, :]\n",
    "adata_MT"
   ]
  },
  {
   "cell_type": "code",
   "execution_count": null,
   "id": "b4ba7628",
   "metadata": {},
   "outputs": [],
   "source": [
    "Compartment_list = []\n",
    "\n",
    "for i in adata_MT.obs['Compartment'].to_list():\n",
    "    \n",
    "    if i == 'Epithelium':\n",
    "        j = '1-Epithelium'\n",
    "    elif i == 'T/ILCs':\n",
    "        j = '2-T/ILCs'\n",
    "    elif i == 'B cells':\n",
    "        j = '3-B cells'\n",
    "    elif i == 'MNPs':\n",
    "        j = '4-MNPs'\n",
    "    elif i == 'Mast cells':\n",
    "        j = '5-Mast cells'\n",
    "    else:\n",
    "        j = '6-Stromal cells'\n",
    "        \n",
    "    Compartment_list.append(j)\n",
    "\n",
    "adata_MT.obs['Compartment_name'] = Compartment_list"
   ]
  },
  {
   "cell_type": "code",
   "execution_count": null,
   "id": "1f2ebb21",
   "metadata": {},
   "outputs": [],
   "source": [
    "Groups_tab_1 = pd.crosstab(index=adata_MT.obs['tissue'],  # Make a crosstab\n",
    "                        columns=adata_MT.obs['Compartment_name'], margins=True)               # Name the count column\n",
    "MyTab_1= Groups_tab_1.div(Groups_tab_1[\"All\"], axis=0)\n",
    "MyTab2_1 = MyTab_1.drop(columns=\"All\")\n",
    "MyTab2_1 = MyTab2_1.drop(index=\"All\")\n",
    "MyTab2_1.T"
   ]
  },
  {
   "cell_type": "code",
   "execution_count": null,
   "id": "3ee44e86",
   "metadata": {},
   "outputs": [],
   "source": [
    "old_colors = np.array(adata_MT.uns['Compartment_colors'])\n",
    "\n",
    "new_colors = old_colors\n",
    "# B cells\n",
    "new_colors[[0]] = '#2276b2'\n",
    "# Epithelium\n",
    "new_colors[[1]] = '#f2a51f'\n",
    "# MNPs/DCs\n",
    "new_colors[[2]] = '#cc2028'\n",
    "# Mast cells\n",
    "new_colors[[3]] = '#d67ab0'\n",
    "# Stromal cells\n",
    "new_colors[[4]] = '#89562b'\n",
    "# T/ILCs\n",
    "new_colors[[5]] = '#427637'\n",
    "\n",
    "adata_MT.uns['Compartment_colors'] = new_colors"
   ]
  },
  {
   "cell_type": "code",
   "execution_count": null,
   "id": "af616dee",
   "metadata": {},
   "outputs": [],
   "source": [
    "MyTab2_1 = MyTab2_1.T\n",
    "order = ['middle turbinate', 'polyp']\n",
    "MyTab2_1 = MyTab2_1[order]\n",
    "MyTab2_1 = MyTab2_1.T\n",
    "#categories = IMM_group[::-1]\n",
    "\n",
    "MyTab2_1.columns = pd.CategoricalIndex(MyTab2_1.columns.values)\n",
    "\n",
    "# Sort the columns (axis=1) by the new categorical ordering\n",
    "MyTab2_1 = MyTab2_1.sort_index(axis=1)\n",
    "\n",
    "ax = MyTab2_1.plot.bar(\n",
    "            figsize=(2.6,5),\n",
    "            stacked=True,\n",
    "            edgecolor = '#000000',\n",
    "            linewidth=0.4,\n",
    "            width=0.8, \n",
    "            fontsize=25,\n",
    "            color={\"1-Epithelium\": \"#f2a51f\",\n",
    "                   \"2-T/ILCs\": \"#427637\",\"3-B cells\": \"#2276b2\", \"4-MNPs\": \"#cc2028\", \"5-Mast cells\": \"#d67ab0\",\n",
    "                   \"6-Stromal cells\": \"#89562b\"}\n",
    "             )\n",
    "\n",
    "\n",
    "plt.title(\"\", fontsize=12)\n",
    "plt.ylabel(\"\", fontsize=12)\n",
    "plt.xlabel(\"\", fontsize=12)\n",
    "plt.ylim=1.0\n",
    "\n",
    "#plt.gca().get_legend().remove() #remove legend\n",
    "# plt.legend(categories, loc='center left', bbox_to_anchor=(1, 0.6), fontsize=12)\n",
    "# plt.savefig('Proportion of clusters accross organs.png')\n",
    "# 去除刻度\n",
    "#plt.xticks([])\n",
    "#plt.yticks([])\n",
    "# ax.tick_params(bottom=False, top=False, left=False, right=False)\n",
    "handles, labels = ax.get_legend_handles_labels()\n",
    "ax.legend(reversed(handles), reversed(labels), loc='center left', bbox_to_anchor=(1, 0.6), fontsize=8)\n",
    "plt.grid(False)\n",
    "\n",
    "ax.spines['top'].set_visible(False)\n",
    "ax.spines['right'].set_visible(False)\n",
    "\n",
    "plt.show()"
   ]
  },
  {
   "cell_type": "markdown",
   "id": "900c6e0e",
   "metadata": {},
   "source": [
    "# Fig1D"
   ]
  },
  {
   "cell_type": "markdown",
   "id": "08fe7514",
   "metadata": {},
   "source": [
    "**Regulon Visualization**"
   ]
  },
  {
   "cell_type": "code",
   "execution_count": null,
   "id": "24e077be",
   "metadata": {},
   "outputs": [],
   "source": [
    "import os, glob, re, pickle\n",
    "from functools import partial\n",
    "from collections import OrderedDict\n",
    "import operator as op\n",
    "from cytoolz import compose\n",
    "\n",
    "import pandas as pd\n",
    "import seaborn as sns\n",
    "import numpy as np\n",
    "import scanpy as sc\n",
    "import anndata as ad\n",
    "import matplotlib as mpl\n",
    "import matplotlib.pyplot as plt\n",
    "import loompy as lp\n",
    "\n",
    "from pyscenic.export import export2loom, add_scenic_metadata\n",
    "from pyscenic.utils import load_motifs\n",
    "from pyscenic.transform import df2regulons\n",
    "from pyscenic.aucell import aucell\n",
    "from pyscenic.binarization import binarize\n",
    "from pyscenic.rss import regulon_specificity_scores\n",
    "from pyscenic.plotting import plot_binarization, plot_rss\n",
    "\n",
    "from IPython.display import HTML, display\n",
    "\n",
    "import matplotlib.font_manager\n",
    "flist = matplotlib.font_manager.get_fontconfig_fonts()\n",
    "names = [matplotlib.font_manager.FontProperties(fname=fname).get_name() for fname in flist]\n",
    "print(names)\n",
    "\n",
    "params={\n",
    "        #'font.style':'italic',\n",
    "        'font.weight':'normal',    #or 'blod'\n",
    "        }\n",
    "plt.rcParams.update(params)\n",
    "\n",
    "plt.rcParams['font.family']='Arial'"
   ]
  },
  {
   "cell_type": "markdown",
   "id": "f74cf4ab",
   "metadata": {},
   "source": [
    "## TFs"
   ]
  },
  {
   "cell_type": "code",
   "execution_count": null,
   "id": "385ecb54",
   "metadata": {},
   "outputs": [],
   "source": [
    "AUCELL_MTX_FNAME = \"/mnt/data2/Datasets/Human_non_intestine_datasets/Qilu_Otorhinolaryngology_surgery_data/dataset_output/SCENIC/auc.csv\"\n",
    "BIN_MTX_FNAME = \"/mnt/data2/Datasets/Human_non_intestine_datasets/Qilu_Otorhinolaryngology_surgery_data/dataset_output/SCENIC/bin.csv\"\n",
    "THR_FNAME = \"/mnt/data2/Datasets/Human_non_intestine_datasets/Qilu_Otorhinolaryngology_surgery_data/dataset_output/SCENIC/thresholds.csv\"\n",
    "adjacencies_FNAME = '/mnt/data2/Datasets/Human_non_intestine_datasets/Qilu_Otorhinolaryngology_surgery_data/dataset_output/SCENIC/adj.tsv'\n",
    "MOTIFS_FNAME = '/mnt/data2/Datasets/Human_non_intestine_datasets/Qilu_Otorhinolaryngology_surgery_data/dataset_output/SCENIC/reg.csv'"
   ]
  },
  {
   "cell_type": "code",
   "execution_count": null,
   "id": "14f08e01",
   "metadata": {},
   "outputs": [],
   "source": [
    "auc_mtx = pd.read_csv(AUCELL_MTX_FNAME, index_col=0)\n",
    "bin_mtx = pd.read_csv(BIN_MTX_FNAME, index_col=0)\n",
    "thresholds = pd.read_csv(THR_FNAME, index_col=0).threshold\n",
    "adjacencies = pd.read_csv(adjacencies_FNAME, index_col=False, sep='\\t')\n",
    "df_motifs = load_motifs(MOTIFS_FNAME)"
   ]
  },
  {
   "cell_type": "code",
   "execution_count": null,
   "id": "8b8355d1",
   "metadata": {},
   "outputs": [],
   "source": [
    "# 最关键的矩阵数据，每个细胞的regulon评分\n",
    "auc_mtx.head(5)"
   ]
  },
  {
   "cell_type": "code",
   "execution_count": null,
   "id": "f58847ad",
   "metadata": {},
   "outputs": [],
   "source": [
    "adjacencies"
   ]
  },
  {
   "cell_type": "code",
   "execution_count": null,
   "id": "94a60084",
   "metadata": {},
   "outputs": [],
   "source": [
    "adjacencies[adjacencies['target'] == \"IL1RN\"].head(30)"
   ]
  },
  {
   "cell_type": "code",
   "execution_count": null,
   "id": "f2a1032c",
   "metadata": {},
   "outputs": [],
   "source": [
    "adjacencies[adjacencies['target'] == \"OXTR\"].head(30)"
   ]
  },
  {
   "cell_type": "code",
   "execution_count": null,
   "id": "42b4cf15",
   "metadata": {},
   "outputs": [],
   "source": [
    "search_se = adjacencies.loc[adjacencies['TF'] == \"AEBP1\", 'target'] == \"OXTR\"\n",
    "# 得到筛选后的行的index\n",
    "search_index = search_se[search_se == True].index\n",
    "# 得到筛选后的 dataframe\n",
    "target_dataframe = adjacencies.loc[search_index]\n",
    "target_dataframe"
   ]
  },
  {
   "cell_type": "markdown",
   "id": "f185c6bf",
   "metadata": {},
   "source": [
    "### TFs specificity scores (RSS) panel plot with defined cell types"
   ]
  },
  {
   "cell_type": "code",
   "execution_count": null,
   "id": "c395b0f7",
   "metadata": {},
   "outputs": [],
   "source": [
    "adata = sc.read('/mnt/data2/Datasets/Human_non_intestine_datasets/Qilu_Otorhinolaryngology_surgery_data/dataset_output/Fig1_All_219716.h5ad')\n",
    "\n",
    "tf_GENES = '/mnt/data/project/scenic/auxilliaries/lambert2018_c.txt'\n",
    "amps_pd = pd.read_table(tf_GENES)\n",
    "print(len(amps_pd))\n",
    "\n",
    "amps_list = list(amps_pd['Gene_name'])\n",
    "amps_list = [x for x in amps_list if x in adata.raw.var_names]\n",
    "len(amps_list)\n",
    "adata = sc.AnnData(X=adata.raw.X, var=adata.raw.var, obs = adata.obs)\n",
    "adata = adata[:,amps_list]\n",
    "adata"
   ]
  },
  {
   "cell_type": "code",
   "execution_count": null,
   "id": "2f594954",
   "metadata": {},
   "outputs": [],
   "source": [
    "sc.pp.filter_genes(adata, min_cells=5)\n",
    "adata"
   ]
  },
  {
   "cell_type": "code",
   "execution_count": null,
   "id": "30f1b4ad",
   "metadata": {},
   "outputs": [],
   "source": [
    "# Z-score\n",
    "sc.pp.scale(adata, max_value=1)\n",
    "auc_mtx = adata.to_df()"
   ]
  },
  {
   "cell_type": "code",
   "execution_count": null,
   "id": "546257ce",
   "metadata": {},
   "outputs": [],
   "source": [
    "# 需要保证后续加上一个数值后所有的数均大于0\n",
    "np.min(auc_mtx.min().to_list())"
   ]
  },
  {
   "cell_type": "code",
   "execution_count": null,
   "id": "b809403f",
   "metadata": {},
   "outputs": [],
   "source": [
    "auc_mtx = auc_mtx.applymap(lambda x: x +2)"
   ]
  },
  {
   "cell_type": "code",
   "execution_count": null,
   "id": "29a5ddcf",
   "metadata": {},
   "outputs": [],
   "source": [
    "# Calculate RSS\n",
    "rss = regulon_specificity_scores(auc_mtx, adata.obs.annotation)\n",
    "rss.head()"
   ]
  },
  {
   "cell_type": "code",
   "execution_count": null,
   "id": "c1668b1e",
   "metadata": {},
   "outputs": [],
   "source": [
    "rss.T.to_csv('/mnt/data2/Datasets/Human_non_intestine_datasets/Qilu_Otorhinolaryngology_surgery_data/dataset_output/SCENIC/rss.csv')"
   ]
  },
  {
   "cell_type": "code",
   "execution_count": null,
   "id": "f26c31af",
   "metadata": {},
   "outputs": [],
   "source": [
    "len(adata.obs['annotation'].cat.categories)"
   ]
  },
  {
   "cell_type": "code",
   "execution_count": null,
   "id": "63c2453b",
   "metadata": {
    "scrolled": false
   },
   "outputs": [],
   "source": [
    "from adjustText import adjust_text\n",
    "\n",
    "cats = list(rss.index)\n",
    "\n",
    "fig = plt.figure(figsize=(20, 70)) # 长/宽\n",
    "for c,num in zip(cats, range(1,len(cats)+1)):\n",
    "    x=rss.T[c]\n",
    "    ax = fig.add_subplot(14,4,num) # 设置3行4列的图\n",
    "    plot_rss(rss, c, top_n=20, max_n=None, ax=ax)\n",
    "    ax.set_ylim( x.min()-(x.max()-x.min())*0.05 , x.max()+(x.max()-x.min())*0.05 )\n",
    "    plt.grid(False)\n",
    "    for t in ax.texts:\n",
    "        t.set_fontsize(12)\n",
    "    ax.set_ylabel('')\n",
    "    ax.set_xlabel('')\n",
    "    adjust_text(ax.texts, autoalign='xy', ha='right', va='bottom', arrowprops=dict(arrowstyle='-',color='lightgrey'), precision=0.001 )\n",
    " \n",
    "fig.text(0.5, 0.0, 'Regulon', ha='center', va='center', size='x-large')\n",
    "fig.text(0.00, 0.5, 'Regulon specificity score (RSS)', ha='center', va='center', rotation='vertical', size='x-large')\n",
    "plt.tight_layout()\n",
    "plt.rcParams.update({\n",
    "    'figure.autolayout': True,\n",
    "        'figure.titlesize': 'large' ,\n",
    "        'axes.labelsize': 'medium',\n",
    "        'axes.titlesize':'large',\n",
    "        'xtick.labelsize':'medium',\n",
    "        'ytick.labelsize':'medium'\n",
    "        })\n",
    "# plt.savefig(\"PBMC10k_cellType-RSS-top5.pdf\", dpi=600, bbox_inches = \"tight\")\n",
    "\n",
    "plt.show()"
   ]
  },
  {
   "cell_type": "markdown",
   "id": "bc66316c",
   "metadata": {},
   "source": [
    "## Regulons"
   ]
  },
  {
   "cell_type": "code",
   "execution_count": null,
   "id": "c5cecb42",
   "metadata": {},
   "outputs": [],
   "source": [
    "auc_mtx = pd.read_csv(AUCELL_MTX_FNAME, index_col=0)\n",
    "bin_mtx = pd.read_csv(BIN_MTX_FNAME, index_col=0)\n",
    "thresholds = pd.read_csv(THR_FNAME, index_col=0).threshold\n",
    "adjacencies = pd.read_csv(adjacencies_FNAME, index_col=False, sep='\\t')\n",
    "df_motifs = load_motifs(MOTIFS_FNAME)"
   ]
  },
  {
   "cell_type": "code",
   "execution_count": null,
   "id": "f66e7b39",
   "metadata": {},
   "outputs": [],
   "source": [
    "adata = sc.read('/mnt/data2/Datasets/Human_non_intestine_datasets/Qilu_Otorhinolaryngology_surgery_data/dataset_output/SCENIC/NP_scenic_19522.h5ad')\n",
    "adata"
   ]
  },
  {
   "cell_type": "code",
   "execution_count": null,
   "id": "e20f317b",
   "metadata": {},
   "outputs": [],
   "source": [
    "# Calculate RSS\n",
    "rss = regulon_specificity_scores(auc_mtx, adata.obs.annotation)\n",
    "rss.head()"
   ]
  },
  {
   "cell_type": "code",
   "execution_count": null,
   "id": "1efe4cc6",
   "metadata": {
    "scrolled": false
   },
   "outputs": [],
   "source": [
    "from adjustText import adjust_text\n",
    "\n",
    "cats = list(rss.index)\n",
    "\n",
    "fig = plt.figure(figsize=(20, 70)) # 长/宽\n",
    "for c,num in zip(cats, range(1,len(cats)+1)):\n",
    "    x=rss.T[c]\n",
    "    ax = fig.add_subplot(14,4,num) # 设置3行4列的图\n",
    "    plot_rss(rss, c, top_n=20, max_n=None, ax=ax)\n",
    "    ax.set_ylim( x.min()-(x.max()-x.min())*0.05 , x.max()+(x.max()-x.min())*0.05 )\n",
    "    plt.grid(False)\n",
    "    for t in ax.texts:\n",
    "        t.set_fontsize(12)\n",
    "    ax.set_ylabel('')\n",
    "    ax.set_xlabel('')\n",
    "    adjust_text(ax.texts, autoalign='xy', ha='right', va='bottom', arrowprops=dict(arrowstyle='-',color='lightgrey'), precision=0.001 )\n",
    " \n",
    "fig.text(0.5, 0.0, 'Regulon', ha='center', va='center', size='x-large')\n",
    "fig.text(0.00, 0.5, 'Regulon specificity score (RSS)', ha='center', va='center', rotation='vertical', size='x-large')\n",
    "plt.tight_layout()\n",
    "plt.rcParams.update({\n",
    "    'figure.autolayout': True,\n",
    "        'figure.titlesize': 'large' ,\n",
    "        'axes.labelsize': 'medium',\n",
    "        'axes.titlesize':'large',\n",
    "        'xtick.labelsize':'medium',\n",
    "        'ytick.labelsize':'medium'\n",
    "        })\n",
    "# plt.savefig(\"PBMC10k_cellType-RSS-top5.pdf\", dpi=600, bbox_inches = \"tight\")\n",
    "\n",
    "plt.show()"
   ]
  },
  {
   "cell_type": "markdown",
   "id": "b48c4acf",
   "metadata": {},
   "source": [
    "**Explore downstream target genes network of transcription factors, and the transcription factors upstream of target genes**"
   ]
  },
  {
   "cell_type": "code",
   "execution_count": null,
   "id": "610915a7",
   "metadata": {},
   "outputs": [],
   "source": [
    "adjacencies = pd.read_csv(adjacencies_FNAME, index_col=False, sep='\\t')\n",
    "adjacencies"
   ]
  },
  {
   "cell_type": "code",
   "execution_count": null,
   "id": "24ce2ac3",
   "metadata": {},
   "outputs": [],
   "source": [
    "from pyscenic.utils import modules_from_adjacencies\n",
    "modules = list(modules_from_adjacencies(adjacencies, adata.to_df()))"
   ]
  },
  {
   "cell_type": "code",
   "execution_count": null,
   "id": "0c39efa3",
   "metadata": {},
   "outputs": [],
   "source": [
    "df_motifs.head(5)"
   ]
  },
  {
   "cell_type": "markdown",
   "id": "5a716232",
   "metadata": {},
   "source": [
    "**获取感兴趣基因的上游调控转录因子**"
   ]
  },
  {
   "cell_type": "code",
   "execution_count": null,
   "id": "ea616310",
   "metadata": {},
   "outputs": [],
   "source": [
    "regulons = df_motifs\n",
    "TF_list = []\n",
    "\n",
    "for i in list(regulons.index):\n",
    "    TF = i[0]\n",
    "    TF_list.append(TF)\n",
    "    \n",
    "TF_list = list(set(TF_list))\n",
    "len(TF_list)  # len(TF_list)与auc_mtx的转录因子数目一致"
   ]
  },
  {
   "cell_type": "code",
   "execution_count": null,
   "id": "45031c3b",
   "metadata": {},
   "outputs": [],
   "source": [
    "TARGET_GENE = 'EREG'\n",
    "TARGET_reg_tf_list = []\n",
    "\n",
    "for i in TF_list:\n",
    "    TF = i\n",
    "    for j in regulons.loc[(TF,slice(None)),:][('Enrichment','TargetGenes')]:\n",
    "        for k in j:\n",
    "            if k[0]==TARGET_GENE:\n",
    "                TARGET_reg_tf_list.append(TF)\n",
    "                break\n",
    "            else:\n",
    "                pass\n",
    "            \n",
    "list(set(TARGET_reg_tf_list))"
   ]
  },
  {
   "cell_type": "code",
   "execution_count": null,
   "id": "081b8381",
   "metadata": {},
   "outputs": [],
   "source": [
    "TARGET_GENE = 'S100A8'\n",
    "TARGET_reg_tf_list = []\n",
    "\n",
    "for i in TF_list:\n",
    "    TF = i\n",
    "    for j in regulons.loc[(TF,slice(None)),:][('Enrichment','TargetGenes')]:\n",
    "        for k in j:\n",
    "            if k[0]==TARGET_GENE:\n",
    "                TARGET_reg_tf_list.append(TF)\n",
    "                break\n",
    "            else:\n",
    "                pass\n",
    "            \n",
    "list(set(TARGET_reg_tf_list))"
   ]
  },
  {
   "cell_type": "code",
   "execution_count": null,
   "id": "fcde8bf9",
   "metadata": {},
   "outputs": [],
   "source": [
    "TARGET_GENE = 'LY6D'\n",
    "TARGET_reg_tf_list = []\n",
    "\n",
    "for i in TF_list:\n",
    "    TF = i\n",
    "    for j in regulons.loc[(TF,slice(None)),:][('Enrichment','TargetGenes')]:\n",
    "        for k in j:\n",
    "            if k[0]==TARGET_GENE:\n",
    "                TARGET_reg_tf_list.append(TF)\n",
    "                break\n",
    "            else:\n",
    "                pass\n",
    "            \n",
    "list(set(TARGET_reg_tf_list))"
   ]
  },
  {
   "cell_type": "code",
   "execution_count": null,
   "id": "e6182948",
   "metadata": {},
   "outputs": [],
   "source": [
    "TARGET_GENE = 'IL1RN'\n",
    "TARGET_reg_tf_list = []\n",
    "\n",
    "for i in TF_list:\n",
    "    TF = i\n",
    "    for j in regulons.loc[(TF,slice(None)),:][('Enrichment','TargetGenes')]:\n",
    "        for k in j:\n",
    "            if k[0]==TARGET_GENE:\n",
    "                TARGET_reg_tf_list.append(TF)\n",
    "                break\n",
    "            else:\n",
    "                pass\n",
    "            \n",
    "list(set(TARGET_reg_tf_list))"
   ]
  },
  {
   "cell_type": "markdown",
   "id": "a2a3f6c5",
   "metadata": {},
   "source": [
    "**层次聚类树**"
   ]
  },
  {
   "cell_type": "code",
   "execution_count": null,
   "id": "ea126006",
   "metadata": {},
   "outputs": [],
   "source": [
    "#!/usr/bin/env python\n",
    "# -*- coding: utf-8 -*-\n",
    "import numpy as np\n",
    "import pandas as pd\n",
    "import scanpy as sc\n",
    "import anndata\n",
    "import bbknn\n",
    "import os\n",
    "from scipy import sparse\n",
    "import matplotlib.pyplot as plt\n",
    "# from scanpy_base_moudle_update2 import *\n",
    "# import scrublet as scr\n",
    "import datetime\n",
    "import harmonypy as hm\n",
    "\n",
    "sc.settings.verbosity = 3\n",
    "#sc.logging.print_versions()\n",
    "# 设置图片的分辨率以及其他样式\n",
    "sc.settings.set_figure_params(dpi=150, figsize = (4, 3), fontsize=12)\n",
    "\n",
    "import matplotlib.font_manager\n",
    "flist = matplotlib.font_manager.get_fontconfig_fonts()\n",
    "names = [matplotlib.font_manager.FontProperties(fname=fname).get_name() for fname in flist]\n",
    "print(names)\n",
    "\n",
    "params={\n",
    "        #'font.style':'italic',\n",
    "        'font.weight':'normal',    #or 'blod'\n",
    "        }\n",
    "plt.rcParams.update(params)\n",
    "\n",
    "plt.rcParams['font.family']='Arial'"
   ]
  },
  {
   "cell_type": "code",
   "execution_count": null,
   "id": "591200f1",
   "metadata": {},
   "outputs": [],
   "source": [
    "adata = sc.read('/mnt/data2/Datasets/Human_non_intestine_datasets/Qilu_Otorhinolaryngology_surgery_data/dataset_output/SCENIC/NP_scenic_19522.h5ad')\n",
    "AUCELL_MTX_FNAME = \"/mnt/data2/Datasets/Human_non_intestine_datasets/Qilu_Otorhinolaryngology_surgery_data/dataset_output/SCENIC/auc.csv\"\n",
    "aucell_adata = sc.read_csv(AUCELL_MTX_FNAME)\n",
    "aucell_adata.obs = adata.obs\n",
    "aucell_adata.raw = aucell_adata\n",
    "#sc.pp.normalize_total(aucell_adata, target_sum=1e4)\n",
    "#sc.pp.log1p(aucell_adata)\n",
    "\n",
    "sc.pp.scale(aucell_adata, zero_center=False)\n",
    "## 主成分分析降维\n",
    "\n",
    "sc.tl.pca(aucell_adata, svd_solver='arpack')\n",
    "aucell_adata"
   ]
  },
  {
   "cell_type": "code",
   "execution_count": null,
   "id": "5fee98f9",
   "metadata": {},
   "outputs": [],
   "source": [
    "sc.tl.dendrogram(aucell_adata, 'annotation')\n",
    "\n",
    "sc.settings.set_figure_params(dpi=600, fontsize=3.5)\n",
    "\n",
    "# N-1组对比，N为细胞类型数目\n",
    "sc.pl.dendrogram(aucell_adata, 'annotation')"
   ]
  },
  {
   "cell_type": "code",
   "execution_count": null,
   "id": "b5a9ad6e",
   "metadata": {},
   "outputs": [],
   "source": [
    "z_var = aucell_adata.uns['dendrogram_annotation']['linkage']\n",
    "categories = aucell_adata.obs['annotation'].cat.categories\n",
    "\n",
    "import scipy\n",
    "T = scipy.cluster.hierarchy.to_tree(z_var , rd=False )\n",
    "\n",
    "# Create dictionary for labeling nodes by their IDs\n",
    "labels=list(categories)\n",
    "id2name = dict(enumerate(labels))"
   ]
  },
  {
   "cell_type": "code",
   "execution_count": null,
   "id": "dd272f10",
   "metadata": {},
   "outputs": [],
   "source": [
    "# Load required modules\n",
    "import pandas as pd \n",
    "import scipy.spatial\n",
    "import scipy.cluster\n",
    "import numpy as np\n",
    "import json\n",
    "import matplotlib.pyplot as plt\n",
    "from functools import reduce\n",
    "\n",
    "# Create a nested dictionary from the ClusterNode's returned by SciPy\n",
    "def add_node(node, parent ):\n",
    "    # First create the new node and append it to its parent's children\n",
    "    newNode = dict( node_id=node.id, children=[] )\n",
    "    parent[\"children\"].append( newNode )\n",
    "\n",
    "    # Recursively add the current node's children\n",
    "    if node.left: add_node( node.left, newNode )\n",
    "    if node.right: add_node( node.right, newNode )\n",
    "\n",
    "# Initialize nested dictionary for d3, then recursively iterate through tree\n",
    "d3Dendro = dict(children=[], name=\"Root1\")\n",
    "add_node( T, d3Dendro )\n",
    "\n",
    "\n",
    "# Label each node with the names of each leaf in its subtree\n",
    "def label_tree( n ):\n",
    "    # If the node is a leaf, then we have its name\n",
    "    if len(n[\"children\"]) == 0:\n",
    "        leafNames = [ id2name[n[\"node_id\"]] ]\n",
    "    \n",
    "    # If not, flatten all the leaves in the node's subtree\n",
    "    else:\n",
    "        leafNames = reduce(lambda ls, c: ls + label_tree(c), n[\"children\"], [])\n",
    "\n",
    "    # Delete the node id since we don't need it anymore and\n",
    "    # it makes for cleaner JSON\n",
    "    del n[\"node_id\"]\n",
    "\n",
    "    # Labeling convention: \"&\"-separated leaf names\n",
    "    n[\"name\"] = name = \"&\".join(sorted(map(str, leafNames)))\n",
    "    \n",
    "    return leafNames\n",
    "\n",
    "label_tree( d3Dendro[\"children\"][0] )"
   ]
  },
  {
   "cell_type": "code",
   "execution_count": null,
   "id": "62cf1713",
   "metadata": {},
   "outputs": [],
   "source": [
    "tree=[]  # tree用于循环差异基因(转录因子)分析\n",
    "def preorder(root):\n",
    "    if not root.is_leaf():\n",
    "        str1=\",\".join([list(categories)[i] for i in root.left.pre_order()])\n",
    "        str2=\",\".join([list(categories)[i] for i in root.right.pre_order()])\n",
    "        tree.append([str1,str2])\n",
    "    if root.get_left() is not None:\n",
    "        preorder(root.get_left())\n",
    "    if root.get_right() is not None:\n",
    "        preorder(root.get_right())\n",
    "preorder(T)\n",
    "print(tree)"
   ]
  },
  {
   "cell_type": "code",
   "execution_count": null,
   "id": "6336960f",
   "metadata": {},
   "outputs": [],
   "source": [
    "group_0_name_list = []\n",
    "group_1_name_list = []\n",
    "rank_reg_group0_list = []\n",
    "rank_reg_group1_list = []\n",
    "\n",
    "for i in tree:\n",
    "    group0 = i[0].split(',')\n",
    "    group_0_name_list.append(group0)\n",
    "    \n",
    "    group1 = i[1].split(',')\n",
    "    group_1_name_list.append(group1)\n",
    "    \n",
    "    # group = group0 + group1\n",
    "    \n",
    "    group0_index = aucell_adata.obs.loc[aucell_adata.obs[\"annotation\"].isin(group0), :].index\n",
    "    group1_index = aucell_adata.obs.loc[aucell_adata.obs[\"annotation\"].isin(group1), :].index\n",
    "    \n",
    "    # 建立新的dataframe列['group_DEG']，并将group0的index对应的列的值修改为group0\n",
    "    aucell_adata.obs['group_DEG'] = aucell_adata.obs['annotation']\n",
    "    # 解决categories报错的问题，将原本不存在的类别添加，并删除不再使用的类别\n",
    "    new_categories = ['group0']\n",
    "    aucell_adata.obs['group_DEG'].cat.add_categories(new_categories, inplace = True)\n",
    "    aucell_adata.obs.loc[group0_index,'group_DEG']='group0'\n",
    "    aucell_adata.obs['group_DEG'].cat.remove_unused_categories(inplace = True)\n",
    "    \n",
    "    # 在dataframe列['group_DEG']修改了group0的基础上，将group1的index对应的列的值修改为group1\n",
    "    new_categories = ['group1']\n",
    "    aucell_adata.obs['group_DEG'].cat.add_categories(new_categories, inplace = True)\n",
    "    aucell_adata.obs.loc[group1_index,'group_DEG']='group1'\n",
    "    aucell_adata.obs['group_DEG'].cat.remove_unused_categories(inplace = True)\n",
    "\n",
    "    sc.tl.rank_genes_groups(aucell_adata, \n",
    "                        'group_DEG', \n",
    "                        method='wilcoxon',\n",
    "                        groups=['group0'],\n",
    "                        reference='group1')\n",
    "    result_DEG = sc.get.rank_genes_groups_df(aucell_adata, \n",
    "                                             group=\"group0\")\n",
    "    \n",
    "    rank_reg_top10_group0 = list(result_DEG['names'])[0:10]\n",
    "    rank_reg_group0_list.append(rank_reg_top10_group0)\n",
    "    \n",
    "    rank_reg_top10_group1 = list(result_DEG['names'])[-10:][::-1] # group1的top10为最后10个reg的倒序.\n",
    "    rank_reg_group1_list.append(rank_reg_top10_group1)\n",
    "    \n",
    "result_reg = pd.DataFrame()\n",
    "result_reg['group_0_name_list'] = group_0_name_list\n",
    "result_reg['group_1_name_list'] = group_1_name_list\n",
    "result_reg['rank_reg_top10_group0'] = rank_reg_group0_list\n",
    "result_reg['rank_reg_top10_group1'] = rank_reg_group1_list\n",
    "result_reg"
   ]
  },
  {
   "cell_type": "code",
   "execution_count": null,
   "id": "8267dfa8",
   "metadata": {},
   "outputs": [],
   "source": [
    "result_reg.to_csv('/mnt/data2/Datasets/Human_non_intestine_datasets/Qilu_Otorhinolaryngology_surgery_data/dataset_output/SCENIC/result_reg_All.csv')"
   ]
  },
  {
   "cell_type": "markdown",
   "id": "4bd2abf0",
   "metadata": {},
   "source": [
    "**UMAP**"
   ]
  },
  {
   "cell_type": "code",
   "execution_count": null,
   "id": "953b1457",
   "metadata": {},
   "outputs": [],
   "source": [
    "sc.external.pp.bbknn(aucell_adata, batch_key='batch_name', n_pcs=20, neighbors_within_batch = 1)\n",
    "sc.tl.umap(aucell_adata)"
   ]
  },
  {
   "cell_type": "code",
   "execution_count": null,
   "id": "df265423",
   "metadata": {},
   "outputs": [],
   "source": [
    "aucell_adata"
   ]
  },
  {
   "cell_type": "code",
   "execution_count": null,
   "id": "53f96670",
   "metadata": {},
   "outputs": [],
   "source": [
    "sc.settings.set_figure_params(dpi=150, figsize = (4, 4), fontsize=7)\n",
    "sc.pl.umap(aucell_adata, color=['Compartment'] ,add_outline=True, frameon=False)\n",
    "sc.pl.umap(aucell_adata, color=['annotation'] ,add_outline=True, frameon=False, palette=\"tab20_r\")"
   ]
  },
  {
   "cell_type": "code",
   "execution_count": null,
   "id": "25a88f73",
   "metadata": {},
   "outputs": [],
   "source": [
    "sc.settings.set_figure_params(dpi=150, figsize = (4, 4), fontsize=7)\n",
    "sc.pl.umap(aucell_adata, color=['Compartment'] ,add_outline=True, frameon=False)\n",
    "sc.pl.umap(aucell_adata, color=['annotation'] ,add_outline=True, frameon=False, palette=\"tab20_r\")"
   ]
  },
  {
   "cell_type": "code",
   "execution_count": null,
   "id": "4abb038a",
   "metadata": {},
   "outputs": [],
   "source": [
    "adata = sc.read('/home/wangyue/basic-calculation_data/c_Project_outputs/qilu_CRSwNP/Fig1_All_219716.h5ad')\n",
    "adata = sc.AnnData(X=adata.raw.X, var=adata.raw.var, obs = adata.obs)\n",
    "\n",
    "tf_GENES = '/home/wangyue/basic-calculation_data/d_Packages/scenic/auxilliaries/lambert2018_c.txt'\n",
    "amps_pd = pd.read_table(tf_GENES)\n",
    "print(len(amps_pd))\n",
    "\n",
    "amps_list = list(amps_pd['Gene_name'])\n",
    "amps_list = [x for x in amps_list if x in adata.var_names]\n",
    "len(amps_list)\n",
    "\n",
    "adata = adata[:,amps_list]\n",
    "adata"
   ]
  },
  {
   "cell_type": "code",
   "execution_count": null,
   "id": "e0a54c05",
   "metadata": {},
   "outputs": [],
   "source": [
    "sc.pp.scale(adata, zero_center=False)"
   ]
  },
  {
   "cell_type": "code",
   "execution_count": null,
   "id": "45a894a4",
   "metadata": {},
   "outputs": [],
   "source": [
    "sc.tl.pca(adata, svd_solver='arpack')\n",
    "sc.external.pp.bbknn(adata, batch_key='batch_name', n_pcs=20, neighbors_within_batch = 1)\n",
    "sc.tl.umap(adata)"
   ]
  },
  {
   "cell_type": "code",
   "execution_count": null,
   "id": "27ae65a6",
   "metadata": {},
   "outputs": [],
   "source": [
    "sc.settings.set_figure_params(dpi=400, figsize = (4, 4), fontsize=7)\n",
    "sc.pl.umap(adata, color=['Compartment'] ,add_outline=True, frameon=False)\n",
    "sc.pl.umap(adata, color=['annotation'] ,add_outline=True, frameon=False, palette=\"tab20_r\")"
   ]
  },
  {
   "cell_type": "code",
   "execution_count": null,
   "id": "6d1cf37d",
   "metadata": {},
   "outputs": [],
   "source": [
    "# 按细胞区室划分颜色\n",
    "adata.obs['cell_compartment'] = adata.obs['annotation']\n",
    "sc.pl.umap(adata, color=['cell_compartment'] ,add_outline=True, frameon=False)\n",
    "new_colors = np.array(adata.uns['cell_compartment_colors'])\n",
    "\n",
    "# 上皮细胞\n",
    "new_colors[[0,1,2,3,4,5,6,7,8,9,10,11]] = '#050dfc'\n",
    "# T-ILC\n",
    "new_colors[[12,13,14,15,16,17,18,19,20,21,22,23]] = '#fc2819'\n",
    "# Follicular B\n",
    "new_colors[[24,25]] = '#02ad05'\n",
    "# Plasma B\n",
    "new_colors[[26,27,28]] = '#fccb05'\n",
    "# MNPs\n",
    "new_colors[[29,30,31,32,33,34,35,36,37]] = '#fc7c05'\n",
    "# Mast\n",
    "new_colors[[38]] = '#393b79'\n",
    "# Gila\n",
    "new_colors[[39]] = '#427a4d'\n",
    "# Endo\n",
    "new_colors[[40,41,42,43]] = '#05c2fc' # ACKR1+Endo\n",
    "# Fibro\n",
    "new_colors[[44,45,46,47,48,49,50,51,52,53]] = '#b02398' # RSPO3+OGN+\n",
    "\n",
    "\n",
    "adata.uns['cell_compartment_colors'] = new_colors\n",
    "\n",
    "sc.settings.set_figure_params(dpi=500, figsize = (4, 4), fontsize=8)\n",
    "sc.pl.umap(adata, color=['cell_compartment'], add_outline=True, frameon=False)"
   ]
  },
  {
   "cell_type": "code",
   "execution_count": null,
   "id": "d92b5fe6",
   "metadata": {},
   "outputs": [],
   "source": [
    "sc.settings.set_figure_params(dpi=150, figsize = (4, 4), fontsize=7)\n",
    "sc.pl.umap(adata, color=['Compartment'] ,add_outline=True, frameon=False)\n",
    "sc.pl.umap(adata, color=['annotation'] ,add_outline=True, frameon=False, palette=\"tab20_r\")"
   ]
  },
  {
   "cell_type": "code",
   "execution_count": null,
   "id": "aa6fb7ea",
   "metadata": {},
   "outputs": [],
   "source": [
    "# 按细胞区室划分颜色\n",
    "aucell_adata.obs['cell_compartment'] = aucell_adata.obs['annotation']\n",
    "sc.pl.umap(aucell_adata, color=['cell_compartment'] ,add_outline=True, frameon=False)\n",
    "new_colors = np.array(aucell_adata.uns['cell_compartment_colors'])\n",
    "\n",
    "# 上皮细胞\n",
    "new_colors[[0,1,2,3,4,5,6,7,8,9,10,11]] = '#050dfc'\n",
    "# T-ILC\n",
    "new_colors[[12,13,14,15,16,17,18,19,20,21,22,23]] = '#fc2819'\n",
    "# Follicular B\n",
    "new_colors[[24,25]] = '#02ad05'\n",
    "# Plasma B\n",
    "new_colors[[26,27,28]] = '#fccb05'\n",
    "# MNPs\n",
    "new_colors[[29,30,31,32,33,34,35,36,37]] = '#fc7c05'\n",
    "# Mast\n",
    "new_colors[[38]] = '#393b79'\n",
    "# Gila\n",
    "new_colors[[39]] = '#427a4d'\n",
    "# Endo\n",
    "new_colors[[40,41,42,43]] = '#05c2fc' # ACKR1+Endo\n",
    "# Fibro\n",
    "new_colors[[44,45,46,47,48,49,50,51,52,53]] = '#b02398' # RSPO3+OGN+\n",
    "\n",
    "\n",
    "aucell_adata.uns['cell_compartment_colors'] = new_colors\n",
    "\n",
    "sc.settings.set_figure_params(dpi=500, figsize = (4, 4), fontsize=8)\n",
    "sc.pl.umap(aucell_adata, color=['cell_compartment'], add_outline=True, frameon=False)"
   ]
  },
  {
   "cell_type": "markdown",
   "id": "98b838f5",
   "metadata": {},
   "source": [
    "# 20230816-FigS"
   ]
  },
  {
   "cell_type": "code",
   "execution_count": null,
   "id": "5754345a",
   "metadata": {},
   "outputs": [],
   "source": [
    "sc.settings.set_figure_params(dpi=300, figsize = (4, 4), fontsize=12)\n",
    "# Mast\n",
    "colors2 = plt.cm.Oranges(np.linspace(0, 1, 128))\n",
    "colors3 = plt.cm.Greys_r(np.linspace(0.7,0.8,20))\n",
    "colorsComb = np.vstack([colors3, colors2])\n",
    "mymap = colors.LinearSegmentedColormap.from_list('my_colormap', colorsComb)\n",
    "sc.pl.umap(adata, color=['IL1B'], frameon=False, color_map=mymap)"
   ]
  },
  {
   "cell_type": "code",
   "execution_count": null,
   "id": "e947cc8c",
   "metadata": {},
   "outputs": [],
   "source": [
    "sc.pl.umap(adata, color=['NR1H4','NR1H3','VDR','GPBAR1','IL1R1'], frameon=False, color_map=mymap)"
   ]
  },
  {
   "cell_type": "code",
   "execution_count": null,
   "id": "4b80ce0d",
   "metadata": {},
   "outputs": [],
   "source": [
    "adata = sc.read('/home/wangyue/basic-calculation_data/c_Project_outputs/qilu_CRSwNP/Fig1_All_219716.h5ad')\n",
    "adata"
   ]
  },
  {
   "cell_type": "code",
   "execution_count": null,
   "id": "242b8f94",
   "metadata": {
    "scrolled": false
   },
   "outputs": [],
   "source": [
    "from matplotlib import cm, colors\n",
    "sc.settings.set_figure_params(dpi=300, figsize = (4, 4), fontsize=12)\n",
    "\n",
    "# 上皮\n",
    "colors2 = plt.cm.Greens(np.linspace(0, 1, 128))\n",
    "colors3 = plt.cm.Greys_r(np.linspace(0.7,0.8,20))\n",
    "colorsComb = np.vstack([colors3, colors2])\n",
    "mymap = colors.LinearSegmentedColormap.from_list('my_colormap', colorsComb)\n",
    "sc.pl.umap(adata, color=['EPCAM'], frameon=False, color_map=mymap)\n",
    "\n",
    "\n",
    "# T\n",
    "colors2 = plt.cm.Blues(np.linspace(0, 1, 128))\n",
    "colors3 = plt.cm.Greys_r(np.linspace(0.7,0.8,20))\n",
    "colorsComb = np.vstack([colors3, colors2])\n",
    "mymap = colors.LinearSegmentedColormap.from_list('my_colormap', colorsComb)\n",
    "sc.pl.umap(adata, color=['CD3D'], frameon=False, color_map=mymap)\n",
    "\n",
    "\n",
    "# B\n",
    "colors2 = plt.cm.Purples(np.linspace(0, 1, 128))\n",
    "colors3 = plt.cm.Greys_r(np.linspace(0.7,0.8,20))\n",
    "colorsComb = np.vstack([colors3, colors2])\n",
    "mymap = colors.LinearSegmentedColormap.from_list('my_colormap', colorsComb)\n",
    "sc.pl.umap(adata, color=['CD79A'], frameon=False, color_map=mymap)\n",
    "\n",
    "\n",
    "# MNPs\n",
    "colors2 = plt.cm.Reds(np.linspace(0, 1, 128))\n",
    "colors3 = plt.cm.Greys_r(np.linspace(0.7,0.8,20))\n",
    "colorsComb = np.vstack([colors3, colors2])\n",
    "mymap = colors.LinearSegmentedColormap.from_list('my_colormap', colorsComb)\n",
    "sc.pl.umap(adata, color=['IGSF6'], frameon=False, color_map=mymap)\n",
    "\n",
    "\n",
    "# Mast\n",
    "colors2 = plt.cm.Oranges(np.linspace(0, 1, 128))\n",
    "colors3 = plt.cm.Greys_r(np.linspace(0.7,0.8,20))\n",
    "colorsComb = np.vstack([colors3, colors2])\n",
    "mymap = colors.LinearSegmentedColormap.from_list('my_colormap', colorsComb)\n",
    "sc.pl.umap(adata, color=['TPSAB1'], frameon=False, color_map=mymap)\n",
    "\n",
    "\n",
    "# Stromal\n",
    "colors2 = plt.cm.Greys(np.linspace(0, 1, 128))\n",
    "colors3 = plt.cm.Greys_r(np.linspace(0.7,0.8,20))\n",
    "colorsComb = np.vstack([colors3, colors2])\n",
    "mymap = colors.LinearSegmentedColormap.from_list('my_colormap', colorsComb)\n",
    "sc.pl.umap(adata, color=['IGFBP7'], frameon=False, color_map=mymap)"
   ]
  },
  {
   "cell_type": "code",
   "execution_count": null,
   "id": "b8c5f32a",
   "metadata": {},
   "outputs": [],
   "source": [
    "adata"
   ]
  },
  {
   "cell_type": "code",
   "execution_count": null,
   "id": "15f2b9b8",
   "metadata": {},
   "outputs": [],
   "source": [
    "ax = sc.pl.correlation_matrix(adata, 'annotation', figsize=(15,15))"
   ]
  }
 ],
 "metadata": {
  "kernelspec": {
   "display_name": "Python [conda env:scanpy37]",
   "language": "python",
   "name": "conda-env-scanpy37-py"
  },
  "language_info": {
   "codemirror_mode": {
    "name": "ipython",
    "version": 3
   },
   "file_extension": ".py",
   "mimetype": "text/x-python",
   "name": "python",
   "nbconvert_exporter": "python",
   "pygments_lexer": "ipython3",
   "version": "3.7.12"
  },
  "toc": {
   "base_numbering": 1,
   "nav_menu": {},
   "number_sections": true,
   "sideBar": true,
   "skip_h1_title": false,
   "title_cell": "Table of Contents",
   "title_sidebar": "Contents",
   "toc_cell": false,
   "toc_position": {
    "height": "calc(100% - 180px)",
    "left": "10px",
    "top": "150px",
    "width": "165px"
   },
   "toc_section_display": true,
   "toc_window_display": false
  }
 },
 "nbformat": 4,
 "nbformat_minor": 5
}
