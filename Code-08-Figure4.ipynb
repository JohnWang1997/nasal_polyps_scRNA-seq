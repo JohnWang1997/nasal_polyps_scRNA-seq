{
 "cells": [
  {
   "cell_type": "code",
   "execution_count": null,
   "id": "123395a1",
   "metadata": {},
   "outputs": [],
   "source": [
    "#!/usr/bin/env python\n",
    "# -*- coding: utf-8 -*-\n",
    "import numpy as np\n",
    "import pandas as pd\n",
    "import scanpy as sc\n",
    "import anndata\n",
    "import bbknn\n",
    "import os\n",
    "from scipy import sparse\n",
    "import matplotlib.pyplot as plt\n",
    "# from scanpy_base_moudle_update2 import *\n",
    "# import scrublet as scr\n",
    "import datetime\n",
    "import harmonypy as hm\n",
    "\n",
    "sc.settings.verbosity = 3\n",
    "#sc.logging.print_versions()\n",
    "\n",
    "# 设置图片的分辨率以及其他样式\n",
    "sc.settings.set_figure_params(dpi=150, figsize = (4, 3), fontsize=12)\n",
    "\n",
    "import matplotlib.font_manager\n",
    "flist = matplotlib.font_manager.get_fontconfig_fonts()\n",
    "names = [matplotlib.font_manager.FontProperties(fname=fname).get_name() for fname in flist]\n",
    "print(names)\n",
    "\n",
    "params={\n",
    "        #'font.style':'italic',\n",
    "        'font.weight':'normal',    #or 'blod'\n",
    "        }\n",
    "plt.rcParams.update(params)\n",
    "\n",
    "plt.rcParams['font.family']='Arial'"
   ]
  },
  {
   "cell_type": "code",
   "execution_count": null,
   "id": "f9177d0a",
   "metadata": {},
   "outputs": [],
   "source": [
    "matplotlib.matplotlib_fname()"
   ]
  },
  {
   "cell_type": "code",
   "execution_count": null,
   "id": "fca607a0",
   "metadata": {},
   "outputs": [],
   "source": [
    "adata = sc.read('/home/wangyue/basic-calculation_data/c_Project_outputs/qilu_CRSwNP/IMM.h5ad')\n",
    "adata"
   ]
  },
  {
   "cell_type": "code",
   "execution_count": null,
   "id": "4b87072a",
   "metadata": {},
   "outputs": [],
   "source": [
    "sc.settings.set_figure_params(dpi=600, figsize = (4, 4), fontsize=7)\n",
    "sc.pl.umap(adata, color=['annotation'], add_outline=True, outline_width = (0.2, 0.05), palette=\"tab20\", frameon=False)"
   ]
  },
  {
   "cell_type": "code",
   "execution_count": null,
   "id": "6440d1c2",
   "metadata": {},
   "outputs": [],
   "source": [
    "adata.obs['annotation'].cat.categories"
   ]
  },
  {
   "cell_type": "code",
   "execution_count": null,
   "id": "cd77d27c",
   "metadata": {},
   "outputs": [],
   "source": [
    "np.array(adata.uns['annotation_colors'])"
   ]
  },
  {
   "cell_type": "code",
   "execution_count": null,
   "id": "befb2883",
   "metadata": {},
   "outputs": [],
   "source": [
    "print(adata.obs['annotation'].cat.categories)\n",
    "\n",
    "old_colors = np.array(adata.uns['annotation_colors'])\n",
    "\n",
    "new_colors = old_colors\n",
    "# B cells\n",
    "new_colors[[17]] = '#1f77b4'\n",
    "# Endothelial cells\n",
    "new_colors[[18]] = '#aec7e8'\n",
    "# Epithelium\n",
    "new_colors[[19]] = '#ff7f0e'\n",
    "# Fibroblasts\n",
    "new_colors[[20]] = '#ffbb78'\n",
    "# Glia cells\n",
    "new_colors[[21]] = '#2ca02c'\n",
    "# Granulocytes\n",
    "new_colors[22] = '#98df8a'\n",
    "# MNPs/DCs\n",
    "new_colors[[23]] = '#d62728'\n",
    "# Mast cells\n",
    "new_colors[[24]] = '#ff9896'\n",
    "# Pericytes\n",
    "new_colors[[25]] = '#9467bd'\n",
    "# Plasma cells\n",
    "new_colors[[26]] = '#f7b6d2'\n",
    "\n",
    "adata.uns['annotation_colors'] = new_colors"
   ]
  },
  {
   "cell_type": "code",
   "execution_count": null,
   "id": "aa659d04",
   "metadata": {},
   "outputs": [],
   "source": [
    "sc.settings.set_figure_params(dpi=600, figsize = (4, 4), fontsize=7)\n",
    "sc.pl.umap(adata, color=['annotation'], add_outline=True, outline_width = (0.2, 0.05), frameon=False)"
   ]
  },
  {
   "cell_type": "code",
   "execution_count": null,
   "id": "121fc0e4",
   "metadata": {},
   "outputs": [],
   "source": [
    "sc.settings.set_figure_params(fontsize=12)\n",
    "# 趋化因子受体\n",
    "mp = sc.pl.dotplot(adata, \n",
    "              ['NOTUM','ST3GAL1','LTB4R','LTB4R2','CYSLTR1','CYSLTR2'], \n",
    "              'annotation', \n",
    "              dendrogram=False, \n",
    "              #figsize=(8,10),\n",
    "              use_raw=True,\n",
    "              cmap = 'RdYlBu_r',\n",
    "              var_group_rotation=45,\n",
    "              swap_axes=False,\n",
    "              standard_scale='var',\n",
    "              colorbar_title='Scaled expression in var',\n",
    "              return_fig=True\n",
    "              # , save='_' + sample_name + '_fig11.png'\n",
    "             ) \n",
    "mp.add_totals().style(grid=True).show()"
   ]
  },
  {
   "cell_type": "code",
   "execution_count": null,
   "id": "c54261c7",
   "metadata": {
    "scrolled": false
   },
   "outputs": [],
   "source": [
    "sc.settings.set_figure_params(dpi=400, figsize = (4, 4), fontsize=7)\n",
    "sc.pl.umap(adata, color=['tissue'], frameon=False, title='')\n",
    "sc.pl.umap(adata, color=['Health'], frameon=False, title='')"
   ]
  },
  {
   "cell_type": "code",
   "execution_count": null,
   "id": "8556e417",
   "metadata": {},
   "outputs": [],
   "source": [
    "E01_index = adata.obs.loc[adata.obs[\"tissue\"].isin(['inferior turbinate']), :].index\n",
    "\n",
    "E02_index = adata.obs.loc[adata.obs[\"tissue\"].isin(['middle turbinate']), :].index\n",
    "\n",
    "E03_index = adata.obs.loc[adata.obs[\"tissue\"].isin(['polyp']), :].index\n",
    "\n",
    "E04_index = adata.obs.loc[adata.obs[\"Health\"].isin(['healthy control']), :].index"
   ]
  },
  {
   "cell_type": "code",
   "execution_count": null,
   "id": "b4a79b22",
   "metadata": {},
   "outputs": [],
   "source": [
    "adata.obs['fig2_barplot'] = 'Rhi-IT'\n",
    "adata.obs.at[E02_index,'fig2_barplot']='Rhi-MT'\n",
    "adata.obs.at[E03_index,'fig2_barplot']='Rhi-NP'\n",
    "adata.obs.at[E04_index,'fig2_barplot']='HC-IT'"
   ]
  },
  {
   "cell_type": "code",
   "execution_count": null,
   "id": "ffff74e7",
   "metadata": {},
   "outputs": [],
   "source": [
    "sc.settings.set_figure_params(dpi=600, figsize = (4, 4), fontsize=7)\n",
    "sc.pl.umap(adata, color=['fig2_barplot'], frameon=False, title='')"
   ]
  },
  {
   "cell_type": "code",
   "execution_count": null,
   "id": "3bb504b0",
   "metadata": {},
   "outputs": [],
   "source": [
    "sc.pl.umap(adata, color=['fig2_barplot'], groups = ['HC-IT','Rhi-IT'], frameon=False, title ='')"
   ]
  },
  {
   "cell_type": "code",
   "execution_count": null,
   "id": "5cde4339",
   "metadata": {},
   "outputs": [],
   "source": [
    "sc.pl.umap(adata, color=['fig2_barplot'], groups = ['Rhi-MT','Rhi-NP'], frameon=False, title ='')"
   ]
  },
  {
   "cell_type": "code",
   "execution_count": null,
   "id": "95d45639",
   "metadata": {},
   "outputs": [],
   "source": [
    "adata.uns['annotation_colors']"
   ]
  },
  {
   "cell_type": "code",
   "execution_count": null,
   "id": "168ba558",
   "metadata": {},
   "outputs": [],
   "source": [
    "adata.obs['annotation'].cat.categories"
   ]
  },
  {
   "cell_type": "code",
   "execution_count": null,
   "id": "b4c09b65",
   "metadata": {},
   "outputs": [],
   "source": [
    "adata"
   ]
  },
  {
   "cell_type": "code",
   "execution_count": null,
   "id": "0718c1b6",
   "metadata": {},
   "outputs": [],
   "source": [
    "T_index = adata.obs.loc[adata.obs[\"annotation\"].isin(['C02-T01-NK cells', 'C02-T02-ILC1', 'C02-T03-ILC2', 'C02-T04-ILC3',\n",
    "       'C02-T05-CD4+ Naive T', 'C02-T06-CD4+ Treg', 'C02-T07-CD4+Th2',\n",
    "       'C02-T08-CD4+ Th17', 'C02-T09-CD4+ Trm', 'C02-T10-CD8+ T cells',\n",
    "       'C02-T11-CD8+ GNLY+ T cells', 'C02-T12-Cycling T']), :].index\n",
    "\n",
    "B_index = adata.obs.loc[adata.obs[\"annotation\"].isin(['C03-B01-Naive B cells', 'C03-B02-Memory B cells', 'C03-B03-Cycling B']), :].index\n",
    "\n",
    "P_index = adata.obs.loc[adata.obs[\"annotation\"].isin(['C03-B04-IgA Plasma cells', 'C03-B05-IgG Plasma cells']), :].index\n",
    "\n",
    "MNPs_index = adata.obs.loc[adata.obs[\"annotation\"].isin(['C04-M01-Macrophages', 'C04-M02-CCL18+ Macrophages',\n",
    "       'C04-M03-CCL13+ Macrophages', 'C04-M04-CXCL8+ Macrophages',\n",
    "       'C04-M05-Monocytes', 'C04-M06-DC1', 'C04-M07-DC2',\n",
    "       'C04-M08-Migratory DCs', 'C04-M09-pDC']), :].index\n",
    "\n",
    "Mast_index = adata.obs.loc[adata.obs[\"annotation\"].isin(['C05-Mast cell']), :].index\n",
    "                                                     \n",
    "\n",
    "adata.obs['compartment'] = '1-T/ILCs'\n",
    "\n",
    "adata.obs.at[B_index,'compartment']='2-B'\n",
    "adata.obs.at[P_index,'compartment']='3-Plasma'\n",
    "adata.obs.at[MNPs_index,'compartment']='4-MNPs-DCs'\n",
    "adata.obs.at[Mast_index,'compartment']='5-Mast'"
   ]
  },
  {
   "cell_type": "code",
   "execution_count": null,
   "id": "b181ff72",
   "metadata": {},
   "outputs": [],
   "source": [
    "sc.settings.set_figure_params(dpi=600, figsize = (4, 4), fontsize=7)\n",
    "sc.pl.umap(adata, color=['compartment'], add_outline=True, outline_width = (0.2, 0.05), palette=\"tab20\", frameon=False)"
   ]
  },
  {
   "cell_type": "code",
   "execution_count": null,
   "id": "08ced94c",
   "metadata": {},
   "outputs": [],
   "source": [
    "adata.uns['compartment_colors']"
   ]
  },
  {
   "cell_type": "code",
   "execution_count": null,
   "id": "8d2a5d0a",
   "metadata": {},
   "outputs": [],
   "source": [
    "adata.obs['compartment'].cat.categories"
   ]
  },
  {
   "cell_type": "code",
   "execution_count": null,
   "id": "86c9d1f7",
   "metadata": {},
   "outputs": [],
   "source": [
    "Groups_tab_1 = pd.crosstab(index=adata.obs['fig2_barplot'],  # Make a crosstab\n",
    "                        columns=adata.obs['compartment'], margins=True)               # Name the count column\n",
    "MyTab_1= Groups_tab_1.div(Groups_tab_1[\"All\"], axis=0)\n",
    "MyTab2_1 = MyTab_1.drop(columns=\"All\")\n",
    "MyTab2_1 = MyTab2_1.drop(index=\"All\")\n",
    "\n",
    "MyTab2_1 = MyTab2_1.T\n",
    "order = ['HC-IT','Rhi-IT','Rhi-MT','Rhi-NP']\n",
    "MyTab2_1 = MyTab2_1[order]\n",
    "MyTab2_1 = MyTab2_1.T\n",
    "#categories = IMM_group[::-1]\n",
    "\n",
    "MyTab2_1.columns = pd.CategoricalIndex(MyTab2_1.columns.values)\n",
    "\n",
    "# Sort the columns (axis=1) by the new categorical ordering\n",
    "MyTab2_1 = MyTab2_1.sort_index(axis=1)\n",
    "\n",
    "ax = MyTab2_1.plot.bar(\n",
    "            figsize=(3.7,7),\n",
    "            stacked=True,\n",
    "            edgecolor = '#000000',\n",
    "            linewidth=0.4,\n",
    "            width=0.8, \n",
    "            fontsize=15,\n",
    "            color={\"1-T/ILCs\": \"#1f77b4\",\n",
    "                   '2-B': \"#98df8a\",\n",
    "                   '3-Plasma': \"#8c564b\", \n",
    "                   '4-MNPs-DCs': \"#c7c7c7\", \n",
    "                   '5-Mast': \"#9edae5\"}\n",
    "             )\n",
    "\n",
    "\n",
    "plt.title(\"\", fontsize=12)\n",
    "plt.ylabel(\"Fraction of cells\", fontsize=15)\n",
    "plt.xlabel(\"\", fontsize=12)\n",
    "plt.ylim=1.0\n",
    "\n",
    "#plt.gca().get_legend().remove() #remove legend\n",
    "# plt.legend(categories, loc='center left', bbox_to_anchor=(1, 0.6), fontsize=12)\n",
    "# plt.savefig('Proportion of clusters accross organs.png')\n",
    "# 去除刻度\n",
    "#plt.xticks([])\n",
    "#plt.yticks([])\n",
    "# ax.tick_params(bottom=False, top=False, left=False, right=False)\n",
    "handles, labels = ax.get_legend_handles_labels()\n",
    "ax.legend(reversed(handles), reversed(labels), loc='center left', bbox_to_anchor=(1, 0.6), fontsize=8)\n",
    "plt.grid(False)\n",
    "\n",
    "ax.spines['top'].set_visible(False)\n",
    "ax.spines['right'].set_visible(False)\n",
    "plt.show()"
   ]
  },
  {
   "cell_type": "code",
   "execution_count": null,
   "id": "c84a6eeb",
   "metadata": {},
   "outputs": [],
   "source": [
    "T_index = adata.obs.loc[adata.obs[\"annotation\"].isin(['C02-T01-NK cells', 'C02-T02-ILC1', 'C02-T03-ILC2', 'C02-T04-ILC3',\n",
    "       'C02-T05-CD4+ Naive T', 'C02-T06-CD4+ Treg', 'C02-T07-CD4+Th2',\n",
    "       'C02-T08-CD4+ Th17', 'C02-T09-CD4+ Trm', 'C02-T10-CD8+ T cells',\n",
    "       'C02-T11-CD8+ GNLY+ T cells', 'C02-T12-Cycling T']), :].index\n",
    "adata_T = adata[T_index, :]\n",
    "adata_T"
   ]
  },
  {
   "cell_type": "code",
   "execution_count": null,
   "id": "21237beb",
   "metadata": {},
   "outputs": [],
   "source": [
    "def progress_pca_harmony_umap(adata):\n",
    "    \n",
    "    # sc.tl.pca(adata, svd_solver='arpack')\n",
    "\n",
    "    # Harmony处理批次效应\n",
    "    harmony_out = hm.run_harmony(adata.obsm['X_pca'], adata.obs, vars_use = ['batch_name'],max_iter_harmony=20)\n",
    "    adata.obsm['X_pca_harmony'] = harmony_out.Z_corr.T\n",
    "    sc.pp.neighbors(adata, n_neighbors=10, use_rep='X_pca_harmony', n_pcs=20)\n",
    "    \n",
    "    # 计算UMAP\n",
    "    sc.tl.umap(adata)\n",
    "    # sc.tl.tsne(adata, n_jobs=6)\n",
    "\n",
    "    return adata\n",
    "\n",
    "adata_T = progress_pca_harmony_umap(adata_T)"
   ]
  },
  {
   "cell_type": "code",
   "execution_count": null,
   "id": "ff5fb6ce",
   "metadata": {},
   "outputs": [],
   "source": [
    "sc.settings.set_figure_params(dpi=400, figsize = (4, 4), fontsize=7)\n",
    "sc.pl.umap(adata_T, color=['annotation'], add_outline=True, outline_width = (0.2, 0.05), palette=\"tab20\", frameon=False, legend_loc='on data')"
   ]
  },
  {
   "cell_type": "code",
   "execution_count": null,
   "id": "160f64fc",
   "metadata": {},
   "outputs": [],
   "source": [
    "adata_T.uns['annotation_colors']"
   ]
  },
  {
   "cell_type": "code",
   "execution_count": null,
   "id": "05e45341",
   "metadata": {},
   "outputs": [],
   "source": [
    "adata_T.obs['annotation'].cat.categories"
   ]
  },
  {
   "cell_type": "code",
   "execution_count": null,
   "id": "e11fc924",
   "metadata": {},
   "outputs": [],
   "source": [
    "Groups_tab_1 = pd.crosstab(index=adata_T.obs['fig2_barplot'],  # Make a crosstab\n",
    "                        columns=adata_T.obs['annotation'], margins=True)               # Name the count column\n",
    "MyTab_1= Groups_tab_1.div(Groups_tab_1[\"All\"], axis=0)\n",
    "MyTab2_1 = MyTab_1.drop(columns=\"All\")\n",
    "MyTab2_1 = MyTab2_1.drop(index=\"All\")\n",
    "\n",
    "MyTab2_1 = MyTab2_1.T\n",
    "order = ['HC-IT','Rhi-IT','Rhi-MT','Rhi-NP']\n",
    "MyTab2_1 = MyTab2_1[order]\n",
    "MyTab2_1 = MyTab2_1.T\n",
    "#categories = IMM_group[::-1]\n",
    "\n",
    "MyTab2_1.columns = pd.CategoricalIndex(MyTab2_1.columns.values)\n",
    "\n",
    "# Sort the columns (axis=1) by the new categorical ordering\n",
    "MyTab2_1 = MyTab2_1.sort_index(axis=1)\n",
    "\n",
    "ax = MyTab2_1.plot.bar(\n",
    "            figsize=(3.7,5.7),\n",
    "            stacked=True,\n",
    "            edgecolor = '#000000',\n",
    "            linewidth=0.4,\n",
    "            width=0.8, \n",
    "            fontsize=15,\n",
    "            color={\"C02-T01-NK cells\": \"#1f77b4\",\n",
    "                   'C02-T02-ILC1': \"#aec7e8\",\n",
    "                   'C02-T03-ILC2': \"#ffbb78\", \n",
    "                   'C02-T04-ILC3': \"#98df8a\", \n",
    "                   'C02-T05-CD4+ Naive T': \"#ff9896\",\n",
    "                   'C02-T06-CD4+ Treg': \"#c5b0d5\",\n",
    "                   'C02-T07-CD4+Th2': \"#8c564b\", \n",
    "                   'C02-T08-CD4+ Th17': \"#e377c2\", \n",
    "                   'C02-T09-CD4+ Trm': \"#7f7f7f\",\n",
    "                   'C02-T10-CD8+ T cells': \"#bcbd22\",\n",
    "                   'C02-T11-CD8+ GNLY+ T cells': \"#17becf\", \n",
    "                   'C02-T12-Cycling T': \"#9edae5\"}\n",
    "             )\n",
    "\n",
    "\n",
    "plt.title(\"\", fontsize=12)\n",
    "plt.ylabel(\"Fraction of cells\", fontsize=15)\n",
    "plt.xlabel(\"\", fontsize=12)\n",
    "plt.ylim=1.0\n",
    "\n",
    "#plt.gca().get_legend().remove() #remove legend\n",
    "# plt.legend(categories, loc='center left', bbox_to_anchor=(1, 0.6), fontsize=12)\n",
    "# plt.savefig('Proportion of clusters accross organs.png')\n",
    "# 去除刻度\n",
    "#plt.xticks([])\n",
    "#plt.yticks([])\n",
    "# ax.tick_params(bottom=False, top=False, left=False, right=False)\n",
    "handles, labels = ax.get_legend_handles_labels()\n",
    "ax.legend(reversed(handles), reversed(labels), loc='center left', bbox_to_anchor=(1, 0.6), fontsize=8)\n",
    "plt.grid(False)\n",
    "\n",
    "ax.spines['top'].set_visible(False)\n",
    "ax.spines['right'].set_visible(False)\n",
    "plt.show()"
   ]
  },
  {
   "cell_type": "code",
   "execution_count": null,
   "id": "3bb30ea5",
   "metadata": {},
   "outputs": [],
   "source": [
    "PSMB1,PSMC4,PSMA4,CUL1,TAB2,MAP2K4,PSME4,FBXW11,NFKB2,TOLLIP,PSMC5,IRAK3,PSME1,PSMD5,PSMD8,TAB1,RBX1,PSMC6,PSMA3,PSMC1,PSMB5,PSMA6,NFKBIA,PSME2,PSMA7,PSMD10,PSMD7,RIPK2,IKBKB,NFKBIB,NOD1,PSMA2,MAP3K8,PSMD3,PSMD11,MAP2K6,NFKB1,PSMD9,SKP1,IL1A,PSMD14,IL1R2,IL1R1,IL1B,PSMF1,PSMB2,SEM1,PSMA1,PSME3,IRAK2,MAP3K7,IL1RN,PSMB7,PELI2,APP,PSMB6,PSMA5,RPS27A,UBC,PSMA8,TAB3,PSMD4,PSMB4,S100B,SQSTM1,PSMC2,S100A12,PSMD6,PSMC3,BTRC,NOD2,NKIRAS2,TNIP2,MAP2K1,UBB,MYD88,RELA,SAA1,PSMD1,PELI3,TRAF6,PSMD2,UBE2N,IRAK1,PSMD13,HMGB1,IL1RAP,PSMD12,PELI1,NKIRAS1,IRAK4,MAP3K3,PSMB8,AGER,PSMB10,CHUK,UBA52,PSMB11,PSMB9,UBE2V1,IKBKG,PSMB3\n"
   ]
  },
  {
   "cell_type": "code",
   "execution_count": null,
   "id": "089bb4b0",
   "metadata": {},
   "outputs": [],
   "source": [
    "B_index = adata.obs.loc[adata.obs[\"annotation\"].isin(['C03-B01-Naive B cells', 'C03-B02-Memory B cells', 'C03-B03-Cycling B',\n",
    "                                                     'C03-B04-IgA Plasma cells', 'C03-B05-IgG Plasma cells']), :].index\n",
    "adata_B = adata[B_index, :]\n",
    "adata_B"
   ]
  },
  {
   "cell_type": "code",
   "execution_count": null,
   "id": "42f9c8e8",
   "metadata": {},
   "outputs": [],
   "source": [
    "def progress_pca_harmony_umap(adata):\n",
    "    \n",
    "    # sc.tl.pca(adata, svd_solver='arpack')\n",
    "\n",
    "    # Harmony处理批次效应\n",
    "    harmony_out = hm.run_harmony(adata.obsm['X_pca'], adata.obs, vars_use = ['batch_name'],max_iter_harmony=20)\n",
    "    adata.obsm['X_pca_harmony'] = harmony_out.Z_corr.T\n",
    "    sc.pp.neighbors(adata, n_neighbors=10, use_rep='X_pca_harmony', n_pcs=20)\n",
    "    \n",
    "    # 计算UMAP\n",
    "    sc.tl.umap(adata)\n",
    "    # sc.tl.tsne(adata, n_jobs=6)\n",
    "\n",
    "    return adata\n",
    "\n",
    "adata_B = progress_pca_harmony_umap(adata_B)"
   ]
  },
  {
   "cell_type": "code",
   "execution_count": null,
   "id": "f5cc913f",
   "metadata": {},
   "outputs": [],
   "source": [
    "sc.settings.set_figure_params(dpi=400, figsize = (4, 4), fontsize=7)\n",
    "sc.pl.umap(adata_B, color=['annotation'], add_outline=True, outline_width = (0.2, 0.05), palette=\"tab20\", frameon=False, legend_loc='on data')"
   ]
  },
  {
   "cell_type": "code",
   "execution_count": null,
   "id": "f763dc11",
   "metadata": {},
   "outputs": [],
   "source": [
    "adata_B.uns['annotation_colors']"
   ]
  },
  {
   "cell_type": "code",
   "execution_count": null,
   "id": "5205a0bf",
   "metadata": {},
   "outputs": [],
   "source": [
    "adata_B.obs['annotation'].cat.categories"
   ]
  },
  {
   "cell_type": "code",
   "execution_count": null,
   "id": "31788916",
   "metadata": {},
   "outputs": [],
   "source": [
    "Groups_tab_1 = pd.crosstab(index=adata_B.obs['fig2_barplot'],  # Make a crosstab\n",
    "                        columns=adata_B.obs['annotation'], margins=True)               # Name the count column\n",
    "MyTab_1= Groups_tab_1.div(Groups_tab_1[\"All\"], axis=0)\n",
    "MyTab2_1 = MyTab_1.drop(columns=\"All\")\n",
    "MyTab2_1 = MyTab2_1.drop(index=\"All\")\n",
    "\n",
    "MyTab2_1 = MyTab2_1.T\n",
    "order = ['HC-IT','Rhi-IT','Rhi-MT','Rhi-NP']\n",
    "MyTab2_1 = MyTab2_1[order]\n",
    "MyTab2_1 = MyTab2_1.T\n",
    "#categories = IMM_group[::-1]\n",
    "\n",
    "MyTab2_1.columns = pd.CategoricalIndex(MyTab2_1.columns.values)\n",
    "\n",
    "# Sort the columns (axis=1) by the new categorical ordering\n",
    "MyTab2_1 = MyTab2_1.sort_index(axis=1)\n",
    "\n",
    "ax = MyTab2_1.plot.bar(\n",
    "            figsize=(3.7,5.7),\n",
    "            stacked=True,\n",
    "            edgecolor = '#000000',\n",
    "            linewidth=0.4,\n",
    "            width=0.8, \n",
    "            fontsize=15,\n",
    "            color={\"C03-B01-Naive B cells\": \"#1f77b4\",\n",
    "                   'C03-B02-Memory B cells': \"#98df8a\",\n",
    "                   'C03-B03-Cycling B': \"#8c564b\", \n",
    "                   'C03-B04-IgA Plasma cells': \"#c7c7c7\", \n",
    "                   'C03-B05-IgG Plasma cells': \"#9edae5\"}\n",
    "             )\n",
    "\n",
    "\n",
    "plt.title(\"\", fontsize=12)\n",
    "plt.ylabel(\"Fraction of cells\", fontsize=15)\n",
    "plt.xlabel(\"\", fontsize=12)\n",
    "plt.ylim=1.0\n",
    "\n",
    "#plt.gca().get_legend().remove() #remove legend\n",
    "# plt.legend(categories, loc='center left', bbox_to_anchor=(1, 0.6), fontsize=12)\n",
    "# plt.savefig('Proportion of clusters accross organs.png')\n",
    "# 去除刻度\n",
    "#plt.xticks([])\n",
    "#plt.yticks([])\n",
    "# ax.tick_params(bottom=False, top=False, left=False, right=False)\n",
    "handles, labels = ax.get_legend_handles_labels()\n",
    "ax.legend(reversed(handles), reversed(labels), loc='center left', bbox_to_anchor=(1, 0.6), fontsize=8)\n",
    "plt.grid(False)\n",
    "\n",
    "ax.spines['top'].set_visible(False)\n",
    "ax.spines['right'].set_visible(False)\n",
    "plt.show()"
   ]
  },
  {
   "cell_type": "code",
   "execution_count": null,
   "id": "d12ad147",
   "metadata": {},
   "outputs": [],
   "source": [
    "M_index = adata.obs.loc[adata.obs[\"annotation\"].isin(['C04-M01-Macrophages', 'C04-M02-CCL18+ Macrophages',\n",
    "       'C04-M03-CCL13+ Macrophages', 'C04-M04-CXCL8+ Macrophages',\n",
    "       'C04-M05-Monocytes', 'C04-M06-DC1', 'C04-M07-DC2',\n",
    "       'C04-M08-Migratory DCs', 'C04-M09-pDC']), :].index\n",
    "adata_M = adata[M_index, :]\n",
    "adata_M"
   ]
  },
  {
   "cell_type": "code",
   "execution_count": null,
   "id": "25605da2",
   "metadata": {},
   "outputs": [],
   "source": [
    "def progress_pca_harmony_umap(adata):\n",
    "    \n",
    "    # sc.tl.pca(adata, svd_solver='arpack')\n",
    "\n",
    "    # Harmony处理批次效应\n",
    "    harmony_out = hm.run_harmony(adata.obsm['X_pca'], adata.obs, vars_use = ['batch_name'],max_iter_harmony=20)\n",
    "    adata.obsm['X_pca_harmony'] = harmony_out.Z_corr.T\n",
    "    sc.pp.neighbors(adata, n_neighbors=10, use_rep='X_pca_harmony', n_pcs=20)\n",
    "    \n",
    "    # 计算UMAP\n",
    "    sc.tl.umap(adata)\n",
    "    # sc.tl.tsne(adata, n_jobs=6)\n",
    "\n",
    "    return adata\n",
    "\n",
    "adata_M = progress_pca_harmony_umap(adata_M)"
   ]
  },
  {
   "cell_type": "code",
   "execution_count": null,
   "id": "2f6cdc4f",
   "metadata": {},
   "outputs": [],
   "source": [
    "sc.settings.set_figure_params(dpi=400, figsize = (4, 4), fontsize=7)\n",
    "sc.pl.umap(adata_M, color=['annotation'], add_outline=True, outline_width = (0.2, 0.05), palette=\"tab20\", frameon=False)"
   ]
  },
  {
   "cell_type": "code",
   "execution_count": null,
   "id": "fdcf7247",
   "metadata": {},
   "outputs": [],
   "source": [
    "Groups_tab_1 = pd.crosstab(index=adata_M.obs['fig2_barplot'],  # Make a crosstab\n",
    "                        columns=adata_M.obs['annotation'], margins=True)               # Name the count column\n",
    "MyTab_1= Groups_tab_1.div(Groups_tab_1[\"All\"], axis=0)\n",
    "MyTab2_1 = MyTab_1.drop(columns=\"All\")\n",
    "MyTab2_1 = MyTab2_1.drop(index=\"All\")\n",
    "\n",
    "MyTab2_1 = MyTab2_1.T\n",
    "order = ['HC-IT','Rhi-IT','Rhi-MT','Rhi-NP']\n",
    "MyTab2_1 = MyTab2_1[order]\n",
    "MyTab2_1 = MyTab2_1.T\n",
    "#categories = IMM_group[::-1]\n",
    "\n",
    "MyTab2_1.columns = pd.CategoricalIndex(MyTab2_1.columns.values)\n",
    "\n",
    "# Sort the columns (axis=1) by the new categorical ordering\n",
    "MyTab2_1 = MyTab2_1.sort_index(axis=1)\n",
    "\n",
    "ax = MyTab2_1.plot.bar(\n",
    "            figsize=(3.7,5.7),\n",
    "            stacked=True,\n",
    "            edgecolor = '#000000',\n",
    "            linewidth=0.4,\n",
    "            width=0.8, \n",
    "            fontsize=15,\n",
    "             )\n",
    "\n",
    "\n",
    "plt.title(\"\", fontsize=12)\n",
    "plt.ylabel(\"Fraction of cells\", fontsize=15)\n",
    "plt.xlabel(\"\", fontsize=12)\n",
    "plt.ylim=1.0\n",
    "\n",
    "#plt.gca().get_legend().remove() #remove legend\n",
    "# plt.legend(categories, loc='center left', bbox_to_anchor=(1, 0.6), fontsize=12)\n",
    "# plt.savefig('Proportion of clusters accross organs.png')\n",
    "# 去除刻度\n",
    "#plt.xticks([])\n",
    "#plt.yticks([])\n",
    "# ax.tick_params(bottom=False, top=False, left=False, right=False)\n",
    "handles, labels = ax.get_legend_handles_labels()\n",
    "ax.legend(reversed(handles), reversed(labels), loc='center left', bbox_to_anchor=(1, 0.6), fontsize=8)\n",
    "plt.grid(False)\n",
    "\n",
    "ax.spines['top'].set_visible(False)\n",
    "ax.spines['right'].set_visible(False)\n",
    "plt.show()"
   ]
  },
  {
   "cell_type": "code",
   "execution_count": null,
   "id": "6a080a7b",
   "metadata": {},
   "outputs": [],
   "source": [
    "sc.settings.set_figure_params(dpi=150, figsize = (4, 4), fontsize=12)\n",
    "\n",
    "from matplotlib import cm, colors\n",
    "import colorcet as cc\n",
    "\n",
    "mymap = colors.LinearSegmentedColormap.from_list('my_colormap', cc.CET_L20)\n",
    "\n",
    "colors2 = mymap(np.linspace(0.2, 1, 128)) # 30%-100%\n",
    "colors3 = plt.cm.Greys_r(np.linspace(0.8,0.9,5))\n",
    "colorsComb = np.vstack([colors3, colors2])\n",
    "mymap = colors.LinearSegmentedColormap.from_list('my_colormap', colorsComb)\n",
    "\n",
    "sc.pl.umap(adata, color=['IL1A','IL1B'], frameon=False, color_map = mymap)"
   ]
  },
  {
   "cell_type": "code",
   "execution_count": null,
   "id": "e9cca4ea",
   "metadata": {},
   "outputs": [],
   "source": [
    "from matplotlib.pyplot import rc_context\n",
    "sc.settings.set_figure_params(dpi=300, fontsize=20)\n",
    "with rc_context({'figure.figsize': (12, 3)}):\n",
    "    sc.pl.violin(adata_M, ['IL1A'], groupby='annotation', stripplot=False, inner='box')\n",
    "\n",
    "with rc_context({'figure.figsize': (12, 3)}):\n",
    "    sc.pl.violin(adata_M, ['IL1B'], groupby='annotation', stripplot=False, inner='box')"
   ]
  },
  {
   "cell_type": "code",
   "execution_count": null,
   "id": "bfed010c",
   "metadata": {},
   "outputs": [],
   "source": [
    "from matplotlib.pyplot import rc_context\n",
    "sc.settings.set_figure_params(dpi=300, fontsize=12)\n",
    "with rc_context({'figure.figsize': (12, 3)}):\n",
    "    sc.pl.violin(adata_M, ['IL1B'], groupby='annotation', stripplot=False, inner='box')"
   ]
  },
  {
   "cell_type": "code",
   "execution_count": null,
   "id": "56a4ecc7",
   "metadata": {},
   "outputs": [],
   "source": [
    "from matplotlib.pyplot import rc_context\n",
    "\n",
    "with rc_context({'figure.figsize': (4, 3)}):\n",
    "    sc.pl.violin(adata_M, ['IL1A'], groupby='fig2_barplot', stripplot=False, inner='box')\n",
    "\n",
    "with rc_context({'figure.figsize': (4, 3)}):\n",
    "    sc.pl.violin(adata_M, ['IL1B'], groupby='fig2_barplot', stripplot=False, inner='box')"
   ]
  },
  {
   "cell_type": "code",
   "execution_count": null,
   "id": "c18cd10c",
   "metadata": {},
   "outputs": [],
   "source": [
    "readpath = '/mnt/data2/Datasets/Human_non_intestine_datasets/Qilu_Otorhinolaryngology_surgery_data/HRA000772/matrix/HRR222794/alevin/'\n",
    "\n",
    "genes = pd.read_csv(readpath+'quants_mat_rows.txt', sep='\\t', header=None)\n",
    "barcodes = pd.read_csv(readpath+'quants_mat_cols.txt', sep='\\t', header=None)\n",
    "\n",
    "genes_list = genes[0].values.tolist()\n",
    "barcodes_list = barcodes[0].values.tolist()\n",
    "\n",
    "import scipy.io as sp_io\n",
    "matrix = sp_io.mmread(readpath+'quants_mat.mtx')\n",
    "matrix_dense = matrix.todense()\n",
    "\n",
    "dataframe_adult = pd.DataFrame(data=matrix_dense, index=genes_list, columns=barcodes_list)\n",
    "adata = sc.AnnData(dataframe_adult)\n",
    "\n",
    "import scipy\n",
    "adata.X = scipy.sparse.csr_matrix(adata.X)\n",
    "adata"
   ]
  },
  {
   "cell_type": "code",
   "execution_count": null,
   "id": "d8cad063",
   "metadata": {},
   "outputs": [],
   "source": [
    "# 共用模块\n",
    "    \n",
    "def change_obs_index_v1(x):\n",
    "    \"\"\"\n",
    "    This function is used to change barcodes' names, adding sample information, so as to add meta-data to Anndata.\n",
    "    \"\"\"\n",
    "    x = barcode_name + '.' + x\n",
    "    #x = x[:-2]\n",
    "    \n",
    "    return x\n",
    "\n",
    "def change_obs_index_v2(x):\n",
    "    \"\"\"\n",
    "    该函数用于修正concatenate样本或数据集后变更的barcodes名。\n",
    "    \"\"\"  \n",
    "    x = x[:-4]\n",
    "    return x\n",
    "\n",
    "\n",
    "def concatenate_samples(file_name_list, file_output_h5ad, joint='outer'):\n",
    "    \"\"\"\n",
    "    该函数将一个数据集中的多个样本h5ad合并为一个adata。\n",
    "    \"\"\" \n",
    "    adata_list = []\n",
    "    \n",
    "    for sample_id in file_name_list:\n",
    "        adata_single = sc.read(file_output_h5ad + sample_id + '.h5ad')\n",
    "        adata_list.append(adata_single)\n",
    "        \n",
    "    # batch_list单个数据集的样本数限制在999以下时适用，此步骤是因为Anndata的concatenate函数会自动在barcode name尾部一个批次编号，\n",
    "    # 在这里设置格式化的编号以便删除。\n",
    "    batch_list = []\n",
    "    for i in range(len(file_name_list)):\n",
    "        if i+1 < 10:\n",
    "            j = '00'+ str(i+1)\n",
    "        elif i+1 < 100:\n",
    "            j = '0'+ str(i+1)\n",
    "        else: \n",
    "            j = str(i+1)\n",
    "        batch_list.append(j)\n",
    "    \n",
    "    adata = adata_list[0].concatenate(adata_list[1:len(batch_list)],join=joint, batch_categories=batch_list)\n",
    "    # 删除barcode name的尾部编号\n",
    "    adata.obs.rename(index=change_obs_index_v2,inplace=True)\n",
    "    \n",
    "    return adata"
   ]
  },
  {
   "cell_type": "code",
   "execution_count": null,
   "id": "cdb79a6f",
   "metadata": {},
   "outputs": [],
   "source": [
    "# This moudle if for data format of alevin-fry mtx.\n",
    "def file_name(file_path):\n",
    "    for root, dirs, files in os.walk(file_path):\n",
    "        print('The dataset has '+str(len(dirs))+' samples.')\n",
    "        print('sub_dirs:', dirs)  # 当前路径下所有子目录\n",
    "        file_name_list = dirs\n",
    "        return file_name_list\n",
    "    \n",
    "def mtx_to_adata(file_name_list, # dirs\n",
    "                 dataset_name,  # 'qilu_'\n",
    "                 file_path, \n",
    "                 file_output_h5ad):\n",
    "    \"\"\"\n",
    "    This function is used to bulk convert 10X single-cell matrix to annddata format.\n",
    "    \"\"\"\n",
    "    for sample_id in file_name_list:\n",
    "\n",
    "        genes = pd.read_csv(file_path+sample_id+'/alevin/quants_mat_rows.txt', sep='\\t', header=None)\n",
    "        barcodes = pd.read_csv(file_path+sample_id+'/alevin/quants_mat_cols.txt', sep='\\t', header=None)\n",
    "        genes_list = genes[0].values.tolist()\n",
    "        barcodes_list = barcodes[0].values.tolist()\n",
    "        import scipy.io as sp_io\n",
    "        matrix = sp_io.mmread(file_path+sample_id+'/alevin/quants_mat.mtx')\n",
    "        matrix_dense = matrix.todense()\n",
    "        dataframe_adult = pd.DataFrame(data=matrix_dense, index=genes_list, columns=barcodes_list)\n",
    "        adata = sc.AnnData(dataframe_adult)\n",
    "        import scipy\n",
    "        adata.X = scipy.sparse.csr_matrix(adata.X)\n",
    "        \n",
    "        print('The anndata of '+sample_id+' is:')\n",
    "        print(adata)\n",
    "        global barcode_name\n",
    "        barcode_name = dataset_name + sample_id\n",
    "        adata.obs.rename(index=change_obs_index_v1,inplace=True)\n",
    "        adata.write(file_output_h5ad + sample_id + '.h5ad')\n",
    "        \n",
    "    return adata # 此函数返回最后一个（或唯一的）adata文件，用于一个数据集中仅有一个样本时的10x solution。\n",
    "\n",
    "def solution_concatenate_alevin(file_path, \n",
    "                             file_output_h5ad, \n",
    "                             dataset_name, \n",
    "                             dataset_output, \n",
    "                             adata_name,\n",
    "                             joint):\n",
    "    \"\"\"\n",
    "    批量处理大规模alevin-fry比对的矩阵文件的解决方案，整合多样本，在barcode name中添加数据集和样本信息;\n",
    "    生成每一个样本的h5ad文件，以及合并样本的总adata;\n",
    "    生成的每个样本的adata文件存放于file_output_h5ad中，合并样本的adata存放于dataset_output;\n",
    "    adata的df为原始基因表达。\n",
    "    filtered默认为True，表示矩阵是alevin-fry过滤的矩阵；\n",
    "    \"\"\"\n",
    "    print('using the framework of scRNA-seq analysis developed by Yue Wang, qilu hospital of Shandong University')\n",
    "    file_name_list = file_name(file_path)\n",
    "    \n",
    "    adata_last = mtx_to_adata(file_name_list, dataset_name, file_path, file_output_h5ad)\n",
    "        \n",
    "    # 判断数据集内的样本数\n",
    "    if len(file_name_list)>1:\n",
    "        adata = concatenate_samples(file_name_list, file_output_h5ad, joint='outer')\n",
    "    else:\n",
    "        # 当数据集仅有一个样本时\n",
    "        adata = adata_last\n",
    "    adata.write(dataset_output + adata_name + '.h5ad')\n",
    "    \n",
    "    print('The final adata is: ')\n",
    "    print(adata)\n",
    "    \n",
    "    return adata"
   ]
  },
  {
   "cell_type": "code",
   "execution_count": null,
   "id": "0e791867",
   "metadata": {},
   "outputs": [],
   "source": [
    "file_path = '/mnt/data2/Datasets/Human_non_intestine_datasets/Qilu_Otorhinolaryngology_surgery_data/HRA000772/matrix/'\n",
    "file_output_h5ad = '/mnt/data2/Datasets/Human_non_intestine_datasets/Qilu_Otorhinolaryngology_surgery_data/HRA000772/H5ad/'\n",
    "dataset_name = 'HRA000772_'\n",
    "adata_name = 'HRA000772'\n",
    "dataset_output = '/mnt/data2/Datasets/Human_non_intestine_datasets/Qilu_Otorhinolaryngology_surgery_data/HRA000772/dataset_output/'\n",
    "joint = 'outer' # 此数据集每个样本的基因数都一致"
   ]
  },
  {
   "cell_type": "code",
   "execution_count": null,
   "id": "a1a73be5",
   "metadata": {},
   "outputs": [],
   "source": [
    "# AnnData object with n_obs × n_vars = 85162 × 27319\n",
    "adata = solution_concatenate_alevin(file_path, file_output_h5ad, dataset_name, dataset_output, adata_name, joint = 'outer')"
   ]
  },
  {
   "cell_type": "code",
   "execution_count": null,
   "id": "511efd11",
   "metadata": {},
   "outputs": [],
   "source": [
    "adata = sc.read('/mnt/data2/Datasets/Human_non_intestine_datasets/Qilu_Otorhinolaryngology_surgery_data/HRA000772/dataset_output/HRA000772.h5ad')"
   ]
  },
  {
   "cell_type": "code",
   "execution_count": null,
   "id": "6656282b",
   "metadata": {},
   "outputs": [],
   "source": [
    "adata"
   ]
  },
  {
   "cell_type": "code",
   "execution_count": null,
   "id": "ae0b50f6",
   "metadata": {},
   "outputs": [],
   "source": [
    "adata.var_names_make_unique"
   ]
  },
  {
   "cell_type": "code",
   "execution_count": null,
   "id": "7bf55665",
   "metadata": {},
   "outputs": [],
   "source": [
    "adata.var['gene_ids'] = adata.var_names\n",
    "adata.var"
   ]
  },
  {
   "cell_type": "code",
   "execution_count": null,
   "id": "90a9c0e0",
   "metadata": {},
   "outputs": [],
   "source": [
    "# 函数定义\n",
    "def convert_genes_with_ids(adata_file, REFERENCE_DICT_DIR = \"/mnt/data/project/qilu_singlecell_1/ref_geneset/Ensembl_ID2gene_Symbol_hg38.txt\"):\n",
    "    adata = adata_file\n",
    "    print('adata before gene convert')    \n",
    "    print(adata)\n",
    "    \n",
    "    target_frame = adata.var\n",
    "    \n",
    "    ref_hg38 = pd.read_csv(REFERENCE_DICT_DIR, sep='\\t')\n",
    "    \n",
    "    # 第一步，对ENS编号取交集\n",
    "    intersection = pd.merge(target_frame,ref_hg38,on=['gene_ids']) # 务必注意顺序，target_frame在前\n",
    "    \n",
    "    # 第二步，删除重复基因\n",
    "    duplicated_genes_list = intersection[intersection['Gene name'].duplicated()]['Gene name'].to_list() # 获取重复基因列表\n",
    "    print('duplicated genes list:')\n",
    "    print(duplicated_genes_list)\n",
    "    # 在intersection中删除重复基因，注意一定不能在adata文件替换gene_symbol，出现重复gene_symbol后，对adata更新gene_symbol，会出现报错。\n",
    "    intersection_after_duplication_removed = intersection[~(intersection['Gene name'].isin(duplicated_genes_list))]\n",
    "    \n",
    "    # 第三步，根据交集的ENS编号，获取adata.var中相应ENS编号所在index（交集Index）\n",
    "    adata_target_var_index = adata.var.loc[adata.var[\"gene_ids\"].isin(list(intersection_after_duplication_removed['gene_ids'])), :].index\n",
    "    \n",
    "    # 第四步，根据交集index，删除未交集的var\n",
    "    adata = adata[:, adata_target_var_index]\n",
    "    \n",
    "    # 第五步，更新var，这一步的正确结果要求第一步务必按照target_frame在前，ref_hg38在后的顺序。\n",
    "    adata.var.index = intersection_after_duplication_removed[\"Gene name\"]\n",
    "    \n",
    "    # save barcode names\n",
    "    adata.obs['barcode_name'] = adata.obs_names.to_list()\n",
    "    print('adata after gene convert') \n",
    "    print(adata)\n",
    "    \n",
    "    return adata"
   ]
  },
  {
   "cell_type": "code",
   "execution_count": null,
   "id": "4cd2c8aa",
   "metadata": {},
   "outputs": [],
   "source": [
    "adata = convert_genes_with_ids(adata_file = adata)\n",
    "adata"
   ]
  },
  {
   "cell_type": "code",
   "execution_count": null,
   "id": "25b21edb",
   "metadata": {},
   "outputs": [],
   "source": [
    "adata.var"
   ]
  },
  {
   "cell_type": "code",
   "execution_count": null,
   "id": "d06322da",
   "metadata": {},
   "outputs": [],
   "source": [
    "sc.pp.filter_cells(adata, min_genes=250)\n",
    "adata.var['mt'] = adata.var_names.str.startswith('MT-')\n",
    "adata.var['rp'] = adata.var_names.str.startswith((\"RPS\",\"RPL\"))\n",
    "sc.pp.calculate_qc_metrics(adata, qc_vars=['mt'], percent_top=None, log1p=False, inplace=True)\n",
    "sc.pp.calculate_qc_metrics(adata, qc_vars=['rp'], percent_top=None, log1p=False, inplace=True)"
   ]
  },
  {
   "cell_type": "code",
   "execution_count": null,
   "id": "d8c82615",
   "metadata": {},
   "outputs": [],
   "source": [
    "adata"
   ]
  },
  {
   "cell_type": "code",
   "execution_count": null,
   "id": "3ed56fa6",
   "metadata": {},
   "outputs": [],
   "source": [
    "sc.pl.highest_expr_genes(adata, n_top=20, )\n",
    "sc.pl.violin(adata, ['n_genes', 'total_counts', 'pct_counts_mt'],jitter=0.4, multi_panel=True)"
   ]
  },
  {
   "cell_type": "code",
   "execution_count": null,
   "id": "fc42fde8",
   "metadata": {},
   "outputs": [],
   "source": [
    "def quality_control(adata):\n",
    "    \n",
    "    # 剔除MT-基因\n",
    "    non_MT_genes_list = [name for name in adata.var_names if not name.startswith('MT-')]\n",
    "    adata = adata[:, non_MT_genes_list]\n",
    "    adata = adata[adata.obs.pct_counts_mt < 20, :]\n",
    "    \n",
    "    # 剔除RP基因\n",
    "    non_RP_genes_list = [name for name in adata.var_names if not name.startswith((\"RPS\",\"RPL\"))]\n",
    "    adata = adata[:, non_RP_genes_list]\n",
    "    \n",
    "    sc.pp.filter_genes(adata, min_cells=20)\n",
    "    \n",
    "    return adata"
   ]
  },
  {
   "cell_type": "code",
   "execution_count": null,
   "id": "48fa035e",
   "metadata": {},
   "outputs": [],
   "source": [
    "adata = quality_control(adata)\n",
    "adata"
   ]
  },
  {
   "cell_type": "code",
   "execution_count": null,
   "id": "b652c656",
   "metadata": {},
   "outputs": [],
   "source": [
    "sc.pp.normalize_total(adata, target_sum=1e4)\n",
    "sc.pp.log1p(adata)\n",
    "adata.raw = adata"
   ]
  },
  {
   "cell_type": "code",
   "execution_count": null,
   "id": "7a1860a0",
   "metadata": {},
   "outputs": [],
   "source": [
    "adata.var"
   ]
  },
  {
   "cell_type": "code",
   "execution_count": null,
   "id": "62d1f9ff",
   "metadata": {},
   "outputs": [],
   "source": [
    "adata"
   ]
  },
  {
   "cell_type": "code",
   "execution_count": null,
   "id": "1c28dc77",
   "metadata": {},
   "outputs": [],
   "source": [
    "adata.write('/mnt/data2/Datasets/Human_non_intestine_datasets/Qilu_Otorhinolaryngology_surgery_data/HRA000772/dataset_output/HRA000772_nor.h5ad')"
   ]
  },
  {
   "cell_type": "code",
   "execution_count": null,
   "id": "c80adfb1",
   "metadata": {},
   "outputs": [],
   "source": [
    "def cycle_score(adata, cycle_gene_file='/mnt/data/project/qilu_singlecell_1/ref_geneset/regev_lab_cell_cycle_genes.txt'):\n",
    "    cell_cycle_genes = [x.strip() for x in open(cycle_gene_file)]\n",
    "    s_genes = cell_cycle_genes[:43]\n",
    "    g2m_genes = cell_cycle_genes[43:]\n",
    "\n",
    "    cell_cycle_genes = [x for x in cell_cycle_genes if x in adata.var_names]\n",
    "    s_genes = [x for x in s_genes if x in adata.var_names]\n",
    "    g2m_genes = [x for x in g2m_genes if x in adata.var_names]\n",
    "\n",
    "    # sc.pp.scale(adata, zero_center=False) # 计算得分前的scale并非必须\n",
    "    sc.tl.score_genes_cell_cycle(adata, s_genes=s_genes, g2m_genes=g2m_genes)\n",
    "\n",
    "    adata_cc_genes = adata[:, cell_cycle_genes]\n",
    "    sc.tl.pca(adata_cc_genes)\n",
    "    sc.pl.pca_scatter(adata_cc_genes, color='phase')\n",
    "\n",
    "    return adata\n",
    "\n",
    "def EIS_score(adata):\n",
    "    # 请注意B的基因集会导致滤泡B细胞被归为MNPs区室，需根据CD79A表达来区别\n",
    "    pan_epi_marker = 'KRT8,EPCAM,KRT18,KRT19,CLDN3,CLDN7,ELF3,S100A6,C15orf48,CLDN4,SMIM22,S100A14,SPINK2'.split(',')\n",
    "    pan_T_ILCs_marker = 'TRAC,IL32,CD3D,CCL5,CD2,TRBC2,CD3E,CD3G,EVL,IL7R,CD7,HCST,KLRB1,LCK,FYB1,CXCR4,CORO1A,TRDC,GNLY,GZMA,IFNG,PRF1,TNF,CCL3,CCL4,XCL1,XCL2,NKG7,IL22,IL2RA,IL7R,IL23R'.split(',')\n",
    "    pan_B_marker = 'CD79A,IGHA1,MZB1,DERL3,IGHA2,HERPUD1,SSR4,TNFRSF17,SEC11C,UBE2J1,PRDX4,GNG7,XBP1,EAF2,PLPP5,CD27,IGLC3,SSR3,TNFRSF13B'.split(',')\n",
    "    pan_MNPs_marker = 'HLA-DRA,CST3,HLA-DPB1,CD74,HLA-DPA1,AIF1,LYZ,HLA-DQA1,C1QA,MS4A6A,HLA-DMA,C1QC,C1QB,FCGRT,DNASE1E3,LST1,SELENOP,FGL2,HLA-DMB,CTSB,GRN'.split(',')\n",
    "    pan_Mast_marker = 'TPSAB1,CPA3,TPSB2,CD9,HPGDS,ANXA1,NFKBIA,MS4A2,CD63,LAPTM4A,SRGN,LMNA,LTC4S,FCER1G,VWA5A,CTSG,KIT,CLU'.split(',')\n",
    "    pan_Stromal_marker = 'IGFBP7,IFITM3,SPARC,A2M,CALD1,GSN,LGALS1,VIM,SPARCL1,CXCL14,COL1A2,COL3A1,COL6A2,TIMP1,C1S,S100A13,C1R,PLAT,MFAP4,RARRES2,COL1A1'.split(',')\n",
    "    \n",
    "    pan_epi_marker = [x for x in pan_epi_marker if x in adata.var_names]\n",
    "    pan_T_ILCs_marker = [x for x in pan_T_ILCs_marker if x in adata.var_names]\n",
    "    pan_B_marker = [x for x in pan_B_marker if x in adata.var_names]\n",
    "    pan_MNPs_marker = [x for x in pan_MNPs_marker if x in adata.var_names]\n",
    "    pan_Mast_marker = [x for x in pan_Mast_marker if x in adata.var_names]\n",
    "    pan_Stromal_marker = [x for x in pan_Stromal_marker if x in adata.var_names]\n",
    "    # pan_all_marker = pan_epi_marker + pan_imm_marker + pan_str_marker\n",
    "\n",
    "    epi_genes_index = adata.var_names.isin(pan_epi_marker)\n",
    "    T_ILCs_genes_index = adata.var_names.isin(pan_T_ILCs_marker)\n",
    "    B_genes_index = adata.var_names.isin(pan_B_marker)\n",
    "    MNPs_genes_index = adata.var_names.isin(pan_MNPs_marker)\n",
    "    Mast_genes_index = adata.var_names.isin(pan_Mast_marker)\n",
    "    Stromal_genes_index = adata.var_names.isin(pan_Stromal_marker)\n",
    "    \n",
    "    # 计算区室评分\n",
    "\n",
    "    adata.obs['mean_epi_score'] = np.sum(adata[:, epi_genes_index].X, axis=1) / len(pan_epi_marker)\n",
    "    adata.obs['mean_T_ILCs_score'] = np.sum(adata[:, T_ILCs_genes_index].X, axis=1) / len(pan_T_ILCs_marker)\n",
    "    adata.obs['mean_B_score'] = np.sum(adata[:, B_genes_index].X, axis=1) / len(pan_B_marker)\n",
    "    adata.obs['mean_MNPs_score'] = np.sum(adata[:, MNPs_genes_index].X, axis=1) / len(pan_MNPs_marker)\n",
    "    adata.obs['mean_Mast_score'] = np.sum(adata[:, Mast_genes_index].X, axis=1) / len(pan_Mast_marker)\n",
    "    adata.obs['mean_Stromal_score'] = np.sum(adata[:, Stromal_genes_index].X, axis=1) / len(pan_Stromal_marker)\n",
    "    \n",
    "    # 获取每个细胞的三类区室的得分\n",
    "    compartments_values_list = adata.obs.loc[:, ['mean_epi_score', 'mean_T_ILCs_score', 'mean_B_score','mean_MNPs_score','mean_Mast_score','mean_Stromal_score']].values.tolist()\n",
    "\n",
    "    return adata, compartments_values_list\n",
    "\n",
    "def hvg_regress_scale(adata):\n",
    "    # 注意，HVG要求输入的矩阵必须是对数化处理的\n",
    "    sc.pp.highly_variable_genes(adata, min_mean=0.0125, max_mean=3, min_disp=0.5)\n",
    "    adata = adata[:, adata.var.highly_variable]\n",
    "    print(adata)\n",
    "    \n",
    "    # sc.pp.regress_out(adata, ['S_score', 'G2M_score'])\n",
    "    \n",
    "    sc.pp.scale(adata, zero_center=False)\n",
    "\n",
    "    return adata\n",
    "\n",
    "def progress_pca_bbknn_umap_tsne(adata, n_pcs=20, batch_key='batch'):\n",
    "    ## 主成分分析降维\n",
    "    sc.tl.pca(adata, svd_solver='arpack')\n",
    "\n",
    "    # 使用bbknn算法处理批次效应(代替了neighbors)\n",
    "    # bbknn要求数据已经过标准化和主成分分析\n",
    "    sc.external.pp.bbknn(adata, batch_key=batch_key, n_pcs=n_pcs)\n",
    "    \n",
    "    # 计算UMAP\n",
    "    sc.tl.umap(adata)\n",
    "    # sc.tl.tsne(adata, n_jobs=6)\n",
    "\n",
    "    return adata\n",
    "\n",
    "def progress_pca_harmony_umap(adata):\n",
    "    sc.tl.pca(adata, svd_solver='arpack')\n",
    "    sc.pl.pca(adata)\n",
    "    sc.pl.pca_variance_ratio(adata, log=True)\n",
    "\n",
    "    # Harmony处理批次效应\n",
    "    harmony_out = hm.run_harmony(adata.obsm['X_pca'], adata.obs, vars_use = ['batch_name'])\n",
    "    adata.obsm['X_pca_harmony'] = harmony_out.Z_corr.T\n",
    "    sc.pp.neighbors(adata, n_neighbors=10, use_rep='X_pca_harmony', n_pcs=20)\n",
    "    \n",
    "    # 计算UMAP\n",
    "    sc.tl.umap(adata)\n",
    "    # sc.tl.tsne(adata, n_jobs=6)\n",
    "\n",
    "    return adata\n",
    "\n",
    "def score_compartments(adata, compartments_values_list):\n",
    "    # 每个细胞的Compartments标签为得分最高的类\n",
    "    cell_compartments_list = []\n",
    "\n",
    "\n",
    "    for i in compartments_values_list:\n",
    "        a = np.where(i == np.max(i))\n",
    "        if a[0][0] == 0:\n",
    "            j = 'epi'\n",
    "        elif a[0][0] == 1:\n",
    "            j = 'T_ILCs'\n",
    "        elif a[0][0] == 2:\n",
    "            j = 'B'\n",
    "        elif a[0][0] == 3:\n",
    "            j = 'MNPs'\n",
    "        elif a[0][0] == 4:\n",
    "            j = 'Mast'\n",
    "        elif a[0][0] == 5:\n",
    "            j = 'Stromal'\n",
    "\n",
    "        cell_compartments_list.append(j)\n",
    "\n",
    "    adata.obs['Compartments'] = cell_compartments_list\n",
    "\n",
    "    return adata\n",
    "\n",
    "def add_leiden(adata):\n",
    "\n",
    "    print(\"Performing clustering with a resolution of 0.5\")\n",
    "    sc.tl.leiden(adata, resolution=0.5)\n",
    "    adata.obs['leiden-all-0.5'] = adata.obs['leiden']\n",
    "\n",
    "    print(\"Performing clustering with a resolution of 1\")\n",
    "    sc.tl.leiden(adata, resolution=1)\n",
    "    adata.obs['leiden-all-1'] = adata.obs['leiden']\n",
    "\n",
    "    return adata"
   ]
  },
  {
   "cell_type": "code",
   "execution_count": null,
   "id": "a53021b6",
   "metadata": {},
   "outputs": [],
   "source": [
    "adata = cycle_score(adata = adata)\n",
    "adata, compartments_values_list = EIS_score(adata)\n",
    "adata = hvg_regress_scale(adata)"
   ]
  },
  {
   "cell_type": "code",
   "execution_count": null,
   "id": "565664f9",
   "metadata": {},
   "outputs": [],
   "source": [
    "adata = progress_pca_bbknn_umap_tsne(adata)"
   ]
  },
  {
   "cell_type": "code",
   "execution_count": null,
   "id": "5d17fd60",
   "metadata": {},
   "outputs": [],
   "source": [
    "compartments_values_list = adata.obs.loc[:, ['mean_epi_score', 'mean_T_ILCs_score', 'mean_B_score','mean_MNPs_score','mean_Mast_score','mean_Stromal_score']].values.tolist()\n",
    "\n",
    "adata = score_compartments(adata, compartments_values_list = compartments_values_list)\n",
    "\n",
    "adata = add_leiden(adata)"
   ]
  },
  {
   "cell_type": "code",
   "execution_count": null,
   "id": "fc19a30d",
   "metadata": {},
   "outputs": [],
   "source": [
    "sc.settings.set_figure_params(dpi=150, figsize = (4, 3), fontsize=10)\n",
    "sc.pl.umap(adata, color=['leiden-all-0.5'], add_outline=True,\n",
    "           palette=sc.pl.palettes.vega_20_scanpy, outline_width = (0.2, 0.05), frameon=False, legend_loc='on data')\n",
    "sc.pl.umap(adata, color=['leiden-all-1'], add_outline=True,\n",
    "           palette=sc.pl.palettes.vega_20_scanpy, outline_width = (0.2, 0.05), frameon=False, legend_loc='on data')"
   ]
  },
  {
   "cell_type": "code",
   "execution_count": null,
   "id": "d9584da3",
   "metadata": {},
   "outputs": [],
   "source": [
    "sc.settings.set_figure_params(dpi=200, figsize = (4, 4), fontsize=7)\n",
    "sc.pl.umap(adata, color=['Compartments'], add_outline=True,frameon=False, title='')"
   ]
  },
  {
   "cell_type": "code",
   "execution_count": null,
   "id": "ec0b1a43",
   "metadata": {},
   "outputs": [],
   "source": [
    "sc.settings.set_figure_params(dpi=200, figsize = (4, 4), fontsize=15)\n",
    "sc.pl.umap(adata, color=['FCGR3B','HCAR3','CLC','IL1B'])\n",
    "sc.pl.umap(adata, color=['IL1A','PI3','BHLHE40','BATF2'])"
   ]
  },
  {
   "cell_type": "markdown",
   "id": "1094fb8e",
   "metadata": {},
   "source": [
    "# FigS6"
   ]
  },
  {
   "cell_type": "markdown",
   "id": "66f687da",
   "metadata": {},
   "source": [
    "## 小提琴图"
   ]
  },
  {
   "cell_type": "code",
   "execution_count": null,
   "id": "28f72fdc",
   "metadata": {},
   "outputs": [],
   "source": [
    "adata = sc.read('/home/wangyue/basic-calculation_data/c_Project_outputs/qilu_CRSwNP/IMM.h5ad')\n",
    "adata = sc.AnnData(X=adata.raw.X, var=adata.raw.var, obs = adata.obs)\n",
    "adata"
   ]
  },
  {
   "cell_type": "code",
   "execution_count": null,
   "id": "10964b8d",
   "metadata": {},
   "outputs": [],
   "source": [
    "adata_1 = sc.read('/home/wangyue/basic-calculation_data/b_Datasets/sc_Datasets/RNA_data/Human_non_intestine_datasets/Nasal_Xiehe_HRA000772/dataset_output/HRA000772_nor_neutrophils.h5ad')\n",
    "adata_1"
   ]
  },
  {
   "cell_type": "code",
   "execution_count": null,
   "id": "c191f5cf",
   "metadata": {},
   "outputs": [],
   "source": [
    "adata_1.obs['annotation'] = 'C04-M10-Neutrophils'"
   ]
  },
  {
   "cell_type": "code",
   "execution_count": null,
   "id": "32366fd9",
   "metadata": {},
   "outputs": [],
   "source": [
    "# 合并方式为outer\n",
    "adata = adata.concatenate(adata_1,join=\"inner\")\n",
    "adata.var = adata.var[[]]\n",
    "adata"
   ]
  },
  {
   "cell_type": "code",
   "execution_count": null,
   "id": "dd19224d",
   "metadata": {},
   "outputs": [],
   "source": [
    "adata.raw = adata"
   ]
  },
  {
   "cell_type": "code",
   "execution_count": null,
   "id": "d095f623",
   "metadata": {},
   "outputs": [],
   "source": [
    "adata.obs['annotation'] = adata.obs['annotation'].astype('category')\n",
    "adata.obs['annotation'].cat.categories"
   ]
  },
  {
   "cell_type": "code",
   "execution_count": null,
   "id": "4e045240",
   "metadata": {},
   "outputs": [],
   "source": [
    "E_index = adata.obs.loc[adata.obs[\"annotation\"].isin(['C04-M01-Macrophages', 'C04-M02-CCL18+ Macrophages',\n",
    "       'C04-M03-CCL13+ Macrophages', 'C04-M04-CXCL8+ Macrophages',\n",
    "       'C04-M05-Monocytes', 'C04-M06-DC1', 'C04-M07-DC2',\n",
    "       'C04-M08-Migratory DCs', 'C04-M09-pDC', 'C04-M10-Neutrophils']), :].index\n",
    "adata = adata[E_index, :]\n",
    "adata"
   ]
  },
  {
   "cell_type": "code",
   "execution_count": null,
   "id": "a28b7640",
   "metadata": {},
   "outputs": [],
   "source": [
    "import cosg as cosg\n",
    "\n",
    "cosg.cosg(adata,\n",
    "    key_added='cosg',\n",
    "        mu=1,\n",
    "        n_genes_user=50,\n",
    "               groupby='annotation')\n",
    "\n",
    "sc.settings.set_figure_params(dpi=200, figsize = (4, 4), fontsize=20)\n",
    "sc.pl.rank_genes_groups_dotplot(adata,groupby='annotation',\n",
    "                                cmap='Spectral_r',\n",
    "                                 standard_scale='var',\n",
    "                                       n_genes=15,key='cosg')"
   ]
  },
  {
   "cell_type": "code",
   "execution_count": null,
   "id": "4f204e60",
   "metadata": {},
   "outputs": [],
   "source": [
    "import seaborn as sns\n",
    "sns.set(style=\"ticks\",rc={'figure.figsize':(13,6)},font_scale=3)\n",
    "\n",
    "ax = sc.pl.violin(adata, \n",
    "             \"IL1B\", \n",
    "             groupby=\"annotation\",\n",
    "             # order = [\"Duodenum\",\"Jejunum\",\"Ileum\"],\n",
    "             linewidth=0.3, \n",
    "             rotation=90, \n",
    "             # palette=[\"#0432ff\",\"#ff0000\",\"#03ab3e\"],\n",
    "             size=0.8,\n",
    "             show =False,\n",
    "            )\n",
    "ax\n",
    "sns.despine(trim=True)"
   ]
  },
  {
   "cell_type": "code",
   "execution_count": null,
   "id": "2aafc6d0",
   "metadata": {},
   "outputs": [],
   "source": [
    "sc.settings.set_figure_params(dpi=100, figsize = (4, 4), fontsize=20)\n",
    "import seaborn as sns\n",
    "sns.set(style=\"ticks\",rc={'figure.figsize':(13,6)},font_scale=3)\n",
    "\n",
    "ax = sc.pl.violin(adata, \n",
    "             ['NR1H4','NR1H3','VDR','GPBAR1','IL1R1'], \n",
    "             groupby=\"annotation\",\n",
    "             # order = [\"Duodenum\",\"Jejunum\",\"Ileum\"],\n",
    "             linewidth=0.3, \n",
    "             rotation=90, \n",
    "             # palette=[\"#0432ff\",\"#ff0000\",\"#03ab3e\"],\n",
    "             size=0.8,\n",
    "             show =False,\n",
    "            )\n",
    "ax\n",
    "sns.despine(trim=True)"
   ]
  },
  {
   "cell_type": "code",
   "execution_count": null,
   "id": "d6cbbfe4",
   "metadata": {},
   "outputs": [],
   "source": [
    "from matplotlib.pyplot import rc_context\n",
    "sc.settings.set_figure_params(dpi=300, fontsize=15)\n",
    "with rc_context({'figure.figsize': (12, 5)}):\n",
    "    sc.pl.violin(adata, ['IL1B'], groupby='annotation', stripplot=False, inner='box',rotation=90)"
   ]
  },
  {
   "cell_type": "code",
   "execution_count": null,
   "id": "6e06f972",
   "metadata": {},
   "outputs": [],
   "source": [
    "adata_raw_matrix = adata.to_df()"
   ]
  },
  {
   "cell_type": "code",
   "execution_count": null,
   "id": "c4b6fc62",
   "metadata": {},
   "outputs": [],
   "source": [
    "adata_raw_matrix['annotation'] = adata.obs['annotation']"
   ]
  },
  {
   "cell_type": "code",
   "execution_count": null,
   "id": "b5673a61",
   "metadata": {},
   "outputs": [],
   "source": [
    "adata_raw_matrix_1 = pd.melt(adata_raw_matrix, value_vars=[\"IL1B\"],id_vars = ['annotation'],\n",
    "             var_name='AMPs', value_name='counts')"
   ]
  },
  {
   "cell_type": "code",
   "execution_count": null,
   "id": "ba6e665b",
   "metadata": {},
   "outputs": [],
   "source": [
    "adata_raw_matrix_1"
   ]
  },
  {
   "cell_type": "code",
   "execution_count": null,
   "id": "c71af474",
   "metadata": {},
   "outputs": [],
   "source": [
    "import seaborn as sns\n",
    "import matplotlib.pyplot as plt\n",
    "\n",
    "sns.set_theme(style=\"ticks\",font_scale=1.8)\n",
    "\n",
    "# Initialize the figure with a logarithmic x axis\n",
    "f, ax = plt.subplots(figsize=(14, 7))\n",
    "# ax.set_xscale(\"log\")\n",
    "\n",
    "# Plot the orbital period with horizontal boxes\n",
    "sns.barplot(x='annotation',y='counts',data=adata_raw_matrix_1,\n",
    "            capsize=.1,\n",
    "            errwidth = 1.5,  # 误差棒的粗细\n",
    "            edgecolor=\".2\",\n",
    "            linewidth=1.0,\n",
    "            # hue_order = [\"Healthy\",\"Uninflamed\",\"Inflamed\"],\n",
    "            #order = [\"Stem cells\",\"TA\",\"Paneth cells\"],\n",
    "            #palette=[\"#ffffff\",\"#0d00ff\",\"#ff0000\"]\n",
    "           ) # palette=\"vlag\",字母不需要[]，#开头的颜色需要\n",
    "\n",
    "# add_stat_annotation(ax, plot='barplot', data=adata_pre_matrix_1, x='AMPs', y='counts', hue='treatment',box_pairs=box_pairs, test='t-test_ind', loc='inside', verbose=2)\n",
    "# Add in points to show each observation\n",
    "#sns.stripplot(x='AMPs',y='counts',hue='treatment',data=adata_pre_matrix_1, size=1.5, color=\".3\", linewidth=0)\n",
    "#sns.swarmplot(data=adata_pre_matrix_1, x='AMPs',y='counts',hue='treatment')\n",
    "# Tweak the visual presentation\n",
    "#ax.xaxis.grid(True)\n",
    "plt.legend([],[], frameon=False)\n",
    "sns.despine() # trim=True\n",
    "ax.set(ylabel=\"\",xlabel=\"\")"
   ]
  },
  {
   "cell_type": "markdown",
   "id": "088619e9",
   "metadata": {},
   "source": [
    "## label transfer"
   ]
  },
  {
   "cell_type": "code",
   "execution_count": null,
   "id": "1d90fbc8",
   "metadata": {},
   "outputs": [],
   "source": [
    "adata = sc.read('/home/wangyue/basic-calculation_data/c_Project_outputs/qilu_CRSwNP/Fig1_All_219716.h5ad')\n",
    "adata"
   ]
  },
  {
   "cell_type": "code",
   "execution_count": null,
   "id": "23af2f05",
   "metadata": {},
   "outputs": [],
   "source": [
    "adata = sc.AnnData(X=adata.raw.X, var=adata.raw.var, obs = adata.obs)\n",
    "adata"
   ]
  },
  {
   "cell_type": "code",
   "execution_count": null,
   "id": "797738e9",
   "metadata": {},
   "outputs": [],
   "source": [
    "adata_1 = sc.read('/home/wangyue/basic-calculation_data/b_Datasets/sc_Datasets/RNA_data/Human_non_intestine_datasets/Nasal_Xiehe_HRA000772/dataset_output/HRA000772_nor_neutrophils.h5ad')\n",
    "adata_1.obs['annotation'] = 'C04-M10-Neutrophils'\n",
    "adata_1"
   ]
  },
  {
   "cell_type": "code",
   "execution_count": null,
   "id": "cc5973ba",
   "metadata": {},
   "outputs": [],
   "source": [
    "# 合并方式为outer\n",
    "adata = adata.concatenate(adata_1,join=\"inner\")\n",
    "adata.var = adata.var[[]]\n",
    "adata"
   ]
  },
  {
   "cell_type": "code",
   "execution_count": null,
   "id": "630171f4",
   "metadata": {},
   "outputs": [],
   "source": [
    "adata.obs['annotation'] = adata.obs['annotation'].astype('category')\n",
    "adata.obs['annotation'].cat.categories"
   ]
  },
  {
   "cell_type": "code",
   "execution_count": null,
   "id": "bfb66cc8",
   "metadata": {},
   "outputs": [],
   "source": [
    "adata_list = []"
   ]
  },
  {
   "cell_type": "code",
   "execution_count": null,
   "id": "7eb7005d",
   "metadata": {},
   "outputs": [],
   "source": [
    "    for j in list(adata.obs['annotation'].cat.categories):\n",
    "        \n",
    "        print(j + ' is being processed ...')\n",
    "        single_index = adata.obs.loc[adata.obs['annotation'].isin([j]), :].index\n",
    "        adata_single = adata[single_index,:]\n",
    "\n",
    "        print('The number of '+ j + ' is '+ str(len(adata_single.obs.index)))\n",
    "        if len(adata_single.obs.index) > 1000:\n",
    "            # 设置随机筛选200个细胞，设置随机种子为1\n",
    "            sc.pp.subsample(adata_single, n_obs=1000, random_state=1, copy=False)\n",
    "        else:\n",
    "            adata_single = adata_single\n",
    "            \n",
    "        adata_list.append(adata_single)"
   ]
  },
  {
   "cell_type": "code",
   "execution_count": null,
   "id": "e3a64b97",
   "metadata": {},
   "outputs": [],
   "source": [
    "def change_obs_index_v2(x):\n",
    "    \"\"\"\n",
    "    该函数用于修正concatenate样本或数据集后变更的barcodes名。\n",
    "    \"\"\"  \n",
    "    x = x[:-4]\n",
    "    return x\n",
    "\n",
    "\n",
    "# batch_list单个数据集的样本数限制在999以下时适用，此步骤是因为Anndata的concatenate函数会自动在barcode name尾部一个批次编号，\n",
    "# 在这里设置格式化的编号以便删除。\n",
    "batch_list = []\n",
    "for i in range(len(adata_list)):\n",
    "    if i+1 < 10:\n",
    "        j = '00'+ str(i+1)\n",
    "    elif i+1 < 100:\n",
    "        j = '0'+ str(i+1)\n",
    "    else: \n",
    "        j = str(i+1)\n",
    "    batch_list.append(j)\n",
    "    \n",
    "adata = adata_list[0].concatenate(adata_list[1:len(batch_list)],join='outer', batch_categories=batch_list)\n",
    "# 删除barcode name的尾部编号\n",
    "adata.obs.rename(index=change_obs_index_v2,inplace=True)\n",
    "adata"
   ]
  },
  {
   "cell_type": "code",
   "execution_count": null,
   "id": "6242e88c",
   "metadata": {},
   "outputs": [],
   "source": [
    "sc.pp.normalize_total(adata, target_sum=1e4)\n",
    "sc.pp.log1p(adata)\n",
    "adata.raw = adata"
   ]
  },
  {
   "cell_type": "code",
   "execution_count": null,
   "id": "f74a5f99",
   "metadata": {},
   "outputs": [],
   "source": [
    "import celltypist\n",
    "from celltypist import models\n",
    "# 区室\n",
    "new_model = celltypist.train(adata, labels = 'annotation', n_jobs = 16, feature_selection = True)"
   ]
  },
  {
   "cell_type": "code",
   "execution_count": null,
   "id": "aa389243",
   "metadata": {},
   "outputs": [],
   "source": [
    "# Save the model.\n",
    "new_model.write('/home/wangyue/basic-calculation_data/c_Project_outputs/qilu_CRSwNP/CellTypist/model_42276cells_annotation.pkl')"
   ]
  },
  {
   "cell_type": "code",
   "execution_count": null,
   "id": "57130a30",
   "metadata": {},
   "outputs": [],
   "source": [
    "adata = sc.read('/home/wangyue/basic-calculation_data/b_Datasets/sc_Datasets/RNA_data/Human_non_intestine_datasets/Nasal_Xiehe_HRA000772/dataset_output/HRA000772_nor.h5ad')\n",
    "adata"
   ]
  },
  {
   "cell_type": "code",
   "execution_count": null,
   "id": "6db24d9b",
   "metadata": {},
   "outputs": [],
   "source": [
    "import celltypist\n",
    "from celltypist import models\n",
    "\n",
    "new_model = models.Model.load('/home/wangyue/basic-calculation_data/c_Project_outputs/qilu_CRSwNP/CellTypist/model_42276cells_annotation.pkl')\n",
    "predictions = celltypist.annotate(adata, model = new_model, majority_voting = False, mode = 'best match')\n",
    "adata = predictions.to_adata()\n",
    "adata"
   ]
  },
  {
   "cell_type": "code",
   "execution_count": null,
   "id": "146c9fd6",
   "metadata": {},
   "outputs": [],
   "source": [
    "adata.write('/home/wangyue/basic-calculation_data/b_Datasets/sc_Datasets/RNA_data/Human_non_intestine_datasets/Nasal_Xiehe_HRA000772/dataset_output/HRA000772_nor.h5ad')\n",
    "adata"
   ]
  },
  {
   "cell_type": "code",
   "execution_count": null,
   "id": "b9da7561",
   "metadata": {},
   "outputs": [],
   "source": [
    "sc.settings.set_figure_params(dpi=400, figsize = (4, 4), fontsize=7)\n",
    "sc.pl.umap(adata, color=['predicted_labels'], add_outline=True,\n",
    "           palette=\"tab20_r\", outline_width = (0.2, 0.05), frameon=False)"
   ]
  },
  {
   "cell_type": "code",
   "execution_count": null,
   "id": "80efa37d",
   "metadata": {},
   "outputs": [],
   "source": [
    "Groups_tab_1 = pd.crosstab(index=adata.obs['predicted_labels'],  # Make a crosstab\n",
    "                        columns=adata.obs['health'], margins=True)               # Name the count column\n",
    "Groups_tab_1"
   ]
  },
  {
   "cell_type": "code",
   "execution_count": null,
   "id": "e4f77071",
   "metadata": {},
   "outputs": [],
   "source": [
    "sc.settings.set_figure_params(dpi=400, figsize = (4, 4), fontsize=7)\n",
    "sc.pl.umap(adata, color=['IL1B'], add_outline=True)"
   ]
  },
  {
   "cell_type": "code",
   "execution_count": null,
   "id": "7a392c3c",
   "metadata": {},
   "outputs": [],
   "source": [
    "sc.settings.set_figure_params(dpi=300, figsize = (4, 4), fontsize=12)\n",
    "\n",
    "from matplotlib import cm, colors\n",
    "import colorcet as cc\n",
    "\n",
    "mymap = colors.LinearSegmentedColormap.from_list('my_colormap', cc.CET_L20)\n",
    "\n",
    "colors2 = mymap(np.linspace(0.2, 1, 128)) # 30%-100%\n",
    "colors3 = plt.cm.Greys_r(np.linspace(0.8,0.9,5))\n",
    "colorsComb = np.vstack([colors3, colors2])\n",
    "mymap = colors.LinearSegmentedColormap.from_list('my_colormap', colorsComb)\n",
    "\n",
    "sc.pl.umap(adata, color=['IL1B'], frameon=False, color_map = mymap)"
   ]
  }
 ],
 "metadata": {
  "kernelspec": {
   "display_name": "Python [conda env:scanpy37]",
   "language": "python",
   "name": "conda-env-scanpy37-py"
  },
  "language_info": {
   "codemirror_mode": {
    "name": "ipython",
    "version": 3
   },
   "file_extension": ".py",
   "mimetype": "text/x-python",
   "name": "python",
   "nbconvert_exporter": "python",
   "pygments_lexer": "ipython3",
   "version": "3.7.12"
  },
  "toc": {
   "base_numbering": 1,
   "nav_menu": {},
   "number_sections": true,
   "sideBar": true,
   "skip_h1_title": false,
   "title_cell": "Table of Contents",
   "title_sidebar": "Contents",
   "toc_cell": false,
   "toc_position": {},
   "toc_section_display": true,
   "toc_window_display": false
  }
 },
 "nbformat": 4,
 "nbformat_minor": 5
}
