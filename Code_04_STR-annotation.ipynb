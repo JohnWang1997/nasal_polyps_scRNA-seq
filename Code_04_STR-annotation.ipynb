{
 "cells": [
  {
   "cell_type": "code",
   "execution_count": null,
   "id": "f9c7ba82",
   "metadata": {},
   "outputs": [],
   "source": [
    "#!/usr/bin/env python\n",
    "# -*- coding: utf-8 -*-\n",
    "import numpy as np\n",
    "import pandas as pd\n",
    "import scanpy as sc\n",
    "import anndata\n",
    "import bbknn\n",
    "import os\n",
    "from scipy import sparse\n",
    "import matplotlib.pyplot as plt\n",
    "# from scanpy_base_moudle_update2 import *\n",
    "# import scrublet as scr\n",
    "import datetime\n",
    "import harmonypy as hm\n",
    "\n",
    "sc.settings.verbosity = 3\n",
    "#sc.logging.print_versions()\n",
    "# 设置图片的分辨率以及其他样式\n",
    "sc.settings.set_figure_params(dpi=150, figsize = (4, 3), fontsize=12)\n",
    "\n",
    "import matplotlib.font_manager\n",
    "flist = matplotlib.font_manager.get_fontconfig_fonts()\n",
    "names = [matplotlib.font_manager.FontProperties(fname=fname).get_name() for fname in flist]\n",
    "print(names)\n",
    "\n",
    "params={\n",
    "        #'font.style':'italic',\n",
    "        'font.weight':'normal',    #or 'blod'\n",
    "        }\n",
    "plt.rcParams.update(params)\n",
    "\n",
    "plt.rcParams['font.family']='Arial'"
   ]
  },
  {
   "cell_type": "code",
   "execution_count": null,
   "id": "d9d55c39",
   "metadata": {},
   "outputs": [],
   "source": [
    "adata = sc.read('/mnt/data2/Datasets/Human_non_intestine_datasets/Qilu_Otorhinolaryngology_surgery_data/dataset_output/Stromal.h5ad')\n",
    "adata"
   ]
  },
  {
   "cell_type": "code",
   "execution_count": null,
   "id": "6004615a",
   "metadata": {},
   "outputs": [],
   "source": [
    "# adata = sc.AnnData(X=adata.raw.X, var=adata.raw.var, obs = adata.obs)"
   ]
  },
  {
   "cell_type": "markdown",
   "id": "fc4821bd",
   "metadata": {},
   "source": [
    "# Preprocessing"
   ]
  },
  {
   "cell_type": "code",
   "execution_count": null,
   "id": "c1fa1fd3",
   "metadata": {},
   "outputs": [],
   "source": [
    "# 删除线粒体基因表达比例过高的细胞\n",
    "sc.pl.violin(adata, ['n_genes_by_counts', 'total_counts', 'pct_counts_mt'],jitter=0.4, multi_panel=True)"
   ]
  },
  {
   "cell_type": "code",
   "execution_count": null,
   "id": "e094d4c7",
   "metadata": {},
   "outputs": [],
   "source": [
    "adata = adata[adata.obs.pct_counts_mt < 35, :]\n",
    "adata"
   ]
  },
  {
   "cell_type": "code",
   "execution_count": null,
   "id": "0746d663",
   "metadata": {},
   "outputs": [],
   "source": [
    "## 进一步去除双胞\n",
    "sc.settings.set_figure_params(dpi=150, figsize = (4, 3), fontsize=7)\n",
    "\n",
    "CD45_genes_index = adata.var_names.isin(['PTPRC'])\n",
    "CD3D_genes_index = adata.var_names.isin(['CD3D'])\n",
    "CD3E_genes_index = adata.var_names.isin(['CD3E'])\n",
    "CD79A_genes_index = adata.var_names.isin(['CD79A'])\n",
    "CD79B_genes_index = adata.var_names.isin(['CD79B'])\n",
    "EPCAM_genes_index = adata.var_names.isin(['EPCAM'])\n",
    "\n",
    "# 计算区室评分\n",
    "adata.obs['count_CD45'] = np.sum(adata[:, CD45_genes_index].X, axis=1)\n",
    "adata.obs['count_CD3D'] = np.sum(adata[:, CD3D_genes_index].X, axis=1)\n",
    "adata.obs['count_CD3E'] = np.sum(adata[:, CD3E_genes_index].X, axis=1)\n",
    "adata.obs['count_CD79A'] = np.sum(adata[:, CD79A_genes_index].X, axis=1)\n",
    "adata.obs['count_CD79B'] = np.sum(adata[:, CD79B_genes_index].X, axis=1)\n",
    "adata.obs['count_EPCAM'] = np.sum(adata[:, EPCAM_genes_index].X, axis=1)\n",
    "\n",
    "# 获取每个细胞的得分\n",
    "compartments_values_list_except = adata.obs.loc[:,\n",
    "                                         ['count_CD45','count_CD3D','count_CD3E','count_CD79A','count_CD79B','count_EPCAM']].values.tolist()\n",
    "cell_compartments_list = []\n",
    "\n",
    "for i in compartments_values_list_except:\n",
    "\n",
    "    if ((i[0]<0.1) and (i[1]<0.1) and (i[2]<0.1)and (i[3]<0.1) and (i[4]<0.1) and (i[5]<0.1)):\n",
    "        j = 'Single'   \n",
    "    else:\n",
    "        j = 'Doublets'\n",
    "        \n",
    "    cell_compartments_list.append(j)\n",
    "    \n",
    "adata.obs['Compartments'] = cell_compartments_list\n",
    "#sc.pl.umap(adata, color = ['Compartments'])\n",
    "adata_single_index = adata.obs.loc[adata.obs[\"Compartments\"].isin(['Single']), :].index\n",
    "adata = adata[adata_single_index, :]\n",
    "adata"
   ]
  },
  {
   "cell_type": "code",
   "execution_count": null,
   "id": "ae53d04e",
   "metadata": {},
   "outputs": [],
   "source": [
    "\"\"\"\n",
    "def hvg_regress_scale(adata):\n",
    "    # 注意，HVG要求输入的矩阵必须是对数化处理的\n",
    "    sc.pp.highly_variable_genes(adata, min_mean=0.0125, max_mean=3, min_disp=0.5)\n",
    "    #sc.pp.highly_variable_genes(adata, min_mean=0.0125, max_mean=3, min_disp=0.5,batch_key='pan_development_state')\n",
    "    #print(\"Highly variable genes intersection: %d\"%sum(adata.var.highly_variable_intersection))\n",
    "    #print(\"Number of batches where gene is variable:\")\n",
    "    #print(adata.var.highly_variable_nbatches.value_counts())\n",
    "    adata = adata[:, adata.var.highly_variable]\n",
    "    print(adata)\n",
    "    \n",
    "    sc.pp.scale(adata, zero_center=False)\n",
    "\n",
    "    return adata\n",
    "\n",
    "adata.raw = adata\n",
    "adata = hvg_regress_scale(adata)\n",
    "\"\"\""
   ]
  },
  {
   "cell_type": "markdown",
   "id": "f44433fd",
   "metadata": {},
   "source": [
    "# Annotation"
   ]
  },
  {
   "cell_type": "markdown",
   "id": "0aba991e",
   "metadata": {},
   "source": [
    "## BBKNN"
   ]
  },
  {
   "cell_type": "code",
   "execution_count": null,
   "id": "fe7b4c46",
   "metadata": {},
   "outputs": [],
   "source": [
    "def progress_pca_bbknn_umap_tsne(adata, n_pcs=20, batch_key='batch_name'):\n",
    "    ## 主成分分析降维\n",
    "    # sc.tl.pca(adata, svd_solver='arpack')\n",
    "    # 在PCA坐标中绘制散点图\n",
    "    # sc.pl.pca(adata)\n",
    "    # 可视化每个PC对数据总方差的贡献, 这为我们提供了有关为计算单元的邻域关系应考虑的PC数量的信息sc.tl.tsne()\n",
    "    #sc.pl.pca_variance_ratio(adata, log=True)\n",
    "\n",
    "    # 使用bbknn算法处理批次效应(代替了neighbors)\n",
    "    # bbknn要求数据已经过标准化和主成分分析\n",
    "\n",
    "    # adata.obs['bbknn_batch'] = [str(i)+'-'+str(j) for i,j in zip(adata.obs['dataset'], adata.obs['batch_name'])]\n",
    "    sc.external.pp.bbknn(adata, batch_key=batch_key, n_pcs=n_pcs, neighbors_within_batch=3)\n",
    "    \n",
    "    # 计算UMAP\n",
    "    sc.tl.umap(adata)\n",
    "    # sc.tl.tsne(adata, n_jobs=6)\n",
    "\n",
    "    return adata\n",
    "\n",
    "adata = progress_pca_bbknn_umap_tsne(adata)"
   ]
  },
  {
   "cell_type": "code",
   "execution_count": null,
   "id": "5a476be2",
   "metadata": {},
   "outputs": [],
   "source": [
    "sc.pl.umap(adata, color=['tissue'], frameon=False, title='')"
   ]
  },
  {
   "cell_type": "code",
   "execution_count": null,
   "id": "fcf65af8",
   "metadata": {},
   "outputs": [],
   "source": [
    "print(adata.obs['tissue'].cat.categories)\n",
    "\n",
    "old_colors = np.array(adata.uns['tissue_colors'])\n",
    "new_colors = old_colors\n",
    "new_colors"
   ]
  },
  {
   "cell_type": "code",
   "execution_count": null,
   "id": "98f1619f",
   "metadata": {},
   "outputs": [],
   "source": [
    "# inferior turbinate\n",
    "new_colors[[0]] = '#ff0000'\n",
    "# middle turbinate\n",
    "new_colors[[1]] = '#0077b2'\n",
    "# polyp\n",
    "new_colors[[2]] = '#60b55c'\n",
    "\n",
    "adata.uns['tissue_colors'] = new_colors"
   ]
  },
  {
   "cell_type": "code",
   "execution_count": null,
   "id": "51e86975",
   "metadata": {},
   "outputs": [],
   "source": [
    "sc.settings.set_figure_params(dpi=400, figsize = (4, 4), fontsize=7)\n",
    "sc.pl.umap(adata, color=['tissue'], frameon=False, title='')"
   ]
  },
  {
   "cell_type": "code",
   "execution_count": null,
   "id": "913b58e9",
   "metadata": {},
   "outputs": [],
   "source": [
    "sc.pl.umap(adata, color=['majority_voting'], add_outline=True, outline_width = (0.2, 0.05), palette=\"tab20\", frameon=False, legend_loc='on data')"
   ]
  },
  {
   "cell_type": "code",
   "execution_count": null,
   "id": "781d2e5b",
   "metadata": {},
   "outputs": [],
   "source": [
    "def add_leiden(adata):\n",
    "\n",
    "    print(\"Performing clustering with a resolution of 0.5\")\n",
    "    sc.tl.leiden(adata, resolution=0.5)\n",
    "    adata.obs['leiden-all-0.5'] = adata.obs['leiden']\n",
    "\n",
    "    print(\"Performing clustering with a resolution of 1\")\n",
    "    sc.tl.leiden(adata, resolution=1)\n",
    "    adata.obs['leiden-all-1'] = adata.obs['leiden']\n",
    "\n",
    "    return adata\n",
    "\n",
    "adata = add_leiden(adata)"
   ]
  },
  {
   "cell_type": "code",
   "execution_count": null,
   "id": "e8e77aa3",
   "metadata": {
    "scrolled": false
   },
   "outputs": [],
   "source": [
    "sc.settings.set_figure_params(dpi=400, figsize = (4, 4), fontsize=7)\n",
    "sc.pl.umap(adata, color=['leiden-all-1'], add_outline=True, outline_width = (0.2, 0.05), palette=\"tab20\", frameon=False, legend_loc='on data')"
   ]
  },
  {
   "cell_type": "code",
   "execution_count": null,
   "id": "212fe58c",
   "metadata": {},
   "outputs": [],
   "source": [
    "import cosg as cosg\n",
    "import time\n",
    "t0= time.clock()\n",
    "cosg.cosg(adata,\n",
    "    key_added='cosg',\n",
    "        mu=1,\n",
    "        n_genes_user=50,\n",
    "               groupby='majority_voting')\n",
    "runtime_cosg = time.clock() - t0\n",
    "\n",
    "sc.settings.set_figure_params(dpi=200, figsize = (4, 4), fontsize=20)\n",
    "sc.pl.rank_genes_groups_dotplot(adata,groupby='majority_voting',\n",
    "                                cmap='Spectral_r',\n",
    "                                 standard_scale='var',\n",
    "                                       n_genes=4,key='cosg')"
   ]
  },
  {
   "cell_type": "code",
   "execution_count": null,
   "id": "89b4ce67",
   "metadata": {},
   "outputs": [],
   "source": [
    "import cosg as cosg\n",
    "import time\n",
    "t0= time.clock()\n",
    "cosg.cosg(adata,\n",
    "    key_added='cosg',\n",
    "        mu=1,\n",
    "        n_genes_user=50,\n",
    "               groupby='leiden-all-1')\n",
    "runtime_cosg = time.clock() - t0\n",
    "\n",
    "sc.settings.set_figure_params(dpi=200, figsize = (4, 4), fontsize=20)\n",
    "sc.pl.rank_genes_groups_dotplot(adata,groupby='leiden-all-1',\n",
    "                                cmap='Spectral_r',\n",
    "                                 standard_scale='var',\n",
    "                                       n_genes=4,key='cosg')"
   ]
  },
  {
   "cell_type": "code",
   "execution_count": null,
   "id": "8c90ef71",
   "metadata": {},
   "outputs": [],
   "source": [
    "sc.pl.umap(adata, color=['PTGDS','CCL19','CCL21'], add_outline=False, frameon=False)"
   ]
  },
  {
   "cell_type": "code",
   "execution_count": null,
   "id": "8524eaad",
   "metadata": {},
   "outputs": [],
   "source": [
    "marker_S_dict = { \n",
    "                     'Glia': ['CRYAB','S100B','ALDH1A1'],\n",
    "                     'Arterial endo': ['GJA4','HEY1','HEY2'], # 动脉\n",
    "                     'Venous endo': ['ACKR1','VWF','ADGRG6'], # 静脉\n",
    "                     'Capillary endo': ['RGCC','VWA1','CA4'], # 毛细血管\n",
    "                     'Lymphatic endo': ['TFF3','LYVE1','CCL21'], # 淋巴管\n",
    "                     'Pericytes': ['MYL9','ACTA2','TINAGL1','NOTCH3'],\n",
    "                     'Smooth muscle cells': ['ACTG2','CNN1','NPNT'],\n",
    "                     'Follicular dendritic cells': ['FDCSP','CXCL13','CLU'],\n",
    "                     'T reticular cells': ['PTGDS','CCL19','CCL21'],\n",
    "    \n",
    "                     'Immature RSPO3-fibro': ['APOE','CTSC','CFD'],\n",
    "                     'RSPO3-fibro': ['APOE','CTSC','CFD'],\n",
    "                      # 在胚胎发育的文章中定义为了成纤维前体，因其低表达成熟成纤维的标志物，且在胚胎中比例高，且表达HMGA2，有报道称其参与胚胎成纤维形成.\n",
    "                      # 在UC和CD的文章中均称其为炎症相关或活化成纤维，因其在CD或UC中均比例升高，且表达趋化因子和MMP家族mRNA。\n",
    "                     'Activated RSPO3-Fibro': ['SOD2','CHI3L1','HMGA1'],\n",
    "    \n",
    "                     'RSPO3+Fibro': ['RSPO3','DCN','OGN'],\n",
    "                     'Activated RSPO3+Fibro': ['EGR1','SOD2','HMGA1'],\n",
    "                     'WNT5B+Fibro': ['WNT5B','F3','POSTN'],\n",
    "                     'Cycling fibro': ['MKI67','STMN1']\n",
    "                     }\n",
    "\n",
    "sc.settings.set_figure_params(dpi=150, figsize = (4, 3), fontsize=18)\n",
    "mp = sc.pl.dotplot(adata, \n",
    "              marker_S_dict, \n",
    "              'leiden-all-1', \n",
    "              dendrogram=False, \n",
    "              #figsize=(3, 4),\n",
    "              use_raw=True,\n",
    "              cmap = 'Reds',\n",
    "              #var_group_rotation=45,\n",
    "              #swap_axes=True,\n",
    "              standard_scale='var',\n",
    "              colorbar_title=None,\n",
    "              return_fig=True\n",
    "              # , save='_' + sample_name + '_fig11.png'\n",
    "             ) \n",
    "mp.style(grid=True,cmap = 'Reds').show() # RdYlBu_r"
   ]
  },
  {
   "cell_type": "markdown",
   "id": "b1258ed8",
   "metadata": {},
   "source": [
    "## Harmony"
   ]
  },
  {
   "cell_type": "code",
   "execution_count": null,
   "id": "6722e758",
   "metadata": {},
   "outputs": [],
   "source": [
    "def progress_pca_harmony_umap(adata):\n",
    "\n",
    "    # Harmony处理批次效应\n",
    "    harmony_out = hm.run_harmony(adata.obsm['X_pca'], adata.obs, vars_use = ['batch_name'],max_iter_harmony=20)\n",
    "    adata.obsm['X_pca_harmony'] = harmony_out.Z_corr.T\n",
    "    sc.pp.neighbors(adata, n_neighbors=10, use_rep='X_pca_harmony', n_pcs=20)\n",
    "    \n",
    "    # 计算UMAP\n",
    "    sc.tl.umap(adata)\n",
    "    # sc.tl.tsne(adata, n_jobs=6)\n",
    "\n",
    "    return adata\n",
    "\n",
    "adata = progress_pca_harmony_umap(adata)"
   ]
  },
  {
   "cell_type": "code",
   "execution_count": null,
   "id": "8db4c75c",
   "metadata": {},
   "outputs": [],
   "source": [
    "def add_leiden(adata):\n",
    "\n",
    "    print(\"Performing clustering with a resolution of 0.5\")\n",
    "    sc.tl.leiden(adata, resolution=0.5)\n",
    "    adata.obs['leiden-all-0.5'] = adata.obs['leiden']\n",
    "\n",
    "    print(\"Performing clustering with a resolution of 1\")\n",
    "    sc.tl.leiden(adata, resolution=1)\n",
    "    adata.obs['leiden-all-1'] = adata.obs['leiden']\n",
    "\n",
    "    return adata\n",
    "\n",
    "adata = add_leiden(adata)"
   ]
  },
  {
   "cell_type": "code",
   "execution_count": null,
   "id": "eac1b213",
   "metadata": {
    "scrolled": false
   },
   "outputs": [],
   "source": [
    "sc.settings.set_figure_params(dpi=400, figsize = (4, 4), fontsize=7)\n",
    "sc.pl.umap(adata, color=['tissue'], frameon=False, title='')\n",
    "sc.pl.umap(adata, color=['majority_voting'], add_outline=True, outline_width = (0.2, 0.05), palette=\"tab20\", frameon=False, legend_loc='on data')\n",
    "sc.pl.umap(adata, color=['leiden-all-1'], add_outline=True, outline_width = (0.2, 0.05), palette=\"tab20\", frameon=False, legend_loc='on data')"
   ]
  },
  {
   "cell_type": "code",
   "execution_count": null,
   "id": "eb6edfb7",
   "metadata": {},
   "outputs": [],
   "source": [
    "sc.pl.umap(adata, color=['PTGDS','CCL19','CCL21','PIEZO2'], add_outline=False, frameon=False)\n",
    "sc.pl.umap(adata, color=['PI16','PIEZO1','MKI67','CXCL8'], add_outline=False, frameon=False)\n",
    "sc.pl.umap(adata, color=['SOD2','CHI3L1','HMGA1','CCL21'], add_outline=False, frameon=False)"
   ]
  },
  {
   "cell_type": "code",
   "execution_count": null,
   "id": "ddf0f8d8",
   "metadata": {},
   "outputs": [],
   "source": [
    "import cosg as cosg\n",
    "import time\n",
    "t0= time.clock()\n",
    "cosg.cosg(adata,\n",
    "    key_added='cosg',\n",
    "        mu=1,\n",
    "        n_genes_user=50,\n",
    "               groupby='leiden-all-1')\n",
    "runtime_cosg = time.clock() - t0\n",
    "\n",
    "sc.settings.set_figure_params(dpi=200, figsize = (4, 4), fontsize=20)\n",
    "sc.pl.rank_genes_groups_dotplot(adata,groupby='leiden-all-1',\n",
    "                                cmap='Spectral_r',\n",
    "                                 standard_scale='var',\n",
    "                                       n_genes=4,key='cosg')"
   ]
  },
  {
   "cell_type": "code",
   "execution_count": null,
   "id": "15d808fc",
   "metadata": {},
   "outputs": [],
   "source": [
    "pd.DataFrame(adata.uns['cosg']['names'])['14'].head(30)"
   ]
  },
  {
   "cell_type": "code",
   "execution_count": null,
   "id": "4eb041e2",
   "metadata": {},
   "outputs": [],
   "source": [
    "marker_S_dict = { \n",
    "                     'Glia': ['CRYAB','S100B','ALDH1A1'],\n",
    "                     'Arterial endo': ['GJA4','HEY1','HEY2'], # 动脉\n",
    "                     'Venous endo': ['ACKR1','VWF','ADGRG6'], # 静脉\n",
    "                     'Capillary endo': ['RGCC','VWA1','CA4'], # 毛细血管\n",
    "                     'Lymphatic endo': ['TFF3','LYVE1','CCL21'], # 淋巴管\n",
    "                     'Pericytes': ['MYL9','ACTA2','TINAGL1','NOTCH3'],\n",
    "                     'Smooth muscle cells': ['ACTG2','CNN1','NPNT'],\n",
    "                     'Follicular dendritic cells': ['FDCSP','CXCL13','CLU'],\n",
    "                     'T reticular cells': ['PTGDS','CCL19','CCL21'],\n",
    "    \n",
    "                     'Immature RSPO3-fibro': ['APOE','CTSC','CFD'],\n",
    "                     'RSPO3-fibro': ['APOE','CTSC','CFD'],\n",
    "                      # 在胚胎发育的文章中定义为了成纤维前体，因其低表达成熟成纤维的标志物，且在胚胎中比例高，且表达HMGA2，有报道称其参与胚胎成纤维形成.\n",
    "                      # 在UC和CD的文章中均称其为炎症相关或活化成纤维，因其在CD或UC中均比例升高，且表达趋化因子和MMP家族mRNA。\n",
    "                     'Activated RSPO3-Fibro': ['SOD2','CHI3L1','HMGA1'],\n",
    "    \n",
    "                     'RSPO3+Fibro': ['RSPO3','DCN','OGN'],\n",
    "                     'Activated RSPO3+Fibro': ['EGR1','SOD2','HMGA1'],\n",
    "                     'WNT5B+Fibro': ['WNT5B','F3','POSTN'],\n",
    "                     'Cycling fibro': ['MKI67','STMN1']\n",
    "                     }\n",
    "\n",
    "sc.settings.set_figure_params(dpi=150, figsize = (4, 3), fontsize=18)\n",
    "mp = sc.pl.dotplot(adata, \n",
    "              marker_S_dict, \n",
    "              'leiden-all-1', \n",
    "              dendrogram=False, \n",
    "              #figsize=(3, 4),\n",
    "              use_raw=True,\n",
    "              cmap = 'Reds',\n",
    "              #var_group_rotation=45,\n",
    "              #swap_axes=True,\n",
    "              standard_scale='var',\n",
    "              colorbar_title=None,\n",
    "              return_fig=True\n",
    "              # , save='_' + sample_name + '_fig11.png'\n",
    "             ) \n",
    "mp.style(grid=True,cmap = 'Reds').show() # RdYlBu_r"
   ]
  },
  {
   "cell_type": "code",
   "execution_count": null,
   "id": "abfde97e",
   "metadata": {},
   "outputs": [],
   "source": [
    "print(\"Performing clustering with a resolution of 1.5\")\n",
    "sc.tl.leiden(adata, resolution=1.5)\n",
    "adata.obs['leiden-all-1.5'] = adata.obs['leiden']"
   ]
  },
  {
   "cell_type": "code",
   "execution_count": null,
   "id": "87f962ef",
   "metadata": {
    "scrolled": false
   },
   "outputs": [],
   "source": [
    "sc.settings.set_figure_params(dpi=400, figsize = (4, 4), fontsize=7)\n",
    "sc.pl.umap(adata, color=['leiden-all-1.5'], add_outline=True, outline_width = (0.2, 0.05), palette=\"tab20\", frameon=False, legend_loc='on data')\n",
    "sc.pl.umap(adata, color=['leiden-all-1.5'], add_outline=True, outline_width = (0.2, 0.05), palette=\"tab20\", frameon=False)"
   ]
  },
  {
   "cell_type": "code",
   "execution_count": null,
   "id": "e03ebacc",
   "metadata": {},
   "outputs": [],
   "source": [
    "import cosg as cosg\n",
    "import time\n",
    "t0= time.clock()\n",
    "cosg.cosg(adata,\n",
    "    key_added='cosg',\n",
    "        mu=1,\n",
    "        n_genes_user=50,\n",
    "               groupby='leiden-all-1.5')\n",
    "runtime_cosg = time.clock() - t0\n",
    "\n",
    "sc.settings.set_figure_params(dpi=200, figsize = (4, 4), fontsize=20)\n",
    "sc.pl.rank_genes_groups_dotplot(adata,groupby='leiden-all-1.5',\n",
    "                                cmap='Spectral_r',\n",
    "                                 standard_scale='var',\n",
    "                                       n_genes=4,key='cosg')"
   ]
  },
  {
   "cell_type": "code",
   "execution_count": null,
   "id": "aa9d3121",
   "metadata": {},
   "outputs": [],
   "source": [
    "adata"
   ]
  },
  {
   "cell_type": "code",
   "execution_count": null,
   "id": "c722e433",
   "metadata": {},
   "outputs": [],
   "source": [
    "singlet_index = adata.obs.loc[~adata.obs[\"leiden-all-1.5\"].isin(['17','27','28']), :].index\n",
    "adata = adata[singlet_index, :]\n",
    "adata"
   ]
  },
  {
   "cell_type": "code",
   "execution_count": null,
   "id": "1b7ca5a0",
   "metadata": {},
   "outputs": [],
   "source": [
    "marker_S_dict = { \n",
    "                     'Glia': ['CRYAB','S100B','ALDH1A1'],\n",
    "                     'Arterial endo': ['GJA4','HEY1','HEY2'], # 动脉\n",
    "                     'Venous endo': ['ACKR1','VWF','ADGRG6'], # 静脉\n",
    "                     'Capillary endo': ['RGCC','VWA1','CA4'], # 毛细血管\n",
    "                     'Lymphatic endo': ['TFF3','LYVE1','CCL21'], # 淋巴管\n",
    "                     'Pericytes': ['MYL9','ACTA2','TINAGL1','NOTCH3'],\n",
    "                     'Smooth muscle cells': ['ACTG2','CNN1','NPNT'],\n",
    "                     'Follicular dendritic cells': ['FDCSP','CXCL13','CLU'],\n",
    "                     'T reticular cells': ['PTGDS','CCL19','CCL21'],\n",
    "    \n",
    "                     'Immature RSPO3-fibro': ['APOE','CTSC','CFD'],\n",
    "                     'RSPO3-fibro': ['APOE','CTSC','CFD'],\n",
    "                      # 在胚胎发育的文章中定义为了成纤维前体，因其低表达成熟成纤维的标志物，且在胚胎中比例高，且表达HMGA2，有报道称其参与胚胎成纤维形成.\n",
    "                      # 在UC和CD的文章中均称其为炎症相关或活化成纤维，因其在CD或UC中均比例升高，且表达趋化因子和MMP家族mRNA。\n",
    "                     'Activated RSPO3-Fibro': ['SOD2','CHI3L1','HMGA1'],\n",
    "    \n",
    "                     'RSPO3+Fibro': ['RSPO3','DCN','OGN'],\n",
    "                     'Activated RSPO3+Fibro': ['EGR1','SOD2','HMGA1'],\n",
    "                     'WNT5B+Fibro': ['WNT5B','F3','POSTN'],\n",
    "                     'Cycling fibro': ['MKI67','STMN1']\n",
    "                     }\n",
    "\n",
    "sc.settings.set_figure_params(dpi=150, figsize = (4, 3), fontsize=18)\n",
    "mp = sc.pl.dotplot(adata, \n",
    "              marker_S_dict, \n",
    "              'leiden-all-1.5', \n",
    "              dendrogram=False, \n",
    "              #figsize=(3, 4),\n",
    "              use_raw=True,\n",
    "              cmap = 'Reds',\n",
    "              #var_group_rotation=45,\n",
    "              #swap_axes=True,\n",
    "              standard_scale='var',\n",
    "              colorbar_title=None,\n",
    "              return_fig=True\n",
    "              # , save='_' + sample_name + '_fig11.png'\n",
    "             ) \n",
    "mp.style(grid=True,cmap = 'Reds').show() # RdYlBu_r"
   ]
  },
  {
   "cell_type": "code",
   "execution_count": null,
   "id": "d2b1f42d",
   "metadata": {},
   "outputs": [],
   "source": [
    "pd.DataFrame(adata.uns['cosg']['names'])['11'].head(30)"
   ]
  },
  {
   "cell_type": "code",
   "execution_count": null,
   "id": "f8608307",
   "metadata": {},
   "outputs": [],
   "source": [
    "## cell annoation\n",
    "# 注：17, 27, 28分别为上皮与成纤维和内皮细胞的双胞；\n",
    "\n",
    "# Glia\n",
    "S01_index = adata.obs.loc[adata.obs[\"leiden-all-1.5\"].isin(['18']), :].index\n",
    "\n",
    "\n",
    "# Arterial endo\n",
    "S02_index = adata.obs.loc[adata.obs[\"leiden-all-1.5\"].isin(['9']), :].index\n",
    "# Venous endo\n",
    "S03_index = adata.obs.loc[adata.obs[\"leiden-all-1.5\"].isin(['1','4']), :].index\n",
    "# Capillary endo\n",
    "S04_index = adata.obs.loc[adata.obs[\"leiden-all-1.5\"].isin(['7','13','22']), :].index\n",
    "# Lymphatic endo\n",
    "S05_index = adata.obs.loc[adata.obs[\"leiden-all-1.5\"].isin(['24']), :].index\n",
    "\n",
    "# Fibroblast\n",
    "S06_index = adata.obs.loc[adata.obs[\"leiden-all-1.5\"].isin(['0','2','20','26']), :].index\n",
    "# MKI67+Cycling fibroblast\n",
    "S07_index = adata.obs.loc[adata.obs[\"leiden-all-1.5\"].isin(['25']), :].index\n",
    "# PI16+Adventitial fibroblast\n",
    "S08_index = adata.obs.loc[adata.obs[\"leiden-all-1.5\"].isin(['5']), :].index\n",
    "# PTGDS+Adventitial fibroblast  表达促肥大细胞脱颗粒的血管外膜成纤维细胞\n",
    "S09_index = adata.obs.loc[adata.obs[\"leiden-all-1.5\"].isin(['23']), :].index\n",
    "# PIEZO2+fibroblast\n",
    "S10_index = adata.obs.loc[adata.obs[\"leiden-all-1.5\"].isin(['6','12']), :].index\n",
    "# OXTR+fibroblast 表达催产素受体\n",
    "S11_index = adata.obs.loc[adata.obs[\"leiden-all-1.5\"].isin(['16']), :].index\n",
    "# Activated fibroblast 表达CXCL1, CXCL3, CXCL5, CXCL8, CCL20, MMP1, MMP3，可能和干扰素刺激有关\n",
    "S12_index = adata.obs.loc[adata.obs[\"leiden-all-1.5\"].isin(['21']), :].index\n",
    "\n",
    "\n",
    "# Pericytes\n",
    "S13_index = adata.obs.loc[adata.obs[\"leiden-all-1.5\"].isin(['3','15','19']), :].index\n",
    "# Activated Pericytes 表达CCL2, CCL8, CCL13, CCL19, CCL21, CXCL9\n",
    "S14_index = adata.obs.loc[adata.obs[\"leiden-all-1.5\"].isin(['11']), :].index\n",
    "# Smooth muscle cells\n",
    "S15_index = adata.obs.loc[adata.obs[\"leiden-all-1.5\"].isin(['8','10','14']), :].index"
   ]
  },
  {
   "cell_type": "code",
   "execution_count": null,
   "id": "6aaf898e",
   "metadata": {},
   "outputs": [],
   "source": [
    "adata.obs['annotation'] = 'C06-S01-Glia'\n",
    "\n",
    "adata.obs.at[S02_index,'annotation']='C06-S02-Arterial endo'\n",
    "adata.obs.at[S03_index,'annotation']='C06-S03-Venous endo'\n",
    "adata.obs.at[S04_index,'annotation']='C06-S04-Capillary endo'\n",
    "adata.obs.at[S05_index,'annotation']='C06-S05-Lymphatic endo'\n",
    "\n",
    "adata.obs.at[S06_index,'annotation']='C06-S06-Fibroblast'\n",
    "adata.obs.at[S07_index,'annotation']='C06-S07-Cycling fibroblast'\n",
    "adata.obs.at[S08_index,'annotation']='C06-S08-Adventitial fibroblast'\n",
    "adata.obs.at[S09_index,'annotation']='C06-S09-PTGDS+Adventitial fibroblast'\n",
    "adata.obs.at[S10_index,'annotation']='C06-S10-PIEZO2+fibroblast'\n",
    "adata.obs.at[S11_index,'annotation']='C06-S11-OXTR+fibroblast'\n",
    "adata.obs.at[S12_index,'annotation']='C06-S12-Activated fibroblast'\n",
    "\n",
    "adata.obs.at[S13_index,'annotation']='C06-S13-Pericytes'\n",
    "adata.obs.at[S14_index,'annotation']='C06-S14-Activated Pericytes'\n",
    "adata.obs.at[S15_index,'annotation']='C06-S15-Smooth muscle cells'"
   ]
  },
  {
   "cell_type": "code",
   "execution_count": null,
   "id": "e814198a",
   "metadata": {},
   "outputs": [],
   "source": [
    "sc.settings.set_figure_params(dpi=400, figsize = (4, 4), fontsize=7)\n",
    "sc.pl.umap(adata, color=['annotation'], add_outline=True, outline_width = (0.2, 0.05), palette=\"tab20\", frameon=False, legend_loc='on data')"
   ]
  },
  {
   "cell_type": "code",
   "execution_count": null,
   "id": "1b36742d",
   "metadata": {},
   "outputs": [],
   "source": [
    "import cosg as cosg\n",
    "import time\n",
    "t0= time.clock()\n",
    "cosg.cosg(adata,\n",
    "    key_added='cosg',\n",
    "        mu=1,\n",
    "        n_genes_user=50,\n",
    "               groupby='annotation')\n",
    "runtime_cosg = time.clock() - t0\n",
    "\n",
    "sc.settings.set_figure_params(dpi=200, figsize = (4, 4), fontsize=20)\n",
    "sc.pl.rank_genes_groups_dotplot(adata,groupby='annotation',\n",
    "                                cmap='Spectral_r',\n",
    "                                 standard_scale='var',\n",
    "                                       n_genes=4,key='cosg')"
   ]
  },
  {
   "cell_type": "code",
   "execution_count": null,
   "id": "96b18561",
   "metadata": {},
   "outputs": [],
   "source": [
    "adata.write('/mnt/data2/Datasets/Human_non_intestine_datasets/Qilu_Otorhinolaryngology_surgery_data/dataset_output/Stromal.h5ad')"
   ]
  },
  {
   "cell_type": "markdown",
   "id": "8c75fefd",
   "metadata": {},
   "source": [
    "# Visualization"
   ]
  },
  {
   "cell_type": "code",
   "execution_count": null,
   "id": "d1a0dcd1",
   "metadata": {},
   "outputs": [],
   "source": [
    "adata = sc.read('/mnt/data2/Datasets/Human_non_intestine_datasets/Qilu_Otorhinolaryngology_surgery_data/dataset_output/Stromal.h5ad')\n",
    "adata"
   ]
  },
  {
   "cell_type": "code",
   "execution_count": null,
   "id": "cb09cdef",
   "metadata": {},
   "outputs": [],
   "source": [
    "sc.tl.rank_genes_groups(adata, \n",
    "                        groupby = 'annotation',\n",
    "                        method='wilcoxon')"
   ]
  },
  {
   "cell_type": "code",
   "execution_count": null,
   "id": "44fa5bcc",
   "metadata": {},
   "outputs": [],
   "source": [
    "adata.obs['annotation'].cat.categories"
   ]
  },
  {
   "cell_type": "code",
   "execution_count": null,
   "id": "367094f1",
   "metadata": {},
   "outputs": [],
   "source": [
    "file_path = '/mnt/data2/Datasets/Human_non_intestine_datasets/Qilu_Otorhinolaryngology_surgery_data/dataset_output/csv/'"
   ]
  },
  {
   "cell_type": "code",
   "execution_count": null,
   "id": "fb61fd19",
   "metadata": {},
   "outputs": [],
   "source": [
    "for i in list(adata.obs['annotation'].cat.categories):\n",
    "    result_DEG = sc.get.rank_genes_groups_df(adata,group=i)\n",
    "    result_DEG.to_csv(file_path+i+'.csv')"
   ]
  },
  {
   "cell_type": "code",
   "execution_count": null,
   "id": "27392cb3",
   "metadata": {},
   "outputs": [],
   "source": [
    "def progress_pca_bbknn_umap_tsne(adata, n_pcs=20, batch_key='batch_name'):\n",
    "    ## 主成分分析降维\n",
    "    #sc.tl.pca(adata, svd_solver='arpack')\n",
    "    # 在PCA坐标中绘制散点图\n",
    "    #sc.pl.pca(adata)\n",
    "    # 可视化每个PC对数据总方差的贡献, 这为我们提供了有关为计算单元的邻域关系应考虑的PC数量的信息sc.tl.tsne()\n",
    "    #sc.pl.pca_variance_ratio(adata, log=True)\n",
    "\n",
    "    # 使用bbknn算法处理批次效应(代替了neighbors)\n",
    "    # bbknn要求数据已经过标准化和主成分分析\n",
    "\n",
    "    # adata.obs['bbknn_batch'] = [str(i)+'-'+str(j) for i,j in zip(adata.obs['dataset'], adata.obs['batch_name'])]\n",
    "    sc.external.pp.bbknn(adata, batch_key=batch_key, n_pcs=n_pcs, neighbors_within_batch=3)\n",
    "    \n",
    "    # 计算UMAP\n",
    "    sc.tl.umap(adata)\n",
    "    # sc.tl.tsne(adata, n_jobs=6)\n",
    "\n",
    "    return adata\n",
    "\n",
    "adata = progress_pca_bbknn_umap_tsne(adata)"
   ]
  },
  {
   "cell_type": "code",
   "execution_count": null,
   "id": "dae9fff3",
   "metadata": {},
   "outputs": [],
   "source": [
    "print(adata.obs['tissue'].cat.categories)\n",
    "\n",
    "old_colors = np.array(adata.uns['tissue_colors'])\n",
    "new_colors = old_colors\n",
    "\n",
    "# inferior turbinate\n",
    "new_colors[[0]] = '#ff0000'\n",
    "# middle turbinate\n",
    "new_colors[[1]] = '#0077b2'\n",
    "# polyp\n",
    "new_colors[[2]] = '#60b55c'\n",
    "\n",
    "adata.uns['tissue_colors'] = new_colors\n",
    "\n",
    "sc.settings.set_figure_params(dpi=400, figsize = (4, 4), fontsize=7)\n",
    "sc.pl.umap(adata, color=['tissue'], frameon=False, title='')"
   ]
  },
  {
   "cell_type": "code",
   "execution_count": null,
   "id": "c3b942cd",
   "metadata": {},
   "outputs": [],
   "source": [
    "sc.settings.set_figure_params(dpi=400, figsize = (4, 4), fontsize=7)\n",
    "sc.pl.umap(adata, color=['annotation'], add_outline=True, outline_width = (0.2, 0.05), palette=\"tab20\", frameon=False, legend_loc='on data')"
   ]
  },
  {
   "cell_type": "code",
   "execution_count": null,
   "id": "5df6c775",
   "metadata": {},
   "outputs": [],
   "source": [
    "sc.pl.umap(adata, color=['annotation'], add_outline=True, outline_width = (0.2, 0.05), palette=\"tab20\", frameon=False)"
   ]
  },
  {
   "cell_type": "code",
   "execution_count": null,
   "id": "632766bc",
   "metadata": {},
   "outputs": [],
   "source": [
    "pd.DataFrame(adata.uns['cosg']['names'])['C06-S11-OXTR+fibroblast'].head(30)"
   ]
  },
  {
   "cell_type": "code",
   "execution_count": null,
   "id": "30f96267",
   "metadata": {},
   "outputs": [],
   "source": [
    "sc.settings.set_figure_params(dpi=300, figsize = (4, 4), fontsize=12)\n",
    "\n",
    "from matplotlib import cm, colors\n",
    "import colorcet as cc\n",
    "\n",
    "mymap = colors.LinearSegmentedColormap.from_list('my_colormap', cc.CET_L20)\n",
    "\n",
    "colors2 = mymap(np.linspace(0.2, 1, 128)) # 30%-100%\n",
    "colors3 = plt.cm.Greys_r(np.linspace(0.8,0.9,5))\n",
    "colorsComb = np.vstack([colors3, colors2])\n",
    "mymap = colors.LinearSegmentedColormap.from_list('my_colormap', colorsComb)\n",
    "\n",
    "sc.pl.umap(adata, color=['OXTR','OXT','COL1A2'], frameon=False, color_map = mymap)"
   ]
  },
  {
   "cell_type": "code",
   "execution_count": null,
   "id": "a044ce28",
   "metadata": {},
   "outputs": [],
   "source": [
    "sc.pl.umap(adata, color=['OXTR','COL10A1','SCG2','ALOX5AP','FAP','ALOX5','VIM','ACTA1'], add_outline=False, frameon=False)"
   ]
  },
  {
   "cell_type": "code",
   "execution_count": null,
   "id": "2bce9308",
   "metadata": {},
   "outputs": [],
   "source": [
    "sc.settings.set_figure_params(dpi=300, figsize = (4, 4), fontsize=12)\n",
    "\n",
    "from matplotlib import cm, colors\n",
    "import colorcet as cc\n",
    "\n",
    "mymap = colors.LinearSegmentedColormap.from_list('my_colormap', cc.CET_L20)\n",
    "\n",
    "colors2 = mymap(np.linspace(0.2, 1, 128)) # 30%-100%\n",
    "colors3 = plt.cm.Greys_r(np.linspace(0.8,0.9,5))\n",
    "colorsComb = np.vstack([colors3, colors2])\n",
    "mymap = colors.LinearSegmentedColormap.from_list('my_colormap', colorsComb)\n",
    "\n",
    "sc.pl.umap(adata, color=['TWIST2','SERPINB2','KISS1'], frameon=False, color_map = mymap)"
   ]
  },
  {
   "cell_type": "code",
   "execution_count": null,
   "id": "85abbc4e",
   "metadata": {},
   "outputs": [],
   "source": [
    "sc.tl.rank_genes_groups(adata, 'tissue', groups=['polyp'], reference='middle turbinate', method='wilcoxon')\n",
    "sc.pl.rank_genes_groups(adata, groups=['polyp'], n_genes=20)"
   ]
  },
  {
   "cell_type": "code",
   "execution_count": null,
   "id": "b4809c38",
   "metadata": {},
   "outputs": [],
   "source": [
    "dedf = sc.get.rank_genes_groups_df(adata, group=\"polyp\")\n",
    "dedf.set_index('names',inplace=True)\n",
    "print(dedf)\n",
    "dedf.loc[['CCL26','CCL24','CCL11','CCL13'],:]"
   ]
  },
  {
   "cell_type": "code",
   "execution_count": null,
   "id": "653298a6",
   "metadata": {},
   "outputs": [],
   "source": [
    "sc.tl.dendrogram(adata, groupby='annotation')"
   ]
  },
  {
   "cell_type": "code",
   "execution_count": null,
   "id": "361a0c4e",
   "metadata": {
    "code_folding": []
   },
   "outputs": [],
   "source": [
    "adata.obs['compartment-stromal'] = 'others'\n",
    "# fibroblast\n",
    "fib_index = adata.obs.loc[adata.obs[\"annotation\"].isin(['C06-S06-Fibroblast','C06-S07-Cycling fibroblast','C06-S08-Adventitial fibroblast',\n",
    "                                                        'C06-S09-PTGDS+Adventitial fibroblast','C06-S10-PIEZO2+fibroblast','C06-S11-OXTR+fibroblast',\n",
    "                                                        'C06-S12-Activated fibroblast']), :].index\n",
    "adata.obs.at[fib_index,'compartment-stromal']='Fibroblast'"
   ]
  },
  {
   "cell_type": "code",
   "execution_count": null,
   "id": "d5799333",
   "metadata": {},
   "outputs": [],
   "source": [
    "adata = adata[fib_index, :]\n",
    "adata"
   ]
  },
  {
   "cell_type": "code",
   "execution_count": null,
   "id": "3636769d",
   "metadata": {},
   "outputs": [],
   "source": [
    "adata.obs['tissue'].cat.categories"
   ]
  },
  {
   "cell_type": "code",
   "execution_count": null,
   "id": "8f47f11e",
   "metadata": {},
   "outputs": [],
   "source": [
    "sc.tl.rank_genes_groups(adata, 'tissue', groups=['polyp'], reference='inferior turbinate', method='wilcoxon')\n",
    "sc.pl.rank_genes_groups(adata, groups=['polyp'], n_genes=20)"
   ]
  },
  {
   "cell_type": "code",
   "execution_count": null,
   "id": "2164a7d8",
   "metadata": {},
   "outputs": [],
   "source": [
    "sc.tl.rank_genes_groups(adata, 'tissue', groups=['polyp'], reference='inferior turbinate', method='wilcoxon')\n",
    "dedf = sc.get.rank_genes_groups_df(adata, group=\"polyp\")\n",
    "dedf.set_index('names',inplace=True)\n",
    "print(dedf)\n",
    "dedf.loc[['TWIST2','SERPINB2','KISS1'],:]"
   ]
  },
  {
   "cell_type": "code",
   "execution_count": null,
   "id": "a58ff852",
   "metadata": {},
   "outputs": [],
   "source": [
    "sc.tl.rank_genes_groups(adata, 'tissue', groups=['polyp'], reference='middle turbinate', method='wilcoxon')\n",
    "dedf = sc.get.rank_genes_groups_df(adata, group=\"polyp\")\n",
    "dedf.set_index('names',inplace=True)\n",
    "print(dedf)\n",
    "dedf.loc[['TWIST2','SERPINB2','KISS1'],:]"
   ]
  },
  {
   "cell_type": "code",
   "execution_count": null,
   "id": "9162688c",
   "metadata": {},
   "outputs": [],
   "source": [
    "help(sc.pl.dotplot)"
   ]
  },
  {
   "cell_type": "code",
   "execution_count": null,
   "id": "8db7835d",
   "metadata": {},
   "outputs": [],
   "source": [
    "sc.pl.dotplot(adata, ['TWIST2','ALOX5AP','ALOX5'], groupby='annotation',standard_scale='var')"
   ]
  },
  {
   "cell_type": "code",
   "execution_count": null,
   "id": "1ec868d8",
   "metadata": {},
   "outputs": [],
   "source": [
    "import cosg as cosg\n",
    "import time\n",
    "t0= time.clock()\n",
    "cosg.cosg(adata,\n",
    "    key_added='cosg',\n",
    "        mu=1,\n",
    "        n_genes_user=50,\n",
    "               groupby='compartment-stromal')\n",
    "runtime_cosg = time.clock() - t0\n",
    "\n",
    "sc.settings.set_figure_params(dpi=200, figsize = (4, 4), fontsize=20)\n",
    "sc.pl.rank_genes_groups_dotplot(adata,groupby='compartment-stromal',\n",
    "                                cmap='Spectral_r',\n",
    "                                 standard_scale='var',\n",
    "                                       n_genes=15,key='cosg')"
   ]
  },
  {
   "cell_type": "code",
   "execution_count": null,
   "id": "6196f6e8",
   "metadata": {},
   "outputs": [],
   "source": [
    "sc.pl.umap(adata, color=['DCN','APOD','COL1A2','FBLN1'], add_outline=False, frameon=False)\n",
    "sc.pl.umap(adata, color=['LUM','SFRP2','SFRP1','ITGBL1'], add_outline=False, frameon=False)\n",
    "sc.pl.umap(adata, color=['IGF2','NBL1','MRC2','ISLR'], add_outline=False, frameon=False)"
   ]
  },
  {
   "cell_type": "code",
   "execution_count": null,
   "id": "2df84b5a",
   "metadata": {},
   "outputs": [],
   "source": [
    "import cosg as cosg\n",
    "import time\n",
    "t0= time.clock()\n",
    "cosg.cosg(adata,\n",
    "    key_added='cosg',\n",
    "        mu=1,\n",
    "        n_genes_user=50,\n",
    "               groupby='annotation')\n",
    "runtime_cosg = time.clock() - t0\n",
    "\n",
    "sc.settings.set_figure_params(dpi=200, figsize = (4, 4), fontsize=20)\n",
    "sc.pl.rank_genes_groups_dotplot(adata,groupby='annotation',\n",
    "                                cmap='Spectral_r',\n",
    "                                 standard_scale='var',\n",
    "                                       n_genes=4,key='cosg')"
   ]
  },
  {
   "cell_type": "code",
   "execution_count": null,
   "id": "0811e7f4",
   "metadata": {},
   "outputs": [],
   "source": [
    "adata.obs['annotation'].cat.categories"
   ]
  },
  {
   "cell_type": "code",
   "execution_count": null,
   "id": "b90640e7",
   "metadata": {},
   "outputs": [],
   "source": [
    "pd.DataFrame(adata.uns['cosg']['names'])['C06-S11-OXTR+fibroblast'].head(30)"
   ]
  },
  {
   "cell_type": "code",
   "execution_count": null,
   "id": "f10b9f51",
   "metadata": {},
   "outputs": [],
   "source": [
    "pd.DataFrame(adata.uns['cosg']['names'])['C06-S10-PIEZO2+fibroblast'].head(30)"
   ]
  },
  {
   "cell_type": "code",
   "execution_count": null,
   "id": "97cf5edb",
   "metadata": {},
   "outputs": [],
   "source": [
    "pd.DataFrame(adata.uns['cosg']['names'])['C06-S09-PTGDS+Adventitial fibroblast'].head(30)"
   ]
  },
  {
   "cell_type": "code",
   "execution_count": null,
   "id": "98ba5192",
   "metadata": {},
   "outputs": [],
   "source": [
    "pd.DataFrame(adata.uns['cosg']['names'])['C06-S12-Activated fibroblast'].head(30)"
   ]
  },
  {
   "cell_type": "code",
   "execution_count": null,
   "id": "1db3f417",
   "metadata": {},
   "outputs": [],
   "source": [
    "pd.DataFrame(adata.uns['cosg']['names'])['C06-S14-Activated Pericytes'].head(30)"
   ]
  },
  {
   "cell_type": "code",
   "execution_count": null,
   "id": "c067c5ca",
   "metadata": {},
   "outputs": [],
   "source": [
    "import cosg as cosg\n",
    "import time\n",
    "t0= time.clock()\n",
    "cosg.cosg(adata,\n",
    "    key_added='cosg',\n",
    "        mu=1,\n",
    "        n_genes_user=50,\n",
    "               groupby='annotation')\n",
    "runtime_cosg = time.clock() - t0\n",
    "\n",
    "sc.settings.set_figure_params(dpi=200, figsize = (4, 4), fontsize=20)\n",
    "sc.pl.rank_genes_groups_dotplot(adata,groupby='annotation',\n",
    "                                cmap='Spectral_r',\n",
    "                                 standard_scale='var',\n",
    "                                       n_genes=15,key='cosg')"
   ]
  },
  {
   "cell_type": "code",
   "execution_count": null,
   "id": "cbb6b20b",
   "metadata": {},
   "outputs": [],
   "source": [
    "tf_GENES = '/mnt/data/project/scenic/auxilliaries/lambert2018_c.txt'\n",
    "amps_pd = pd.read_table(tf_GENES)\n",
    "len(amps_pd)"
   ]
  },
  {
   "cell_type": "code",
   "execution_count": null,
   "id": "a64bdc3d",
   "metadata": {},
   "outputs": [],
   "source": [
    "# 141\n",
    "amps_list = list(amps_pd['Gene_name'])\n",
    "amps_list = [x for x in amps_list if x in adata.raw.var_names]\n",
    "len(amps_list)"
   ]
  },
  {
   "cell_type": "code",
   "execution_count": null,
   "id": "51c6fe99",
   "metadata": {},
   "outputs": [],
   "source": [
    "adata_c = sc.AnnData(X=adata.raw.X, var=adata.raw.var, obs = adata.obs)"
   ]
  },
  {
   "cell_type": "code",
   "execution_count": null,
   "id": "9b811ed6",
   "metadata": {},
   "outputs": [],
   "source": [
    "adata_c = adata_c[:,amps_list]\n",
    "adata_c"
   ]
  },
  {
   "cell_type": "code",
   "execution_count": null,
   "id": "1a1e7ef3",
   "metadata": {},
   "outputs": [],
   "source": [
    "## TFs\n",
    "\n",
    "import cosg as cosg\n",
    "import time\n",
    "t0= time.clock()\n",
    "cosg.cosg(adata_c,\n",
    "    key_added='cosg',\n",
    "        mu=1,\n",
    "        n_genes_user=50,\n",
    "               groupby='annotation')\n",
    "runtime_cosg = time.clock() - t0\n",
    "\n",
    "sc.settings.set_figure_params(dpi=200, figsize = (4, 4), fontsize=20)\n",
    "sc.pl.rank_genes_groups_dotplot(adata_c,groupby='annotation',\n",
    "                                cmap='Spectral_r',\n",
    "                                 standard_scale='var',\n",
    "                                       n_genes=4,key='cosg')"
   ]
  },
  {
   "cell_type": "code",
   "execution_count": null,
   "id": "4c0663c4",
   "metadata": {},
   "outputs": [],
   "source": [
    "Groups_tab_1 = pd.crosstab(index=adata.obs['tissue'],  # Make a crosstab\n",
    "                        columns=adata.obs['annotation'], margins=True)               # Name the count column\n",
    "MyTab_1= Groups_tab_1.div(Groups_tab_1[\"All\"], axis=0)\n",
    "MyTab2_1 = MyTab_1.drop(columns=\"All\")\n",
    "MyTab2_1 = MyTab2_1.drop(index=\"All\")\n",
    "MyTab2_1.T"
   ]
  },
  {
   "cell_type": "code",
   "execution_count": null,
   "id": "c59f1e2a",
   "metadata": {},
   "outputs": [],
   "source": [
    "# create a dataset\n",
    "height = [0.000950, 0.066718]\n",
    "bars = (' ', ' ')\n",
    "x_pos = np.arange(len(bars))\n",
    "\n",
    "fig, ax = plt.subplots(figsize=(2.5, 5))\n",
    "# Create bars with different colors\n",
    "plt.bar(x_pos, height, color=['green', 'red'],edgecolor = '#000000',)\n",
    "\n",
    "# Create names on the x-axis\n",
    "plt.xticks(x_pos, bars, fontsize = 30)\n",
    "plt.yticks([0.0, 0.02, 0.04, 0.06, 0.08 ], fontsize = 20)\n",
    "\n",
    "plt.grid(False)\n",
    "\n",
    "print(ax.axis())\n",
    "#ax.axis([-0.54, 2.5400000000000005, 0.0, 1])\n",
    "\n",
    "ax.spines['top'].set_visible(False)\n",
    "ax.spines['right'].set_visible(False)\n",
    "\n",
    "plt.show()"
   ]
  },
  {
   "cell_type": "code",
   "execution_count": null,
   "id": "ecb332b4",
   "metadata": {},
   "outputs": [],
   "source": [
    "MyTab2_1 = MyTab2_1.T\n",
    "order = ['inferior turbinate', 'middle turbinate', 'polyp']\n",
    "MyTab2_1 = MyTab2_1[order]\n",
    "MyTab2_1 = MyTab2_1.T\n",
    "#categories = IMM_group[::-1]\n",
    "\n",
    "MyTab2_1.columns = pd.CategoricalIndex(MyTab2_1.columns.values)\n",
    "\n",
    "# Sort the columns (axis=1) by the new categorical ordering\n",
    "MyTab2_1 = MyTab2_1.sort_index(axis=1)\n",
    "\n",
    "ax = MyTab2_1.plot.bar(\n",
    "            figsize=(3.7,5),\n",
    "            stacked=True,\n",
    "            edgecolor = '#000000',\n",
    "            linewidth=0.4,\n",
    "            width=0.8, \n",
    "            fontsize=10,\n",
    "            # color={\"1-Duodenum\": \"#393b79\",\"2-Jejunum\": \"#8ca252\",\"3-Ileum\": \"#e7ba52\", \"4-Colon\": \"#e7969c\", \"5-Rectum\": \"#de9ed6\"}\n",
    "             )\n",
    "\n",
    "\n",
    "plt.title(\"\", fontsize=12)\n",
    "plt.ylabel(\"Fraction of cells\", fontsize=12)\n",
    "plt.xlabel(\"\", fontsize=12)\n",
    "plt.ylim=1.0\n",
    "\n",
    "#plt.gca().get_legend().remove() #remove legend\n",
    "# plt.legend(categories, loc='center left', bbox_to_anchor=(1, 0.6), fontsize=12)\n",
    "# plt.savefig('Proportion of clusters accross organs.png')\n",
    "# 去除刻度\n",
    "#plt.xticks([])\n",
    "#plt.yticks([])\n",
    "# ax.tick_params(bottom=False, top=False, left=False, right=False)\n",
    "handles, labels = ax.get_legend_handles_labels()\n",
    "ax.legend(reversed(handles), reversed(labels), loc='center left', bbox_to_anchor=(1, 0.6), fontsize=8)\n",
    "plt.grid(False)\n",
    "\n",
    "plt.show()"
   ]
  },
  {
   "cell_type": "code",
   "execution_count": null,
   "id": "de834f23",
   "metadata": {},
   "outputs": [],
   "source": [
    "adata.write('/mnt/data2/Datasets/Human_non_intestine_datasets/Qilu_Otorhinolaryngology_surgery_data/dataset_output/Stromal.h5ad')"
   ]
  },
  {
   "cell_type": "markdown",
   "id": "217718ca",
   "metadata": {},
   "source": [
    "**Fibroblast**"
   ]
  },
  {
   "cell_type": "code",
   "execution_count": null,
   "id": "146642c1",
   "metadata": {},
   "outputs": [],
   "source": [
    "adata_FB_index = adata.obs.loc[adata.obs[\"annotation\"].isin(['C06-S06-Fibroblast','C06-S07-Cycling fibroblast','C06-S08-Adventitial fibroblast',\n",
    "                                                             'C06-S09-PTGDS+Adventitial fibroblast','C06-S10-PIEZO2+fibroblast',\n",
    "                                                             'C06-S11-OXTR+fibroblast','C06-S12-Activated fibroblast']), :].index\n",
    "adata_FB = adata[adata_FB_index, :]\n",
    "adata_FB"
   ]
  },
  {
   "cell_type": "code",
   "execution_count": null,
   "id": "a1da66dd",
   "metadata": {},
   "outputs": [],
   "source": [
    "sc.tl.dendrogram(adata_FB, groupby='annotation')\n",
    "\n",
    "import cosg as cosg\n",
    "import time\n",
    "t0= time.clock()\n",
    "cosg.cosg(adata_FB,\n",
    "    key_added='cosg',\n",
    "        mu=1,\n",
    "        n_genes_user=50,\n",
    "               groupby='annotation')\n",
    "runtime_cosg = time.clock() - t0\n",
    "\n",
    "sc.settings.set_figure_params(dpi=200, figsize = (4, 4), fontsize=15)\n",
    "sc.pl.rank_genes_groups_dotplot(adata_FB,groupby='annotation',\n",
    "                                cmap='Spectral_r',\n",
    "                                 standard_scale='var',\n",
    "                                       n_genes=10,key='cosg')"
   ]
  },
  {
   "cell_type": "code",
   "execution_count": null,
   "id": "76feb7c5",
   "metadata": {},
   "outputs": [],
   "source": [
    "sc.tl.rank_genes_groups(adata_FB, \n",
    "                        groupby = 'annotation',\n",
    "                        method='wilcoxon')"
   ]
  },
  {
   "cell_type": "code",
   "execution_count": null,
   "id": "5d13c831",
   "metadata": {},
   "outputs": [],
   "source": [
    "result_DEG = sc.get.rank_genes_groups_df(adata_FB,group=\"C06-S11-OXTR+fibroblast\")\n",
    "result_DEG"
   ]
  },
  {
   "cell_type": "code",
   "execution_count": null,
   "id": "54176518",
   "metadata": {},
   "outputs": [],
   "source": [
    "gene_list = []\n",
    "for i in list(result_DEG.index):\n",
    "    # log2FC<=1 and pvalue<0.01\n",
    "    if (result_DEG.iloc[i,2]>=1 and result_DEG.iloc[i,4]<=1e-2):\n",
    "        gene_list.append(result_DEG.iloc[i,0])\n",
    "len(gene_list)"
   ]
  },
  {
   "cell_type": "code",
   "execution_count": null,
   "id": "911bb690",
   "metadata": {},
   "outputs": [],
   "source": [
    "result_DEG_1 = result_DEG.set_index('names').loc[gene_list,:]\n",
    "result_DEG_1"
   ]
  },
  {
   "cell_type": "code",
   "execution_count": null,
   "id": "4fae2dc0",
   "metadata": {},
   "outputs": [],
   "source": [
    "result_DEG_1.to_csv('/mnt/data2/Datasets/Human_non_intestine_datasets/Qilu_Otorhinolaryngology_surgery_data/dataset_output/csv/oxtr.csv')"
   ]
  },
  {
   "cell_type": "code",
   "execution_count": null,
   "id": "5e465d3c",
   "metadata": {},
   "outputs": [],
   "source": [
    "Groups_tab_1 = pd.crosstab(index=adata_FB.obs['tissue'],  # Make a crosstab\n",
    "                        columns=adata_FB.obs['annotation'], margins=True)               # Name the count column\n",
    "MyTab_1= Groups_tab_1.div(Groups_tab_1[\"All\"], axis=0)\n",
    "MyTab2_1 = MyTab_1.drop(columns=\"All\")\n",
    "MyTab2_1 = MyTab2_1.drop(index=\"All\")\n",
    "MyTab2_1 = MyTab2_1.T\n",
    "\n",
    "order = ['inferior turbinate', 'middle turbinate', 'polyp']\n",
    "MyTab2_1 = MyTab2_1[order]\n",
    "MyTab2_1 = MyTab2_1.T\n",
    "#categories = IMM_group[::-1]\n",
    "\n",
    "MyTab2_1.columns = pd.CategoricalIndex(MyTab2_1.columns.values)\n",
    "\n",
    "# Sort the columns (axis=1) by the new categorical ordering\n",
    "MyTab2_1 = MyTab2_1.sort_index(axis=1)\n",
    "\n",
    "ax = MyTab2_1.plot.bar(\n",
    "            figsize=(3.7,5),\n",
    "            stacked=True,\n",
    "            edgecolor = '#000000',\n",
    "            linewidth=0.4,\n",
    "            width=0.8, \n",
    "            fontsize=10,\n",
    "            # color={\"1-Duodenum\": \"#393b79\",\"2-Jejunum\": \"#8ca252\",\"3-Ileum\": \"#e7ba52\", \"4-Colon\": \"#e7969c\", \"5-Rectum\": \"#de9ed6\"}\n",
    "             )\n",
    "\n",
    "\n",
    "plt.title(\"\", fontsize=12)\n",
    "plt.ylabel(\"Fraction of cells\", fontsize=12)\n",
    "plt.xlabel(\"\", fontsize=12)\n",
    "plt.ylim=1.0\n",
    "\n",
    "#plt.gca().get_legend().remove() #remove legend\n",
    "# plt.legend(categories, loc='center left', bbox_to_anchor=(1, 0.6), fontsize=12)\n",
    "# plt.savefig('Proportion of clusters accross organs.png')\n",
    "# 去除刻度\n",
    "#plt.xticks([])\n",
    "#plt.yticks([])\n",
    "# ax.tick_params(bottom=False, top=False, left=False, right=False)\n",
    "handles, labels = ax.get_legend_handles_labels()\n",
    "ax.legend(reversed(handles), reversed(labels), loc='center left', bbox_to_anchor=(1, 0.6), fontsize=8)\n",
    "plt.grid(False)\n",
    "\n",
    "plt.show()"
   ]
  },
  {
   "cell_type": "markdown",
   "id": "dcda787c",
   "metadata": {},
   "source": [
    "**Pericytes-SMC**"
   ]
  },
  {
   "cell_type": "code",
   "execution_count": null,
   "id": "75d93bad",
   "metadata": {},
   "outputs": [],
   "source": [
    "adata_PS_index = adata.obs.loc[adata.obs[\"annotation\"].isin(['C06-S13-Pericytes',\n",
    "                                                             'C06-S14-Activated Pericytes',\n",
    "                                                             'C06-S15-Smooth muscle cells']), :].index\n",
    "adata_PS = adata[adata_PS_index, :]\n",
    "adata_PS"
   ]
  },
  {
   "cell_type": "code",
   "execution_count": null,
   "id": "7cdb832a",
   "metadata": {},
   "outputs": [],
   "source": [
    "Groups_tab_1 = pd.crosstab(index=adata_PS.obs['tissue'],  # Make a crosstab\n",
    "                        columns=adata_PS.obs['annotation'], margins=True)               # Name the count column\n",
    "MyTab_1= Groups_tab_1.div(Groups_tab_1[\"All\"], axis=0)\n",
    "MyTab2_1 = MyTab_1.drop(columns=\"All\")\n",
    "MyTab2_1 = MyTab2_1.drop(index=\"All\")\n",
    "MyTab2_1 = MyTab2_1.T\n",
    "\n",
    "order = ['inferior turbinate', 'middle turbinate', 'polyp']\n",
    "MyTab2_1 = MyTab2_1[order]\n",
    "MyTab2_1 = MyTab2_1.T\n",
    "#categories = IMM_group[::-1]\n",
    "\n",
    "MyTab2_1.columns = pd.CategoricalIndex(MyTab2_1.columns.values)\n",
    "\n",
    "# Sort the columns (axis=1) by the new categorical ordering\n",
    "MyTab2_1 = MyTab2_1.sort_index(axis=1)\n",
    "\n",
    "ax = MyTab2_1.plot.bar(\n",
    "            figsize=(3.7,5),\n",
    "            stacked=True,\n",
    "            edgecolor = '#000000',\n",
    "            linewidth=0.4,\n",
    "            width=0.8, \n",
    "            fontsize=10,\n",
    "            # color={\"1-Duodenum\": \"#393b79\",\"2-Jejunum\": \"#8ca252\",\"3-Ileum\": \"#e7ba52\", \"4-Colon\": \"#e7969c\", \"5-Rectum\": \"#de9ed6\"}\n",
    "             )\n",
    "\n",
    "\n",
    "plt.title(\"\", fontsize=12)\n",
    "plt.ylabel(\"Fraction of cells\", fontsize=12)\n",
    "plt.xlabel(\"\", fontsize=12)\n",
    "plt.ylim=1.0\n",
    "\n",
    "#plt.gca().get_legend().remove() #remove legend\n",
    "# plt.legend(categories, loc='center left', bbox_to_anchor=(1, 0.6), fontsize=12)\n",
    "# plt.savefig('Proportion of clusters accross organs.png')\n",
    "# 去除刻度\n",
    "#plt.xticks([])\n",
    "#plt.yticks([])\n",
    "# ax.tick_params(bottom=False, top=False, left=False, right=False)\n",
    "handles, labels = ax.get_legend_handles_labels()\n",
    "ax.legend(reversed(handles), reversed(labels), loc='center left', bbox_to_anchor=(1, 0.6), fontsize=8)\n",
    "plt.grid(False)\n",
    "\n",
    "plt.show()"
   ]
  },
  {
   "cell_type": "markdown",
   "id": "fdedacfd",
   "metadata": {},
   "source": [
    "**Endothelial cells**"
   ]
  },
  {
   "cell_type": "code",
   "execution_count": null,
   "id": "88a3beba",
   "metadata": {},
   "outputs": [],
   "source": [
    "adata_EC_index = adata.obs.loc[adata.obs[\"annotation\"].isin(['C06-S02-Arterial endo',\n",
    "                                                             'C06-S03-Venous endo',\n",
    "                                                             'C06-S04-Capillary endo',\n",
    "                                                             'C06-S05-Lymphatic endo']), :].index\n",
    "adata_EC = adata[adata_EC_index, :]\n",
    "adata_EC"
   ]
  },
  {
   "cell_type": "code",
   "execution_count": null,
   "id": "6bfad0dc",
   "metadata": {},
   "outputs": [],
   "source": [
    "Groups_tab_1 = pd.crosstab(index=adata_EC.obs['tissue'],  # Make a crosstab\n",
    "                        columns=adata_EC.obs['annotation'], margins=True)               # Name the count column\n",
    "MyTab_1= Groups_tab_1.div(Groups_tab_1[\"All\"], axis=0)\n",
    "MyTab2_1 = MyTab_1.drop(columns=\"All\")\n",
    "MyTab2_1 = MyTab2_1.drop(index=\"All\")\n",
    "MyTab2_1 = MyTab2_1.T\n",
    "\n",
    "order = ['inferior turbinate', 'middle turbinate', 'polyp']\n",
    "MyTab2_1 = MyTab2_1[order]\n",
    "MyTab2_1 = MyTab2_1.T\n",
    "#categories = IMM_group[::-1]\n",
    "\n",
    "MyTab2_1.columns = pd.CategoricalIndex(MyTab2_1.columns.values)\n",
    "\n",
    "# Sort the columns (axis=1) by the new categorical ordering\n",
    "MyTab2_1 = MyTab2_1.sort_index(axis=1)\n",
    "\n",
    "ax = MyTab2_1.plot.bar(\n",
    "            figsize=(3.7,5),\n",
    "            stacked=True,\n",
    "            edgecolor = '#000000',\n",
    "            linewidth=0.4,\n",
    "            width=0.8, \n",
    "            fontsize=10,\n",
    "            # color={\"1-Duodenum\": \"#393b79\",\"2-Jejunum\": \"#8ca252\",\"3-Ileum\": \"#e7ba52\", \"4-Colon\": \"#e7969c\", \"5-Rectum\": \"#de9ed6\"}\n",
    "             )\n",
    "\n",
    "\n",
    "plt.title(\"\", fontsize=12)\n",
    "plt.ylabel(\"Fraction of cells\", fontsize=12)\n",
    "plt.xlabel(\"\", fontsize=12)\n",
    "plt.ylim=1.0\n",
    "\n",
    "#plt.gca().get_legend().remove() #remove legend\n",
    "# plt.legend(categories, loc='center left', bbox_to_anchor=(1, 0.6), fontsize=12)\n",
    "# plt.savefig('Proportion of clusters accross organs.png')\n",
    "# 去除刻度\n",
    "#plt.xticks([])\n",
    "#plt.yticks([])\n",
    "# ax.tick_params(bottom=False, top=False, left=False, right=False)\n",
    "handles, labels = ax.get_legend_handles_labels()\n",
    "ax.legend(reversed(handles), reversed(labels), loc='center left', bbox_to_anchor=(1, 0.6), fontsize=8)\n",
    "plt.grid(False)\n",
    "\n",
    "plt.show()"
   ]
  },
  {
   "cell_type": "markdown",
   "id": "bf34e8c3",
   "metadata": {},
   "source": [
    "# 受配体"
   ]
  },
  {
   "cell_type": "markdown",
   "id": "fbb58c45",
   "metadata": {},
   "source": [
    "## 趋化因子"
   ]
  },
  {
   "cell_type": "code",
   "execution_count": null,
   "id": "1ffad524",
   "metadata": {},
   "outputs": [],
   "source": [
    "# 趋化因子受体 42\n",
    "\n",
    "R_CC = 'CCR1,CCR2,CCR3,CCR4,CCR5,CCR6,CCR7,CCR8,CCR9,CCR10'.split(',')\n",
    "R_CXC = 'CXCR1,CXCR2,CXCR3,CXCR4,CXCR5,CXCR6'.split(',')\n",
    "R_C = ['XCR1']\n",
    "R_CX3C = ['CX3CR1']\n",
    "R_Atypical = 'ACKR1,ACKR2,ACKR3,ACKR4,CCRL2'.split(',')\n",
    "R_other = 'C5AR1,CMKLR1,FPR1,LRP6,GPR35,HRH4,DPP4,IDE,SLC7A1,CNR2,GPRC5D,VSIR,GPR101,FFAR2,GPR42,PGRMC2,GPR75,FCGR2A,KIR2DL3'.split(',')\n",
    "\n",
    "R_Chemotaxis = R_CC+R_CXC+R_C+R_CX3C+R_Atypical+R_other\n",
    "R_Chemotaxis = [x for x in R_Chemotaxis if x in adata.raw.var_names]"
   ]
  },
  {
   "cell_type": "code",
   "execution_count": null,
   "id": "10391b52",
   "metadata": {},
   "outputs": [],
   "source": [
    "# 趋化因子配体 54--46\n",
    "\n",
    "L_CXC = 'CXCL1,CXCL2,CXCL3,CXCL4,CXCL5,CXCL6,CXCL7,CXCL8,CXCL9,CXCL10,CXCL11,CXCL12,CXCL13,CXCL14,CXCL15,CXCL16,CXCL17'.split(',')\n",
    "L_C = 'XCL1,XCL2'.split(',')\n",
    "L_CC = 'CCL1,CCL2,CCL3,CCL4,CCL5,CCL6,CCL7,CCL8,CCL9,CCL10,CCL11,CCL12,CCL13,CCL14,CCL15,CCL16,CCL17,CCL18,CCL19,CCL20,CCL21,CCL22,CCL23,CCL24,CCL25,CCL26,CCL27,CCL28,'.split(',')\n",
    "L_CX3C = ['CX3CL1']\n",
    "L_other = 'C5,CKLF,CCL3L3,PF4,SPP1'.split(',')\n",
    "\n",
    "L_Chemotaxis = L_CXC+L_C+L_CC+L_CX3C+L_other\n",
    "L_Chemotaxis = [x for x in L_Chemotaxis if x in adata.raw.var_names]"
   ]
  },
  {
   "cell_type": "code",
   "execution_count": null,
   "id": "2d75e970",
   "metadata": {
    "scrolled": false
   },
   "outputs": [],
   "source": [
    "# 趋化因子受体\n",
    "mp = sc.pl.dotplot(adata, \n",
    "              R_Chemotaxis, \n",
    "              'annotation', \n",
    "              dendrogram=False, \n",
    "              #figsize=(8,10),\n",
    "              use_raw=True,\n",
    "              cmap = 'RdYlBu_r',\n",
    "              var_group_rotation=45,\n",
    "              swap_axes=True,\n",
    "              standard_scale='var',\n",
    "              colorbar_title='Scaled expression in var',\n",
    "              return_fig=True\n",
    "              # , save='_' + sample_name + '_fig11.png'\n",
    "             ) \n",
    "mp.add_totals().style(grid=True).show()\n",
    "\n",
    "# 趋化因子配体\n",
    "mp = sc.pl.dotplot(adata, \n",
    "              L_Chemotaxis, \n",
    "              'annotation', \n",
    "              dendrogram=False, \n",
    "              #figsize=(8,10),\n",
    "              use_raw=True,\n",
    "              cmap = 'RdYlBu_r',\n",
    "              var_group_rotation=45,\n",
    "              swap_axes=True,\n",
    "              standard_scale='var',\n",
    "              colorbar_title='Scaled expression in var',\n",
    "              return_fig=True\n",
    "              # , save='_' + sample_name + '_fig11.png'\n",
    "             ) \n",
    "mp.add_totals().style(grid=True).show()"
   ]
  },
  {
   "cell_type": "markdown",
   "id": "f42b420e",
   "metadata": {},
   "source": [
    "## 细胞因子"
   ]
  },
  {
   "cell_type": "code",
   "execution_count": null,
   "id": "12e59037",
   "metadata": {},
   "outputs": [],
   "source": [
    "# 细胞因子受体\n",
    "IL_R = ''.split(',')\n",
    "IFN_R = ''.split(',')\n",
    "TNF_R = 'EGFR,NRG1'.split(',')\n",
    "CSF_R = 'NOTCH1,NOTCH2,NOTCH3,NOTCH4'.split(',')\n",
    "\n",
    "cytokines_R = IL_R+IFN_R+TNF_R+CSF_R\n",
    "cytokines_R = [x for x in cytokines_R if x in adata.raw.var_names]"
   ]
  },
  {
   "cell_type": "code",
   "execution_count": null,
   "id": "36bca44d",
   "metadata": {},
   "outputs": [],
   "source": [
    "# 细胞因子配体\n",
    "IL_L = 'IL1A,IL1B,IL2,IL4,IL5,IL6,IL7,IL10,IL11,IL13,IL15,IL16,IL17A,IL17C,IL17F,IL18,IL19,IL20,IL21,IL22,IL23A,IL24,IL26,IL32,IL33,IL34,IL37'.split(',')\n",
    "IFN_L = 'IFNE,IFNG,IFNL1'.split(',')\n",
    "TNF_L = 'EGF,NRG1,AREG,BTC,CNTF,COPA,EPGN,GRN,HBEGF,MIF,TGFA,TGFB1,EREG'.split(',')\n",
    "CSF_L = 'DLL1,DLL3,DLL4,JAG1,JAG2,SCGB3A1,TNF,IL24,WNT4'.split(',')\n",
    "\n",
    "cytokines_L = IL_L+IFN_L+TNF_L+CSF_L\n",
    "cytokines_L = [x for x in cytokines_L if x in adata.raw.var_names]"
   ]
  },
  {
   "cell_type": "code",
   "execution_count": null,
   "id": "a1d40e60",
   "metadata": {
    "scrolled": false
   },
   "outputs": [],
   "source": [
    "# 细胞因子配体\n",
    "mp = sc.pl.dotplot(adata, \n",
    "              cytokines_L, \n",
    "              'annotation', \n",
    "              dendrogram=False, \n",
    "              #figsize=(8,10),\n",
    "              use_raw=True,\n",
    "              cmap = 'RdYlBu_r',\n",
    "              var_group_rotation=45,\n",
    "              swap_axes=True,\n",
    "              standard_scale='var',\n",
    "              colorbar_title='Scaled expression in var',\n",
    "              return_fig=True\n",
    "              # , save='_' + sample_name + '_fig11.png'\n",
    "             ) \n",
    "mp.add_totals().style(grid=True).show()"
   ]
  },
  {
   "cell_type": "markdown",
   "id": "5ffe47cb",
   "metadata": {},
   "source": [
    "## 生长因子"
   ]
  },
  {
   "cell_type": "code",
   "execution_count": null,
   "id": "686448cb",
   "metadata": {},
   "outputs": [],
   "source": [
    "# 生长因子受体\n",
    "WNT_R = 'FZD1,FZD2,FZD3,FZD4,FZD5,FZD6,FZD7,FZD8,FZD9,FZD10,CD36,ROR1,ROR2,RYK,LRP1,SMO,ANTXR1,EPHA7,PTPRK,LDLR,KLRG2,NOTCH1'.split(',')\n",
    "BMP_R = 'BMPR1A,BMPR1B,BMR1A,BMR1B,BMPR2,ACR2A,AVR2B,ACVR1,SMO,PTPRK,SLAMF1,PLAUR'.split(',')\n",
    "EGF_R = 'EGFR,NRG1'.split(',')\n",
    "NOTCH_R = 'NOTCH1,NOTCH2,NOTCH3,NOTCH4'.split(',')\n",
    "\n",
    "GROW_R = WNT_R+BMP_R+EGF_R+NOTCH_R\n",
    "GROW_R = [x for x in GROW_R if x in adata.raw.var_names]"
   ]
  },
  {
   "cell_type": "code",
   "execution_count": null,
   "id": "fde1e8a2",
   "metadata": {},
   "outputs": [],
   "source": [
    "# 生长因子配体\n",
    "WNT_L = 'WNT1,WNT2,WNT2B,WNT3,WNT3A,WNT4,WNT5A,WNT5B,WNT7A,WNT7B,WNT11'.split(',')\n",
    "BMP_L = 'BMP2,BMP3,BMP4,BMP5,BMP6,BMP7,BMP8A,BMP8B'.split(',')\n",
    "EGF_L = 'EGF,NRG1,AREG,BTC,CNTF,COPA,EPGN,GRN,HBEGF,MIF,TGFA,TGFB1,EREG'.split(',')\n",
    "NOTCH_L = 'DLL1,DLL3,DLL4,JAG1,JAG2,SCGB3A1,TNF,IL24,WNT4'.split(',')\n",
    "\n",
    "GROW_L = WNT_L+BMP_L+EGF_L+NOTCH_L\n",
    "GROW_L = [x for x in GROW_L if x in adata.raw.var_names]"
   ]
  },
  {
   "cell_type": "code",
   "execution_count": null,
   "id": "6adb2b74",
   "metadata": {
    "scrolled": false
   },
   "outputs": [],
   "source": [
    "# 生长因子受体\n",
    "mp = sc.pl.dotplot(adata, \n",
    "              GROW_R, \n",
    "              'annotation', \n",
    "              dendrogram=False, \n",
    "              #figsize=(8,10),\n",
    "              use_raw=True,\n",
    "              cmap = 'RdYlBu_r',\n",
    "              var_group_rotation=45,\n",
    "              swap_axes=True,\n",
    "              standard_scale='var',\n",
    "              colorbar_title='Scaled expression in var',\n",
    "              return_fig=True\n",
    "              # , save='_' + sample_name + '_fig11.png'\n",
    "             ) \n",
    "mp.add_totals().style(grid=True).show()\n",
    "\n",
    "# 生长因子配体\n",
    "mp = sc.pl.dotplot(adata, \n",
    "              GROW_L, \n",
    "              'annotation', \n",
    "              dendrogram=False, \n",
    "              #figsize=(8,10),\n",
    "              use_raw=True,\n",
    "              cmap = 'RdYlBu_r',\n",
    "              var_group_rotation=45,\n",
    "              swap_axes=True,\n",
    "              standard_scale='var',\n",
    "              colorbar_title='Scaled expression in var',\n",
    "              return_fig=True\n",
    "              # , save='_' + sample_name + '_fig11.png'\n",
    "             ) \n",
    "mp.add_totals().style(grid=True).show()"
   ]
  }
 ],
 "metadata": {
  "kernelspec": {
   "display_name": "Python [conda env:singlecell]",
   "language": "python",
   "name": "conda-env-singlecell-py"
  },
  "language_info": {
   "codemirror_mode": {
    "name": "ipython",
    "version": 3
   },
   "file_extension": ".py",
   "mimetype": "text/x-python",
   "name": "python",
   "nbconvert_exporter": "python",
   "pygments_lexer": "ipython3",
   "version": "3.11.4"
  },
  "toc": {
   "base_numbering": 1,
   "nav_menu": {},
   "number_sections": true,
   "sideBar": true,
   "skip_h1_title": false,
   "title_cell": "Table of Contents",
   "title_sidebar": "Contents",
   "toc_cell": false,
   "toc_position": {
    "height": "calc(100% - 180px)",
    "left": "10px",
    "top": "150px",
    "width": "165px"
   },
   "toc_section_display": true,
   "toc_window_display": false
  }
 },
 "nbformat": 4,
 "nbformat_minor": 5
}
