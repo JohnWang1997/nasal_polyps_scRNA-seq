{
 "cells": [
  {
   "cell_type": "code",
   "execution_count": null,
   "id": "b956688f",
   "metadata": {},
   "outputs": [],
   "source": [
    "#!/usr/bin/env python\n",
    "# -*- coding: utf-8 -*-\n",
    "import numpy as np\n",
    "import pandas as pd\n",
    "import scanpy as sc\n",
    "import anndata\n",
    "import bbknn\n",
    "import os\n",
    "from scipy import sparse\n",
    "import matplotlib.pyplot as plt\n",
    "# from scanpy_base_moudle_update2 import *\n",
    "import scrublet as scr\n",
    "import harmonypy as hm\n",
    "\n",
    "sc.settings.verbosity = 3\n",
    "#sc.logging.print_versions()\n",
    "# 设置图片的分辨率以及其他样式\n",
    "sc.settings.set_figure_params(dpi=150, figsize = (4, 3), fontsize=12)\n",
    "\n",
    "import matplotlib.font_manager\n",
    "flist = matplotlib.font_manager.get_fontconfig_fonts()\n",
    "names = [matplotlib.font_manager.FontProperties(fname=fname).get_name() for fname in flist]\n",
    "print(names)\n",
    "\n",
    "params={\n",
    "        #'font.style':'italic',\n",
    "        'font.weight':'normal',    #or 'blod'\n",
    "        }\n",
    "plt.rcParams.update(params)\n",
    "\n",
    "plt.rcParams['font.family']='Arial'"
   ]
  },
  {
   "cell_type": "markdown",
   "id": "148896b0",
   "metadata": {},
   "source": [
    "# Add metadata"
   ]
  },
  {
   "cell_type": "code",
   "execution_count": null,
   "id": "5e5798d4",
   "metadata": {},
   "outputs": [],
   "source": [
    "# 共用模块\n",
    "    \n",
    "def change_obs_index_v1(x):\n",
    "    \"\"\"\n",
    "    This function is used to change barcodes' names, adding sample information, so as to add meta-data to Anndata.\n",
    "    \"\"\"\n",
    "    x = barcode_name + '.' + x\n",
    "    #x = x[:-2]\n",
    "    \n",
    "    return x\n",
    "\n",
    "def change_obs_index_v2(x):\n",
    "    \"\"\"\n",
    "    该函数用于修正concatenate样本或数据集后变更的barcodes名。\n",
    "    \"\"\"  \n",
    "    x = x[:-4]\n",
    "    return x\n",
    "\n",
    "\n",
    "def concatenate_samples(file_name_list, file_output_h5ad, joint='outer'):\n",
    "    \"\"\"\n",
    "    该函数将一个数据集中的多个样本h5ad合并为一个adata。\n",
    "    \"\"\" \n",
    "    adata_list = []\n",
    "    \n",
    "    for sample_id in file_name_list:\n",
    "        adata_single = sc.read(file_output_h5ad + sample_id + '.h5ad')\n",
    "        adata_list.append(adata_single)\n",
    "        \n",
    "    # batch_list单个数据集的样本数限制在999以下时适用，此步骤是因为Anndata的concatenate函数会自动在barcode name尾部一个批次编号，\n",
    "    # 在这里设置格式化的编号以便删除。\n",
    "    batch_list = []\n",
    "    for i in range(len(file_name_list)):\n",
    "        if i+1 < 10:\n",
    "            j = '00'+ str(i+1)\n",
    "        elif i+1 < 100:\n",
    "            j = '0'+ str(i+1)\n",
    "        else: \n",
    "            j = str(i+1)\n",
    "        batch_list.append(j)\n",
    "    \n",
    "    adata = adata_list[0].concatenate(adata_list[1:len(batch_list)],join=joint, batch_categories=batch_list)\n",
    "    # 删除barcode name的尾部编号\n",
    "    adata.obs.rename(index=change_obs_index_v2,inplace=True)\n",
    "    \n",
    "    return adata\n",
    "\n",
    "# This moudle if for data format of 10x mtx.\n",
    "def file_name(file_path):\n",
    "    for root, dirs, files in os.walk(file_path):\n",
    "        print('The dataset has '+str(len(dirs))+' samples.')\n",
    "        print('sub_dirs:', dirs)  # 当前路径下所有子目录\n",
    "        file_name_list = dirs\n",
    "        return file_name_list\n",
    "    \n",
    "def mtx_to_adata(file_name_list, # dirs\n",
    "                 dataset_name,  # 'qilu_'\n",
    "                 file_path, \n",
    "                 file_output_h5ad,\n",
    "                 do_prefix = False):\n",
    "    \"\"\"\n",
    "    This function is used to bulk convert 10X single-cell matrix to annddata format.\n",
    "    \"\"\"\n",
    "    for sample_id in file_name_list:\n",
    "        if (not do_prefix):\n",
    "            prefix = None\n",
    "        else:\n",
    "            prefix = sample_id+'_'\n",
    "\n",
    "        adata = sc.read_10x_mtx(path=file_path+sample_id+'/',prefix = prefix)\n",
    "        print('The anndata of '+sample_id+' is:')\n",
    "        print(adata)\n",
    "        global barcode_name\n",
    "        barcode_name = dataset_name + sample_id\n",
    "        adata.obs.rename(index=change_obs_index_v1,inplace=True)\n",
    "        adata.write(file_output_h5ad + sample_id + '.h5ad')\n",
    "        \n",
    "    return adata # 此函数返回最后一个（或唯一的）adata文件，用于一个数据集中仅有一个样本时的10x solution。\n",
    "\n",
    "def unfiltered_mtx_to_adata(file_name_list, # dirs\n",
    "                 dataset_name,  # 'qilu_'\n",
    "                 file_path, \n",
    "                 file_output_h5ad,\n",
    "                 do_prefix = False,\n",
    "                 min_genes=250):\n",
    "    \"\"\"\n",
    "    This function is used to bulk convert unfiltered 10X single-cell matrix to annddata format.\n",
    "    Cells would be removed as their min-genes < 250.\n",
    "    \"\"\"\n",
    "    for sample_id in file_name_list:\n",
    "        if (not do_prefix):\n",
    "            prefix = None\n",
    "        else:\n",
    "            prefix = sample_id+'_'\n",
    "            \n",
    "        adata = sc.read_10x_mtx(path=file_path+sample_id+'/',prefix=prefix)\n",
    "        sc.pp.filter_cells(adata, min_genes=min_genes)\n",
    "        print('The anndata of '+sample_id+' is:')\n",
    "        print(adata)\n",
    "        global barcode_name\n",
    "        barcode_name = dataset_name + sample_id\n",
    "        adata.obs.rename(index=change_obs_index_v1,inplace=True)\n",
    "        adata.write(file_output_h5ad + sample_id + '.h5ad')\n",
    "        \n",
    "    return adata # 此函数返回最后一个（或唯一的）adata文件，用于一个数据集中仅有一个样本时的10x solution。\n",
    "\n",
    "def solution_concatenate_10x(file_path, \n",
    "                             file_output_h5ad, \n",
    "                             dataset_name, \n",
    "                             dataset_output, \n",
    "                             adata_name, \n",
    "                             filtered = True, \n",
    "                             min_genes=250, \n",
    "                             do_prefix=False,\n",
    "                             joint = 'outer'):\n",
    "    \"\"\"\n",
    "    批量处理大规模10x CellRanger下机的矩阵文件的解决方案，整合多样本，在barcode name中添加数据集和样本信息;\n",
    "    生成每一个样本的h5ad文件，以及合并样本的总adata;\n",
    "    生成的每个样本的adata文件存放于file_output_h5ad中，合并样本的adata存放于dataset_output;\n",
    "    adata的df为原始基因表达。\n",
    "    filtered默认为True，表示矩阵是10X CellRanger过滤的矩阵；\n",
    "    \"\"\"\n",
    "    print('using the framework of scRNA-seq analysis developed by Yue Wang, qilu hospital of Shandong University')\n",
    "    file_name_list = file_name(file_path)\n",
    "    \n",
    "    # 判断是否为10x的过滤矩阵\n",
    "    if filtered:\n",
    "        adata_last = mtx_to_adata(file_name_list, dataset_name, file_path, file_output_h5ad, do_prefix = do_prefix)\n",
    "    else:\n",
    "        adata_last = unfiltered_mtx_to_adata(file_name_list, dataset_name, file_path, file_output_h5ad, min_genes=min_genes, do_prefix=do_prefix)\n",
    "        \n",
    "    # 判断数据集内的样本数\n",
    "    if len(file_name_list)>1:\n",
    "        adata = concatenate_samples(file_name_list, file_output_h5ad, joint=joint)\n",
    "    else:\n",
    "        # 当数据集仅有一个样本时\n",
    "        adata = adata_last\n",
    "    adata.write(dataset_output + adata_name + '.h5ad')\n",
    "    \n",
    "    print('The final adata is: ')\n",
    "    print(adata)\n",
    "    \n",
    "    return adata"
   ]
  },
  {
   "cell_type": "code",
   "execution_count": null,
   "id": "9270b43b",
   "metadata": {},
   "outputs": [],
   "source": [
    "file_path = '/mnt/data2/Datasets/Human_non_intestine_datasets/Qilu_Otorhinolaryngology_surgery_data/Matrix_20220809/'\n",
    "file_output_h5ad = '/mnt/data2/Datasets/Human_non_intestine_datasets/Qilu_Otorhinolaryngology_surgery_data/H5ad/'\n",
    "dataset_name = 'Qilu_'\n",
    "adata_name = 'Qilu_Otorhinolaryngology'\n",
    "dataset_output = '/mnt/data2/Datasets/Human_non_intestine_datasets/Qilu_Otorhinolaryngology_surgery_data/dataset_output/'\n",
    "joint = 'outer' # 此数据集每个样本的基因数都不同"
   ]
  },
  {
   "cell_type": "code",
   "execution_count": null,
   "id": "f1cb9de6",
   "metadata": {},
   "outputs": [],
   "source": [
    "##  Integration the matrices of 10x format and rename the barcodes.\n",
    "\n",
    "# AnnData object with n_obs × n_vars = 85162 × 27319\n",
    "adata = solution_concatenate_10x(file_path, file_output_h5ad, dataset_name, dataset_output, adata_name, joint = 'outer')"
   ]
  },
  {
   "cell_type": "code",
   "execution_count": null,
   "id": "2daa5e13",
   "metadata": {},
   "outputs": [],
   "source": [
    "adata.var = adata.var[[]]\n",
    "adata"
   ]
  },
  {
   "cell_type": "code",
   "execution_count": null,
   "id": "52da09c8",
   "metadata": {},
   "outputs": [],
   "source": [
    "adata.write('/mnt/data2/Datasets/Human_non_intestine_datasets/Qilu_Otorhinolaryngology_surgery_data/dataset_output/Qilu_Otorhinolaryngology_outer_raw.h5ad')"
   ]
  },
  {
   "cell_type": "code",
   "execution_count": null,
   "id": "499bba3c",
   "metadata": {},
   "outputs": [],
   "source": [
    "file_name_list = file_name(file_path)"
   ]
  },
  {
   "cell_type": "code",
   "execution_count": null,
   "id": "c8acf29c",
   "metadata": {},
   "outputs": [],
   "source": [
    "adata = concatenate_samples(file_name_list, file_output_h5ad)\n",
    "adata.var = adata.var[[]]\n",
    "adata"
   ]
  },
  {
   "cell_type": "code",
   "execution_count": null,
   "id": "22ccdd9c",
   "metadata": {},
   "outputs": [],
   "source": [
    "adata.obs"
   ]
  },
  {
   "cell_type": "code",
   "execution_count": null,
   "id": "e0a84f23",
   "metadata": {},
   "outputs": [],
   "source": [
    "## Add the meta-data\n",
    "## 数据集来源、物种、样本批次、受试者编号、器官、定位、健康情况、疾病状态、发育状态、是否核测序\n",
    "## 注意，所有Term的内容全部首字母大写\n",
    "\n",
    "# get the list of barcodes' name\n",
    "obs_name_list = adata.obs_names.to_list()\n",
    "obs_name_list = [i.split(\".\") for i in obs_name_list]\n",
    "\n",
    "# dataset for for changing gene symbols\n",
    "dataset_name_list = []\n",
    "for i in obs_name_list:\n",
    "    j = 'Qilu_Otorhinolaryngology'\n",
    "    dataset_name_list.append(j)\n",
    "    \n",
    "adata.obs['dataset'] = dataset_name_list\n",
    "\n",
    "\n",
    "# batch information for batch correction\n",
    "batch_name_list = []\n",
    "for i in obs_name_list:\n",
    "    j = i[0]\n",
    "    batch_name_list.append(j)\n",
    "    \n",
    "adata.obs['batch'] = batch_name_list\n",
    "adata.obs['batch_name'] = adata.obs['batch']\n",
    "\n",
    "\"\"\"\n",
    "# patient_id\n",
    "id_name_list = []\n",
    "for i in obs_name_list:\n",
    "    j = 'Qilu_patient' + (i[0].split('_'))[1]\n",
    "    id_name_list.append(j)\n",
    "    \n",
    "adata.obs['patient_id'] = id_name_list\n",
    "\"\"\"\n",
    "\n",
    "# Health\n",
    "Health_name_list = []\n",
    "for i in obs_name_list:\n",
    "    if ((i[0].split('_'))[1]).split('-')[0] == '4144':\n",
    "        j = 'healthy control'\n",
    "    else:\n",
    "        j = 'polyp'\n",
    "        \n",
    "    Health_name_list.append(j)\n",
    "    \n",
    "adata.obs['Health'] = Health_name_list\n",
    "\n",
    "# Disease_state\n",
    "Disease_name_list = []\n",
    "for i in obs_name_list:\n",
    "    if ((i[0].split('_'))[1]).split('-')[0] in ['0222','3604','3610','4070','4073','4121','4142']:\n",
    "        j = 'polyp'\n",
    "    elif ((i[0].split('_'))[1]).split('-')[0] in ['3615']:\n",
    "        j = 'edematous'\n",
    "    else:\n",
    "        j = 'normal'\n",
    "        \n",
    "    Disease_name_list.append(j)\n",
    "    \n",
    "adata.obs['Disease_state'] = Disease_name_list\n",
    "\n",
    "tissue_name_list = []\n",
    "for i in obs_name_list:\n",
    "    if ((i[0].split('_'))[1]).split('-')[0] in ['0222','3604','3610','4070','4073','4121','4142']:\n",
    "        j = 'polyp'\n",
    "    elif ((i[0].split('_'))[1]).split('-')[0] in ['0224','3615','4071']:\n",
    "        j = 'middle turbinate'\n",
    "    else:\n",
    "        j = 'inferior turbinate'\n",
    "        \n",
    "    tissue_name_list.append(j)\n",
    "    \n",
    "adata.obs['tissue'] = tissue_name_list\n",
    "\n",
    "adata.obs"
   ]
  },
  {
   "cell_type": "code",
   "execution_count": null,
   "id": "41ab7390",
   "metadata": {},
   "outputs": [],
   "source": [
    "Groups_tab_1 = pd.crosstab(index=adata.obs['batch_name'],  # Make a crosstab\n",
    "                columns=adata.obs['tissue'], margins=True)  # Name the count column\n",
    "Groups_tab_1"
   ]
  },
  {
   "cell_type": "code",
   "execution_count": null,
   "id": "7348b0ee",
   "metadata": {},
   "outputs": [],
   "source": [
    "# 添加过Meta-data的h5ad文件\n",
    "adata.write('/mnt/data2/Datasets/Human_non_intestine_datasets/Qilu_Otorhinolaryngology_surgery_data/dataset_output/Qilu_Otorhinolaryngology_outer_metadata.h5ad')\n",
    "adata"
   ]
  },
  {
   "cell_type": "markdown",
   "id": "d0b351a8",
   "metadata": {},
   "source": [
    "# Doublet removal"
   ]
  },
  {
   "cell_type": "code",
   "execution_count": null,
   "id": "11b63d49",
   "metadata": {},
   "outputs": [],
   "source": [
    "# 函数定义\n",
    "def change_obs_index_v2(x):\n",
    "    \"\"\"\n",
    "    该函数用于修正concatenate样本或数据集后变更的barcodes名。\n",
    "    \"\"\"  \n",
    "    x = x[:-4]\n",
    "    return x\n",
    "\n",
    "def scr_doublets_removal(adata_file, adata_file_output):\n",
    "    \n",
    "    ## 读取adata\n",
    "    adata = sc.read(adata_file)\n",
    "    print('adata before doublet remove')    \n",
    "    print(adata)\n",
    "\n",
    "    ## 删除细胞数小于31的样本，因为Scrublet的设置（nPC=30）\n",
    "    Groups_tab_1 = pd.crosstab(index=adata.obs['batch_name'],  # Make a crosstab\n",
    "                    columns=adata.obs['tissue'], margins=True)  # Name the count column\n",
    "    few_cells_sample_list = Groups_tab_1[Groups_tab_1.loc[:, 'All']<31].index.to_list()\n",
    "    adata_index = adata.obs.loc[~adata.obs[\"batch_name\"].isin(few_cells_sample_list), :].index\n",
    "    adata = adata[adata_index, :]\n",
    "    print('adata after samples with few cells removed')\n",
    "    print(adata)\n",
    "    \n",
    "    ## Scrublet process\n",
    "    batch_name = adata.obs['batch_name'].cat.categories.to_list()\n",
    "    \n",
    "    sample_after_scrublet_list = []\n",
    "    THRs = []\n",
    "    \n",
    "    for i in batch_name:\n",
    "        adata_index = adata.obs.loc[adata.obs[\"batch_name\"].isin([i]),:].index\n",
    "        adata_single = adata[adata_index, :]\n",
    "\n",
    "        print('doublets removal ...')\n",
    "        scrub = scr.Scrublet(adata_single.X, expected_doublet_rate=0.1)\n",
    "        scores, doublets = scrub.scrub_doublets(log_transform = True)\n",
    "        \n",
    "        try:  # not always can calculate automatic threshold\n",
    "            THRs.append(scrub.threshold_)\n",
    "            print('Threshold found by scrublet')\n",
    "        except:\n",
    "            THRs.append(0.4)\n",
    "            print('No threshold found, assigning 0.4 to')\n",
    "            doublets = scrub.call_doublets(threshold=0.4) # so that it can make the plot\n",
    "\n",
    "        # scrub.plot_histogram();\n",
    "        list_doublet = []\n",
    "\n",
    "        for i in doublets:\n",
    "            if i:\n",
    "                j = 'doublet'\n",
    "            else:\n",
    "                j = 'single'\n",
    "\n",
    "            list_doublet.append(j)\n",
    "\n",
    "        adata_single.obs['Doublet_scrublet'] = list_doublet\n",
    "        adata_single.obs['Doublet_score_scrublet'] = scores\n",
    "        sample_after_scrublet_list.append(adata_single)\n",
    "        \n",
    "    # adata_single重新合并为一个adata，批次的上限为999\n",
    "    batch_list = []\n",
    "    \n",
    "    for i in range(len(batch_name)):\n",
    "        if i+1 < 10:\n",
    "            j = '00'+ str(i+1)\n",
    "        elif i+1 < 100:\n",
    "            j = '0'+ str(i+1)\n",
    "        else: \n",
    "            j = str(i+1)\n",
    "        batch_list.append(j)\n",
    "        \n",
    "    adata = sample_after_scrublet_list[0].concatenate(sample_after_scrublet_list[1:len(batch_list)],batch_categories=batch_list)\n",
    "    # 删除barcode name的尾部编号\n",
    "    adata.obs.rename(index=change_obs_index_v2,inplace=True)\n",
    "    \n",
    "    # doublet remove\n",
    "    adata_single_scrublet_index = adata.obs.loc[adata.obs[\"Doublet_scrublet\"].isin(['single']), :].index\n",
    "    adata_after_doublet_removed = adata[adata_single_scrublet_index, :]\n",
    "    \n",
    "    print('adata after doublet remove')    \n",
    "    print(adata_after_doublet_removed)\n",
    "    \n",
    "    adata_after_doublet_removed.write(adata_file_output)\n",
    "    \n",
    "    # return adata_after_doublet_removed"
   ]
  },
  {
   "cell_type": "code",
   "execution_count": null,
   "id": "abc07dee",
   "metadata": {},
   "outputs": [],
   "source": [
    "adata_file = '/mnt/data2/Datasets/Human_non_intestine_datasets/Qilu_Otorhinolaryngology_surgery_data/dataset_output/Qilu_Otorhinolaryngology_outer_metadata.h5ad'\n",
    "adata_out_file = '/mnt/data2/Datasets/Human_non_intestine_datasets/Qilu_Otorhinolaryngology_surgery_data/dataset_output/Qilu_Otorhinolaryngology_doublet_removal.h5ad'\n",
    "\n",
    "# AnnData object with n_obs × n_vars = 243709 × 53907 (5762 cells removed, 2.3%)\n",
    "scr_doublets_removal(adata_file,adata_out_file)"
   ]
  },
  {
   "cell_type": "markdown",
   "id": "46262896",
   "metadata": {},
   "source": [
    "# Quality control"
   ]
  },
  {
   "cell_type": "code",
   "execution_count": null,
   "id": "651d7745",
   "metadata": {},
   "outputs": [],
   "source": [
    "adata = sc.read('/mnt/data2/Datasets/Human_non_intestine_datasets/Qilu_Otorhinolaryngology_surgery_data/dataset_output/Qilu_Otorhinolaryngology_doublet_removal.h5ad')\n",
    "adata"
   ]
  },
  {
   "cell_type": "code",
   "execution_count": null,
   "id": "df1d8abf",
   "metadata": {},
   "outputs": [],
   "source": [
    "sc.pp.filter_cells(adata, min_genes=250)\n",
    "adata.var['mt'] = adata.var_names.str.startswith('MT-')\n",
    "adata.var['rp'] = adata.var_names.str.startswith((\"RPS\",\"RPL\"))\n",
    "sc.pp.calculate_qc_metrics(adata, qc_vars=['mt'], percent_top=None, log1p=False, inplace=True)\n",
    "sc.pp.calculate_qc_metrics(adata, qc_vars=['rp'], percent_top=None, log1p=False, inplace=True)"
   ]
  },
  {
   "cell_type": "code",
   "execution_count": null,
   "id": "a565bff7",
   "metadata": {},
   "outputs": [],
   "source": [
    "adata"
   ]
  },
  {
   "cell_type": "code",
   "execution_count": null,
   "id": "5a5f48e3",
   "metadata": {},
   "outputs": [],
   "source": [
    "adata.obs"
   ]
  },
  {
   "cell_type": "code",
   "execution_count": null,
   "id": "844ee0b6",
   "metadata": {},
   "outputs": [],
   "source": [
    "sc.pl.highest_expr_genes(adata, n_top=20, )\n",
    "sc.pl.violin(adata, ['n_genes', 'total_counts', 'pct_counts_mt'],jitter=0.4, multi_panel=True)"
   ]
  },
  {
   "cell_type": "code",
   "execution_count": null,
   "id": "43af8139",
   "metadata": {},
   "outputs": [],
   "source": [
    "def quality_control(adata):\n",
    "    \n",
    "    # 剔除MT-基因\n",
    "    non_MT_genes_list = [name for name in adata.var_names if not name.startswith('MT-')]\n",
    "    adata = adata[:, non_MT_genes_list]\n",
    "    # adata = adata[adata.obs.pct_counts_mt < 10, :]\n",
    "    \n",
    "    # 剔除RP基因\n",
    "    non_RP_genes_list = [name for name in adata.var_names if not name.startswith((\"RPS\",\"RPL\"))]\n",
    "    adata = adata[:, non_RP_genes_list]\n",
    "    \n",
    "    sc.pp.filter_genes(adata, min_cells=20)\n",
    "    \n",
    "    return adata"
   ]
  },
  {
   "cell_type": "code",
   "execution_count": null,
   "id": "8356e7af",
   "metadata": {},
   "outputs": [],
   "source": [
    "adata = quality_control(adata)\n",
    "adata"
   ]
  },
  {
   "cell_type": "code",
   "execution_count": null,
   "id": "15b4ed76",
   "metadata": {},
   "outputs": [],
   "source": [
    "adata.write('/mnt/data2/Datasets/Human_non_intestine_datasets/Qilu_Otorhinolaryngology_surgery_data/dataset_output/Qilu_Otorhinolaryngology_doublet_removal.h5ad')"
   ]
  },
  {
   "cell_type": "code",
   "execution_count": null,
   "id": "d24f8f49",
   "metadata": {},
   "outputs": [],
   "source": [
    "adata_file = '/mnt/data2/Datasets/Human_non_intestine_datasets/Qilu_Otorhinolaryngology_surgery_data/dataset_output/Qilu_Otorhinolaryngology_doublet_removal.h5ad'\n",
    "\n",
    "adata = sc.read(adata_file)\n",
    "sc.pp.normalize_total(adata, target_sum=1e4)\n",
    "sc.pp.log1p(adata)\n",
    "adata.raw = adata\n",
    "adata.write('/mnt/data2/Datasets/Human_non_intestine_datasets/Qilu_Otorhinolaryngology_surgery_data/dataset_output/Normalized_all.h5ad')"
   ]
  },
  {
   "cell_type": "markdown",
   "id": "51ff27cf",
   "metadata": {},
   "source": [
    "# CellTypist"
   ]
  },
  {
   "cell_type": "code",
   "execution_count": null,
   "id": "2516ac4b",
   "metadata": {},
   "outputs": [],
   "source": [
    "adata"
   ]
  },
  {
   "cell_type": "code",
   "execution_count": null,
   "id": "b4b33b99",
   "metadata": {},
   "outputs": [],
   "source": [
    "import celltypist\n",
    "from celltypist import models"
   ]
  },
  {
   "cell_type": "code",
   "execution_count": null,
   "id": "09a42797",
   "metadata": {},
   "outputs": [],
   "source": [
    "models.download_models(force_update = True)"
   ]
  },
  {
   "cell_type": "code",
   "execution_count": null,
   "id": "a18db4f2",
   "metadata": {},
   "outputs": [],
   "source": [
    "models.models_path"
   ]
  },
  {
   "cell_type": "code",
   "execution_count": null,
   "id": "914c4d8d",
   "metadata": {},
   "outputs": [],
   "source": [
    "model = models.Model.load(model = 'Human_Lung_Atlas.pkl')\n",
    "#The model summary information.\n",
    "model"
   ]
  },
  {
   "cell_type": "code",
   "execution_count": null,
   "id": "b3f5251d",
   "metadata": {},
   "outputs": [],
   "source": [
    "#Examine cell types contained in the model.\n",
    "model.cell_types"
   ]
  },
  {
   "cell_type": "code",
   "execution_count": null,
   "id": "09bd22fd",
   "metadata": {},
   "outputs": [],
   "source": [
    "predictions = celltypist.annotate(adata, model = 'Human_Lung_Atlas.pkl', majority_voting = True, mode = 'best match')"
   ]
  },
  {
   "cell_type": "code",
   "execution_count": null,
   "id": "1539441d",
   "metadata": {},
   "outputs": [],
   "source": [
    "predictions.predicted_labels"
   ]
  },
  {
   "cell_type": "code",
   "execution_count": null,
   "id": "834d6f9a",
   "metadata": {},
   "outputs": [],
   "source": [
    "adata = predictions.to_adata()"
   ]
  },
  {
   "cell_type": "code",
   "execution_count": null,
   "id": "a00b9725",
   "metadata": {},
   "outputs": [],
   "source": [
    "adata"
   ]
  },
  {
   "cell_type": "code",
   "execution_count": null,
   "id": "2135b177",
   "metadata": {},
   "outputs": [],
   "source": [
    "adata.obs"
   ]
  },
  {
   "cell_type": "code",
   "execution_count": null,
   "id": "f29803e9",
   "metadata": {},
   "outputs": [],
   "source": [
    "adata.write('/mnt/data2/Datasets/Human_non_intestine_datasets/Qilu_Otorhinolaryngology_surgery_data/dataset_output/Normalized_celltypist.h5ad')"
   ]
  },
  {
   "cell_type": "markdown",
   "id": "55a0c9bb",
   "metadata": {},
   "source": [
    "# UMAP and CellTypist"
   ]
  },
  {
   "cell_type": "code",
   "execution_count": null,
   "id": "bd3cd3e7",
   "metadata": {},
   "outputs": [],
   "source": [
    "def cycle_score(adata, cycle_gene_file='/mnt/data/project/qilu_singlecell_1/ref_geneset/regev_lab_cell_cycle_genes.txt'):\n",
    "    cell_cycle_genes = [x.strip() for x in open(cycle_gene_file)]\n",
    "    s_genes = cell_cycle_genes[:43]\n",
    "    g2m_genes = cell_cycle_genes[43:]\n",
    "\n",
    "    cell_cycle_genes = [x for x in cell_cycle_genes if x in adata.var_names]\n",
    "    s_genes = [x for x in s_genes if x in adata.var_names]\n",
    "    g2m_genes = [x for x in g2m_genes if x in adata.var_names]\n",
    "\n",
    "    # sc.pp.scale(adata, zero_center=False) # 计算得分前的scale并非必须\n",
    "    sc.tl.score_genes_cell_cycle(adata, s_genes=s_genes, g2m_genes=g2m_genes)\n",
    "\n",
    "    adata_cc_genes = adata[:, cell_cycle_genes]\n",
    "    sc.tl.pca(adata_cc_genes)\n",
    "    sc.pl.pca_scatter(adata_cc_genes, color='phase')\n",
    "\n",
    "    return adata\n",
    "\n",
    "def EIS_score(adata):\n",
    "    # 请注意B的基因集会导致滤泡B细胞被归为MNPs区室，需根据CD79A表达来区别\n",
    "    pan_epi_marker = 'KRT8,EPCAM,KRT18,KRT19,CLDN3,CLDN7,ELF3,S100A6,C15orf48,CLDN4,SMIM22,S100A14,SPINK2'.split(',')\n",
    "    pan_T_ILCs_marker = 'TRAC,IL32,CD3D,CCL5,CD2,TRBC2,CD3E,CD3G,EVL,IL7R,CD7,HCST,KLRB1,LCK,FYB1,CXCR4,CORO1A,TRDC,GNLY,GZMA,IFNG,PRF1,TNF,CCL3,CCL4,XCL1,XCL2,NKG7,IL22,IL2RA,IL7R,IL23R'.split(',')\n",
    "    pan_B_marker = 'CD79A,IGHA1,MZB1,DERL3,IGHA2,HERPUD1,SSR4,TNFRSF17,SEC11C,UBE2J1,PRDX4,GNG7,XBP1,EAF2,PLPP5,CD27,IGLC3,SSR3,TNFRSF13B'.split(',')\n",
    "    pan_MNPs_marker = 'HLA-DRA,CST3,HLA-DPB1,CD74,HLA-DPA1,AIF1,LYZ,HLA-DQA1,C1QA,MS4A6A,HLA-DMA,C1QC,C1QB,FCGRT,DNASE1E3,LST1,SELENOP,FGL2,HLA-DMB,CTSB,GRN'.split(',')\n",
    "    pan_Mast_marker = 'TPSAB1,CPA3,TPSB2,CD9,HPGDS,ANXA1,NFKBIA,MS4A2,CD63,LAPTM4A,SRGN,LMNA,LTC4S,FCER1G,VWA5A,CTSG,KIT,CLU'.split(',')\n",
    "    pan_Stromal_marker = 'IGFBP7,IFITM3,SPARC,A2M,CALD1,GSN,LGALS1,VIM,SPARCL1,CXCL14,COL1A2,COL3A1,COL6A2,TIMP1,C1S,S100A13,C1R,PLAT,MFAP4,RARRES2,COL1A1'.split(',')\n",
    "    \n",
    "    pan_epi_marker = [x for x in pan_epi_marker if x in adata.var_names]\n",
    "    pan_T_ILCs_marker = [x for x in pan_T_ILCs_marker if x in adata.var_names]\n",
    "    pan_B_marker = [x for x in pan_B_marker if x in adata.var_names]\n",
    "    pan_MNPs_marker = [x for x in pan_MNPs_marker if x in adata.var_names]\n",
    "    pan_Mast_marker = [x for x in pan_Mast_marker if x in adata.var_names]\n",
    "    pan_Stromal_marker = [x for x in pan_Stromal_marker if x in adata.var_names]\n",
    "    # pan_all_marker = pan_epi_marker + pan_imm_marker + pan_str_marker\n",
    "\n",
    "    epi_genes_index = adata.var_names.isin(pan_epi_marker)\n",
    "    T_ILCs_genes_index = adata.var_names.isin(pan_T_ILCs_marker)\n",
    "    B_genes_index = adata.var_names.isin(pan_B_marker)\n",
    "    MNPs_genes_index = adata.var_names.isin(pan_MNPs_marker)\n",
    "    Mast_genes_index = adata.var_names.isin(pan_Mast_marker)\n",
    "    Stromal_genes_index = adata.var_names.isin(pan_Stromal_marker)\n",
    "    \n",
    "    # 计算区室评分\n",
    "\n",
    "    adata.obs['mean_epi_score'] = np.sum(adata[:, epi_genes_index].X, axis=1) / len(pan_epi_marker)\n",
    "    adata.obs['mean_T_ILCs_score'] = np.sum(adata[:, T_ILCs_genes_index].X, axis=1) / len(pan_T_ILCs_marker)\n",
    "    adata.obs['mean_B_score'] = np.sum(adata[:, B_genes_index].X, axis=1) / len(pan_B_marker)\n",
    "    adata.obs['mean_MNPs_score'] = np.sum(adata[:, MNPs_genes_index].X, axis=1) / len(pan_MNPs_marker)\n",
    "    adata.obs['mean_Mast_score'] = np.sum(adata[:, Mast_genes_index].X, axis=1) / len(pan_Mast_marker)\n",
    "    adata.obs['mean_Stromal_score'] = np.sum(adata[:, Stromal_genes_index].X, axis=1) / len(pan_Stromal_marker)\n",
    "    \n",
    "    # 获取每个细胞的三类区室的得分\n",
    "    compartments_values_list = adata.obs.loc[:, ['mean_epi_score', 'mean_T_ILCs_score', 'mean_B_score','mean_MNPs_score','mean_Mast_score','mean_Stromal_score']].values.tolist()\n",
    "\n",
    "    return adata, compartments_values_list\n",
    "\n",
    "def hvg_regress_scale(adata):\n",
    "    # 注意，HVG要求输入的矩阵必须是对数化处理的\n",
    "    sc.pp.highly_variable_genes(adata, min_mean=0.0125, max_mean=3, min_disp=0.5)\n",
    "    adata = adata[:, adata.var.highly_variable]\n",
    "    print(adata)\n",
    "    \n",
    "    # sc.pp.regress_out(adata, ['S_score', 'G2M_score'])\n",
    "    \n",
    "    sc.pp.scale(adata, zero_center=False)\n",
    "\n",
    "    return adata\n",
    "\n",
    "def progress_pca_bbknn_umap_tsne(adata, n_pcs=20, batch_key='bbknn_batch'):\n",
    "    ## 主成分分析降维\n",
    "    sc.tl.pca(adata, svd_solver='arpack')\n",
    "    # 在PCA坐标中绘制散点图\n",
    "    sc.pl.pca(adata)\n",
    "    # 可视化每个PC对数据总方差的贡献, 这为我们提供了有关为计算单元的邻域关系应考虑的PC数量的信息sc.tl.tsne()\n",
    "    sc.pl.pca_variance_ratio(adata, log=True)\n",
    "\n",
    "    # 使用bbknn算法处理批次效应(代替了neighbors)\n",
    "    # bbknn要求数据已经过标准化和主成分分析\n",
    "    adata.obs['bbknn_batch'] = [str(i)+'-'+str(j) for i,j in zip(adata.obs['dataset'], adata.obs['batch_name'])]\n",
    "    sc.external.pp.bbknn(adata, batch_key=batch_key, n_pcs=n_pcs)\n",
    "    \n",
    "    # 计算UMAP\n",
    "    sc.tl.umap(adata)\n",
    "    # sc.tl.tsne(adata, n_jobs=6)\n",
    "\n",
    "    return adata\n",
    "\n",
    "def progress_pca_harmony_umap(adata):\n",
    "    sc.tl.pca(adata, svd_solver='arpack')\n",
    "    sc.pl.pca(adata)\n",
    "    sc.pl.pca_variance_ratio(adata, log=True)\n",
    "\n",
    "    # Harmony处理批次效应\n",
    "    harmony_out = hm.run_harmony(adata.obsm['X_pca'], adata.obs, vars_use = ['dataset', 'batch_name'])\n",
    "    adata.obsm['X_pca_harmony'] = harmony_out.Z_corr.T\n",
    "    sc.pp.neighbors(adata, n_neighbors=10, use_rep='X_pca_harmony', n_pcs=20)\n",
    "    \n",
    "    # 计算UMAP\n",
    "    sc.tl.umap(adata)\n",
    "    # sc.tl.tsne(adata, n_jobs=6)\n",
    "\n",
    "    return adata\n",
    "\n",
    "def score_compartments(adata, compartments_values_list):\n",
    "    # 每个细胞的Compartments标签为得分最高的类\n",
    "    cell_compartments_list = []\n",
    "\n",
    "\n",
    "    for i in compartments_values_list:\n",
    "        a = np.where(i == np.max(i))\n",
    "        if a[0][0] == 0:\n",
    "            j = 'epi'\n",
    "        elif a[0][0] == 1:\n",
    "            j = 'T_ILCs'\n",
    "        elif a[0][0] == 2:\n",
    "            j = 'B'\n",
    "        if a[0][0] == 3:\n",
    "            j = 'MNPs'\n",
    "        elif a[0][0] == 4:\n",
    "            j = 'Mast'\n",
    "        elif a[0][0] == 5:\n",
    "            j = 'Stromal'\n",
    "\n",
    "        cell_compartments_list.append(j)\n",
    "\n",
    "    adata.obs['Compartments'] = cell_compartments_list\n",
    "\n",
    "    return adata\n",
    "\n",
    "def add_leiden(adata):\n",
    "\n",
    "    print(\"Performing clustering with a resolution of 0.5\")\n",
    "    sc.tl.leiden(adata, resolution=0.5)\n",
    "    adata.obs['leiden-all-0.5'] = adata.obs['leiden']\n",
    "\n",
    "    print(\"Performing clustering with a resolution of 1\")\n",
    "    sc.tl.leiden(adata, resolution=1)\n",
    "    adata.obs['leiden-all-1'] = adata.obs['leiden']\n",
    "\n",
    "    return adata"
   ]
  },
  {
   "cell_type": "code",
   "execution_count": null,
   "id": "e2fef24d",
   "metadata": {},
   "outputs": [],
   "source": [
    "adata = sc.read('/mnt/data2/Datasets/Human_non_intestine_datasets/Qilu_Otorhinolaryngology_surgery_data/dataset_output/Normalized_celltypist.h5ad')\n",
    "adata"
   ]
  },
  {
   "cell_type": "code",
   "execution_count": null,
   "id": "6ca1dd9e",
   "metadata": {},
   "outputs": [],
   "source": [
    "adata = sc.AnnData(X=adata.raw.X, var=adata.raw.var, obs = adata.obs)\n",
    "adata"
   ]
  },
  {
   "cell_type": "code",
   "execution_count": null,
   "id": "bc7a08f2",
   "metadata": {},
   "outputs": [],
   "source": [
    "adata = cycle_score(adata = adata)\n",
    "adata, compartments_values_list = EIS_score(adata)\n",
    "adata = hvg_regress_scale(adata)"
   ]
  },
  {
   "cell_type": "code",
   "execution_count": null,
   "id": "301e6868",
   "metadata": {},
   "outputs": [],
   "source": [
    "adata = progress_pca_bbknn_umap_tsne(adata)"
   ]
  },
  {
   "cell_type": "code",
   "execution_count": null,
   "id": "35d1dfab",
   "metadata": {},
   "outputs": [],
   "source": [
    "compartments_values_list = adata.obs.loc[:, ['mean_epi_score', 'mean_T_ILCs_score', 'mean_B_score','mean_MNPs_score','mean_Mast_score','mean_Stromal_score']].values.tolist()\n",
    "\n",
    "adata = score_compartments(adata, compartments_values_list = compartments_values_list)\n",
    "\n",
    "adata = add_leiden(adata)"
   ]
  },
  {
   "cell_type": "code",
   "execution_count": null,
   "id": "b14db6aa",
   "metadata": {
    "scrolled": false
   },
   "outputs": [],
   "source": [
    "sc.settings.set_figure_params(dpi=150, figsize = (4, 3), fontsize=12)\n",
    "sc.pl.umap(adata, color=['Health'])\n",
    "sc.pl.umap(adata, color=['Disease_state'])\n",
    "sc.pl.umap(adata, color=['tissue'])\n",
    "sc.pl.umap(adata, color=['Compartments'])\n",
    "sc.pl.umap(adata, color=['phase'])"
   ]
  },
  {
   "cell_type": "code",
   "execution_count": null,
   "id": "38bfcaa7",
   "metadata": {},
   "outputs": [],
   "source": [
    "sc.settings.set_figure_params(dpi=150, figsize = (4, 3), fontsize=10)\n",
    "sc.pl.umap(adata, color=['leiden-all-0.5'], add_outline=True,\n",
    "           palette=sc.pl.palettes.vega_20_scanpy, outline_width = (0.2, 0.05), frameon=False, legend_loc='on data')\n",
    "sc.pl.umap(adata, color=['leiden-all-1'], add_outline=True,\n",
    "           palette=sc.pl.palettes.vega_20_scanpy, outline_width = (0.2, 0.05), frameon=False, legend_loc='on data')"
   ]
  },
  {
   "cell_type": "code",
   "execution_count": null,
   "id": "90672ada",
   "metadata": {},
   "outputs": [],
   "source": [
    "sc.settings.set_figure_params(dpi=200, figsize = (4, 4), fontsize=7)\n",
    "sc.pl.umap(adata, color=['Compartments'], add_outline=True,frameon=False, title='')\n",
    "sc.pl.umap(adata, color=['majority_voting'], add_outline=True, palette=\"tab20\", frameon=False, title='')"
   ]
  },
  {
   "cell_type": "code",
   "execution_count": null,
   "id": "0aa99fe5",
   "metadata": {},
   "outputs": [],
   "source": [
    "sc.pl.umap(adata, color=['majority_voting'], add_outline=True, outline_width = (0.2, 0.05), palette=\"tab20\", frameon=False, legend_loc='on data')"
   ]
  },
  {
   "cell_type": "code",
   "execution_count": null,
   "id": "e5794425",
   "metadata": {},
   "outputs": [],
   "source": [
    "import cosg as cosg\n",
    "import time\n",
    "t0= time.clock()\n",
    "cosg.cosg(adata,\n",
    "    key_added='cosg',\n",
    "        mu=1,\n",
    "        n_genes_user=50,\n",
    "               groupby='majority_voting')\n",
    "runtime_cosg = time.clock() - t0\n",
    "\n",
    "sc.settings.set_figure_params(dpi=200, figsize = (4, 4), fontsize=20)\n",
    "sc.pl.rank_genes_groups_dotplot(adata,groupby='majority_voting',\n",
    "                                cmap='Spectral_r',\n",
    "                                 standard_scale='var',\n",
    "                                       n_genes=4,key='cosg')"
   ]
  },
  {
   "cell_type": "code",
   "execution_count": null,
   "id": "bfe67a92",
   "metadata": {},
   "outputs": [],
   "source": [
    "adata_raw = sc.read('/mnt/data2/Datasets/Human_non_intestine_datasets/Qilu_Otorhinolaryngology_surgery_data/dataset_output/Normalized_celltypist.h5ad')\n",
    "adata_raw = sc.AnnData(X=adata_raw.raw.X, var=adata_raw.raw.var, obs = adata_raw.obs)\n",
    "adata_raw"
   ]
  },
  {
   "cell_type": "code",
   "execution_count": null,
   "id": "311f8a4b",
   "metadata": {},
   "outputs": [],
   "source": [
    "adata.raw = adata_raw"
   ]
  },
  {
   "cell_type": "code",
   "execution_count": null,
   "id": "cb9c6d94",
   "metadata": {},
   "outputs": [],
   "source": [
    "adata.raw"
   ]
  },
  {
   "cell_type": "code",
   "execution_count": null,
   "id": "acc65e9a",
   "metadata": {},
   "outputs": [],
   "source": [
    "adata"
   ]
  },
  {
   "cell_type": "code",
   "execution_count": null,
   "id": "cb0aaa56",
   "metadata": {},
   "outputs": [],
   "source": [
    "adata.write('/mnt/data2/Datasets/Human_non_intestine_datasets/Qilu_Otorhinolaryngology_surgery_data/dataset_output/Qilu_Otorhinolaryngology_bbknn.h5ad')"
   ]
  },
  {
   "cell_type": "markdown",
   "id": "a1bfd01b",
   "metadata": {},
   "source": [
    "# Distinguishing cellular compartments"
   ]
  },
  {
   "cell_type": "code",
   "execution_count": null,
   "id": "7f5e3c9a",
   "metadata": {},
   "outputs": [],
   "source": [
    "adata = sc.read('/mnt/data2/Datasets/Human_non_intestine_datasets/Qilu_Otorhinolaryngology_surgery_data/dataset_output/Qilu_Otorhinolaryngology_bbknn.h5ad')\n",
    "adata"
   ]
  },
  {
   "cell_type": "code",
   "execution_count": null,
   "id": "ed25123d",
   "metadata": {},
   "outputs": [],
   "source": [
    "adata.obs['majority_voting'].cat.categories"
   ]
  },
  {
   "cell_type": "code",
   "execution_count": null,
   "id": "75cf833f",
   "metadata": {},
   "outputs": [],
   "source": [
    "adata_EPI_index = adata.obs.loc[adata.obs[\"majority_voting\"].isin(['Basal resting','Suprabasal','Club (nasal)','Goblet (nasal)','Ionocyte','Multiciliated (non-nasal)','SMG duct','SMG mucous','SMG serous (nasal)']), :].index\n",
    "adata_T_ILCs_index = adata.obs.loc[adata.obs[\"majority_voting\"].isin(['CD4 T cells','CD8 T cells','NK cells','T cells proliferating']), :].index\n",
    "adata_B_index = adata.obs.loc[adata.obs[\"majority_voting\"].isin(['B cells','Plasma cells']), :].index\n",
    "adata_MNPs_index = adata.obs.loc[adata.obs[\"majority_voting\"].isin(['Classical monocytes','DC1','DC2','Interstitial Mφ perivascular','Migratory DCs','Plasmacytoid DCs']), :].index\n",
    "adata_Mast_index = adata.obs.loc[adata.obs[\"majority_voting\"].isin(['Mast cells']), :].index\n",
    "adata_Stromal_index = adata.obs.loc[adata.obs[\"majority_voting\"].isin(['Adventitial fibroblasts','Alveolar fibroblasts',\n",
    "                                                                       'EC arterial','EC venous systemic','Lymphatic EC differentiating','Peribronchial fibroblasts','Pericytes','SM activated stress response','Smooth muscle']), :].index"
   ]
  },
  {
   "cell_type": "code",
   "execution_count": null,
   "id": "957f62b3",
   "metadata": {},
   "outputs": [],
   "source": [
    "adata_Imm_index = adata.obs.loc[adata.obs[\"majority_voting\"].isin(['CD4 T cells','CD8 T cells','NK cells','T cells proliferating',\n",
    "                                                                   'B cells','Plasma cells',\n",
    "                                                                   'Classical monocytes','DC1','DC2','Interstitial Mφ perivascular','Migratory DCs','Plasmacytoid DCs',\n",
    "                                                                   'Mast cells']), :].index"
   ]
  },
  {
   "cell_type": "code",
   "execution_count": null,
   "id": "1d3d0b11",
   "metadata": {},
   "outputs": [],
   "source": [
    "adata.obs['Compartments'] = 'Epithelium'\n",
    "adata.obs.at[adata_T_ILCs_index,'Compartments']='T/ILCs'\n",
    "adata.obs.at[adata_B_index,'Compartments']='B/Plasma cells'\n",
    "adata.obs.at[adata_MNPs_index,'Compartments']='MNPs'\n",
    "adata.obs.at[adata_Mast_index,'Compartments']='Mast cells'\n",
    "adata.obs.at[adata_Stromal_index,'Compartments']='Stromal cells'"
   ]
  },
  {
   "cell_type": "code",
   "execution_count": null,
   "id": "109ee719",
   "metadata": {},
   "outputs": [],
   "source": [
    "sc.settings.set_figure_params(dpi=200, figsize = (4, 4), fontsize=7)\n",
    "sc.pl.umap(adata, color=['Compartments'], add_outline=True,frameon=False, title='')"
   ]
  },
  {
   "cell_type": "code",
   "execution_count": null,
   "id": "ce626cbb",
   "metadata": {},
   "outputs": [],
   "source": [
    "# 82366\n",
    "adata_EPI = adata[adata_EPI_index, :]\n",
    "# 49530\n",
    "adata_T_ILCs = adata[adata_T_ILCs_index, :]\n",
    "# 12926\n",
    "adata_B = adata[adata_B_index, :]\n",
    "# 6859\n",
    "adata_MNPs = adata[adata_MNPs_index, :]\n",
    "# 4311\n",
    "adata_Mast = adata[adata_Mast_index, :]\n",
    "# 84422\n",
    "adata_Stromal = adata[adata_Stromal_index, :]"
   ]
  },
  {
   "cell_type": "code",
   "execution_count": null,
   "id": "8a2f94ef",
   "metadata": {},
   "outputs": [],
   "source": [
    "adata_IMM = adata[adata_Imm_index, :]\n",
    "adata_IMM"
   ]
  },
  {
   "cell_type": "markdown",
   "id": "64e5270e",
   "metadata": {},
   "source": [
    "## Write"
   ]
  },
  {
   "cell_type": "code",
   "execution_count": null,
   "id": "9faf7d40",
   "metadata": {},
   "outputs": [],
   "source": [
    "adata_EPI.write('/mnt/data2/Datasets/Human_non_intestine_datasets/Qilu_Otorhinolaryngology_surgery_data/dataset_output/EPI.h5ad')\n",
    "\n",
    "adata_T_ILCs.write('/mnt/data2/Datasets/Human_non_intestine_datasets/Qilu_Otorhinolaryngology_surgery_data/dataset_output/T_ILCs.h5ad')\n",
    "\n",
    "adata_B.write('/mnt/data2/Datasets/Human_non_intestine_datasets/Qilu_Otorhinolaryngology_surgery_data/dataset_output/B.h5ad')\n",
    "\n",
    "adata_MNPs.write('/mnt/data2/Datasets/Human_non_intestine_datasets/Qilu_Otorhinolaryngology_surgery_data/dataset_output/MNPs.h5ad')\n",
    "\n",
    "adata_Mast.write('/mnt/data2/Datasets/Human_non_intestine_datasets/Qilu_Otorhinolaryngology_surgery_data/dataset_output/Mast.h5ad')\n",
    "\n",
    "adata_Stromal.write('/mnt/data2/Datasets/Human_non_intestine_datasets/Qilu_Otorhinolaryngology_surgery_data/dataset_output/Stromal.h5ad')"
   ]
  },
  {
   "cell_type": "code",
   "execution_count": null,
   "id": "6fb27aee",
   "metadata": {},
   "outputs": [],
   "source": [
    "adata_IMM.write('/mnt/data2/Datasets/Human_non_intestine_datasets/Qilu_Otorhinolaryngology_surgery_data/dataset_output/IMM.h5ad')"
   ]
  },
  {
   "cell_type": "code",
   "execution_count": null,
   "id": "ea0aee2c",
   "metadata": {},
   "outputs": [],
   "source": [
    "adata.write('/mnt/data2/Datasets/Human_non_intestine_datasets/Qilu_Otorhinolaryngology_surgery_data/dataset_output/Qilu_Otorhinolaryngology_bbknn.h5ad')"
   ]
  },
  {
   "cell_type": "code",
   "execution_count": null,
   "id": "fe238e2d",
   "metadata": {},
   "outputs": [],
   "source": []
  },
  {
   "cell_type": "code",
   "execution_count": null,
   "id": "1ede87ca",
   "metadata": {},
   "outputs": [],
   "source": [
    "# 20231016\n",
    "adata = sc.read('/home/wangyue/basic-calculation_data/c_Project_outputs/qilu_CRSwNP/Qilu_Otorhinolaryngology_bbknn.h5ad')\n",
    "adata"
   ]
  },
  {
   "cell_type": "code",
   "execution_count": null,
   "id": "c407386c",
   "metadata": {},
   "outputs": [],
   "source": [
    "from matplotlib import cm, colors\n",
    "import colorcet as cc\n",
    "\n",
    "mymap = colors.LinearSegmentedColormap.from_list('my_colormap', cc.CET_L20)\n",
    "\n",
    "colors2 = mymap(np.linspace(0.2, 1, 128)) # 30%-100%\n",
    "colors3 = plt.cm.Greys_r(np.linspace(0.8,0.9,5))\n",
    "colorsComb = np.vstack([colors3, colors2])\n",
    "mymap = colors.LinearSegmentedColormap.from_list('my_colormap', colorsComb)"
   ]
  },
  {
   "cell_type": "code",
   "execution_count": null,
   "id": "bfcbfc2b",
   "metadata": {},
   "outputs": [],
   "source": [
    "sc.settings.set_figure_params(dpi=200, figsize = (5, 4.5), fontsize=15)\n",
    "# Epithelium\n",
    "sc.pl.umap(adata, color=['EPCAM','KRT8','KRT18','KRT19','PIGR'], add_outline=False, frameon=False,color_map = mymap)"
   ]
  },
  {
   "cell_type": "code",
   "execution_count": null,
   "id": "fcaaac95",
   "metadata": {},
   "outputs": [],
   "source": [
    "# Jose Ordovas-Montane et al., Nature 2018\n",
    "sc.settings.set_figure_params(dpi=200, figsize = (5, 4.5), fontsize=15)\n",
    "# Basal\n",
    "sc.pl.umap(adata, color=['S100A2','KRT5','KRT15','POSTN','MMP10','PERP','AQP3','EGR1'], add_outline=False, frameon=False,color_map = mymap)\n",
    "# Apical\n",
    "sc.pl.umap(adata, color=['SERPINB3','KRT19','S100A6','AGR2','ANXA1','SLPI','WFDC2','CLDN4'], add_outline=False, frameon=False,color_map = mymap)\n",
    "# Glandular\n",
    "sc.pl.umap(adata, color=['LYZ','SLPI','AZGP1','LTF'], add_outline=False, frameon=False,color_map = mymap)\n",
    "# Ciliated\n",
    "sc.pl.umap(adata, color=['CAPS','PIFO','TPPP3','SNTN'], add_outline=False, frameon=False,color_map = mymap)"
   ]
  },
  {
   "cell_type": "code",
   "execution_count": null,
   "id": "1f15f4e4",
   "metadata": {
    "scrolled": false
   },
   "outputs": [],
   "source": [
    "# L Sikkema, D Strobl et al., BioRxiv 2022\n",
    "sc.settings.set_figure_params(dpi=200, figsize = (5, 4.5), fontsize=15)\n",
    "# Basal\n",
    "sc.pl.umap(adata, color=['KRT15','KRT17','KRT5','DST'], add_outline=False, frameon=False,color_map = mymap)\n",
    "# Suprabasal\n",
    "sc.pl.umap(adata, color=['KRT5','SERPINB4','SERPINB13','IGFBP3'], add_outline=False, frameon=False,color_map = mymap)\n",
    "# Deuterosomal\n",
    "sc.pl.umap(adata, color=['CCNO','CDC20B','ZMYND10','KIF9'], add_outline=False, frameon=False,color_map = mymap)\n",
    "# Multiciliated\n",
    "sc.pl.umap(adata, color=['C20orf85','C9orf24','RSPH1','PIFO'], add_outline=False, frameon=False,color_map = mymap)\n",
    "\n",
    "# Club\n",
    "sc.pl.umap(adata, color=['ASRGL1','LYPD2','UGT2A1','TFCP2L1'], add_outline=False, frameon=False,color_map = mymap)\n",
    "# Goblet\n",
    "sc.pl.umap(adata, color=['LYPD2','PI3','MUC16','MUC5AC'], add_outline=False, frameon=False,color_map = mymap)\n",
    "# Transitional Club-AT2\n",
    "sc.pl.umap(adata, color=['SCGB3A2','MGP','SFTA1P','VIM'], add_outline=False, frameon=False,color_map = mymap)\n",
    "# Ionocyte\n",
    "sc.pl.umap(adata, color=['RARRES2','TMEM61','ASCL3','SCNN1B'], add_outline=False, frameon=False,color_map = mymap)\n",
    "\n",
    "# Tuft\n",
    "sc.pl.umap(adata, color=['STMN1','HES6','MARCKSL1','RASSF6'], add_outline=False, frameon=False,color_map = mymap)\n",
    "# Neuroendocrine\n",
    "sc.pl.umap(adata, color=['PCSK1N','GRP','CPE','CHGA'], add_outline=False, frameon=False,color_map = mymap)\n",
    "# SMG serous\n",
    "sc.pl.umap(adata, color=['LYZ','ZG16B','AZGP1','LTF'], add_outline=False, frameon=False,color_map = mymap)\n",
    "# SMG mucous\n",
    "sc.pl.umap(adata, color=['MUC5B','BPIFB2','AZGP1','FCGBP'], add_outline=False, frameon=False,color_map = mymap)\n",
    "# SMG duct\n",
    "sc.pl.umap(adata, color=['RARRES1','TCN1','SAA1','MIA'], add_outline=False, frameon=False,color_map = mymap)"
   ]
  },
  {
   "cell_type": "code",
   "execution_count": null,
   "id": "912ab303",
   "metadata": {},
   "outputs": [],
   "source": [
    "sc.pl.umap(adata, color=['KRT14','MYLK','MEG3','GEM'], add_outline=False, frameon=False)"
   ]
  },
  {
   "cell_type": "code",
   "execution_count": null,
   "id": "6524c40e",
   "metadata": {},
   "outputs": [],
   "source": []
  },
  {
   "cell_type": "code",
   "execution_count": null,
   "id": "49c87f5c",
   "metadata": {},
   "outputs": [],
   "source": []
  },
  {
   "cell_type": "code",
   "execution_count": null,
   "id": "246e209b",
   "metadata": {},
   "outputs": [],
   "source": []
  },
  {
   "cell_type": "code",
   "execution_count": null,
   "id": "dcb109a0",
   "metadata": {},
   "outputs": [],
   "source": []
  },
  {
   "cell_type": "code",
   "execution_count": null,
   "id": "fe374b8c",
   "metadata": {},
   "outputs": [],
   "source": []
  },
  {
   "cell_type": "code",
   "execution_count": null,
   "id": "538818bc",
   "metadata": {},
   "outputs": [],
   "source": []
  },
  {
   "cell_type": "code",
   "execution_count": null,
   "id": "12ec2179",
   "metadata": {},
   "outputs": [],
   "source": [
    "## cell annoation\n",
    "# 注：22 13定义为Immature enterocytes，似乎是分泌型前体细胞\n",
    "\n",
    "# Basal\n",
    "E01_index = adata.obs.loc[adata.obs[\"leiden-all-1\"].isin(['14']), :].index\n",
    "# Apical\n",
    "E02_index = adata.obs.loc[adata.obs[\"leiden-all-1\"].isin(['9']), :].index\n",
    "# Glandular\n",
    "E03_index = adata.obs.loc[adata.obs[\"leiden-all-1\"].isin(['5','7']), :].index\n",
    "# Ciliated\n",
    "E04_index = adata.obs.loc[adata.obs[\"leiden-all-1\"].isin(['17']), :].index\n",
    "# T-ILCs\n",
    "E05_index = adata.obs.loc[adata.obs[\"leiden-all-1\"].isin(['15','18','3','0','1']), :].index\n",
    "# B cells\n",
    "E06_index = adata.obs.loc[adata.obs[\"leiden-all-1\"].isin(['10']), :].index\n",
    "# Plasma B cells\n",
    "E07_index = adata.obs.loc[adata.obs[\"leiden-all-1\"].isin(['16']), :].index\n",
    "# MNPs\n",
    "E08_index = adata.obs.loc[adata.obs[\"leiden-all-1\"].isin(['11']), :].index\n",
    "# Mast cells\n",
    "E09_index = adata.obs.loc[adata.obs[\"leiden-all-1\"].isin(['19']), :].index\n",
    "\n",
    "# ACKR1+Endo\n",
    "E10_index = adata.obs.loc[adata.obs[\"leiden-all-1\"].isin(['2']), :].index\n",
    "# ACKR1-Endo\n",
    "E11_index = adata.obs.loc[adata.obs[\"leiden-all-1\"].isin(['6']), :].index\n",
    "# Glia\n",
    "E12_index = adata.obs.loc[adata.obs[\"leiden-all-1\"].isin(['20']), :].index\n",
    "# Pericytes/SMC\n",
    "E13_index = adata.obs.loc[adata.obs[\"leiden-all-1\"].isin(['4','13']), :].index\n",
    "# Fibroblast\n",
    "E14_index = adata.obs.loc[adata.obs[\"leiden-all-1\"].isin(['8']), :].index\n",
    "# POSTN+ Fibroblast\n",
    "E15_index = adata.obs.loc[adata.obs[\"leiden-all-1\"].isin(['12']), :].index"
   ]
  },
  {
   "cell_type": "code",
   "execution_count": null,
   "id": "52e99f20",
   "metadata": {},
   "outputs": [],
   "source": [
    "############################################### Figure1A ######################################################\n",
    "adata.obs['cluster_figure1A'] = 'C01-E01-Basal cells'\n",
    "adata.obs.at[E02_index,'cluster_figure1A']='C01-E02-Apical cells'\n",
    "adata.obs.at[E03_index,'cluster_figure1A']='C01-E03-Glandular cells'\n",
    "adata.obs.at[E04_index,'cluster_figure1A']='C01-E04-Ciliated cells'\n",
    "adata.obs.at[E05_index,'cluster_figure1A']='C02-T_ILCs'\n",
    "adata.obs.at[E06_index,'cluster_figure1A']='C03-B01-B cells'\n",
    "adata.obs.at[E07_index,'cluster_figure1A']='C03-B02-Plasma cells'\n",
    "adata.obs.at[E08_index,'cluster_figure1A']='C04-MNPs'\n",
    "adata.obs.at[E09_index,'cluster_figure1A']='C05-Mast cells'\n",
    "adata.obs.at[E10_index,'cluster_figure1A']='C06-S01-ACKR1+Endo'\n",
    "adata.obs.at[E11_index,'cluster_figure1A']='C06-S02-ACKR1-Endo'\n",
    "adata.obs.at[E12_index,'cluster_figure1A']='C06-S03-Glia cells'\n",
    "adata.obs.at[E13_index,'cluster_figure1A']='C06-S04-Pericytes/SMC'\n",
    "adata.obs.at[E14_index,'cluster_figure1A']='C06-S05-Fibroblast'\n",
    "adata.obs.at[E15_index,'cluster_figure1A']='C06-S06-POSTN+ Fibroblast'"
   ]
  },
  {
   "cell_type": "code",
   "execution_count": null,
   "id": "cd2dc3ee",
   "metadata": {},
   "outputs": [],
   "source": [
    "sc.settings.set_figure_params(dpi=300, figsize = (4, 3), fontsize=7)\n",
    "sc.pl.umap(adata, color=['cluster_figure1A'], add_outline=True, title='',\n",
    "           palette=sc.pl.palettes.vega_20_scanpy, outline_width = (0.2, 0.05), frameon=False)"
   ]
  },
  {
   "cell_type": "code",
   "execution_count": null,
   "id": "4fcc3dde",
   "metadata": {},
   "outputs": [],
   "source": [
    "from matplotlib import cm, colors\n",
    "sc.settings.set_figure_params(dpi=400, figsize = (4, 4), fontsize=15)\n",
    "\n",
    "colors2 = plt.cm.plasma(np.linspace(0, 1, 128))\n",
    "colors3 = plt.cm.Greys_r(np.linspace(0.7,0.8,10))\n",
    "colorsComb = np.vstack([colors3, colors2])\n",
    "mymap = colors.LinearSegmentedColormap.from_list('my_colormap', colorsComb)"
   ]
  },
  {
   "cell_type": "code",
   "execution_count": null,
   "id": "93eb3db6",
   "metadata": {},
   "outputs": [],
   "source": [
    "sc.settings.set_figure_params(dpi=300, figsize = (4, 3), fontsize=15)"
   ]
  },
  {
   "cell_type": "code",
   "execution_count": null,
   "id": "e1ebdb7a",
   "metadata": {},
   "outputs": [],
   "source": [
    "sc.pl.umap(adata, color=['VDR','NR1H4','NR1H3'], add_outline=False, frameon=False,color_map = mymap)"
   ]
  },
  {
   "cell_type": "code",
   "execution_count": null,
   "id": "cd9989c0",
   "metadata": {},
   "outputs": [],
   "source": [
    "sc.pl.umap(adata, color=['ALX1','GPR87','GSDMD','ADAMTS4'], add_outline=False, frameon=False,color_map = mymap)"
   ]
  },
  {
   "cell_type": "code",
   "execution_count": null,
   "id": "ec2bf852",
   "metadata": {},
   "outputs": [],
   "source": [
    "sc.pl.umap(adata,color=['CD79A','CAMP','IGHA1'], add_outline=False, frameon=False,color_map = mymap)\n",
    "sc.pl.umap(adata,color=['TPSAB1','GPR42','FFAR3'], add_outline=False, frameon=False,color_map = mymap)"
   ]
  },
  {
   "cell_type": "code",
   "execution_count": null,
   "id": "783287fc",
   "metadata": {},
   "outputs": [],
   "source": [
    "adata.obs"
   ]
  },
  {
   "cell_type": "code",
   "execution_count": null,
   "id": "37a191b1",
   "metadata": {},
   "outputs": [],
   "source": [
    "annotation = 'cluster_figure1A'\n",
    "phenotype = 'tissue'\n",
    "\n",
    "ann_list = adata.obs[annotation].to_list()\n",
    "phenotype_list = adata.obs[phenotype].to_list()\n",
    "\n",
    "phe_Ann=[phenotype_list[i]+ '-' + ann_list[i] for i in range(min(len(phenotype_list),len(ann_list)))]\n",
    "Ann_phe=[ann_list[i]+ '-' + phenotype_list[i] for i in range(min(len(phenotype_list),len(ann_list)))]\n",
    "\n",
    "adata.obs['Ann_phe'] = Ann_phe\n",
    "adata.obs['phe_Ann'] = phe_Ann"
   ]
  },
  {
   "cell_type": "code",
   "execution_count": null,
   "id": "b4c2a162",
   "metadata": {},
   "outputs": [],
   "source": [
    "adata.obs['Ann_phe'] = adata.obs['Ann_phe'].astype(\"category\")\n",
    "adata.obs['Ann_phe'].cat.categories.to_list()"
   ]
  },
  {
   "cell_type": "code",
   "execution_count": null,
   "id": "b3491ef0",
   "metadata": {},
   "outputs": [],
   "source": [
    "adata.obs['phe_Ann'] = adata.obs['phe_Ann'].astype(\"category\")\n",
    "adata.obs['phe_Ann'].cat.categories.to_list()"
   ]
  },
  {
   "cell_type": "code",
   "execution_count": null,
   "id": "876bbc09",
   "metadata": {},
   "outputs": [],
   "source": [
    "sc.settings.set_figure_params(fontsize=15)\n",
    "marker_gene_dict = ['GPR42','FFAR3','CAMP','NR1H4','NR1H3','VDR','WFDC2','LCN2','PLA2G2A']\n",
    "# 上皮细胞，分肠段，表型+类型\n",
    "mp = sc.pl.dotplot(adata, \n",
    "              marker_gene_dict, \n",
    "              'Ann_phe', \n",
    "              dendrogram=False, \n",
    "              figsize=(5,15),\n",
    "              use_raw=True,\n",
    "              cmap = 'RdYlBu_r',\n",
    "              var_group_rotation=45,\n",
    "              swap_axes=False,\n",
    "              standard_scale='var',\n",
    "              colorbar_title='Scaled expression in var',\n",
    "              return_fig=True\n",
    "              # , save='_' + sample_name + '_fig11.png'\n",
    "             ) \n",
    "mp.add_totals().style(grid=True).show()"
   ]
  },
  {
   "cell_type": "code",
   "execution_count": null,
   "id": "9d3b0bf1",
   "metadata": {},
   "outputs": [],
   "source": [
    "sc.settings.set_figure_params(fontsize=15)\n",
    "marker_gene_dict = ['ALX1','GPR87','GSDMD','ADAMTS4']\n",
    "# 上皮细胞，分肠段，表型+类型\n",
    "mp = sc.pl.dotplot(adata, \n",
    "              marker_gene_dict, \n",
    "              'Ann_phe', \n",
    "              dendrogram=False, \n",
    "              figsize=(5,15),\n",
    "              use_raw=True,\n",
    "              cmap = 'RdYlBu_r',\n",
    "              var_group_rotation=45,\n",
    "              swap_axes=False,\n",
    "              standard_scale='var',\n",
    "              colorbar_title='Scaled expression in var',\n",
    "              return_fig=True\n",
    "              # , save='_' + sample_name + '_fig11.png'\n",
    "             ) \n",
    "mp.add_totals().style(grid=True).show()"
   ]
  },
  {
   "cell_type": "code",
   "execution_count": null,
   "id": "96d915bc",
   "metadata": {},
   "outputs": [],
   "source": [
    "sc.settings.set_figure_params(fontsize=15)\n",
    "marker_gene_dict = ['ALX1','GPR87','GSDMD','ADAMTS4']\n",
    "# 上皮细胞，分肠段，表型+类型\n",
    "mp = sc.pl.dotplot(adata, \n",
    "              marker_gene_dict, \n",
    "              'phe_Ann', \n",
    "              dendrogram=False, \n",
    "              # figsize=(21,10),\n",
    "              use_raw=True,\n",
    "              cmap = 'RdYlBu_r',\n",
    "              var_group_rotation=45,\n",
    "              swap_axes=False,\n",
    "              standard_scale='var',\n",
    "              colorbar_title='Scaled expression in var',\n",
    "              return_fig=True\n",
    "              # , save='_' + sample_name + '_fig11.png'\n",
    "             ) \n",
    "mp.add_totals().style(grid=True).show()"
   ]
  },
  {
   "cell_type": "code",
   "execution_count": null,
   "id": "f7d0d4be",
   "metadata": {},
   "outputs": [],
   "source": [
    "marker_gene_dict = ['ALX1','GPR87','GSDMD','ADAMTS4']\n",
    "\n",
    "sc.settings.set_figure_params(fontsize=15)\n",
    "sc.pl.dotplot(adata, \n",
    "              marker_gene_dict, \n",
    "              'cluster_figure1A', \n",
    "              dendrogram=True,\n",
    "              figsize=(5,8),\n",
    "              # , save='_' + sample_name + '_fig11.png'\n",
    "             ) "
   ]
  },
  {
   "cell_type": "code",
   "execution_count": null,
   "id": "0f45d26b",
   "metadata": {},
   "outputs": [],
   "source": [
    "sc.pl.umap(adata, color=['tissue'], add_outline=True, title='',\n",
    "           palette=sc.pl.palettes.vega_20_scanpy, outline_width = (0.2, 0.05), frameon=False)"
   ]
  },
  {
   "cell_type": "code",
   "execution_count": null,
   "id": "81baa9c4",
   "metadata": {},
   "outputs": [],
   "source": [
    "Groups_tab_1 = pd.crosstab(index=adata.obs['tissue'],  # Make a crosstab\n",
    "                        columns=adata.obs['cluster_figure1A'], margins=True)               # Name the count column\n",
    "MyTab_1= Groups_tab_1.div(Groups_tab_1[\"All\"], axis=0)\n",
    "MyTab2_1 = MyTab_1.drop(columns=\"All\")\n",
    "MyTab2_1 = MyTab2_1.drop(index=\"All\")\n",
    "MyTab2_1.T"
   ]
  },
  {
   "cell_type": "code",
   "execution_count": null,
   "id": "b1950a28",
   "metadata": {},
   "outputs": [],
   "source": [
    "#categories = IMM_group[::-1]\n",
    "\n",
    "MyTab2_1.columns = pd.CategoricalIndex(MyTab2_1.columns.values)\n",
    "\n",
    "# Sort the columns (axis=1) by the new categorical ordering\n",
    "MyTab2_1 = MyTab2_1.sort_index(axis=1)\n",
    "\n",
    "ax = MyTab2_1.plot.bar(\n",
    "            figsize=(3.7,5),\n",
    "            stacked=True,\n",
    "            edgecolor = '#000000',\n",
    "            linewidth=0.4,\n",
    "            width=0.8, \n",
    "            fontsize=10,\n",
    "            # color={\"1-Duodenum\": \"#393b79\",\"2-Jejunum\": \"#8ca252\",\"3-Ileum\": \"#e7ba52\", \"4-Colon\": \"#e7969c\", \"5-Rectum\": \"#de9ed6\"}\n",
    "             )\n",
    "\n",
    "\n",
    "plt.title(\"\", fontsize=12)\n",
    "plt.ylabel(\"Fraction of cells\", fontsize=12)\n",
    "plt.xlabel(\"\", fontsize=12)\n",
    "plt.ylim=1.0\n",
    "\n",
    "#plt.gca().get_legend().remove() #remove legend\n",
    "# plt.legend(categories, loc='center left', bbox_to_anchor=(1, 0.6), fontsize=12)\n",
    "# plt.savefig('Proportion of clusters accross organs.png')\n",
    "# 去除刻度\n",
    "#plt.xticks([])\n",
    "#plt.yticks([])\n",
    "# ax.tick_params(bottom=False, top=False, left=False, right=False)\n",
    "handles, labels = ax.get_legend_handles_labels()\n",
    "ax.legend(reversed(handles), reversed(labels), loc='center left', bbox_to_anchor=(1, 0.6), fontsize=8)\n",
    "plt.grid(False)\n",
    "\n",
    "plt.show()"
   ]
  },
  {
   "cell_type": "code",
   "execution_count": null,
   "id": "3d8bbcbd",
   "metadata": {
    "scrolled": false
   },
   "outputs": [],
   "source": [
    "sc.pl.umap(adata,color=['CD79A','IGHA1','MZB1'])  # B cells\n",
    "sc.pl.umap(adata,color=['CD3D','CD3E','IL7R'])    # T cells/NKs\n",
    "sc.pl.umap(adata,color=['LYZ','CD74','C1QC'])     # MNPs\n",
    "sc.pl.umap(adata,color=['TPSAB1','KIT','CLU'])   # Mast cells\n",
    "sc.pl.umap(adata,color=['EPCAM','KRT18','KRT8'])  # Epithelial cells\n",
    "sc.pl.umap(adata,color=['COL1A1','CXCL14','MEIS3'])# Fibroblasts\n",
    "sc.pl.umap(adata,color=['PLVAP','CD320','LYVE1'])   # Endothelial cells/Lymphatic ~\n",
    "sc.pl.umap(adata,color=['S100B','CRYAB','NRXN1'])  # Glia cells"
   ]
  },
  {
   "cell_type": "code",
   "execution_count": null,
   "id": "178793d0",
   "metadata": {},
   "outputs": [],
   "source": [
    "adata_EPI_index = adata.obs.loc[adata.obs[\"leiden-all-1\"].isin(['9','14','17','5','7']), :].index\n",
    "adata_T_ILCs_index = adata.obs.loc[adata.obs[\"leiden-all-1\"].isin(['15','18','3','0','1']), :].index\n",
    "adata_B_index = adata.obs.loc[adata.obs[\"leiden-all-1\"].isin(['10','16']), :].index\n",
    "adata_MNPs_index = adata.obs.loc[adata.obs[\"leiden-all-1\"].isin(['11']), :].index\n",
    "adata_Mast_index = adata.obs.loc[adata.obs[\"leiden-all-1\"].isin(['19']), :].index\n",
    "adata_Stromal_index = adata.obs.loc[adata.obs[\"leiden-all-1\"].isin(['2','6','20','4','13','8','12']), :].index\n",
    "\n",
    "adata_Fibro_index = adata.obs.loc[adata.obs[\"leiden-all-1\"].isin(['4','8','12','13']), :].index\n",
    "adata_Endo_index = adata.obs.loc[adata.obs[\"leiden-all-1\"].isin(['2','6']), :].index\n",
    "adata_Glia_index = adata.obs.loc[adata.obs[\"leiden-all-1\"].isin(['20']), :].index"
   ]
  },
  {
   "cell_type": "code",
   "execution_count": null,
   "id": "a847f259",
   "metadata": {},
   "outputs": [],
   "source": [
    "# 17853\n",
    "adata_EPI = adata[adata_EPI_index, :]\n",
    "# 26081\n",
    "adata_T_ILCs = adata[adata_T_ILCs_index, :]\n",
    "# 4618\n",
    "adata_B = adata[adata_B_index, :]\n",
    "# 2981\n",
    "adata_MNPs = adata[adata_MNPs_index, :]\n",
    "# 1073\n",
    "adata_Mast = adata[adata_Mast_index, :]\n",
    "# 28155\n",
    "adata_Stromal = adata[adata_Stromal_index, :]\n",
    "\n",
    "# 15673\n",
    "adata_Fibro = adata[adata_Fibro_index, :]\n",
    "# 12076\n",
    "adata_Endo = adata[adata_Endo_index, :]\n",
    "# 406\n",
    "adata_Glia = adata[adata_Glia_index, :]"
   ]
  },
  {
   "cell_type": "code",
   "execution_count": null,
   "id": "73e3c41b",
   "metadata": {},
   "outputs": [],
   "source": [
    "adata_EPI.write('/mnt/data2/Datasets/Human_non_intestine_datasets/Qilu_Otorhinolaryngology_surgery_data/dataset_output/EPI.h5ad')\n",
    "\n",
    "adata_T_ILCs.write('/mnt/data2/Datasets/Human_non_intestine_datasets/Qilu_Otorhinolaryngology_surgery_data/dataset_output/T_ILCs.h5ad')\n",
    "\n",
    "adata_B.write('/mnt/data2/Datasets/Human_non_intestine_datasets/Qilu_Otorhinolaryngology_surgery_data/dataset_output/B.h5ad')\n",
    "\n",
    "adata_MNPs.write('/mnt/data2/Datasets/Human_non_intestine_datasets/Qilu_Otorhinolaryngology_surgery_data/dataset_output/MNPs.h5ad')\n",
    "\n",
    "adata_Mast.write('/mnt/data2/Datasets/Human_non_intestine_datasets/Qilu_Otorhinolaryngology_surgery_data/dataset_output/Mast.h5ad')\n",
    "\n",
    "adata_Stromal.write('/mnt/data2/Datasets/Human_non_intestine_datasets/Qilu_Otorhinolaryngology_surgery_data/dataset_output/Stromal.h5ad')"
   ]
  }
 ],
 "metadata": {
  "kernelspec": {
   "display_name": "Python [conda env:scanpy37]",
   "language": "python",
   "name": "conda-env-scanpy37-py"
  },
  "language_info": {
   "codemirror_mode": {
    "name": "ipython",
    "version": 3
   },
   "file_extension": ".py",
   "mimetype": "text/x-python",
   "name": "python",
   "nbconvert_exporter": "python",
   "pygments_lexer": "ipython3",
   "version": "3.7.12"
  },
  "toc": {
   "base_numbering": 1,
   "nav_menu": {},
   "number_sections": true,
   "sideBar": true,
   "skip_h1_title": false,
   "title_cell": "Table of Contents",
   "title_sidebar": "Contents",
   "toc_cell": false,
   "toc_position": {
    "height": "calc(100% - 180px)",
    "left": "10px",
    "top": "150px",
    "width": "165px"
   },
   "toc_section_display": true,
   "toc_window_display": false
  }
 },
 "nbformat": 4,
 "nbformat_minor": 5
}
