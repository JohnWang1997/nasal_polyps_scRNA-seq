{
 "cells": [
  {
   "cell_type": "code",
   "execution_count": null,
   "id": "2f358bc6",
   "metadata": {},
   "outputs": [],
   "source": [
    "#!/usr/bin/env python\n",
    "# -*- coding: utf-8 -*-\n",
    "import numpy as np\n",
    "import pandas as pd\n",
    "import scanpy as sc\n",
    "import anndata\n",
    "import bbknn\n",
    "import os\n",
    "from scipy import sparse\n",
    "import matplotlib.pyplot as plt\n",
    "# from scanpy_base_moudle_update2 import *\n",
    "# import scrublet as scr\n",
    "import datetime\n",
    "import harmonypy as hm\n",
    "\n",
    "sc.settings.verbosity = 3\n",
    "#sc.logging.print_versions()\n",
    "# 设置图片的分辨率以及其他样式\n",
    "sc.settings.set_figure_params(dpi=150, figsize = (4, 3), fontsize=12)\n",
    "\n",
    "import matplotlib.font_manager\n",
    "flist = matplotlib.font_manager.get_fontconfig_fonts()\n",
    "names = [matplotlib.font_manager.FontProperties(fname=fname).get_name() for fname in flist]\n",
    "print(names)\n",
    "\n",
    "params={\n",
    "        #'font.style':'italic',\n",
    "        'font.weight':'normal',    #or 'blod'\n",
    "        }\n",
    "plt.rcParams.update(params)\n",
    "\n",
    "plt.rcParams['font.family']='Arial'"
   ]
  },
  {
   "cell_type": "code",
   "execution_count": null,
   "id": "3e8d2669",
   "metadata": {},
   "outputs": [],
   "source": [
    "adata = sc.read('/mnt/data2/Datasets/Human_non_intestine_datasets/Qilu_Otorhinolaryngology_surgery_data/dataset_output/EPI.h5ad')\n",
    "adata"
   ]
  },
  {
   "cell_type": "markdown",
   "id": "51abfa5e",
   "metadata": {},
   "source": [
    "# Annotation"
   ]
  },
  {
   "cell_type": "markdown",
   "id": "20ae95ed",
   "metadata": {},
   "source": [
    "## BBKNN"
   ]
  },
  {
   "cell_type": "code",
   "execution_count": null,
   "id": "1eb3e77d",
   "metadata": {},
   "outputs": [],
   "source": [
    "def progress_pca_bbknn_umap_tsne(adata, n_pcs=20, batch_key='batch_name'):\n",
    "    ## 主成分分析降维\n",
    "    #sc.tl.pca(adata, svd_solver='arpack')\n",
    "    # 在PCA坐标中绘制散点图\n",
    "    #sc.pl.pca(adata)\n",
    "    # 可视化每个PC对数据总方差的贡献, 这为我们提供了有关为计算单元的邻域关系应考虑的PC数量的信息sc.tl.tsne()\n",
    "    #sc.pl.pca_variance_ratio(adata, log=True)\n",
    "\n",
    "    # 使用bbknn算法处理批次效应(代替了neighbors)\n",
    "    # bbknn要求数据已经过标准化和主成分分析\n",
    "\n",
    "    # adata.obs['bbknn_batch'] = [str(i)+'-'+str(j) for i,j in zip(adata.obs['dataset'], adata.obs['batch_name'])]\n",
    "    sc.external.pp.bbknn(adata, batch_key=batch_key, n_pcs=n_pcs, neighbors_within_batch=3)\n",
    "    \n",
    "    # 计算UMAP\n",
    "    sc.tl.umap(adata)\n",
    "    # sc.tl.tsne(adata, n_jobs=6)\n",
    "\n",
    "    return adata\n",
    "\n",
    "adata = progress_pca_bbknn_umap_tsne(adata)"
   ]
  },
  {
   "cell_type": "code",
   "execution_count": null,
   "id": "2354f41f",
   "metadata": {},
   "outputs": [],
   "source": [
    "print(adata.obs['tissue'].cat.categories)\n",
    "\n",
    "old_colors = np.array(adata.uns['tissue_colors'])\n",
    "new_colors = old_colors\n",
    "new_colors"
   ]
  },
  {
   "cell_type": "code",
   "execution_count": null,
   "id": "b9cc5fa1",
   "metadata": {},
   "outputs": [],
   "source": [
    "# inferior turbinate\n",
    "new_colors[[0]] = '#ff0000'\n",
    "# middle turbinate\n",
    "new_colors[[1]] = '#0077b2'\n",
    "# polyp\n",
    "new_colors[[2]] = '#60b55c'\n",
    "\n",
    "adata.uns['tissue_colors'] = new_colors"
   ]
  },
  {
   "cell_type": "code",
   "execution_count": null,
   "id": "fd27e501",
   "metadata": {},
   "outputs": [],
   "source": [
    "sc.settings.set_figure_params(dpi=400, figsize = (4, 4), fontsize=7)\n",
    "sc.pl.umap(adata, color=['tissue'], frameon=False, title='')"
   ]
  },
  {
   "cell_type": "code",
   "execution_count": null,
   "id": "85343fb4",
   "metadata": {},
   "outputs": [],
   "source": [
    "sc.pl.umap(adata, color=['majority_voting'], add_outline=True, outline_width = (0.2, 0.05), palette=\"tab20\", frameon=False, legend_loc='on data')"
   ]
  },
  {
   "cell_type": "code",
   "execution_count": null,
   "id": "513ac5b5",
   "metadata": {},
   "outputs": [],
   "source": [
    "def add_leiden(adata):\n",
    "\n",
    "    print(\"Performing clustering with a resolution of 0.5\")\n",
    "    sc.tl.leiden(adata, resolution=0.5)\n",
    "    adata.obs['leiden-all-0.5'] = adata.obs['leiden']\n",
    "\n",
    "    print(\"Performing clustering with a resolution of 1\")\n",
    "    sc.tl.leiden(adata, resolution=1)\n",
    "    adata.obs['leiden-all-1'] = adata.obs['leiden']\n",
    "\n",
    "    print(\"Performing clustering with a resolution of 2\")\n",
    "    sc.tl.leiden(adata, resolution=2)\n",
    "    adata.obs['leiden-all-2'] = adata.obs['leiden']\n",
    "    return adata\n",
    "\n",
    "adata = add_leiden(adata)"
   ]
  },
  {
   "cell_type": "code",
   "execution_count": null,
   "id": "3dd66808",
   "metadata": {},
   "outputs": [],
   "source": [
    "sc.pl.umap(adata, color=['leiden-all-1'], add_outline=True, outline_width = (0.2, 0.05), palette=\"tab20\", frameon=False, legend_loc='on data')"
   ]
  },
  {
   "cell_type": "code",
   "execution_count": null,
   "id": "a781f1af",
   "metadata": {},
   "outputs": [],
   "source": [
    "sc.pl.umap(adata, color=['leiden-all-2'], add_outline=True, outline_width = (0.2, 0.05), palette=\"tab20\", frameon=False, legend_loc='on data')"
   ]
  },
  {
   "cell_type": "code",
   "execution_count": null,
   "id": "8b6be29a",
   "metadata": {},
   "outputs": [],
   "source": [
    "import cosg as cosg\n",
    "import time\n",
    "t0= time.clock()\n",
    "cosg.cosg(adata,\n",
    "    key_added='cosg',\n",
    "        mu=1,\n",
    "        n_genes_user=50,\n",
    "               groupby='leiden-all-2')\n",
    "runtime_cosg = time.clock() - t0\n",
    "\n",
    "sc.settings.set_figure_params(dpi=200, figsize = (4, 4), fontsize=20)\n",
    "sc.pl.rank_genes_groups_dotplot(adata,groupby='leiden-all-2',\n",
    "                                cmap='Spectral_r',\n",
    "                                 standard_scale='var',\n",
    "                                       n_genes=4,key='cosg')"
   ]
  },
  {
   "cell_type": "code",
   "execution_count": null,
   "id": "dcc55173",
   "metadata": {},
   "outputs": [],
   "source": [
    "pd.DataFrame(adata.uns['cosg']['names'])['26'].head(30)"
   ]
  },
  {
   "cell_type": "code",
   "execution_count": null,
   "id": "e8cbd234",
   "metadata": {},
   "outputs": [],
   "source": [
    "from matplotlib import cm, colors\n",
    "import colorcet as cc\n",
    "\n",
    "mymap = colors.LinearSegmentedColormap.from_list('my_colormap', cc.CET_L20)\n",
    "\n",
    "colors2 = mymap(np.linspace(0.2, 1, 128)) # 30%-100%\n",
    "colors3 = plt.cm.Greys_r(np.linspace(0.8,0.9,5))\n",
    "colorsComb = np.vstack([colors3, colors2])\n",
    "mymap = colors.LinearSegmentedColormap.from_list('my_colormap', colorsComb)"
   ]
  },
  {
   "cell_type": "code",
   "execution_count": null,
   "id": "19bcfaa3",
   "metadata": {},
   "outputs": [],
   "source": [
    "# \n",
    "sc.pl.umap(adata, color=['S100A8','SPRR1B','KRT13','CPA4'], add_outline=False, frameon=False,color_map = mymap)"
   ]
  },
  {
   "cell_type": "code",
   "execution_count": null,
   "id": "80b73e39",
   "metadata": {},
   "outputs": [],
   "source": [
    "marker_genes_dict = {'Basal 1': ['DLK2','KRT15','KHDRBS2'], # E1\n",
    "    'Basal 2': ['DAPL1','NOTCH1'], # E1\n",
    "    'Cycling Basal': ['MKI67','NUSAP1'], # E2\n",
    "    'Hillock': ['KRT14','KRT6A','KRT13'], # E3\n",
    "    'Squamous': ['KRT78','SPRR3'], # E4\n",
    "    'Duct': ['MIA'], # E5\n",
    "    'Club': ['SCGB3A1','SCGB1A1'], # E6\n",
    "    'Goblet': ['MUC5AC','TFF1','BPIFA2','PGC','MUC6','TFF2'], # E7\n",
    "    'Deuterosomal': ['FOXN4','CDC20B'], # E9\n",
    "    'Ciliated': ['PIFO','OMG','CFAP54','CCDC40'], # E10\n",
    "    'Ionocyte':['FOXI1','ASCL3'], # E11\n",
    "    'Brush/Tuft': ['BMX','RGS13'], # E9\n",
    "    'Neuroendocrine': ['PCSK1N','BEX1'], # E10\n",
    "    'Melanocyte': ['PMEL','MLANA'], # E10\n",
    "}\n",
    "sc.settings.set_figure_params(dpi=150, figsize = (4, 3), fontsize=18)\n",
    "mp = sc.pl.dotplot(adata, \n",
    "              marker_genes_dict, \n",
    "              'leiden-all-2', \n",
    "              dendrogram=False, \n",
    "              #figsize=(3, 4),\n",
    "              use_raw=True,\n",
    "              cmap = 'Reds',\n",
    "              var_group_rotation=45,\n",
    "              #swap_axes=True,\n",
    "              standard_scale='var',\n",
    "              colorbar_title=None,\n",
    "              return_fig=True\n",
    "              # , save='_' + sample_name + '_fig11.png'\n",
    "             ) \n",
    "mp.style(grid=True,cmap = 'Reds').show() # RdYlBu_r"
   ]
  },
  {
   "cell_type": "markdown",
   "id": "7e9b6160",
   "metadata": {},
   "source": [
    "## Harmony(Figure)"
   ]
  },
  {
   "cell_type": "code",
   "execution_count": null,
   "id": "7e63be83",
   "metadata": {},
   "outputs": [],
   "source": [
    "def progress_pca_harmony_umap(adata):\n",
    "\n",
    "    # Harmony处理批次效应\n",
    "    harmony_out = hm.run_harmony(adata.obsm['X_pca'], adata.obs, vars_use = ['batch_name'],max_iter_harmony=20)\n",
    "    adata.obsm['X_pca_harmony'] = harmony_out.Z_corr.T\n",
    "    sc.pp.neighbors(adata, n_neighbors=10, use_rep='X_pca_harmony', n_pcs=20)\n",
    "    \n",
    "    # 计算UMAP\n",
    "    sc.tl.umap(adata)\n",
    "    # sc.tl.tsne(adata, n_jobs=6)\n",
    "\n",
    "    return adata\n",
    "\n",
    "adata = progress_pca_harmony_umap(adata)"
   ]
  },
  {
   "cell_type": "code",
   "execution_count": null,
   "id": "e71f773b",
   "metadata": {},
   "outputs": [],
   "source": [
    "def add_leiden(adata):\n",
    "\n",
    "    print(\"Performing clustering with a resolution of 0.5\")\n",
    "    sc.tl.leiden(adata, resolution=0.5)\n",
    "    adata.obs['leiden-all-0.5'] = adata.obs['leiden']\n",
    "\n",
    "    print(\"Performing clustering with a resolution of 1\")\n",
    "    sc.tl.leiden(adata, resolution=1)\n",
    "    adata.obs['leiden-all-1'] = adata.obs['leiden']\n",
    "\n",
    "    return adata\n",
    "\n",
    "adata = add_leiden(adata)"
   ]
  },
  {
   "cell_type": "code",
   "execution_count": null,
   "id": "d6a3da26",
   "metadata": {
    "scrolled": false
   },
   "outputs": [],
   "source": [
    "sc.settings.set_figure_params(dpi=400, figsize = (4, 4), fontsize=7)\n",
    "sc.pl.umap(adata, color=['tissue'], frameon=False, title='')\n",
    "sc.pl.umap(adata, color=['majority_voting'], add_outline=True, outline_width = (0.2, 0.05), palette=\"tab20\", frameon=False, legend_loc='on data')\n",
    "sc.pl.umap(adata, color=['leiden-all-1'], add_outline=True, outline_width = (0.2, 0.05), palette=\"tab20\", frameon=False, legend_loc='on data')"
   ]
  },
  {
   "cell_type": "code",
   "execution_count": null,
   "id": "fc0f2a29",
   "metadata": {},
   "outputs": [],
   "source": [
    "import cosg as cosg\n",
    "import time\n",
    "t0= time.clock()\n",
    "cosg.cosg(adata,\n",
    "    key_added='cosg',\n",
    "        mu=1,\n",
    "        n_genes_user=50,\n",
    "               groupby='leiden-all-1')\n",
    "runtime_cosg = time.clock() - t0\n",
    "\n",
    "sc.settings.set_figure_params(dpi=200, figsize = (4, 4), fontsize=20)\n",
    "sc.pl.rank_genes_groups_dotplot(adata,groupby='leiden-all-1',\n",
    "                                cmap='Spectral_r',\n",
    "                                 standard_scale='var',\n",
    "                                       n_genes=4,key='cosg')"
   ]
  },
  {
   "cell_type": "code",
   "execution_count": null,
   "id": "11136d3d",
   "metadata": {},
   "outputs": [],
   "source": [
    "sc.settings.set_figure_params(dpi=200, figsize = (4, 4), fontsize=20)\n",
    "sc.pl.rank_genes_groups_dotplot(adata,groupby='leiden-all-1',\n",
    "                                cmap='Spectral_r',\n",
    "                                 standard_scale='var',\n",
    "                                       n_genes=10,key='cosg')"
   ]
  },
  {
   "cell_type": "code",
   "execution_count": null,
   "id": "5ee02230",
   "metadata": {},
   "outputs": [],
   "source": [
    "pd.DataFrame(adata.uns['cosg']['names'])['8'].head(30)"
   ]
  },
  {
   "cell_type": "code",
   "execution_count": null,
   "id": "fd326888",
   "metadata": {},
   "outputs": [],
   "source": [
    "marker_genes_dict = {'Basal 1': ['DLK2','KRT15','KHDRBS2'], # E1\n",
    "    'Basal 2': ['DAPL1','NOTCH1'], # E1\n",
    "    'Cycling Basal': ['MKI67','NUSAP1'], # E2\n",
    "    'Hillock': ['KRT14','KRT6A','KRT13','ECM1','S100A11','CLDN3'], # E3\n",
    "    'Squamous': ['KRT78','SPRR3'], # E4\n",
    "    'Duct': ['MIA'], # E5\n",
    "    'Club': ['SCGB3A1','SCGB1A1'], # E6\n",
    "    'Goblet': ['MUC5AC','TFF1','BPIFA2','PGC','MUC6','TFF2'], # E7\n",
    "    'Deuterosomal': ['FOXN4','CDC20B'], # E9\n",
    "    'Ciliated': ['PIFO','OMG','CFAP54','CCDC40'], # E10\n",
    "    'Ionocyte':['FOXI1','ASCL3'], # E11\n",
    "    'Brush/Tuft': ['LRMP','ASCL2'], # E9\n",
    "    'Neuroendocrine': ['PCSK1N','CHGA'], # E10\n",
    "    'Melanocyte': ['PMEL','MLANA'], # E10\n",
    "}\n",
    "sc.settings.set_figure_params(dpi=150, figsize = (4, 3), fontsize=18)\n",
    "mp = sc.pl.dotplot(adata, \n",
    "              marker_genes_dict, \n",
    "              'leiden-all-1', \n",
    "              dendrogram=False, \n",
    "              #figsize=(3, 4),\n",
    "              use_raw=True,\n",
    "              cmap = 'Reds',\n",
    "              var_group_rotation=45,\n",
    "              #swap_axes=True,\n",
    "              standard_scale='var',\n",
    "              colorbar_title=None,\n",
    "              return_fig=True\n",
    "              # , save='_' + sample_name + '_fig11.png'\n",
    "             ) \n",
    "mp.style(grid=True,cmap = 'Reds').show() # RdYlBu_r"
   ]
  },
  {
   "cell_type": "code",
   "execution_count": null,
   "id": "c3697ce5",
   "metadata": {},
   "outputs": [],
   "source": [
    "sc.pl.umap(adata, color=['KRT5','TP63','SCGB1A1','FOXJ1','MUC5AC','LYZ','SLPI','AZGP1','BPIFB1','PRB1','PRB2','EPCAM'], add_outline=False, frameon=False,color_map = mymap)"
   ]
  },
  {
   "cell_type": "code",
   "execution_count": null,
   "id": "22d15a4c",
   "metadata": {},
   "outputs": [],
   "source": [
    "## cell annoation\n",
    "# 注：16，18，19分别为上皮与免疫、成纤维和内皮细胞的双胞；7群的特征不明确，暂定为分泌系前体细胞\n",
    "\n",
    "# Basal resting\n",
    "E01_index = adata.obs.loc[adata.obs[\"leiden-all-1\"].isin(['0','3']), :].index\n",
    "# Basal cycling\n",
    "E02_index = adata.obs.loc[adata.obs[\"leiden-all-1\"].isin(['14']), :].index\n",
    "# Club\n",
    "E03_index = adata.obs.loc[adata.obs[\"leiden-all-1\"].isin(['1','2','20']), :].index\n",
    "# Goblet\n",
    "E04_index = adata.obs.loc[adata.obs[\"leiden-all-1\"].isin(['11']), :].index\n",
    "# Secretory precusor\n",
    "E05_index = adata.obs.loc[adata.obs[\"leiden-all-1\"].isin(['7']), :].index\n",
    "# SMG (submucosal gland)\n",
    "E06_index = adata.obs.loc[adata.obs[\"leiden-all-1\"].isin(['4','5','6']), :].index\n",
    "# MUC5B+SMG\n",
    "E07_index = adata.obs.loc[adata.obs[\"leiden-all-1\"].isin(['9']), :].index\n",
    "# MMP7+SMG\n",
    "E08_index = adata.obs.loc[adata.obs[\"leiden-all-1\"].isin(['10']), :].index\n",
    "# PRB1+SMG\n",
    "E09_index = adata.obs.loc[adata.obs[\"leiden-all-1\"].isin(['12']), :].index\n",
    "\n",
    "# Ionocyte\n",
    "E10_index = adata.obs.loc[adata.obs[\"leiden-all-1\"].isin(['17']), :].index\n",
    "# Ciliated \n",
    "E11_index = adata.obs.loc[adata.obs[\"leiden-all-1\"].isin(['13']), :].index\n",
    "# S100A8+APC\n",
    "E12_index = adata.obs.loc[adata.obs[\"leiden-all-1\"].isin(['15']), :].index\n",
    "# KRT4+EMT cell\n",
    "E13_index = adata.obs.loc[adata.obs[\"leiden-all-1\"].isin(['8']), :].index"
   ]
  },
  {
   "cell_type": "code",
   "execution_count": null,
   "id": "a7e7e76c",
   "metadata": {},
   "outputs": [],
   "source": [
    "adata"
   ]
  },
  {
   "cell_type": "code",
   "execution_count": null,
   "id": "f5d7f18d",
   "metadata": {},
   "outputs": [],
   "source": [
    "singlet_index = adata.obs.loc[~adata.obs[\"leiden-all-1\"].isin(['16','18','19']), :].index\n",
    "singlet_index"
   ]
  },
  {
   "cell_type": "code",
   "execution_count": null,
   "id": "6b9f7f92",
   "metadata": {},
   "outputs": [],
   "source": [
    "adata_single = adata[singlet_index, :]\n",
    "adata_single"
   ]
  },
  {
   "cell_type": "code",
   "execution_count": null,
   "id": "f1cf6db9",
   "metadata": {},
   "outputs": [],
   "source": [
    "adata = adata_single"
   ]
  },
  {
   "cell_type": "code",
   "execution_count": null,
   "id": "55e357c8",
   "metadata": {},
   "outputs": [],
   "source": [
    "adata.obs['annotation'] = 'C01-E01-Basal resting'\n",
    "adata.obs.at[E02_index,'annotation']='C01-E02-Basal cycling'\n",
    "adata.obs.at[E03_index,'annotation']='C01-E03-Club'\n",
    "adata.obs.at[E04_index,'annotation']='C01-E04-Goblet'\n",
    "adata.obs.at[E05_index,'annotation']='C01-E05-Secretory precusor'\n",
    "adata.obs.at[E06_index,'annotation']='C01-E06-SMG'\n",
    "adata.obs.at[E07_index,'annotation']='C01-E07-MUC5B+SMG'\n",
    "adata.obs.at[E08_index,'annotation']='C01-E08-MMP7+SMG'\n",
    "adata.obs.at[E09_index,'annotation']='C01-E09-PRB1+SMG'\n",
    "adata.obs.at[E10_index,'annotation']='C01-E10-Ionocyte'\n",
    "adata.obs.at[E11_index,'annotation']='C01-E11-Ciliated'\n",
    "adata.obs.at[E12_index,'annotation']='C01-E12-S100A8+APC'\n",
    "adata.obs.at[E13_index,'annotation']='C01-E13-KRT4+EMT cell'"
   ]
  },
  {
   "cell_type": "code",
   "execution_count": null,
   "id": "cd3f5305",
   "metadata": {
    "scrolled": false
   },
   "outputs": [],
   "source": [
    "sc.settings.set_figure_params(dpi=400, figsize = (4, 4), fontsize=7)\n",
    "sc.pl.umap(adata, color=['tissue'], frameon=False, title='')\n",
    "sc.pl.umap(adata, color=['majority_voting'], add_outline=True, outline_width = (0.2, 0.05), palette=\"tab20\", frameon=False, legend_loc='on data')\n",
    "sc.pl.umap(adata, color=['annotation'], add_outline=True, outline_width = (0.2, 0.05), palette=\"tab20\", frameon=False, legend_loc='on data')"
   ]
  },
  {
   "cell_type": "code",
   "execution_count": null,
   "id": "bb82ba92",
   "metadata": {},
   "outputs": [],
   "source": [
    "adata.write('/mnt/data2/Datasets/Human_non_intestine_datasets/Qilu_Otorhinolaryngology_surgery_data/dataset_output/EPI.h5ad')"
   ]
  },
  {
   "cell_type": "markdown",
   "id": "d8b2790c",
   "metadata": {},
   "source": [
    "# Visualization"
   ]
  },
  {
   "cell_type": "code",
   "execution_count": null,
   "id": "c2c82023",
   "metadata": {},
   "outputs": [],
   "source": [
    "adata = sc.read('/mnt/data2/Datasets/Human_non_intestine_datasets/Qilu_Otorhinolaryngology_surgery_data/dataset_output/EPI.h5ad')\n",
    "adata"
   ]
  },
  {
   "cell_type": "code",
   "execution_count": null,
   "id": "460ecbd4",
   "metadata": {},
   "outputs": [],
   "source": [
    "def progress_pca_bbknn_umap_tsne(adata, n_pcs=20, batch_key='batch_name'):\n",
    "    ## 主成分分析降维\n",
    "    #sc.tl.pca(adata, svd_solver='arpack')\n",
    "    # 在PCA坐标中绘制散点图\n",
    "    #sc.pl.pca(adata)\n",
    "    # 可视化每个PC对数据总方差的贡献, 这为我们提供了有关为计算单元的邻域关系应考虑的PC数量的信息sc.tl.tsne()\n",
    "    #sc.pl.pca_variance_ratio(adata, log=True)\n",
    "\n",
    "    # 使用bbknn算法处理批次效应(代替了neighbors)\n",
    "    # bbknn要求数据已经过标准化和主成分分析\n",
    "\n",
    "    # adata.obs['bbknn_batch'] = [str(i)+'-'+str(j) for i,j in zip(adata.obs['dataset'], adata.obs['batch_name'])]\n",
    "    sc.external.pp.bbknn(adata, batch_key=batch_key, n_pcs=n_pcs, neighbors_within_batch=3)\n",
    "    \n",
    "    # 计算UMAP\n",
    "    sc.tl.umap(adata)\n",
    "    # sc.tl.tsne(adata, n_jobs=6)\n",
    "\n",
    "    return adata\n",
    "\n",
    "adata = progress_pca_bbknn_umap_tsne(adata)"
   ]
  },
  {
   "cell_type": "code",
   "execution_count": null,
   "id": "9656556e",
   "metadata": {},
   "outputs": [],
   "source": [
    "print(adata.obs['tissue'].cat.categories)\n",
    "\n",
    "old_colors = np.array(adata.uns['tissue_colors'])\n",
    "new_colors = old_colors\n",
    "\n",
    "# inferior turbinate\n",
    "new_colors[[0]] = '#ff0000'\n",
    "# middle turbinate\n",
    "new_colors[[1]] = '#0077b2'\n",
    "# polyp\n",
    "new_colors[[2]] = '#60b55c'\n",
    "\n",
    "adata.uns['tissue_colors'] = new_colors\n",
    "\n",
    "sc.settings.set_figure_params(dpi=400, figsize = (4, 4), fontsize=7)\n",
    "sc.pl.umap(adata, color=['tissue'], frameon=False, title='')"
   ]
  },
  {
   "cell_type": "code",
   "execution_count": null,
   "id": "6126f19e",
   "metadata": {},
   "outputs": [],
   "source": [
    "E_index = adata.obs.loc[adata.obs[\"annotation\"].isin(['C01-E12-KRT4+EMT cell']), :].index\n",
    "adata.obs['annotation'] = adata.obs['annotation'].to_list()\n",
    "adata.obs.at[E_index,'annotation']='C01-E12-KRT14+EMT cell'"
   ]
  },
  {
   "cell_type": "code",
   "execution_count": null,
   "id": "fbbe477f",
   "metadata": {},
   "outputs": [],
   "source": [
    "sc.settings.set_figure_params(dpi=400, figsize = (4, 4), fontsize=7)\n",
    "sc.pl.umap(adata, color=['annotation'], add_outline=True, outline_width = (0.2, 0.05), palette=\"tab20\", frameon=False, legend_loc='on data')"
   ]
  },
  {
   "cell_type": "code",
   "execution_count": null,
   "id": "3df9f246",
   "metadata": {},
   "outputs": [],
   "source": [
    "sc.pl.umap(adata, color=['annotation'], add_outline=True, outline_width = (0.2, 0.05), palette=\"tab20\", frameon=False)"
   ]
  },
  {
   "cell_type": "markdown",
   "id": "0e718a5b",
   "metadata": {},
   "source": [
    "**注意，E05-Secretory precusor细胞大概率是低质量细胞，删除**"
   ]
  },
  {
   "cell_type": "code",
   "execution_count": null,
   "id": "c46119c3",
   "metadata": {},
   "outputs": [],
   "source": [
    "singlet_index = adata.obs.loc[~adata.obs[\"annotation\"].isin(['C01-E05-Secretory precusor']), :].index\n",
    "singlet_index"
   ]
  },
  {
   "cell_type": "code",
   "execution_count": null,
   "id": "a9f4cd39",
   "metadata": {},
   "outputs": [],
   "source": [
    "adata_single = adata[singlet_index, :]\n",
    "adata_single"
   ]
  },
  {
   "cell_type": "code",
   "execution_count": null,
   "id": "691b4400",
   "metadata": {},
   "outputs": [],
   "source": [
    "adata = adata_single"
   ]
  },
  {
   "cell_type": "code",
   "execution_count": null,
   "id": "9c282844",
   "metadata": {},
   "outputs": [],
   "source": [
    "## cell annoation\n",
    "# 注：16，18，19分别为上皮与免疫、成纤维和内皮细胞的双胞；7群的特征不明确，暂定为分泌系前体细胞\n",
    "\n",
    "# Basal resting\n",
    "E01_index = adata.obs.loc[adata.obs[\"leiden-all-1\"].isin(['0','3']), :].index\n",
    "# Basal cycling\n",
    "E02_index = adata.obs.loc[adata.obs[\"leiden-all-1\"].isin(['14']), :].index\n",
    "# Club\n",
    "E03_index = adata.obs.loc[adata.obs[\"leiden-all-1\"].isin(['1','2','20']), :].index\n",
    "# Goblet\n",
    "E04_index = adata.obs.loc[adata.obs[\"leiden-all-1\"].isin(['11']), :].index\n",
    "# Secretory precusor\n",
    "#E05_index = adata.obs.loc[adata.obs[\"leiden-all-1\"].isin(['7']), :].index\n",
    "# SMG (submucosal gland)\n",
    "E06_index = adata.obs.loc[adata.obs[\"leiden-all-1\"].isin(['4','5','6']), :].index\n",
    "# MUC5B+SMG\n",
    "E07_index = adata.obs.loc[adata.obs[\"leiden-all-1\"].isin(['9']), :].index\n",
    "# MMP7+SMG\n",
    "E08_index = adata.obs.loc[adata.obs[\"leiden-all-1\"].isin(['10']), :].index\n",
    "# PRB1+SMG\n",
    "E09_index = adata.obs.loc[adata.obs[\"leiden-all-1\"].isin(['12']), :].index\n",
    "\n",
    "# Ionocyte\n",
    "E10_index = adata.obs.loc[adata.obs[\"leiden-all-1\"].isin(['17']), :].index\n",
    "# Ciliated \n",
    "E11_index = adata.obs.loc[adata.obs[\"leiden-all-1\"].isin(['13']), :].index\n",
    "# S100A8+APC\n",
    "E12_index = adata.obs.loc[adata.obs[\"leiden-all-1\"].isin(['15']), :].index\n",
    "# KRT14+EMT cell\n",
    "E13_index = adata.obs.loc[adata.obs[\"leiden-all-1\"].isin(['8']), :].index"
   ]
  },
  {
   "cell_type": "code",
   "execution_count": null,
   "id": "2c3cdfe0",
   "metadata": {},
   "outputs": [],
   "source": [
    "adata.obs['annotation'] = 'C01-E01-Basal resting'\n",
    "adata.obs.at[E02_index,'annotation']='C01-E02-Basal cycling'\n",
    "adata.obs.at[E03_index,'annotation']='C01-E03-Club'\n",
    "adata.obs.at[E04_index,'annotation']='C01-E04-Goblet'\n",
    "\n",
    "adata.obs.at[E06_index,'annotation']='C01-E05-SMG'\n",
    "adata.obs.at[E07_index,'annotation']='C01-E06-MUC5B+SMG'\n",
    "adata.obs.at[E08_index,'annotation']='C01-E07-MMP7+SMG'\n",
    "adata.obs.at[E09_index,'annotation']='C01-E08-PRB1+SMG'\n",
    "adata.obs.at[E10_index,'annotation']='C01-E09-Ionocyte'\n",
    "adata.obs.at[E11_index,'annotation']='C01-E10-Ciliated'\n",
    "adata.obs.at[E12_index,'annotation']='C01-E11-S100A8+APC'\n",
    "adata.obs.at[E13_index,'annotation']='C01-E12-KRT14+EMT cell'"
   ]
  },
  {
   "cell_type": "code",
   "execution_count": null,
   "id": "90d48e4f",
   "metadata": {},
   "outputs": [],
   "source": [
    "sc.pl.umap(adata, color=['annotation'], add_outline=True, outline_width = (0.2, 0.05), palette=\"tab20\", frameon=False, title='')"
   ]
  },
  {
   "cell_type": "code",
   "execution_count": null,
   "id": "f4328948",
   "metadata": {},
   "outputs": [],
   "source": [
    "sc.settings.set_figure_params(dpi=300, figsize = (4, 4), fontsize=12)\n",
    "\n",
    "from matplotlib import cm, colors\n",
    "import colorcet as cc\n",
    "\n",
    "mymap = colors.LinearSegmentedColormap.from_list('my_colormap', cc.CET_L20)\n",
    "\n",
    "colors2 = mymap(np.linspace(0.2, 1, 128)) # 30%-100%\n",
    "colors3 = plt.cm.Greys_r(np.linspace(0.8,0.9,5))\n",
    "colorsComb = np.vstack([colors3, colors2])\n",
    "mymap = colors.LinearSegmentedColormap.from_list('my_colormap', colorsComb)\n",
    "\n",
    "sc.pl.umap(adata, color=['OXT','AVP','OXTR','HLA-DQA2'], frameon=False, color_map = mymap)\n",
    "sc.pl.umap(adata, color=['HLA-DQA1','DEFB1','CXCL9','CXCL10'], frameon=False, color_map = mymap)\n",
    "sc.pl.umap(adata, color=['CXCL11','EREG','DUOX2','LYPD3'], frameon=False, color_map = mymap)"
   ]
  },
  {
   "cell_type": "code",
   "execution_count": null,
   "id": "604709dc",
   "metadata": {},
   "outputs": [],
   "source": [
    "sc.pl.umap(adata, color=['tissue'], frameon=False, title='')"
   ]
  },
  {
   "cell_type": "code",
   "execution_count": null,
   "id": "8ee4175d",
   "metadata": {},
   "outputs": [],
   "source": [
    "adata.obs['annotation'].cat.categories"
   ]
  },
  {
   "cell_type": "code",
   "execution_count": null,
   "id": "e3dad338",
   "metadata": {},
   "outputs": [],
   "source": [
    "sc.tl.dendrogram(adata, groupby='annotation')"
   ]
  },
  {
   "cell_type": "code",
   "execution_count": null,
   "id": "cb289293",
   "metadata": {},
   "outputs": [],
   "source": [
    "import cosg as cosg\n",
    "import time\n",
    "t0= time.clock()\n",
    "cosg.cosg(adata,\n",
    "    key_added='cosg',\n",
    "        mu=1,\n",
    "        n_genes_user=50,\n",
    "               groupby='annotation')\n",
    "runtime_cosg = time.clock() - t0\n",
    "\n",
    "sc.settings.set_figure_params(dpi=200, figsize = (4, 4), fontsize=20)\n",
    "sc.pl.rank_genes_groups_dotplot(adata,groupby='annotation',\n",
    "                                cmap='Spectral_r',\n",
    "                                 standard_scale='var',\n",
    "                                       n_genes=4,key='cosg')"
   ]
  },
  {
   "cell_type": "code",
   "execution_count": null,
   "id": "46894517",
   "metadata": {},
   "outputs": [],
   "source": [
    "import cosg as cosg\n",
    "import time\n",
    "t0= time.clock()\n",
    "cosg.cosg(adata,\n",
    "    key_added='cosg',\n",
    "        mu=1,\n",
    "        n_genes_user=50,\n",
    "               groupby='annotation')\n",
    "runtime_cosg = time.clock() - t0\n",
    "\n",
    "sc.settings.set_figure_params(dpi=200, figsize = (4, 4), fontsize=20)\n",
    "sc.pl.rank_genes_groups_dotplot(adata,groupby='annotation',\n",
    "                                cmap='Spectral_r',\n",
    "                                 standard_scale='var',\n",
    "                                       n_genes=15,key='cosg')"
   ]
  },
  {
   "cell_type": "code",
   "execution_count": null,
   "id": "2bbda5bb",
   "metadata": {},
   "outputs": [],
   "source": [
    "tf_GENES = '/mnt/data/project/scenic/auxilliaries/lambert2018_c.txt'\n",
    "amps_pd = pd.read_table(tf_GENES)\n",
    "len(amps_pd)"
   ]
  },
  {
   "cell_type": "code",
   "execution_count": null,
   "id": "966b04d1",
   "metadata": {},
   "outputs": [],
   "source": [
    "# 141\n",
    "amps_list = list(amps_pd['Gene_name'])\n",
    "amps_list = [x for x in amps_list if x in adata.raw.var_names]\n",
    "len(amps_list)"
   ]
  },
  {
   "cell_type": "code",
   "execution_count": null,
   "id": "1eeb065f",
   "metadata": {},
   "outputs": [],
   "source": [
    "adata_c = sc.AnnData(X=adata.raw.X, var=adata.raw.var, obs = adata.obs)"
   ]
  },
  {
   "cell_type": "code",
   "execution_count": null,
   "id": "a0e20fdf",
   "metadata": {},
   "outputs": [],
   "source": [
    "adata_c = adata_c[:,amps_list]\n",
    "adata_c"
   ]
  },
  {
   "cell_type": "code",
   "execution_count": null,
   "id": "530569e4",
   "metadata": {},
   "outputs": [],
   "source": [
    "## TFs\n",
    "\n",
    "import cosg as cosg\n",
    "import time\n",
    "t0= time.clock()\n",
    "cosg.cosg(adata_c,\n",
    "    key_added='cosg',\n",
    "        mu=1,\n",
    "        n_genes_user=50,\n",
    "               groupby='annotation')\n",
    "runtime_cosg = time.clock() - t0\n",
    "\n",
    "sc.settings.set_figure_params(dpi=200, figsize = (4, 4), fontsize=20)\n",
    "sc.pl.rank_genes_groups_dotplot(adata_c,groupby='annotation',\n",
    "                                cmap='Spectral_r',\n",
    "                                 standard_scale='var',\n",
    "                                       n_genes=4,key='cosg')"
   ]
  },
  {
   "cell_type": "code",
   "execution_count": null,
   "id": "d3f7bafb",
   "metadata": {},
   "outputs": [],
   "source": [
    "Groups_tab_1 = pd.crosstab(index=adata.obs['tissue'],  # Make a crosstab\n",
    "                        columns=adata.obs['annotation'], margins=True)               # Name the count column\n",
    "MyTab_1= Groups_tab_1.div(Groups_tab_1[\"All\"], axis=0)\n",
    "MyTab2_1 = MyTab_1.drop(columns=\"All\")\n",
    "MyTab2_1 = MyTab2_1.drop(index=\"All\")\n",
    "MyTab2_1.T"
   ]
  },
  {
   "cell_type": "code",
   "execution_count": null,
   "id": "f9ba11d9",
   "metadata": {},
   "outputs": [],
   "source": [
    "MyTab2_1 = MyTab2_1.T\n",
    "order = ['inferior turbinate', 'middle turbinate', 'polyp']\n",
    "MyTab2_1 = MyTab2_1[order]\n",
    "MyTab2_1 = MyTab2_1.T\n",
    "#categories = IMM_group[::-1]\n",
    "\n",
    "MyTab2_1.columns = pd.CategoricalIndex(MyTab2_1.columns.values)\n",
    "\n",
    "# Sort the columns (axis=1) by the new categorical ordering\n",
    "MyTab2_1 = MyTab2_1.sort_index(axis=1)\n",
    "\n",
    "ax = MyTab2_1.plot.bar(\n",
    "            figsize=(3.7,5),\n",
    "            stacked=True,\n",
    "            edgecolor = '#000000',\n",
    "            linewidth=0.4,\n",
    "            width=0.8, \n",
    "            fontsize=10,\n",
    "            # color={\"1-Duodenum\": \"#393b79\",\"2-Jejunum\": \"#8ca252\",\"3-Ileum\": \"#e7ba52\", \"4-Colon\": \"#e7969c\", \"5-Rectum\": \"#de9ed6\"}\n",
    "             )\n",
    "\n",
    "\n",
    "plt.title(\"\", fontsize=12)\n",
    "plt.ylabel(\"Fraction of cells\", fontsize=12)\n",
    "plt.xlabel(\"\", fontsize=12)\n",
    "plt.ylim=1.0\n",
    "\n",
    "#plt.gca().get_legend().remove() #remove legend\n",
    "# plt.legend(categories, loc='center left', bbox_to_anchor=(1, 0.6), fontsize=12)\n",
    "# plt.savefig('Proportion of clusters accross organs.png')\n",
    "# 去除刻度\n",
    "#plt.xticks([])\n",
    "#plt.yticks([])\n",
    "# ax.tick_params(bottom=False, top=False, left=False, right=False)\n",
    "handles, labels = ax.get_legend_handles_labels()\n",
    "ax.legend(reversed(handles), reversed(labels), loc='center left', bbox_to_anchor=(1, 0.6), fontsize=8)\n",
    "plt.grid(False)\n",
    "\n",
    "plt.show()"
   ]
  },
  {
   "cell_type": "code",
   "execution_count": null,
   "id": "82dc1e7b",
   "metadata": {},
   "outputs": [],
   "source": [
    "adata.write('/mnt/data2/Datasets/Human_non_intestine_datasets/Qilu_Otorhinolaryngology_surgery_data/dataset_output/EPI.h5ad')"
   ]
  },
  {
   "cell_type": "code",
   "execution_count": null,
   "id": "2ca5032d",
   "metadata": {},
   "outputs": [],
   "source": [
    "Groups_tab_1 = pd.crosstab(index=adata.obs['batch_name'],  # Make a crosstab\n",
    "                        columns=adata.obs['tissue'], margins=True)               # Name the count column\n",
    "Groups_tab_1"
   ]
  },
  {
   "cell_type": "raw",
   "id": "a3c8c3cd",
   "metadata": {},
   "source": [
    "# 0222-息肉， 0224-中鼻甲， 0226-下鼻甲"
   ]
  },
  {
   "cell_type": "code",
   "execution_count": null,
   "id": "1e53ab86",
   "metadata": {},
   "outputs": [],
   "source": [
    "singlet_index = adata.obs.loc[adata.obs[\"batch_name\"].isin(['Qilu_0222-1-220211','Qilu_0222-2-220211','Qilu_0222-3-220211',\n",
    "                                                            'Qilu_0224-1-220211','Qilu_0224-2-220211','Qilu_0224-3-220211',\n",
    "                                                            'Qilu_0226-1-220211','Qilu_0226-2-220211','Qilu_0226-3-220211']), :].index\n",
    "adata_single = adata[singlet_index, :]\n",
    "adata_single"
   ]
  },
  {
   "cell_type": "code",
   "execution_count": null,
   "id": "d55df81a",
   "metadata": {},
   "outputs": [],
   "source": [
    "Groups_tab_1 = pd.crosstab(index=adata_single.obs['tissue'],  # Make a crosstab\n",
    "                        columns=adata_single.obs['annotation'], margins=True)               # Name the count column\n",
    "MyTab_1= Groups_tab_1.div(Groups_tab_1[\"All\"], axis=0)\n",
    "MyTab2_1 = MyTab_1.drop(columns=\"All\")\n",
    "MyTab2_1 = MyTab2_1.drop(index=\"All\")\n",
    "\n",
    "MyTab2_1 = MyTab2_1.T\n",
    "order = ['inferior turbinate', 'middle turbinate', 'polyp']\n",
    "MyTab2_1 = MyTab2_1[order]\n",
    "MyTab2_1 = MyTab2_1.T\n",
    "#categories = IMM_group[::-1]\n",
    "\n",
    "MyTab2_1.columns = pd.CategoricalIndex(MyTab2_1.columns.values)\n",
    "\n",
    "# Sort the columns (axis=1) by the new categorical ordering\n",
    "MyTab2_1 = MyTab2_1.sort_index(axis=1)\n",
    "\n",
    "ax = MyTab2_1.plot.bar(\n",
    "            figsize=(3.7,5),\n",
    "            stacked=True,\n",
    "            edgecolor = '#000000',\n",
    "            linewidth=0.4,\n",
    "            width=0.8, \n",
    "            fontsize=10,\n",
    "            # color={\"1-Duodenum\": \"#393b79\",\"2-Jejunum\": \"#8ca252\",\"3-Ileum\": \"#e7ba52\", \"4-Colon\": \"#e7969c\", \"5-Rectum\": \"#de9ed6\"}\n",
    "             )\n",
    "\n",
    "\n",
    "plt.title(\"\", fontsize=12)\n",
    "plt.ylabel(\"Fraction of cells\", fontsize=12)\n",
    "plt.xlabel(\"\", fontsize=12)\n",
    "plt.ylim=1.0\n",
    "\n",
    "#plt.gca().get_legend().remove() #remove legend\n",
    "# plt.legend(categories, loc='center left', bbox_to_anchor=(1, 0.6), fontsize=12)\n",
    "# plt.savefig('Proportion of clusters accross organs.png')\n",
    "# 去除刻度\n",
    "#plt.xticks([])\n",
    "#plt.yticks([])\n",
    "# ax.tick_params(bottom=False, top=False, left=False, right=False)\n",
    "handles, labels = ax.get_legend_handles_labels()\n",
    "ax.legend(reversed(handles), reversed(labels), loc='center left', bbox_to_anchor=(1, 0.6), fontsize=8)\n",
    "plt.grid(False)\n",
    "\n",
    "plt.show()"
   ]
  },
  {
   "cell_type": "code",
   "execution_count": null,
   "id": "97bf1742",
   "metadata": {},
   "outputs": [],
   "source": [
    "sc.pl.umap(adata, color=['S100A2','KRT5','KRT15','POSTN'], frameon=False)\n",
    "sc.pl.umap(adata, color=['SERPINB3','KRT19','S100A6','AGR2'], frameon=False)\n",
    "sc.pl.umap(adata, color=['LYZ','SLPI','AZGP1','PIGR'], frameon=False)\n",
    "sc.pl.umap(adata, color=['CAPS','C9orf24','TSPAN1','PIFO'], frameon=False)"
   ]
  },
  {
   "cell_type": "code",
   "execution_count": null,
   "id": "5e8b7881",
   "metadata": {},
   "outputs": [],
   "source": [
    "adata = sc.read('/mnt/data2/Datasets/Human_non_intestine_datasets/Qilu_Otorhinolaryngology_surgery_data/dataset_output/EPI.h5ad')\n",
    "adata"
   ]
  },
  {
   "cell_type": "code",
   "execution_count": null,
   "id": "d7199d7f",
   "metadata": {},
   "outputs": [],
   "source": [
    "pd.DataFrame(adata.uns['cosg']['names'])['C01-E08-PRB1+SMG'].head(30)"
   ]
  },
  {
   "cell_type": "code",
   "execution_count": null,
   "id": "c2bf4c63",
   "metadata": {},
   "outputs": [],
   "source": [
    "pd.DataFrame(adata.uns['cosg']['names'])['C01-E07-MMP7+SMG'].head(30)"
   ]
  },
  {
   "cell_type": "code",
   "execution_count": null,
   "id": "3d1cf839",
   "metadata": {},
   "outputs": [],
   "source": [
    "pd.DataFrame(adata.uns['cosg']['names'])['C01-E06-MUC5B+SMG'].head(30)"
   ]
  },
  {
   "cell_type": "code",
   "execution_count": null,
   "id": "ed064b7e",
   "metadata": {},
   "outputs": [],
   "source": [
    "pd.DataFrame(adata.uns['cosg']['names'])['C01-E12-KRT14+EMT cell'].head(30)"
   ]
  },
  {
   "cell_type": "code",
   "execution_count": null,
   "id": "a0e74fee",
   "metadata": {},
   "outputs": [],
   "source": [
    "pd.DataFrame(adata.uns['cosg']['names'])['C01-E11-S100A8+APC'].head(30)"
   ]
  },
  {
   "cell_type": "code",
   "execution_count": null,
   "id": "ee25fed1",
   "metadata": {},
   "outputs": [],
   "source": [
    "sc.settings.set_figure_params(dpi=300, figsize = (4, 4), fontsize=12)\n",
    "\n",
    "from matplotlib import cm, colors\n",
    "import colorcet as cc\n",
    "\n",
    "mymap = colors.LinearSegmentedColormap.from_list('my_colormap', cc.CET_L20)\n",
    "\n",
    "colors2 = mymap(np.linspace(0.2, 1, 128)) # 30%-100%\n",
    "colors3 = plt.cm.Greys_r(np.linspace(0.8,0.9,5))\n",
    "colorsComb = np.vstack([colors3, colors2])\n",
    "mymap = colors.LinearSegmentedColormap.from_list('my_colormap', colorsComb)\n",
    "\n",
    "sc.pl.umap(adata, color=['OXTR','OXT','AVP'], frameon=False, color_map = mymap)"
   ]
  },
  {
   "cell_type": "code",
   "execution_count": null,
   "id": "40dc0de7",
   "metadata": {},
   "outputs": [],
   "source": [
    "adata = sc.read('/mnt/data2/Datasets/Human_non_intestine_datasets/Qilu_Otorhinolaryngology_surgery_data/dataset_output/EPI.h5ad')\n",
    "adata"
   ]
  },
  {
   "cell_type": "code",
   "execution_count": null,
   "id": "0bba36b0",
   "metadata": {},
   "outputs": [],
   "source": [
    "E_index = adata.obs.loc[adata.obs[\"annotation\"].isin(['C01-E10-Ciliated']), :].index\n",
    "adata = adata[E_index, :]\n",
    "adata"
   ]
  },
  {
   "cell_type": "code",
   "execution_count": null,
   "id": "e6c4412d",
   "metadata": {},
   "outputs": [],
   "source": [
    "E_index = adata.obs.loc[adata.obs[\"tissue\"].isin(['inferior turbinate']), :].index\n",
    "adata = adata[E_index, :]\n",
    "adata"
   ]
  },
  {
   "cell_type": "code",
   "execution_count": null,
   "id": "ad4e5c41",
   "metadata": {},
   "outputs": [],
   "source": [
    "import cosg as cosg\n",
    "import time\n",
    "t0= time.clock()\n",
    "cosg.cosg(adata,\n",
    "    key_added='cosg',\n",
    "        mu=1,\n",
    "        n_genes_user=50,\n",
    "               groupby='Health')\n",
    "runtime_cosg = time.clock() - t0\n",
    "\n",
    "sc.settings.set_figure_params(dpi=200, figsize = (4, 4), fontsize=15)\n",
    "sc.pl.rank_genes_groups_dotplot(adata,groupby='Health',\n",
    "                                cmap='Spectral_r',\n",
    "                                 standard_scale='var',\n",
    "                                       n_genes=15,key='cosg')"
   ]
  },
  {
   "cell_type": "code",
   "execution_count": null,
   "id": "6c6ad33b",
   "metadata": {},
   "outputs": [],
   "source": [
    "sc.tl.rank_genes_groups(adata, \n",
    "                        groupby = 'Health',\n",
    "                        method='wilcoxon')"
   ]
  },
  {
   "cell_type": "code",
   "execution_count": null,
   "id": "d6395657",
   "metadata": {},
   "outputs": [],
   "source": [
    "result_DEG = sc.get.rank_genes_groups_df(adata,group=\"healthy control\")\n",
    "result_DEG"
   ]
  },
  {
   "cell_type": "code",
   "execution_count": null,
   "id": "c16b9720",
   "metadata": {},
   "outputs": [],
   "source": [
    "gene_list = []\n",
    "for i in list(result_DEG.index):\n",
    "    # log2FC<=1 and pvalue<0.01\n",
    "    if (result_DEG.iloc[i,2]>=1 and result_DEG.iloc[i,4]<=1e-2):\n",
    "        gene_list.append(result_DEG.iloc[i,0])\n",
    "len(gene_list)"
   ]
  },
  {
   "cell_type": "code",
   "execution_count": null,
   "id": "d6d22b2c",
   "metadata": {},
   "outputs": [],
   "source": [
    "result_DEG_1 = result_DEG.set_index('names').loc[gene_list,:]\n",
    "result_DEG_1"
   ]
  },
  {
   "cell_type": "code",
   "execution_count": null,
   "id": "bf48be33",
   "metadata": {},
   "outputs": [],
   "source": [
    "result_DEG_1.to_csv('/mnt/data2/Datasets/Human_non_intestine_datasets/Qilu_Otorhinolaryngology_surgery_data/dataset_output/csv/ciliated.csv')"
   ]
  },
  {
   "cell_type": "code",
   "execution_count": null,
   "id": "0f4cfef4",
   "metadata": {},
   "outputs": [],
   "source": [
    "sc.tl.rank_genes_groups(adata, \n",
    "                        groupby = 'annotation',\n",
    "                        method='wilcoxon')"
   ]
  },
  {
   "cell_type": "code",
   "execution_count": null,
   "id": "34786cc0",
   "metadata": {},
   "outputs": [],
   "source": [
    "result_DEG = sc.get.rank_genes_groups_df(adata,group=\"C01-E01-Basal resting\")\n",
    "result_DEG"
   ]
  },
  {
   "cell_type": "code",
   "execution_count": null,
   "id": "a8889086",
   "metadata": {},
   "outputs": [],
   "source": [
    "result_DEG.to_csv('/mnt/data2/Datasets/Human_non_intestine_datasets/Qilu_Otorhinolaryngology_surgery_data/dataset_output/csv/Basal_resting.csv')"
   ]
  },
  {
   "cell_type": "code",
   "execution_count": null,
   "id": "270c7a0a",
   "metadata": {},
   "outputs": [],
   "source": [
    "result_DEG = sc.get.rank_genes_groups_df(adata,group=\"C01-E02-Basal cycling\")\n",
    "result_DEG"
   ]
  },
  {
   "cell_type": "code",
   "execution_count": null,
   "id": "d0dbec5d",
   "metadata": {},
   "outputs": [],
   "source": [
    "result_DEG.to_csv('/mnt/data2/Datasets/Human_non_intestine_datasets/Qilu_Otorhinolaryngology_surgery_data/dataset_output/csv/Basal_cycling.csv')"
   ]
  },
  {
   "cell_type": "code",
   "execution_count": null,
   "id": "6cc8919b",
   "metadata": {},
   "outputs": [],
   "source": [
    "result_DEG = sc.get.rank_genes_groups_df(adata,group=\"C01-E03-Club\")\n",
    "result_DEG.to_csv('/mnt/data2/Datasets/Human_non_intestine_datasets/Qilu_Otorhinolaryngology_surgery_data/dataset_output/csv/Club.csv')\n",
    "result_DEG"
   ]
  },
  {
   "cell_type": "code",
   "execution_count": null,
   "id": "961bd49e",
   "metadata": {},
   "outputs": [],
   "source": [
    "result_DEG = sc.get.rank_genes_groups_df(adata,group=\"C01-E04-Goblet\")\n",
    "result_DEG.to_csv('/mnt/data2/Datasets/Human_non_intestine_datasets/Qilu_Otorhinolaryngology_surgery_data/dataset_output/csv/C01-E04-Goblet.csv')\n",
    "result_DEG"
   ]
  },
  {
   "cell_type": "code",
   "execution_count": null,
   "id": "6a7981f0",
   "metadata": {},
   "outputs": [],
   "source": [
    "result_DEG = sc.get.rank_genes_groups_df(adata,group=\"C01-E05-SMG\")\n",
    "result_DEG.to_csv('/mnt/data2/Datasets/Human_non_intestine_datasets/Qilu_Otorhinolaryngology_surgery_data/dataset_output/csv/C01-E05-SMG.csv')\n",
    "result_DEG"
   ]
  },
  {
   "cell_type": "code",
   "execution_count": null,
   "id": "f990513a",
   "metadata": {},
   "outputs": [],
   "source": [
    "result_DEG = sc.get.rank_genes_groups_df(adata,group=\"C01-E06-MUC5B+SMG\")\n",
    "result_DEG.to_csv('/mnt/data2/Datasets/Human_non_intestine_datasets/Qilu_Otorhinolaryngology_surgery_data/dataset_output/csv/C01-E06-MUC5B+SMG.csv')\n",
    "result_DEG"
   ]
  },
  {
   "cell_type": "code",
   "execution_count": null,
   "id": "410c8c58",
   "metadata": {},
   "outputs": [],
   "source": [
    "result_DEG = sc.get.rank_genes_groups_df(adata,group=\"C01-E07-MMP7+SMG\")\n",
    "result_DEG.to_csv('/mnt/data2/Datasets/Human_non_intestine_datasets/Qilu_Otorhinolaryngology_surgery_data/dataset_output/csv/C01-E07-MMP7+SMG.csv')\n",
    "result_DEG"
   ]
  },
  {
   "cell_type": "code",
   "execution_count": null,
   "id": "4b00f5d1",
   "metadata": {},
   "outputs": [],
   "source": [
    "result_DEG = sc.get.rank_genes_groups_df(adata,group=\"C01-E08-PRB1+SMG\")\n",
    "result_DEG.to_csv('/mnt/data2/Datasets/Human_non_intestine_datasets/Qilu_Otorhinolaryngology_surgery_data/dataset_output/csv/C01-E08-PRB1+SMG.csv')\n",
    "result_DEG"
   ]
  },
  {
   "cell_type": "code",
   "execution_count": null,
   "id": "ba05f273",
   "metadata": {},
   "outputs": [],
   "source": [
    "result_DEG = sc.get.rank_genes_groups_df(adata,group=\"C01-E09-Ionocyte\")\n",
    "result_DEG.to_csv('/mnt/data2/Datasets/Human_non_intestine_datasets/Qilu_Otorhinolaryngology_surgery_data/dataset_output/csv/C01-E09-Ionocyte.csv')\n",
    "result_DEG"
   ]
  },
  {
   "cell_type": "code",
   "execution_count": null,
   "id": "9317cd77",
   "metadata": {},
   "outputs": [],
   "source": [
    "result_DEG = sc.get.rank_genes_groups_df(adata,group=\"C01-E10-Ciliated\")\n",
    "result_DEG.to_csv('/mnt/data2/Datasets/Human_non_intestine_datasets/Qilu_Otorhinolaryngology_surgery_data/dataset_output/csv/C01-E10-Ciliated.csv')\n",
    "result_DEG"
   ]
  },
  {
   "cell_type": "code",
   "execution_count": null,
   "id": "be192e4b",
   "metadata": {},
   "outputs": [],
   "source": [
    "result_DEG = sc.get.rank_genes_groups_df(adata,group=\"C01-E11-S100A8+APC\")\n",
    "result_DEG.to_csv('/mnt/data2/Datasets/Human_non_intestine_datasets/Qilu_Otorhinolaryngology_surgery_data/dataset_output/csv/C01-E11-S100A8+APC.csv')\n",
    "result_DEG"
   ]
  },
  {
   "cell_type": "code",
   "execution_count": null,
   "id": "b77e7f63",
   "metadata": {},
   "outputs": [],
   "source": [
    "adata.obs['annotation'].cat.categories"
   ]
  },
  {
   "cell_type": "code",
   "execution_count": null,
   "id": "bb9d1dbd",
   "metadata": {},
   "outputs": [],
   "source": [
    "result_DEG = sc.get.rank_genes_groups_df(adata,group=\"C01-E12-KRT14+EMT cell\")\n",
    "result_DEG.to_csv('/mnt/data2/Datasets/Human_non_intestine_datasets/Qilu_Otorhinolaryngology_surgery_data/dataset_output/csv/C01-E12-KRT14+EMT_cell.csv')\n",
    "result_DEG"
   ]
  },
  {
   "cell_type": "markdown",
   "id": "e2acd386",
   "metadata": {},
   "source": [
    "# 受配体"
   ]
  },
  {
   "cell_type": "markdown",
   "id": "37f7d6ed",
   "metadata": {},
   "source": [
    "## 趋化因子"
   ]
  },
  {
   "cell_type": "code",
   "execution_count": null,
   "id": "f14c35f7",
   "metadata": {},
   "outputs": [],
   "source": [
    "# 趋化因子受体 42\n",
    "\n",
    "R_CC = 'CCR1,CCR2,CCR3,CCR4,CCR5,CCR6,CCR7,CCR8,CCR9,CCR10'.split(',')\n",
    "R_CXC = 'CXCR1,CXCR2,CXCR3,CXCR4,CXCR5,CXCR6'.split(',')\n",
    "R_C = ['XCR1']\n",
    "R_CX3C = ['CX3CR1']\n",
    "R_Atypical = 'ACKR1,ACKR2,ACKR3,ACKR4,CCRL2'.split(',')\n",
    "R_other = 'C5AR1,CMKLR1,FPR1,LRP6,GPR35,HRH4,DPP4,IDE,SLC7A1,CNR2,GPRC5D,VSIR,GPR101,FFAR2,GPR42,PGRMC2,GPR75,FCGR2A,KIR2DL3'.split(',')\n",
    "\n",
    "R_Chemotaxis = R_CC+R_CXC+R_C+R_CX3C+R_Atypical+R_other\n",
    "R_Chemotaxis = [x for x in R_Chemotaxis if x in adata.raw.var_names]"
   ]
  },
  {
   "cell_type": "code",
   "execution_count": null,
   "id": "2259ca91",
   "metadata": {},
   "outputs": [],
   "source": [
    "# 趋化因子配体 54--46\n",
    "\n",
    "L_CXC = 'CXCL1,CXCL2,CXCL3,CXCL4,CXCL5,CXCL6,CXCL7,CXCL8,CXCL9,CXCL10,CXCL11,CXCL12,CXCL13,CXCL14,CXCL15,CXCL16,CXCL17'.split(',')\n",
    "L_C = 'XCL1,XCL2'.split(',')\n",
    "L_CC = 'CCL1,CCL2,CCL3,CCL4,CCL5,CCL6,CCL7,CCL8,CCL9,CCL10,CCL11,CCL12,CCL13,CCL14,CCL15,CCL16,CCL17,CCL18,CCL19,CCL20,CCL21,CCL22,CCL23,CCL24,CCL25,CCL26,CCL27,CCL28,'.split(',')\n",
    "L_CX3C = ['CX3CL1']\n",
    "L_other = 'C5,CKLF,CCL3L3,PF4,SPP1'.split(',')\n",
    "\n",
    "L_Chemotaxis = L_CXC+L_C+L_CC+L_CX3C+L_other\n",
    "L_Chemotaxis = [x for x in L_Chemotaxis if x in adata.raw.var_names]"
   ]
  },
  {
   "cell_type": "code",
   "execution_count": null,
   "id": "cd1670ed",
   "metadata": {
    "scrolled": false
   },
   "outputs": [],
   "source": [
    "# 趋化因子受体\n",
    "mp = sc.pl.dotplot(adata, \n",
    "              R_Chemotaxis, \n",
    "              'annotation', \n",
    "              dendrogram=False, \n",
    "              #figsize=(8,10),\n",
    "              use_raw=True,\n",
    "              cmap = 'RdYlBu_r',\n",
    "              var_group_rotation=45,\n",
    "              swap_axes=True,\n",
    "              standard_scale='var',\n",
    "              colorbar_title='Scaled expression in var',\n",
    "              return_fig=True\n",
    "              # , save='_' + sample_name + '_fig11.png'\n",
    "             ) \n",
    "mp.add_totals().style(grid=True).show()\n",
    "\n",
    "# 趋化因子配体\n",
    "mp = sc.pl.dotplot(adata, \n",
    "              L_Chemotaxis, \n",
    "              'annotation', \n",
    "              dendrogram=False, \n",
    "              #figsize=(8,10),\n",
    "              use_raw=True,\n",
    "              cmap = 'RdYlBu_r',\n",
    "              var_group_rotation=45,\n",
    "              swap_axes=True,\n",
    "              standard_scale='var',\n",
    "              colorbar_title='Scaled expression in var',\n",
    "              return_fig=True\n",
    "              # , save='_' + sample_name + '_fig11.png'\n",
    "             ) \n",
    "mp.add_totals().style(grid=True).show()"
   ]
  },
  {
   "cell_type": "markdown",
   "id": "5d525a0f",
   "metadata": {},
   "source": [
    "## 细胞因子"
   ]
  },
  {
   "cell_type": "code",
   "execution_count": null,
   "id": "5267694d",
   "metadata": {},
   "outputs": [],
   "source": [
    "# 细胞因子受体\n",
    "IL_R = ''.split(',')\n",
    "IFN_R = ''.split(',')\n",
    "TNF_R = 'EGFR,NRG1'.split(',')\n",
    "CSF_R = 'NOTCH1,NOTCH2,NOTCH3,NOTCH4'.split(',')\n",
    "\n",
    "cytokines_R = IL_R+IFN_R+TNF_R+CSF_R\n",
    "cytokines_R = [x for x in cytokines_R if x in adata.raw.var_names]"
   ]
  },
  {
   "cell_type": "code",
   "execution_count": null,
   "id": "6fe38ba6",
   "metadata": {},
   "outputs": [],
   "source": [
    "# 细胞因子配体\n",
    "IL_L = 'IL1A,IL1B,IL2,IL4,IL5,IL6,IL7,IL10,IL11,IL13,IL15,IL16,IL17A,IL17C,IL17F,IL18,IL19,IL20,IL21,IL22,IL23A,IL24,IL26,IL32,IL33,IL34,IL37'.split(',')\n",
    "IFN_L = 'IFNE,IFNG,IFNL1'.split(',')\n",
    "TNF_L = 'EGF,NRG1,AREG,BTC,CNTF,COPA,EPGN,GRN,HBEGF,MIF,TGFA,TGFB1,EREG'.split(',')\n",
    "CSF_L = 'DLL1,DLL3,DLL4,JAG1,JAG2,SCGB3A1,TNF,IL24,WNT4'.split(',')\n",
    "\n",
    "cytokines_L = IL_L+IFN_L+TNF_L+CSF_L\n",
    "cytokines_L = [x for x in cytokines_L if x in adata.raw.var_names]"
   ]
  },
  {
   "cell_type": "code",
   "execution_count": null,
   "id": "6e2ac7c0",
   "metadata": {
    "scrolled": false
   },
   "outputs": [],
   "source": [
    "# 细胞因子配体\n",
    "mp = sc.pl.dotplot(adata, \n",
    "              cytokines_L, \n",
    "              'annotation', \n",
    "              dendrogram=False, \n",
    "              #figsize=(8,10),\n",
    "              use_raw=True,\n",
    "              cmap = 'RdYlBu_r',\n",
    "              var_group_rotation=45,\n",
    "              swap_axes=True,\n",
    "              standard_scale='var',\n",
    "              colorbar_title='Scaled expression in var',\n",
    "              return_fig=True\n",
    "              # , save='_' + sample_name + '_fig11.png'\n",
    "             ) \n",
    "mp.add_totals().style(grid=True).show()"
   ]
  },
  {
   "cell_type": "markdown",
   "id": "96414139",
   "metadata": {},
   "source": [
    "## 生长因子"
   ]
  },
  {
   "cell_type": "code",
   "execution_count": null,
   "id": "e43c6482",
   "metadata": {},
   "outputs": [],
   "source": [
    "# 生长因子受体\n",
    "WNT_R = 'FZD1,FZD2,FZD3,FZD4,FZD5,FZD6,FZD7,FZD8,FZD9,FZD10,CD36,ROR1,ROR2,RYK,LRP1,SMO,ANTXR1,EPHA7,PTPRK,LDLR,KLRG2,NOTCH1'.split(',')\n",
    "BMP_R = 'BMPR1A,BMPR1B,BMR1A,BMR1B,BMPR2,ACR2A,AVR2B,ACVR1,SMO,PTPRK,SLAMF1,PLAUR'.split(',')\n",
    "EGF_R = 'EGFR,NRG1'.split(',')\n",
    "NOTCH_R = 'NOTCH1,NOTCH2,NOTCH3,NOTCH4'.split(',')\n",
    "\n",
    "GROW_R = WNT_R+BMP_R+EGF_R+NOTCH_R\n",
    "GROW_R = [x for x in GROW_R if x in adata.raw.var_names]"
   ]
  },
  {
   "cell_type": "code",
   "execution_count": null,
   "id": "80dd5229",
   "metadata": {},
   "outputs": [],
   "source": [
    "# 生长因子配体\n",
    "WNT_L = 'WNT1,WNT2,WNT2B,WNT3,WNT3A,WNT4,WNT5A,WNT5B,WNT7A,WNT7B,WNT11'.split(',')\n",
    "BMP_L = 'BMP2,BMP3,BMP4,BMP5,BMP6,BMP7,BMP8A,BMP8B'.split(',')\n",
    "EGF_L = 'EGF,NRG1,AREG,BTC,CNTF,COPA,EPGN,GRN,HBEGF,MIF,TGFA,TGFB1,EREG'.split(',')\n",
    "NOTCH_L = 'DLL1,DLL3,DLL4,JAG1,JAG2,SCGB3A1,TNF,IL24,WNT4'.split(',')\n",
    "\n",
    "GROW_L = WNT_L+BMP_L+EGF_L+NOTCH_L\n",
    "GROW_L = [x for x in GROW_L if x in adata.raw.var_names]"
   ]
  },
  {
   "cell_type": "code",
   "execution_count": null,
   "id": "8fa517f2",
   "metadata": {
    "scrolled": false
   },
   "outputs": [],
   "source": [
    "# 生长因子受体\n",
    "mp = sc.pl.dotplot(adata, \n",
    "              GROW_R, \n",
    "              'annotation', \n",
    "              dendrogram=False, \n",
    "              #figsize=(8,10),\n",
    "              use_raw=True,\n",
    "              cmap = 'RdYlBu_r',\n",
    "              var_group_rotation=45,\n",
    "              swap_axes=True,\n",
    "              standard_scale='var',\n",
    "              colorbar_title='Scaled expression in var',\n",
    "              return_fig=True\n",
    "              # , save='_' + sample_name + '_fig11.png'\n",
    "             ) \n",
    "mp.add_totals().style(grid=True).show()\n",
    "\n",
    "# 生长因子配体\n",
    "mp = sc.pl.dotplot(adata, \n",
    "              GROW_L, \n",
    "              'annotation', \n",
    "              dendrogram=False, \n",
    "              #figsize=(8,10),\n",
    "              use_raw=True,\n",
    "              cmap = 'RdYlBu_r',\n",
    "              var_group_rotation=45,\n",
    "              swap_axes=True,\n",
    "              standard_scale='var',\n",
    "              colorbar_title='Scaled expression in var',\n",
    "              return_fig=True\n",
    "              # , save='_' + sample_name + '_fig11.png'\n",
    "             ) \n",
    "mp.add_totals().style(grid=True).show()"
   ]
  }
 ],
 "metadata": {
  "kernelspec": {
   "display_name": "Python [conda env:singlecell]",
   "language": "python",
   "name": "conda-env-singlecell-py"
  },
  "language_info": {
   "codemirror_mode": {
    "name": "ipython",
    "version": 3
   },
   "file_extension": ".py",
   "mimetype": "text/x-python",
   "name": "python",
   "nbconvert_exporter": "python",
   "pygments_lexer": "ipython3",
   "version": "3.11.4"
  },
  "toc": {
   "base_numbering": 1,
   "nav_menu": {},
   "number_sections": true,
   "sideBar": true,
   "skip_h1_title": false,
   "title_cell": "Table of Contents",
   "title_sidebar": "Contents",
   "toc_cell": false,
   "toc_position": {
    "height": "calc(100% - 180px)",
    "left": "10px",
    "top": "150px",
    "width": "165px"
   },
   "toc_section_display": true,
   "toc_window_display": true
  }
 },
 "nbformat": 4,
 "nbformat_minor": 5
}
